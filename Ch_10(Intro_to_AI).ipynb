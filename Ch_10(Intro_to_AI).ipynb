{
  "nbformat": 4,
  "nbformat_minor": 0,
  "metadata": {
    "colab": {
      "name": "Ch-10(Intro to AI)",
      "provenance": [],
      "collapsed_sections": [
        "b-NLJ-_OjC8d",
        "sJWz6C8VOD7G",
        "lpbPXgHVrP2i",
        "PLbnrguTeYZY",
        "IBXBq2atjpSZ",
        "qqs08H6TMKuJ"
      ],
      "authorship_tag": "ABX9TyMddHlwCdFXdpgCRVoO7ODx"
    },
    "kernelspec": {
      "name": "python3",
      "display_name": "Python 3"
    },
    "language_info": {
      "name": "python"
    }
  },
  "cells": [
    {
      "cell_type": "code",
      "metadata": {
        "colab": {
          "base_uri": "https://localhost:8080/"
        },
        "id": "YHdU3pfHXiwg",
        "outputId": "3463fe6f-30bd-4ce3-ae6f-dd8f189ccfbe"
      },
      "source": [
        "import numpy as np\n",
        "from sklearn.datasets import load_iris\n",
        "from sklearn.linear_model import Perceptron\n",
        "\n",
        "iris = load_iris()\n",
        "X = iris.data[:, (2, 3)] # petal length, petal width\n",
        "y = (iris.target == 0).astype(np.int)\n",
        "\n",
        "per_clf = Perceptron(max_iter = 1000, tol=1e-3, \n",
        "                     random_state=42)\n",
        "per_clf.fit(X, y)\n",
        "y_pred = per_clf.predict([[2, 0.5]])\n",
        "y_pred"
      ],
      "execution_count": null,
      "outputs": [
        {
          "output_type": "execute_result",
          "data": {
            "text/plain": [
              "array([1])"
            ]
          },
          "metadata": {},
          "execution_count": 1
        }
      ]
    },
    {
      "cell_type": "markdown",
      "source": [
        "## Classification Model using Sequential API"
      ],
      "metadata": {
        "id": "arBtx398KShS"
      }
    },
    {
      "cell_type": "code",
      "source": [
        "import math\n",
        "import random\n",
        "import matplotlib.pyplot as plt\n",
        "\n",
        "def images(no_of_images=25):\n",
        "    row, col = int(math.sqrt(no_of_images)), int(math.sqrt(no_of_images))\n",
        "    fig, subplots = plt.subplots(nrows=row, ncols=col)\n",
        "    fig.set_figheight(int(no_of_images/4))\n",
        "    fig.set_figwidth(int(no_of_images/4))\n",
        "    for r_plot in subplots:\n",
        "        for plot in r_plot:\n",
        "            r_in = random.randint(0, 59999)\n",
        "            plot.imshow(X_train_full[r_in], cmap=plt.cm.binary)\n",
        "            plot.set_title(class_names[y_train_full[r_in]])\n",
        "            plot.axis(False)"
      ],
      "metadata": {
        "id": "BBMabbmWdGNA"
      },
      "execution_count": null,
      "outputs": []
    },
    {
      "cell_type": "code",
      "metadata": {
        "id": "iRW7iQB5GUDL",
        "colab": {
          "base_uri": "https://localhost:8080/"
        },
        "outputId": "4549b631-e00b-4511-8b27-cd83b38c4fce"
      },
      "source": [
        "# Importing Keras\n",
        "from tensorflow import keras\n",
        "\n",
        "# Loading Dataset from Keras\n",
        "mnist = keras.datasets.fashion_mnist\n",
        "(X_train_full, y_train_full), (X_test, y_test) = mnist.load_data()\n",
        "\n",
        "# checking shape of data\n",
        "X_train_full.shape, X_train_full.dtype\n",
        "\n",
        "# Creating Validation dataset\n",
        "X_valid, X_train = X_train_full[:5000]/255.0, X_train_full[5000:]/255.0\n",
        "y_valid, y_train = y_train_full[:5000], y_train_full[5000:]\n",
        "\n",
        "class_names = [\"T-Shirts/Top\", \"Trousers\", \"Pullover\", \"Dress\", \"Coat\", \n",
        "               \"Sandal\", \"Shirt\", \"Sneakers\", \"Bag\", \"Ankle Boot\"]"
      ],
      "execution_count": null,
      "outputs": [
        {
          "output_type": "stream",
          "name": "stdout",
          "text": [
            "Downloading data from https://storage.googleapis.com/tensorflow/tf-keras-datasets/train-labels-idx1-ubyte.gz\n",
            "32768/29515 [=================================] - 0s 0us/step\n",
            "40960/29515 [=========================================] - 0s 0us/step\n",
            "Downloading data from https://storage.googleapis.com/tensorflow/tf-keras-datasets/train-images-idx3-ubyte.gz\n",
            "26427392/26421880 [==============================] - 0s 0us/step\n",
            "26435584/26421880 [==============================] - 0s 0us/step\n",
            "Downloading data from https://storage.googleapis.com/tensorflow/tf-keras-datasets/t10k-labels-idx1-ubyte.gz\n",
            "16384/5148 [===============================================================================================] - 0s 0us/step\n",
            "Downloading data from https://storage.googleapis.com/tensorflow/tf-keras-datasets/t10k-images-idx3-ubyte.gz\n",
            "4423680/4422102 [==============================] - 0s 0us/step\n",
            "4431872/4422102 [==============================] - 0s 0us/step\n"
          ]
        }
      ]
    },
    {
      "cell_type": "code",
      "source": [
        "images(18)"
      ],
      "metadata": {
        "colab": {
          "base_uri": "https://localhost:8080/",
          "height": 264
        },
        "id": "a3-AEbEXbdjy",
        "outputId": "3f1d8f19-a821-40d9-970e-24228d167ead"
      },
      "execution_count": null,
      "outputs": [
        {
          "output_type": "display_data",
          "data": {
            "image/png": "[encoded data removed]",
            "text/plain": [
              "<Figure size 288x288 with 16 Axes>"
            ]
          },
          "metadata": {
            "needs_background": "light"
          }
        }
      ]
    },
    {
      "cell_type": "code",
      "source": [
        "# Creating the model using Sequential API\n",
        "model = keras.Sequential()  # Defining model\n",
        "# Flatten(Make it 1D array) the Input because our image is 28 x 28 matrices\n",
        "model.add(keras.layers.Flatten(input_shape=(28, 28)))\n",
        "# Dense(Fully Connected Layer) with relu activation\n",
        "model.add(keras.layers.Dense(300, activation=\"relu\"))\n",
        "model.add(keras.layers.Dense(100, activation=\"relu\"))\n",
        "model.add(keras.layers.Dense(10, activation=\"softmax\")) # Output Layer"
      ],
      "metadata": {
        "id": "eRVJ4Bebis06"
      },
      "execution_count": null,
      "outputs": []
    },
    {
      "cell_type": "code",
      "source": [
        "## Another way to use Sequential API\n",
        "model = keras.Sequential([\n",
        "        keras.layers.Flatten(input_shape=(28, 28), name=\"input_layer\"), \n",
        "        keras.layers.Dense(300, activation=\"relu\", name=\"hidden_layer_1\"), \n",
        "        keras.layers.Dense(200, activation=\"relu\", name=\"hidden_layer_2\"), \n",
        "        keras.layers.Dense(10, activation=\"softmax\", name=\"output_layer\")\n",
        "])"
      ],
      "metadata": {
        "id": "2E9FQGUxkp9K"
      },
      "execution_count": null,
      "outputs": []
    },
    {
      "cell_type": "code",
      "source": [
        "# Get model Info\n",
        "model.summary()"
      ],
      "metadata": {
        "colab": {
          "base_uri": "https://localhost:8080/"
        },
        "id": "oJkJnEw6lmCk",
        "outputId": "bb396a09-80a5-4df0-c59b-c84391054978"
      },
      "execution_count": null,
      "outputs": [
        {
          "output_type": "stream",
          "name": "stdout",
          "text": [
            "Model: \"sequential_1\"\n",
            "_________________________________________________________________\n",
            " Layer (type)                Output Shape              Param #   \n",
            "=================================================================\n",
            " input_layer (Flatten)       (None, 784)               0         \n",
            "                                                                 \n",
            " hidden_layer_1 (Dense)      (None, 300)               235500    \n",
            "                                                                 \n",
            " hidden_layer_2 (Dense)      (None, 200)               60200     \n",
            "                                                                 \n",
            " output_layer (Dense)        (None, 10)                2010      \n",
            "                                                                 \n",
            "=================================================================\n",
            "Total params: 297,710\n",
            "Trainable params: 297,710\n",
            "Non-trainable params: 0\n",
            "_________________________________________________________________\n"
          ]
        }
      ]
    },
    {
      "cell_type": "code",
      "source": [
        "# Get Model's Layer\n",
        "model.layers"
      ],
      "metadata": {
        "id": "PAXoS6Kkma3V",
        "colab": {
          "base_uri": "https://localhost:8080/"
        },
        "outputId": "7e164104-7faf-4f28-a617-1501d9c37d82"
      },
      "execution_count": null,
      "outputs": [
        {
          "output_type": "execute_result",
          "data": {
            "text/plain": [
              "[<keras.layers.core.flatten.Flatten at 0x7f8f70d07750>,\n",
              " <keras.layers.core.dense.Dense at 0x7f8f70d07810>,\n",
              " <keras.layers.core.dense.Dense at 0x7f8f70d07bd0>,\n",
              " <keras.layers.core.dense.Dense at 0x7f8f76a97c90>]"
            ]
          },
          "metadata": {},
          "execution_count": 8
        }
      ]
    },
    {
      "cell_type": "code",
      "source": [
        "# Get Model's Specific Layer\n",
        "model.layers[1].name"
      ],
      "metadata": {
        "colab": {
          "base_uri": "https://localhost:8080/",
          "height": 35
        },
        "id": "G_P0M6W4Jpgh",
        "outputId": "10321251-05e2-4ddc-8b9d-33fe69002bf9"
      },
      "execution_count": null,
      "outputs": [
        {
          "output_type": "execute_result",
          "data": {
            "application/vnd.google.colaboratory.intrinsic+json": {
              "type": "string"
            },
            "text/plain": [
              "'hidden_layer_1'"
            ]
          },
          "metadata": {},
          "execution_count": 14
        }
      ]
    },
    {
      "cell_type": "code",
      "source": [
        "# Get Model's Layer By name\n",
        "model.get_layer(\"hidden_layer_1\").name"
      ],
      "metadata": {
        "colab": {
          "base_uri": "https://localhost:8080/",
          "height": 35
        },
        "id": "AgycKlMsKIZ-",
        "outputId": "d7d4edc2-6b26-46ac-e5d6-282126aada0d"
      },
      "execution_count": null,
      "outputs": [
        {
          "output_type": "execute_result",
          "data": {
            "application/vnd.google.colaboratory.intrinsic+json": {
              "type": "string"
            },
            "text/plain": [
              "'hidden_layer_1'"
            ]
          },
          "metadata": {},
          "execution_count": 15
        }
      ]
    },
    {
      "cell_type": "code",
      "source": [
        "# Getting Parameters(Weights and biasas) of model\n",
        "hidden_1 = model.get_layer(\"hidden_layer_1\")\n",
        "weights, biases = hidden_1.get_weights()\n",
        "weights, weights.shape, biases, biases.shape"
      ],
      "metadata": {
        "colab": {
          "base_uri": "https://localhost:8080/"
        },
        "id": "L55vO8qOKkaz",
        "outputId": "3b40a542-ea8c-46b2-ce6c-54a1c0b3051f"
      },
      "execution_count": null,
      "outputs": [
        {
          "output_type": "execute_result",
          "data": {
            "text/plain": [
              "(array([[-0.06060925,  0.06038116,  0.07061897, ...,  0.05724546,\n",
              "          0.04400272,  0.01163525],\n",
              "        [-0.04475887, -0.03783105, -0.04816347, ...,  0.0112378 ,\n",
              "         -0.01621737, -0.03789542],\n",
              "        [-0.05261821,  0.00902637, -0.00538681, ...,  0.00089172,\n",
              "         -0.00634829,  0.05662648],\n",
              "        ...,\n",
              "        [ 0.05175097, -0.06850776,  0.07415244, ..., -0.00747322,\n",
              "          0.0593776 , -0.02002048],\n",
              "        [-0.04075279,  0.04388822, -0.05061042, ...,  0.07134438,\n",
              "          0.00363587, -0.04070937],\n",
              "        [ 0.00919465,  0.0028609 , -0.0234937 , ..., -0.00504624,\n",
              "         -0.06453166, -0.06129786]], dtype=float32),\n",
              " (784, 300),\n",
              " array([0., 0., 0., 0., 0., 0., 0., 0., 0., 0., 0., 0., 0., 0., 0., 0., 0.,\n",
              "        0., 0., 0., 0., 0., 0., 0., 0., 0., 0., 0., 0., 0., 0., 0., 0., 0.,\n",
              "        0., 0., 0., 0., 0., 0., 0., 0., 0., 0., 0., 0., 0., 0., 0., 0., 0.,\n",
              "        0., 0., 0., 0., 0., 0., 0., 0., 0., 0., 0., 0., 0., 0., 0., 0., 0.,\n",
              "        0., 0., 0., 0., 0., 0., 0., 0., 0., 0., 0., 0., 0., 0., 0., 0., 0.,\n",
              "        0., 0., 0., 0., 0., 0., 0., 0., 0., 0., 0., 0., 0., 0., 0., 0., 0.,\n",
              "        0., 0., 0., 0., 0., 0., 0., 0., 0., 0., 0., 0., 0., 0., 0., 0., 0.,\n",
              "        0., 0., 0., 0., 0., 0., 0., 0., 0., 0., 0., 0., 0., 0., 0., 0., 0.,\n",
              "        0., 0., 0., 0., 0., 0., 0., 0., 0., 0., 0., 0., 0., 0., 0., 0., 0.,\n",
              "        0., 0., 0., 0., 0., 0., 0., 0., 0., 0., 0., 0., 0., 0., 0., 0., 0.,\n",
              "        0., 0., 0., 0., 0., 0., 0., 0., 0., 0., 0., 0., 0., 0., 0., 0., 0.,\n",
              "        0., 0., 0., 0., 0., 0., 0., 0., 0., 0., 0., 0., 0., 0., 0., 0., 0.,\n",
              "        0., 0., 0., 0., 0., 0., 0., 0., 0., 0., 0., 0., 0., 0., 0., 0., 0.,\n",
              "        0., 0., 0., 0., 0., 0., 0., 0., 0., 0., 0., 0., 0., 0., 0., 0., 0.,\n",
              "        0., 0., 0., 0., 0., 0., 0., 0., 0., 0., 0., 0., 0., 0., 0., 0., 0.,\n",
              "        0., 0., 0., 0., 0., 0., 0., 0., 0., 0., 0., 0., 0., 0., 0., 0., 0.,\n",
              "        0., 0., 0., 0., 0., 0., 0., 0., 0., 0., 0., 0., 0., 0., 0., 0., 0.,\n",
              "        0., 0., 0., 0., 0., 0., 0., 0., 0., 0., 0.], dtype=float32),\n",
              " (300,))"
            ]
          },
          "metadata": {},
          "execution_count": 17
        }
      ]
    },
    {
      "cell_type": "code",
      "source": [
        "# Compiling The Model\n",
        "model.compile(loss=\"sparse_categorical_crossentropy\", # loss function\n",
        "              optimizer=\"sgd\", # optimizer\n",
        "              metrics=[\"accuracy\"] # Performance Metric\n",
        ")"
      ],
      "metadata": {
        "id": "MbSShqXbMcUT"
      },
      "execution_count": null,
      "outputs": []
    },
    {
      "cell_type": "code",
      "source": [
        "# Training the Model And saving the history\n",
        "history = model.fit(x=X_train, y=y_train, epochs=30, \n",
        "                    validation_data=(X_valid, y_valid))"
      ],
      "metadata": {
        "colab": {
          "base_uri": "https://localhost:8080/"
        },
        "id": "KV6OJDwxVQiN",
        "outputId": "f6543e30-a92c-4cdf-f05f-fe9adf82bf3c"
      },
      "execution_count": null,
      "outputs": [
        {
          "output_type": "stream",
          "name": "stdout",
          "text": [
            "Epoch 1/30\n",
            "1719/1719 [==============================] - 8s 4ms/step - loss: 0.7200 - accuracy: 0.7651 - val_loss: 0.5204 - val_accuracy: 0.8242\n",
            "Epoch 2/30\n",
            "1719/1719 [==============================] - 6s 4ms/step - loss: 0.4890 - accuracy: 0.8297 - val_loss: 0.4544 - val_accuracy: 0.8420\n",
            "Epoch 3/30\n",
            "1719/1719 [==============================] - 6s 4ms/step - loss: 0.4440 - accuracy: 0.8461 - val_loss: 0.4141 - val_accuracy: 0.8542\n",
            "Epoch 4/30\n",
            "1719/1719 [==============================] - 7s 4ms/step - loss: 0.4160 - accuracy: 0.8551 - val_loss: 0.4241 - val_accuracy: 0.8560\n",
            "Epoch 5/30\n",
            "1719/1719 [==============================] - 7s 4ms/step - loss: 0.3966 - accuracy: 0.8594 - val_loss: 0.4058 - val_accuracy: 0.8600\n",
            "Epoch 6/30\n",
            "1719/1719 [==============================] - 7s 4ms/step - loss: 0.3804 - accuracy: 0.8658 - val_loss: 0.3721 - val_accuracy: 0.8682\n",
            "Epoch 7/30\n",
            "1719/1719 [==============================] - 7s 4ms/step - loss: 0.3673 - accuracy: 0.8704 - val_loss: 0.3931 - val_accuracy: 0.8582\n",
            "Epoch 8/30\n",
            "1719/1719 [==============================] - 7s 4ms/step - loss: 0.3563 - accuracy: 0.8734 - val_loss: 0.3638 - val_accuracy: 0.8668\n",
            "Epoch 9/30\n",
            "1719/1719 [==============================] - 7s 4ms/step - loss: 0.3459 - accuracy: 0.8765 - val_loss: 0.3521 - val_accuracy: 0.8734\n",
            "Epoch 10/30\n",
            "1719/1719 [==============================] - 7s 4ms/step - loss: 0.3373 - accuracy: 0.8803 - val_loss: 0.3531 - val_accuracy: 0.8766\n",
            "Epoch 11/30\n",
            "1719/1719 [==============================] - 7s 4ms/step - loss: 0.3273 - accuracy: 0.8838 - val_loss: 0.3522 - val_accuracy: 0.8718\n",
            "Epoch 12/30\n",
            "1719/1719 [==============================] - 7s 4ms/step - loss: 0.3195 - accuracy: 0.8863 - val_loss: 0.3345 - val_accuracy: 0.8778\n",
            "Epoch 13/30\n",
            "1719/1719 [==============================] - 7s 4ms/step - loss: 0.3116 - accuracy: 0.8881 - val_loss: 0.3388 - val_accuracy: 0.8782\n",
            "Epoch 14/30\n",
            "1719/1719 [==============================] - 7s 4ms/step - loss: 0.3056 - accuracy: 0.8900 - val_loss: 0.3412 - val_accuracy: 0.8772\n",
            "Epoch 15/30\n",
            "1719/1719 [==============================] - 7s 4ms/step - loss: 0.2992 - accuracy: 0.8920 - val_loss: 0.3257 - val_accuracy: 0.8840\n",
            "Epoch 16/30\n",
            "1719/1719 [==============================] - 6s 4ms/step - loss: 0.2937 - accuracy: 0.8938 - val_loss: 0.3369 - val_accuracy: 0.8802\n",
            "Epoch 17/30\n",
            "1719/1719 [==============================] - 7s 4ms/step - loss: 0.2877 - accuracy: 0.8968 - val_loss: 0.3329 - val_accuracy: 0.8820\n",
            "Epoch 18/30\n",
            "1719/1719 [==============================] - 7s 4ms/step - loss: 0.2818 - accuracy: 0.8987 - val_loss: 0.3228 - val_accuracy: 0.8858\n",
            "Epoch 19/30\n",
            "1719/1719 [==============================] - 7s 4ms/step - loss: 0.2776 - accuracy: 0.8998 - val_loss: 0.3067 - val_accuracy: 0.8916\n",
            "Epoch 20/30\n",
            "1719/1719 [==============================] - 6s 4ms/step - loss: 0.2722 - accuracy: 0.9023 - val_loss: 0.3050 - val_accuracy: 0.8916\n",
            "Epoch 21/30\n",
            "1719/1719 [==============================] - 7s 4ms/step - loss: 0.2661 - accuracy: 0.9033 - val_loss: 0.3238 - val_accuracy: 0.8840\n",
            "Epoch 22/30\n",
            "1719/1719 [==============================] - 7s 4ms/step - loss: 0.2624 - accuracy: 0.9056 - val_loss: 0.3162 - val_accuracy: 0.8868\n",
            "Epoch 23/30\n",
            "1719/1719 [==============================] - 7s 4ms/step - loss: 0.2575 - accuracy: 0.9068 - val_loss: 0.3175 - val_accuracy: 0.8856\n",
            "Epoch 24/30\n",
            "1719/1719 [==============================] - 7s 4ms/step - loss: 0.2528 - accuracy: 0.9080 - val_loss: 0.3041 - val_accuracy: 0.8886\n",
            "Epoch 25/30\n",
            "1719/1719 [==============================] - 7s 4ms/step - loss: 0.2500 - accuracy: 0.9097 - val_loss: 0.3199 - val_accuracy: 0.8862\n",
            "Epoch 26/30\n",
            "1719/1719 [==============================] - 7s 4ms/step - loss: 0.2451 - accuracy: 0.9121 - val_loss: 0.3086 - val_accuracy: 0.8864\n",
            "Epoch 27/30\n",
            "1719/1719 [==============================] - 7s 4ms/step - loss: 0.2415 - accuracy: 0.9129 - val_loss: 0.3210 - val_accuracy: 0.8864\n",
            "Epoch 28/30\n",
            "1719/1719 [==============================] - 7s 4ms/step - loss: 0.2385 - accuracy: 0.9141 - val_loss: 0.2976 - val_accuracy: 0.8918\n",
            "Epoch 29/30\n",
            "1719/1719 [==============================] - 7s 4ms/step - loss: 0.2349 - accuracy: 0.9163 - val_loss: 0.2958 - val_accuracy: 0.8910\n",
            "Epoch 30/30\n",
            "1719/1719 [==============================] - 7s 4ms/step - loss: 0.2299 - accuracy: 0.9181 - val_loss: 0.3102 - val_accuracy: 0.8884\n"
          ]
        }
      ]
    },
    {
      "cell_type": "code",
      "source": [
        "import pandas as pd\n",
        "pd.DataFrame(history.history).plot(figsize=(8, 5))\n",
        "plt.grid(True)\n",
        "plt.gca().set_ylim(0, 1)\n",
        "plt.show()"
      ],
      "metadata": {
        "colab": {
          "base_uri": "https://localhost:8080/",
          "height": 324
        },
        "id": "2DoUYicEer-A",
        "outputId": "08d8d0dc-2a25-457e-d949-d2e0563af7df"
      },
      "execution_count": null,
      "outputs": [
        {
          "output_type": "display_data",
          "data": {
            "image/png": "[encoded data removed]",
            "text/plain": [
              "<Figure size 576x360 with 1 Axes>"
            ]
          },
          "metadata": {
            "needs_background": "light"
          }
        }
      ]
    },
    {
      "cell_type": "code",
      "source": [
        "model.evaluate(X_test, y_test)"
      ],
      "metadata": {
        "colab": {
          "base_uri": "https://localhost:8080/"
        },
        "id": "gTLfnmEmhIP_",
        "outputId": "7460e460-b8ae-4aaf-b771-5c4b0b850a5a"
      },
      "execution_count": null,
      "outputs": [
        {
          "output_type": "stream",
          "name": "stdout",
          "text": [
            "313/313 [==============================] - 1s 3ms/step - loss: 71.6653 - accuracy: 0.8324\n"
          ]
        },
        {
          "output_type": "execute_result",
          "data": {
            "text/plain": [
              "[71.66531372070312, 0.8324000239372253]"
            ]
          },
          "metadata": {},
          "execution_count": 25
        }
      ]
    },
    {
      "cell_type": "code",
      "source": [
        "import numpy as np\n",
        "\n",
        "X_new = X_test[:3]\n",
        "y_prob = model.predict(X_new)\n",
        "y_pred = np.argmax(y_prob, axis=1)\n",
        "\n",
        "fig, subplots = plt.subplots(nrows=1, ncols=3)\n",
        "fig.set_figwidth(10)\n",
        "for i, plot in enumerate(subplots):\n",
        "    plot.imshow(X_new[i], cmap=plt.cm.binary)\n",
        "    # plot.axis(False)\n",
        "    plot.set_title(\"Predicted Label: {}\".format(class_names[y_pred[i]]))\n",
        "    plot.set_xlabel(\"True Label: {}\".format(class_names[y_test[i]]))"
      ],
      "metadata": {
        "colab": {
          "base_uri": "https://localhost:8080/",
          "height": 242
        },
        "id": "g2IAS6SXih55",
        "outputId": "6a7991ee-4438-409c-ecf2-326a3d7d8f15"
      },
      "execution_count": null,
      "outputs": [
        {
          "output_type": "display_data",
          "data": {
            "image/png": "[encoded data removed]",
            "text/plain": [
              "<Figure size 720x288 with 3 Axes>"
            ]
          },
          "metadata": {
            "needs_background": "light"
          }
        }
      ]
    },
    {
      "cell_type": "markdown",
      "source": [
        "## Regression Model using Sequential API"
      ],
      "metadata": {
        "id": "b-NLJ-_OjC8d"
      }
    },
    {
      "cell_type": "code",
      "source": [
        "from sklearn.datasets import fetch_california_housing\n",
        "from sklearn.model_selection import train_test_split\n",
        "from sklearn.preprocessing import StandardScaler\n",
        "\n",
        "housing  = fetch_california_housing()\n",
        "X_train_full, X_test, y_train_full, y_test = train_test_split(housing.data, \n",
        "                                                              housing.target)\n",
        "X_train, X_valid, y_train, y_valid = train_test_split(X_train_full, y_train_full)\n",
        "scaler = StandardScaler()\n",
        "X_train_scaled = scaler.fit_transform(X_train)\n",
        "X_valid_scaled = scaler.transform(X_valid)\n",
        "X_test_scaled = scaler.transform(X_test)"
      ],
      "metadata": {
        "id": "vHAB7g_xKdcS"
      },
      "execution_count": null,
      "outputs": []
    },
    {
      "cell_type": "code",
      "source": [
        "from tensorflow import keras\n",
        "model = keras.Sequential([\n",
        "        keras.layers.Dense(30, activation=\"relu\", input_shape=X_train.shape[1:]), \n",
        "        keras.layers.Dense(1)\n",
        "])\n",
        "model.compile(loss=\"mean_squared_error\", optimizer=\"sgd\")\n",
        "history = model.fit(X_train_scaled, y_train, epochs=20, \n",
        "                    validation_data=(X_valid_scaled, y_valid))\n",
        "mse_test = model.evaluate(X_test_scaled, y_test)\n",
        "X_new = X_test[:3]\n",
        "y_pred = model.predict(X_new)\n",
        "mse_test, y_pred"
      ],
      "metadata": {
        "colab": {
          "base_uri": "https://localhost:8080/"
        },
        "id": "HK8bYTCKLiyn",
        "outputId": "4e9b9142-d3c6-4631-f411-0e1791fa2d08"
      },
      "execution_count": null,
      "outputs": [
        {
          "output_type": "stream",
          "name": "stdout",
          "text": [
            "Epoch 1/20\n",
            "363/363 [==============================] - 1s 2ms/step - loss: 1.2703 - val_loss: 0.5808\n",
            "Epoch 2/20\n",
            "363/363 [==============================] - 1s 2ms/step - loss: 0.5232 - val_loss: 0.5124\n",
            "Epoch 3/20\n",
            "363/363 [==============================] - 1s 2ms/step - loss: 0.4786 - val_loss: 0.4702\n",
            "Epoch 4/20\n",
            "363/363 [==============================] - 1s 2ms/step - loss: 0.4441 - val_loss: 0.4464\n",
            "Epoch 5/20\n",
            "363/363 [==============================] - 1s 2ms/step - loss: 0.4262 - val_loss: 0.4301\n",
            "Epoch 6/20\n",
            "363/363 [==============================] - 1s 2ms/step - loss: 0.4147 - val_loss: 0.4170\n",
            "Epoch 7/20\n",
            "363/363 [==============================] - 1s 2ms/step - loss: 0.4051 - val_loss: 0.4103\n",
            "Epoch 8/20\n",
            "363/363 [==============================] - 1s 2ms/step - loss: 0.3980 - val_loss: 0.4176\n",
            "Epoch 9/20\n",
            "363/363 [==============================] - 1s 2ms/step - loss: 0.3937 - val_loss: 0.3999\n",
            "Epoch 10/20\n",
            "363/363 [==============================] - 1s 2ms/step - loss: 0.3889 - val_loss: 0.4005\n",
            "Epoch 11/20\n",
            "363/363 [==============================] - 1s 2ms/step - loss: 0.3855 - val_loss: 0.3958\n",
            "Epoch 12/20\n",
            "363/363 [==============================] - 1s 2ms/step - loss: 0.3819 - val_loss: 0.3930\n",
            "Epoch 13/20\n",
            "363/363 [==============================] - 1s 2ms/step - loss: 0.3778 - val_loss: 0.3875\n",
            "Epoch 14/20\n",
            "363/363 [==============================] - 1s 2ms/step - loss: 0.3756 - val_loss: 0.3843\n",
            "Epoch 15/20\n",
            "363/363 [==============================] - 1s 2ms/step - loss: 0.3731 - val_loss: 0.3884\n",
            "Epoch 16/20\n",
            "363/363 [==============================] - 1s 2ms/step - loss: 0.3695 - val_loss: 0.3816\n",
            "Epoch 17/20\n",
            "363/363 [==============================] - 1s 2ms/step - loss: 0.3672 - val_loss: 0.3806\n",
            "Epoch 18/20\n",
            "363/363 [==============================] - 1s 2ms/step - loss: 0.3644 - val_loss: 0.3827\n",
            "Epoch 19/20\n",
            "363/363 [==============================] - 1s 2ms/step - loss: 0.3630 - val_loss: 0.3736\n",
            "Epoch 20/20\n",
            "363/363 [==============================] - 1s 2ms/step - loss: 0.3604 - val_loss: 0.3745\n",
            "162/162 [==============================] - 0s 1ms/step - loss: 0.3729\n"
          ]
        },
        {
          "output_type": "execute_result",
          "data": {
            "text/plain": [
              "(0.3728908896446228, array([[291.1767 ],\n",
              "        [174.27556],\n",
              "        [216.81638]], dtype=float32))"
            ]
          },
          "metadata": {},
          "execution_count": 4
        }
      ]
    },
    {
      "cell_type": "code",
      "source": [
        "mse_test, y_pred"
      ],
      "metadata": {
        "colab": {
          "base_uri": "https://localhost:8080/"
        },
        "id": "Xh4pKW4tNYDl",
        "outputId": "62c4073c-74d6-46c5-c9e0-c05a1a1056b5"
      },
      "execution_count": null,
      "outputs": [
        {
          "output_type": "execute_result",
          "data": {
            "text/plain": [
              "(0.3728908896446228, array([[291.1767 ],\n",
              "        [174.27556],\n",
              "        [216.81638]], dtype=float32))"
            ]
          },
          "metadata": {},
          "execution_count": 5
        }
      ]
    },
    {
      "cell_type": "markdown",
      "source": [
        "## Functional API"
      ],
      "metadata": {
        "id": "sJWz6C8VOD7G"
      }
    },
    {
      "cell_type": "code",
      "source": [
        "from tensorflow import keras\n",
        "\n",
        "input = keras.layers.Input(shape=X_train.shape[1:])\n",
        "hidden1 = keras.layers.Dense(30, activation=\"relu\")(input)\n",
        "hidden2 = keras.layers.Dense(30, activation=\"relu\")(hidden1)\n",
        "concat = keras.layers.Concatenate()([input, hidden2])\n",
        "output = keras.layers.Dense(1)(concat)\n",
        "model = keras.models.Model(inputs=[input], \n",
        "                           outputs=[output])"
      ],
      "metadata": {
        "id": "8mWT3vapJoGt"
      },
      "execution_count": null,
      "outputs": []
    },
    {
      "cell_type": "code",
      "source": [
        "# Sending a Input as parts\n",
        "from tensorflow import keras\n",
        "input_A = keras.layers.Input(shape=(5,))\n",
        "input_B = keras.layers.Input(shape=(6,))\n",
        "hidden_1 = keras.layers.Dense(30, activation=\"relu\")(input_B)\n",
        "hidden_2 = keras.layers.Dense(30, activation=\"relu\")(hidden_1)\n",
        "concat = keras.layers.concatenate([input_A, hidden_2])\n",
        "output = keras.layers.Dense(1)(concat)\n",
        "model = keras.models.Model(inputs=[input_A, input_B], \n",
        "                           outputs=[output])\n",
        "model.compile(loss=\"mae\", \n",
        "              optimizer=\"sgd\", \n",
        "              metrics=[\"accuracy\"])"
      ],
      "metadata": {
        "id": "-olxk1CiKpEp"
      },
      "execution_count": null,
      "outputs": []
    },
    {
      "cell_type": "code",
      "source": [
        "X_train.shape[1:]"
      ],
      "metadata": {
        "colab": {
          "base_uri": "https://localhost:8080/"
        },
        "id": "LEIi5_i2c53P",
        "outputId": "b2fd450b-1769-4ff5-a395-98c27d95d786"
      },
      "execution_count": null,
      "outputs": [
        {
          "output_type": "execute_result",
          "data": {
            "text/plain": [
              "(8,)"
            ]
          },
          "metadata": {},
          "execution_count": 14
        }
      ]
    },
    {
      "cell_type": "code",
      "source": [
        "X_train_A, X_train_B = X_train[:, :5], X_train[:, 2:]\n",
        "X_valid_A, X_valid_B = X_valid[:, :5], X_valid[:, 2:]\n",
        "X_test_A, X_test_B = X_test[:, :5], X_test[:, 2:]\n",
        "X_new_A, X_new_B = X_test_A[:3], X_test_B[:3]\n",
        "\n",
        "history = model.fit(x=(X_train_A, X_train_B), y=y_train, epochs=20, \n",
        "                    validation_data=((X_valid_A, X_valid_B), y_valid))\n",
        "mse_test = model.evaluate((X_test_A, X_test_B), y_test)\n",
        "y_pred = model.predict((X_new_A, X_new_B))"
      ],
      "metadata": {
        "colab": {
          "base_uri": "https://localhost:8080/"
        },
        "id": "ATbqcKH7Nanz",
        "outputId": "a36dbf7b-0e15-4d31-8806-444aba491eb2"
      },
      "execution_count": null,
      "outputs": [
        {
          "output_type": "stream",
          "name": "stdout",
          "text": [
            "Epoch 1/20\n",
            "363/363 [==============================] - 1s 2ms/step - loss: 28113.2148 - accuracy: 0.0016 - val_loss: 13251.6973 - val_accuracy: 0.0000e+00\n",
            "Epoch 2/20\n",
            "363/363 [==============================] - 1s 2ms/step - loss: 10374.8662 - accuracy: 0.0013 - val_loss: 11338.9512 - val_accuracy: 0.0036\n",
            "Epoch 3/20\n",
            "363/363 [==============================] - 1s 2ms/step - loss: 10354.8711 - accuracy: 0.0010 - val_loss: 5740.3843 - val_accuracy: 0.0036\n",
            "Epoch 4/20\n",
            "363/363 [==============================] - 1s 2ms/step - loss: 10365.8916 - accuracy: 0.0016 - val_loss: 3103.3108 - val_accuracy: 0.0036\n",
            "Epoch 5/20\n",
            "363/363 [==============================] - 1s 2ms/step - loss: 10345.0225 - accuracy: 0.0014 - val_loss: 14662.6973 - val_accuracy: 0.0036\n",
            "Epoch 6/20\n",
            "363/363 [==============================] - 1s 2ms/step - loss: 10420.4668 - accuracy: 0.0013 - val_loss: 2275.7214 - val_accuracy: 0.0036\n",
            "Epoch 7/20\n",
            "363/363 [==============================] - 1s 2ms/step - loss: 10304.3428 - accuracy: 0.0014 - val_loss: 16486.3340 - val_accuracy: 0.0036\n",
            "Epoch 8/20\n",
            "363/363 [==============================] - 1s 2ms/step - loss: 10365.9717 - accuracy: 0.0014 - val_loss: 6295.4888 - val_accuracy: 0.0036\n",
            "Epoch 9/20\n",
            "363/363 [==============================] - 1s 2ms/step - loss: 10320.9980 - accuracy: 0.0013 - val_loss: 15835.5469 - val_accuracy: 0.0000e+00\n",
            "Epoch 10/20\n",
            "363/363 [==============================] - 1s 2ms/step - loss: 10376.3828 - accuracy: 0.0014 - val_loss: 2168.5276 - val_accuracy: 0.0000e+00\n",
            "Epoch 11/20\n",
            "363/363 [==============================] - 1s 2ms/step - loss: 10336.0029 - accuracy: 0.0012 - val_loss: 1471.1924 - val_accuracy: 0.0000e+00\n",
            "Epoch 12/20\n",
            "363/363 [==============================] - 1s 2ms/step - loss: 10351.4111 - accuracy: 0.0011 - val_loss: 2682.5369 - val_accuracy: 0.0036\n",
            "Epoch 13/20\n",
            "363/363 [==============================] - 1s 2ms/step - loss: 10359.2432 - accuracy: 0.0015 - val_loss: 12729.2266 - val_accuracy: 0.0000e+00\n",
            "Epoch 14/20\n",
            "363/363 [==============================] - 1s 2ms/step - loss: 10425.3379 - accuracy: 0.0014 - val_loss: 3800.2876 - val_accuracy: 0.0000e+00\n",
            "Epoch 15/20\n",
            "363/363 [==============================] - 1s 2ms/step - loss: 10347.8926 - accuracy: 0.0015 - val_loss: 980.5278 - val_accuracy: 0.0036\n",
            "Epoch 16/20\n",
            "363/363 [==============================] - 1s 2ms/step - loss: 10337.7295 - accuracy: 0.0010 - val_loss: 13141.9287 - val_accuracy: 0.0036\n",
            "Epoch 17/20\n",
            "363/363 [==============================] - 1s 2ms/step - loss: 10348.3633 - accuracy: 0.0018 - val_loss: 9815.0215 - val_accuracy: 0.0000e+00\n",
            "Epoch 18/20\n",
            "363/363 [==============================] - 1s 2ms/step - loss: 10310.1689 - accuracy: 9.4746e-04 - val_loss: 2792.0750 - val_accuracy: 0.0000e+00\n",
            "Epoch 19/20\n",
            "363/363 [==============================] - 1s 2ms/step - loss: 10297.5596 - accuracy: 0.0017 - val_loss: 13594.6553 - val_accuracy: 0.0000e+00\n",
            "Epoch 20/20\n",
            "363/363 [==============================] - 1s 2ms/step - loss: 10377.7031 - accuracy: 0.0017 - val_loss: 10625.9609 - val_accuracy: 0.0000e+00\n",
            "162/162 [==============================] - 0s 1ms/step - loss: 10704.5117 - accuracy: 0.0000e+00\n"
          ]
        }
      ]
    },
    {
      "cell_type": "code",
      "source": [
        "mse_test"
      ],
      "metadata": {
        "colab": {
          "base_uri": "https://localhost:8080/"
        },
        "id": "j3-Nc_FkXRQ0",
        "outputId": "f6f571a3-b5eb-4c2f-cba2-a867b18b7c08"
      },
      "execution_count": null,
      "outputs": [
        {
          "output_type": "execute_result",
          "data": {
            "text/plain": [
              "nan"
            ]
          },
          "metadata": {},
          "execution_count": 20
        }
      ]
    },
    {
      "cell_type": "code",
      "source": [
        "# Model with more output\n",
        "input_A = keras.layers.Input(shape=[5])\n",
        "input_B = keras.layers.Input(shape=[6])\n",
        "hidden_1 = keras.layers.Dense(30, activation=\"relu\")(input_B)\n",
        "hidden_2 = keras.layers.Dense(30, activation=\"relu\")(hidden_1)\n",
        "concat = keras.layers.concatenate([input_A, hidden_2])\n",
        "output = keras.layers.Dense(1)(concat)\n",
        "aux_output = keras.layers.Dense(1)(hidden_2)\n",
        "model = keras.models.Model(inputs=[input_A, input_B], \n",
        "                           outputs=[output, aux_output])\n",
        "model.compile(loss=\"mae\", optimizer=\"sgd\", \n",
        "              loss_weights=[0.9, 0.1])\n",
        "history = model.fit([X_train_A, X_train_B], [y_train, y_train], epochs=20, \n",
        "                    validation_data=([X_valid_A, X_valid_B], [y_valid, y_valid]))"
      ],
      "metadata": {
        "colab": {
          "base_uri": "https://localhost:8080/"
        },
        "id": "3wdAUc8WjlLB",
        "outputId": "089f6c49-0d21-426f-a08f-5651c6c3357d"
      },
      "execution_count": null,
      "outputs": [
        {
          "output_type": "stream",
          "name": "stdout",
          "text": [
            "Epoch 1/20\n",
            "363/363 [==============================] - 2s 3ms/step - loss: 9682.3770 - dense_42_loss: 10742.8535 - dense_43_loss: 138.0936 - val_loss: 9276.1475 - val_dense_42_loss: 10306.6406 - val_dense_43_loss: 1.7283\n",
            "Epoch 2/20\n",
            "363/363 [==============================] - 1s 2ms/step - loss: 8545.9893 - dense_42_loss: 9495.3584 - dense_43_loss: 1.6746 - val_loss: 20998.8613 - val_dense_42_loss: 23331.9062 - val_dense_43_loss: 1.3962\n",
            "Epoch 3/20\n",
            "363/363 [==============================] - 1s 2ms/step - loss: 8569.3799 - dense_42_loss: 9521.3926 - dense_43_loss: 1.2601 - val_loss: 8655.0381 - val_dense_42_loss: 9616.5771 - val_dense_43_loss: 1.1780\n",
            "Epoch 4/20\n",
            "363/363 [==============================] - 1s 2ms/step - loss: 8533.7959 - dense_42_loss: 9481.8613 - dense_43_loss: 1.0939 - val_loss: 1848.0286 - val_dense_42_loss: 2053.2483 - val_dense_43_loss: 1.0532\n",
            "Epoch 5/20\n",
            "363/363 [==============================] - 1s 2ms/step - loss: 8544.6396 - dense_42_loss: 9493.9316 - dense_43_loss: 0.9996 - val_loss: 6718.8301 - val_dense_42_loss: 7465.2568 - val_dense_43_loss: 0.9802\n",
            "Epoch 6/20\n",
            "363/363 [==============================] - 1s 2ms/step - loss: 8535.8975 - dense_42_loss: 9484.2178 - dense_43_loss: 0.9451 - val_loss: 18474.9141 - val_dense_42_loss: 20527.5820 - val_dense_43_loss: 0.9384\n",
            "Epoch 7/20\n",
            "363/363 [==============================] - 1s 2ms/step - loss: 8573.4053 - dense_42_loss: 9525.9082 - dense_43_loss: 0.9159 - val_loss: 2817.4495 - val_dense_42_loss: 3130.3975 - val_dense_43_loss: 0.9156\n",
            "Epoch 8/20\n",
            "363/363 [==============================] - 1s 2ms/step - loss: 8520.8252 - dense_42_loss: 9467.4883 - dense_43_loss: 0.9001 - val_loss: 7082.1875 - val_dense_42_loss: 7868.9995 - val_dense_43_loss: 0.9038\n",
            "Epoch 9/20\n",
            "363/363 [==============================] - 1s 2ms/step - loss: 8530.4219 - dense_42_loss: 9478.1494 - dense_43_loss: 0.8925 - val_loss: 9221.9473 - val_dense_42_loss: 10246.5078 - val_dense_43_loss: 0.8981\n",
            "Epoch 10/20\n",
            "363/363 [==============================] - 1s 2ms/step - loss: 8526.1924 - dense_42_loss: 9473.4443 - dense_43_loss: 0.8890 - val_loss: 937.8549 - val_dense_42_loss: 1041.9615 - val_dense_43_loss: 0.8951\n",
            "Epoch 11/20\n",
            "363/363 [==============================] - 1s 2ms/step - loss: 8540.9883 - dense_42_loss: 9489.8828 - dense_43_loss: 0.8870 - val_loss: 14048.4180 - val_dense_42_loss: 15609.2520 - val_dense_43_loss: 0.8933\n",
            "Epoch 12/20\n",
            "363/363 [==============================] - 1s 2ms/step - loss: 8549.2334 - dense_42_loss: 9499.0518 - dense_43_loss: 0.8860 - val_loss: 5806.7676 - val_dense_42_loss: 6451.8643 - val_dense_43_loss: 0.8922\n",
            "Epoch 13/20\n",
            "363/363 [==============================] - 1s 2ms/step - loss: 8528.6484 - dense_42_loss: 9476.1729 - dense_43_loss: 0.8854 - val_loss: 6552.3071 - val_dense_42_loss: 7280.2437 - val_dense_43_loss: 0.8916\n",
            "Epoch 14/20\n",
            "363/363 [==============================] - 1s 2ms/step - loss: 8573.5459 - dense_42_loss: 9526.0596 - dense_43_loss: 0.8851 - val_loss: 998.5082 - val_dense_42_loss: 1109.3544 - val_dense_43_loss: 0.8912\n",
            "Epoch 15/20\n",
            "363/363 [==============================] - 1s 2ms/step - loss: 8539.1426 - dense_42_loss: 9487.8311 - dense_43_loss: 0.8849 - val_loss: 3416.7285 - val_dense_42_loss: 3796.2651 - val_dense_43_loss: 0.8909\n",
            "Epoch 16/20\n",
            "363/363 [==============================] - 1s 2ms/step - loss: 8524.4727 - dense_42_loss: 9471.5430 - dense_43_loss: 0.8848 - val_loss: 6776.8687 - val_dense_42_loss: 7529.7583 - val_dense_43_loss: 0.8908\n",
            "Epoch 17/20\n",
            "363/363 [==============================] - 1s 2ms/step - loss: 8508.3330 - dense_42_loss: 9453.6035 - dense_43_loss: 0.8847 - val_loss: 14847.9893 - val_dense_42_loss: 16497.6758 - val_dense_43_loss: 0.8906\n",
            "Epoch 18/20\n",
            "363/363 [==============================] - 1s 2ms/step - loss: 8569.9736 - dense_42_loss: 9522.0908 - dense_43_loss: 0.8847 - val_loss: 574.5918 - val_dense_42_loss: 638.3364 - val_dense_43_loss: 0.8905\n",
            "Epoch 19/20\n",
            "363/363 [==============================] - 1s 2ms/step - loss: 8545.2178 - dense_42_loss: 9494.5889 - dense_43_loss: 0.8847 - val_loss: 2398.5027 - val_dense_42_loss: 2664.9041 - val_dense_43_loss: 0.8905\n",
            "Epoch 20/20\n",
            "363/363 [==============================] - 1s 2ms/step - loss: 8541.5908 - dense_42_loss: 9490.5586 - dense_43_loss: 0.8846 - val_loss: 5266.2715 - val_dense_42_loss: 5851.3135 - val_dense_43_loss: 0.8904\n"
          ]
        }
      ]
    },
    {
      "cell_type": "markdown",
      "source": [
        "## Using Subclassing API"
      ],
      "metadata": {
        "id": "lpbPXgHVrP2i"
      }
    },
    {
      "cell_type": "code",
      "source": [
        "from tensorflow import keras\n",
        "\n",
        "class WideAndDeepModel(keras.models.Model):\n",
        "    def __init__(self, units=30, activation=\"relu\", **kwargs):\n",
        "        super().__init__(**kwargs)\n",
        "        self.hidden1 = keras.layers.Dense(units, activation=activation)\n",
        "        self.hidden2 = keras.layers.Dense(units, activation=activation)\n",
        "        self.main_ouptut = keras.layers.Dense(1)\n",
        "        self.aux_output = keras.layers.Dense(1)\n",
        "\n",
        "    def call(self, inputs):\n",
        "        input_A, input_B = inputs\n",
        "        hidden1 = self.hidden1(input_B)\n",
        "        hidden2 = self.hidden2(hidden1)\n",
        "        concat = keras.layers.concatenate([input_A, hidden2])\n",
        "        main_output = self.main_ouptut(concat)\n",
        "        aux_output = self.aux_output(hidden2)\n",
        "        return main_output, aux_output\n",
        "\n",
        "model = WideAndDeepModel()"
      ],
      "metadata": {
        "id": "UoNePBl6qC_2"
      },
      "execution_count": null,
      "outputs": []
    },
    {
      "cell_type": "code",
      "source": [
        "model.compile(loss=\"mae\", \n",
        "              optimizer=\"sgd\", \n",
        "              metrics=[\"accuracy\"])\n",
        "model.fit(x=(X_train_A, X_train_B), y=y_train, epochs=20)"
      ],
      "metadata": {
        "colab": {
          "base_uri": "https://localhost:8080/"
        },
        "id": "GfuUkSWHeFxZ",
        "outputId": "34ed6062-be07-4494-b0cf-4aea0e7c3c66"
      },
      "execution_count": null,
      "outputs": [
        {
          "output_type": "stream",
          "name": "stdout",
          "text": [
            "Epoch 1/20\n",
            "363/363 [==============================] - 1s 1ms/step - loss: 10378.7803 - accuracy: 0.0015\n",
            "Epoch 2/20\n",
            "363/363 [==============================] - 1s 2ms/step - loss: 10345.1504 - accuracy: 0.0012\n",
            "Epoch 3/20\n",
            "363/363 [==============================] - 1s 1ms/step - loss: 10399.8369 - accuracy: 0.0017\n",
            "Epoch 4/20\n",
            "363/363 [==============================] - 1s 1ms/step - loss: 10391.1143 - accuracy: 0.0015\n",
            "Epoch 5/20\n",
            "363/363 [==============================] - 1s 2ms/step - loss: 10350.0781 - accuracy: 0.0015\n",
            "Epoch 6/20\n",
            "363/363 [==============================] - 1s 2ms/step - loss: 10363.9902 - accuracy: 8.6133e-04\n",
            "Epoch 7/20\n",
            "363/363 [==============================] - 1s 1ms/step - loss: 10361.1924 - accuracy: 0.0021\n",
            "Epoch 8/20\n",
            "363/363 [==============================] - 1s 1ms/step - loss: 10402.8857 - accuracy: 0.0020\n",
            "Epoch 9/20\n",
            "363/363 [==============================] - 1s 1ms/step - loss: 10352.9482 - accuracy: 0.0015\n",
            "Epoch 10/20\n",
            "363/363 [==============================] - 1s 1ms/step - loss: 10363.2168 - accuracy: 0.0011\n",
            "Epoch 11/20\n",
            "363/363 [==============================] - 1s 1ms/step - loss: 10373.8779 - accuracy: 0.0016\n",
            "Epoch 12/20\n",
            "363/363 [==============================] - 1s 2ms/step - loss: 10379.0576 - accuracy: 0.0013\n",
            "Epoch 13/20\n",
            "363/363 [==============================] - 1s 1ms/step - loss: 10329.8496 - accuracy: 0.0016\n",
            "Epoch 14/20\n",
            "363/363 [==============================] - 1s 1ms/step - loss: 10376.1553 - accuracy: 0.0014\n",
            "Epoch 15/20\n",
            "363/363 [==============================] - 1s 1ms/step - loss: 10358.6836 - accuracy: 0.0015\n",
            "Epoch 16/20\n",
            "363/363 [==============================] - 1s 2ms/step - loss: 10399.2148 - accuracy: 0.0016\n",
            "Epoch 17/20\n",
            "363/363 [==============================] - 1s 1ms/step - loss: 10372.9189 - accuracy: 0.0015\n",
            "Epoch 18/20\n",
            "363/363 [==============================] - 1s 2ms/step - loss: 10370.3887 - accuracy: 0.0014\n",
            "Epoch 19/20\n",
            "363/363 [==============================] - 1s 1ms/step - loss: 10348.4814 - accuracy: 0.0011\n",
            "Epoch 20/20\n",
            "363/363 [==============================] - 1s 1ms/step - loss: 10355.7412 - accuracy: 0.0010\n"
          ]
        },
        {
          "output_type": "execute_result",
          "data": {
            "text/plain": [
              "<keras.callbacks.History at 0x7f7958d7ad10>"
            ]
          },
          "metadata": {},
          "execution_count": 16
        }
      ]
    },
    {
      "cell_type": "markdown",
      "source": [
        "## Saving the model"
      ],
      "metadata": {
        "id": "PLbnrguTeYZY"
      }
    },
    {
      "cell_type": "code",
      "source": [
        "# Saving the model\n",
        "model.save(\"my_model.h5\")\n",
        "\n",
        "# Loading the model\n",
        "my_model = keras.models.load_model(\"my_model.h5\")"
      ],
      "metadata": {
        "id": "LEfBmP3cjAX0"
      },
      "execution_count": null,
      "outputs": []
    },
    {
      "cell_type": "markdown",
      "source": [
        "## Using Callbacks"
      ],
      "metadata": {
        "id": "IBXBq2atjpSZ"
      }
    },
    {
      "cell_type": "code",
      "source": [
        "def WideAndDeep(units=30):\n",
        "    input = keras.layers.Input(shape=X_train.shape[1:])\n",
        "    hidden1 = keras.layers.Dense(units, activation=\"relu\")(input)\n",
        "    hidden2 = keras.layers.Dense(units, activation=\"relu\")(hidden1)\n",
        "    concat = keras.layers.Concatenate()([input, hidden2])\n",
        "    output = keras.layers.Dense(1)(concat)\n",
        "    model = keras.models.Model(inputs=[input], \n",
        "                            outputs=[output])\n",
        "    model.compile(loss=\"mae\", optimizer=\"sgd\", metrics=[\"accuracy\"])\n",
        "    return model"
      ],
      "metadata": {
        "id": "cNU1WvV2o42d"
      },
      "execution_count": null,
      "outputs": []
    },
    {
      "cell_type": "code",
      "source": [
        "model = WideAndDeep()\n",
        "checkpoint_cb = keras.callbacks.ModelCheckpoint(\"my_model.h5\", \n",
        "                                                save_best_only=True)\n",
        "history = model.fit(X_train, y_train, epochs=10, \n",
        "                    validation_data=(X_valid, y_valid), \n",
        "                    callbacks=[checkpoint_cb])"
      ],
      "metadata": {
        "colab": {
          "base_uri": "https://localhost:8080/"
        },
        "id": "x8sO6M8YpBMT",
        "outputId": "32df1514-a036-4d89-b305-250e7cc0659c"
      },
      "execution_count": null,
      "outputs": [
        {
          "output_type": "stream",
          "name": "stdout",
          "text": [
            "Epoch 1/10\n",
            "363/363 [==============================] - 1s 2ms/step - loss: 11958.0693 - accuracy: 0.0015 - val_loss: 17613.9023 - val_accuracy: 0.0023\n",
            "Epoch 2/10\n",
            "363/363 [==============================] - 1s 2ms/step - loss: 10606.3555 - accuracy: 0.0013 - val_loss: 10592.8975 - val_accuracy: 0.0000e+00\n",
            "Epoch 3/10\n",
            "363/363 [==============================] - 1s 2ms/step - loss: 10607.8740 - accuracy: 0.0018 - val_loss: 10723.6875 - val_accuracy: 0.0023\n",
            "Epoch 4/10\n",
            "363/363 [==============================] - 1s 2ms/step - loss: 10576.3916 - accuracy: 0.0018 - val_loss: 8800.6338 - val_accuracy: 0.0023\n",
            "Epoch 5/10\n",
            "363/363 [==============================] - 1s 2ms/step - loss: 10541.7051 - accuracy: 0.0014 - val_loss: 7786.0259 - val_accuracy: 0.0000e+00\n",
            "Epoch 6/10\n",
            "363/363 [==============================] - 1s 2ms/step - loss: 10621.0518 - accuracy: 0.0013 - val_loss: 5181.9385 - val_accuracy: 0.0023\n",
            "Epoch 7/10\n",
            "363/363 [==============================] - 1s 2ms/step - loss: 10606.5068 - accuracy: 0.0019 - val_loss: 14188.9443 - val_accuracy: 0.0023\n",
            "Epoch 8/10\n",
            "363/363 [==============================] - 1s 2ms/step - loss: 10595.3105 - accuracy: 0.0016 - val_loss: 9453.8486 - val_accuracy: 0.0023\n",
            "Epoch 9/10\n",
            "363/363 [==============================] - 1s 2ms/step - loss: 10566.9258 - accuracy: 0.0016 - val_loss: 13519.2285 - val_accuracy: 0.0023\n",
            "Epoch 10/10\n",
            "363/363 [==============================] - 1s 2ms/step - loss: 10616.7734 - accuracy: 0.0013 - val_loss: 13594.4346 - val_accuracy: 0.0000e+00\n"
          ]
        }
      ]
    },
    {
      "cell_type": "code",
      "source": [
        "model = WideAndDeep()\n",
        "early_stopping = keras.callbacks.EarlyStopping(patience=10, \n",
        "                                               restore_best_weights=True)\n",
        "checkpoint_cb = keras.callbacks.ModelCheckpoint(\"my_model.h5\")\n",
        "model.fit(X_train, y_train, \n",
        "          epochs=100, \n",
        "          validation_data=(X_valid, y_valid), \n",
        "          callbacks=[early_stopping, checkpoint_cb])"
      ],
      "metadata": {
        "colab": {
          "base_uri": "https://localhost:8080/"
        },
        "id": "6JKMzkC9qKWb",
        "outputId": "75d8c12e-6bdf-4c62-f67c-f23d9543c93c"
      },
      "execution_count": null,
      "outputs": [
        {
          "output_type": "stream",
          "name": "stdout",
          "text": [
            "Epoch 1/100\n",
            "363/363 [==============================] - 1s 2ms/step - loss: 3404811970019328.0000 - accuracy: 0.0012 - val_loss: 32661.5215 - val_accuracy: 0.0000e+00\n",
            "Epoch 2/100\n",
            "363/363 [==============================] - 1s 2ms/step - loss: 11051.8916 - accuracy: 0.0015 - val_loss: 19607.8262 - val_accuracy: 0.0000e+00\n",
            "Epoch 3/100\n",
            "363/363 [==============================] - 1s 2ms/step - loss: 10366.1738 - accuracy: 0.0016 - val_loss: 4539.9214 - val_accuracy: 0.0036\n",
            "Epoch 4/100\n",
            "363/363 [==============================] - 1s 2ms/step - loss: 10381.0820 - accuracy: 0.0012 - val_loss: 17043.3984 - val_accuracy: 0.0036\n",
            "Epoch 5/100\n",
            "363/363 [==============================] - 1s 2ms/step - loss: 10315.6865 - accuracy: 9.4746e-04 - val_loss: 13574.1611 - val_accuracy: 0.0036\n",
            "Epoch 6/100\n",
            "363/363 [==============================] - 1s 2ms/step - loss: 10354.4668 - accuracy: 0.0011 - val_loss: 15639.4209 - val_accuracy: 0.0036\n",
            "Epoch 7/100\n",
            "363/363 [==============================] - 1s 2ms/step - loss: 10420.6270 - accuracy: 9.4746e-04 - val_loss: 7714.7979 - val_accuracy: 0.0036\n",
            "Epoch 8/100\n",
            "363/363 [==============================] - 1s 2ms/step - loss: 10312.6494 - accuracy: 0.0015 - val_loss: 18029.1582 - val_accuracy: 0.0036\n",
            "Epoch 9/100\n",
            "363/363 [==============================] - 1s 2ms/step - loss: 10397.5498 - accuracy: 0.0013 - val_loss: 8154.7046 - val_accuracy: 0.0000e+00\n",
            "Epoch 10/100\n",
            "363/363 [==============================] - 1s 2ms/step - loss: 10396.8643 - accuracy: 0.0013 - val_loss: 9997.6797 - val_accuracy: 0.0036\n",
            "Epoch 11/100\n",
            "363/363 [==============================] - 1s 2ms/step - loss: 10434.0430 - accuracy: 0.0010 - val_loss: 5711.1587 - val_accuracy: 0.0000e+00\n",
            "Epoch 12/100\n",
            "363/363 [==============================] - 1s 2ms/step - loss: 10461.5195 - accuracy: 0.0014 - val_loss: 4442.8857 - val_accuracy: 0.0000e+00\n",
            "Epoch 13/100\n",
            "363/363 [==============================] - 1s 2ms/step - loss: 10387.9062 - accuracy: 0.0012 - val_loss: 7520.6533 - val_accuracy: 0.0036\n",
            "Epoch 14/100\n",
            "363/363 [==============================] - 1s 2ms/step - loss: 10437.5537 - accuracy: 8.6133e-04 - val_loss: 9683.9785 - val_accuracy: 0.0036\n",
            "Epoch 15/100\n",
            "363/363 [==============================] - 1s 2ms/step - loss: 10389.5674 - accuracy: 0.0016 - val_loss: 7141.3301 - val_accuracy: 0.0036\n",
            "Epoch 16/100\n",
            "363/363 [==============================] - 1s 2ms/step - loss: 10371.6719 - accuracy: 0.0014 - val_loss: 7950.1919 - val_accuracy: 0.0036\n",
            "Epoch 17/100\n",
            "363/363 [==============================] - 1s 2ms/step - loss: 10477.1602 - accuracy: 0.0013 - val_loss: 5563.0977 - val_accuracy: 0.0036\n",
            "Epoch 18/100\n",
            "363/363 [==============================] - 1s 2ms/step - loss: 10424.4209 - accuracy: 0.0016 - val_loss: 14164.1230 - val_accuracy: 0.0036\n",
            "Epoch 19/100\n",
            "363/363 [==============================] - 1s 2ms/step - loss: 10442.1826 - accuracy: 0.0016 - val_loss: 16510.3848 - val_accuracy: 0.0036\n",
            "Epoch 20/100\n",
            "363/363 [==============================] - 1s 2ms/step - loss: 10364.2051 - accuracy: 0.0013 - val_loss: 8421.4111 - val_accuracy: 0.0000e+00\n",
            "Epoch 21/100\n",
            "363/363 [==============================] - 1s 2ms/step - loss: 10452.9980 - accuracy: 0.0015 - val_loss: 1228.8115 - val_accuracy: 0.0036\n",
            "Epoch 22/100\n",
            "363/363 [==============================] - 1s 2ms/step - loss: 10432.2607 - accuracy: 0.0013 - val_loss: 13451.6143 - val_accuracy: 0.0000e+00\n",
            "Epoch 23/100\n",
            "363/363 [==============================] - 1s 2ms/step - loss: 10483.1006 - accuracy: 0.0010 - val_loss: 16918.4160 - val_accuracy: 0.0000e+00\n",
            "Epoch 24/100\n",
            "363/363 [==============================] - 1s 2ms/step - loss: 10342.3105 - accuracy: 0.0014 - val_loss: 1643.7183 - val_accuracy: 0.0000e+00\n",
            "Epoch 25/100\n",
            "363/363 [==============================] - 1s 2ms/step - loss: 10390.0977 - accuracy: 0.0016 - val_loss: 2440.9902 - val_accuracy: 0.0000e+00\n",
            "Epoch 26/100\n",
            "363/363 [==============================] - 1s 2ms/step - loss: 10432.8555 - accuracy: 0.0014 - val_loss: 15853.9824 - val_accuracy: 0.0036\n",
            "Epoch 27/100\n",
            "363/363 [==============================] - 1s 2ms/step - loss: 10411.7207 - accuracy: 9.4746e-04 - val_loss: 4322.5757 - val_accuracy: 0.0036\n",
            "Epoch 28/100\n",
            "363/363 [==============================] - 1s 2ms/step - loss: 10369.5596 - accuracy: 0.0014 - val_loss: 14752.6260 - val_accuracy: 0.0000e+00\n",
            "Epoch 29/100\n",
            "363/363 [==============================] - 1s 2ms/step - loss: 10371.4414 - accuracy: 0.0011 - val_loss: 13810.2930 - val_accuracy: 0.0000e+00\n",
            "Epoch 30/100\n",
            "363/363 [==============================] - 1s 2ms/step - loss: 10428.1143 - accuracy: 0.0016 - val_loss: 2538.7751 - val_accuracy: 0.0000e+00\n",
            "Epoch 31/100\n",
            "363/363 [==============================] - 1s 2ms/step - loss: 10399.5625 - accuracy: 0.0012 - val_loss: 8319.6475 - val_accuracy: 0.0036\n"
          ]
        },
        {
          "output_type": "execute_result",
          "data": {
            "text/plain": [
              "<keras.callbacks.History at 0x7f79560fc2d0>"
            ]
          },
          "metadata": {},
          "execution_count": 20
        }
      ]
    },
    {
      "cell_type": "code",
      "source": [
        "model.evaluate(X_valid, y_valid)"
      ],
      "metadata": {
        "colab": {
          "base_uri": "https://localhost:8080/"
        },
        "id": "9F3OnY8QseUb",
        "outputId": "d98d1836-0ce7-429b-bdaf-0a61e7426f8d"
      },
      "execution_count": null,
      "outputs": [
        {
          "output_type": "stream",
          "name": "stdout",
          "text": [
            "121/121 [==============================] - 0s 1ms/step - loss: 1261.7394 - accuracy: 0.0000e+00\n"
          ]
        },
        {
          "output_type": "execute_result",
          "data": {
            "text/plain": [
              "[1261.7393798828125, 0.0]"
            ]
          },
          "metadata": {},
          "execution_count": 45
        }
      ]
    },
    {
      "cell_type": "code",
      "source": [
        "# Custom Callback\n",
        "class PrintValTrainRatioCallback(keras.callbacks.Callback):\n",
        "    def on_epoch_end(self, epoch, logs):\n",
        "        print(\"\\nval/train: {:2f}\".format(logs[\"val_loss\"]/logs[\"loss\"]))\n",
        "\n",
        "model = WideAndDeep()\n",
        "vnt_ratio = PrintValTrainRatioCallback()\n",
        "model.fit(X_train, y_train, epochs=100, \n",
        "          validation_data=(X_valid, y_valid), \n",
        "          callbacks=[checkpoint_cb, \n",
        "                     early_stopping, \n",
        "                     vnt_ratio])"
      ],
      "metadata": {
        "colab": {
          "base_uri": "https://localhost:8080/"
        },
        "id": "EJBDXQrXtTmj",
        "outputId": "5ea53255-ec4e-462e-d05f-ba6987598146"
      },
      "execution_count": null,
      "outputs": [
        {
          "output_type": "stream",
          "name": "stdout",
          "text": [
            "Epoch 1/100\n",
            "349/363 [===========================>..] - ETA: 0s - loss: 18083.1348 - accuracy: 0.0014\n",
            "val/train: 0.171441\n",
            "363/363 [==============================] - 1s 2ms/step - loss: 17799.0840 - accuracy: 0.0016 - val_loss: 3051.4973 - val_accuracy: 0.0000e+00\n",
            "Epoch 2/100\n",
            "336/363 [==========================>...] - ETA: 0s - loss: 10517.1699 - accuracy: 0.0020\n",
            "val/train: 1.738182\n",
            "363/363 [==============================] - 1s 2ms/step - loss: 10560.8271 - accuracy: 0.0019 - val_loss: 18356.6445 - val_accuracy: 0.0000e+00\n",
            "Epoch 3/100\n",
            "348/363 [===========================>..] - ETA: 0s - loss: 10551.6602 - accuracy: 0.0018\n",
            "val/train: 1.099963\n",
            "363/363 [==============================] - 1s 2ms/step - loss: 10619.6289 - accuracy: 0.0018 - val_loss: 11681.1963 - val_accuracy: 0.0000e+00\n",
            "Epoch 4/100\n",
            "362/363 [============================>.] - ETA: 0s - loss: 10513.7168 - accuracy: 0.0018\n",
            "val/train: 0.618186\n",
            "363/363 [==============================] - 1s 2ms/step - loss: 10518.8086 - accuracy: 0.0018 - val_loss: 6502.5762 - val_accuracy: 0.0000e+00\n",
            "Epoch 5/100\n",
            "363/363 [==============================] - ETA: 0s - loss: 10505.5703 - accuracy: 0.0014\n",
            "val/train: 1.243934\n",
            "363/363 [==============================] - 1s 2ms/step - loss: 10505.5703 - accuracy: 0.0014 - val_loss: 13068.2324 - val_accuracy: 0.0000e+00\n",
            "Epoch 6/100\n",
            "352/363 [============================>.] - ETA: 0s - loss: 10643.6963 - accuracy: 0.0016\n",
            "val/train: 1.620508\n",
            "363/363 [==============================] - 1s 2ms/step - loss: 10610.8662 - accuracy: 0.0016 - val_loss: 17194.9922 - val_accuracy: 0.0023\n",
            "Epoch 7/100\n",
            "342/363 [===========================>..] - ETA: 0s - loss: 10566.0742 - accuracy: 0.0016\n",
            "val/train: 1.401540\n",
            "363/363 [==============================] - 1s 2ms/step - loss: 10631.9697 - accuracy: 0.0017 - val_loss: 14901.1357 - val_accuracy: 0.0000e+00\n",
            "Epoch 8/100\n",
            "359/363 [============================>.] - ETA: 0s - loss: 10637.1289 - accuracy: 0.0018\n",
            "val/train: 0.831461\n",
            "363/363 [==============================] - 1s 2ms/step - loss: 10634.5605 - accuracy: 0.0018 - val_loss: 8842.2178 - val_accuracy: 0.0000e+00\n",
            "Epoch 9/100\n",
            "343/363 [===========================>..] - ETA: 0s - loss: 10564.2080 - accuracy: 0.0017\n",
            "val/train: 1.904576\n",
            "363/363 [==============================] - 1s 2ms/step - loss: 10618.4473 - accuracy: 0.0016 - val_loss: 20223.6426 - val_accuracy: 0.0023\n",
            "Epoch 10/100\n",
            "357/363 [============================>.] - ETA: 0s - loss: 10575.3525 - accuracy: 0.0017\n",
            "val/train: 0.923026\n",
            "363/363 [==============================] - 1s 2ms/step - loss: 10603.7822 - accuracy: 0.0016 - val_loss: 9787.5713 - val_accuracy: 0.0000e+00\n",
            "Epoch 11/100\n",
            "362/363 [============================>.] - ETA: 0s - loss: 10597.9600 - accuracy: 0.0020\n",
            "val/train: 1.793239\n",
            "363/363 [==============================] - 1s 2ms/step - loss: 10593.1553 - accuracy: 0.0020 - val_loss: 18996.0586 - val_accuracy: 0.0000e+00\n"
          ]
        },
        {
          "output_type": "execute_result",
          "data": {
            "text/plain": [
              "<keras.callbacks.History at 0x7f46cff558d0>"
            ]
          },
          "metadata": {},
          "execution_count": 46
        }
      ]
    },
    {
      "cell_type": "code",
      "source": [
        ""
      ],
      "metadata": {
        "id": "PcX4KJHSudNj"
      },
      "execution_count": null,
      "outputs": []
    },
    {
      "cell_type": "markdown",
      "source": [
        "## Tensorboard"
      ],
      "metadata": {
        "id": "qqs08H6TMKuJ"
      }
    },
    {
      "cell_type": "code",
      "source": [
        "def SimpleRegressor(units_1=30, units_2=10):\n",
        "    model = keras.Sequential([\n",
        "            keras.layers.Dense(units=units_1, activation=\"relu\"), \n",
        "            keras.layers.Dense(units=units_1, activation=\"relu\"), \n",
        "            keras.layers.Dense(units=units_2, activation=\"relu\"), \n",
        "            keras.layers.Dense(units=units_2, activation=\"relu\"), \n",
        "            keras.layers.Dense(units=1)\n",
        "    ])\n",
        "    model.compile(loss=\"mae\", \n",
        "                  optimizer=\"sgd\", \n",
        "                  metrics=[\"accuracy\"])\n",
        "    return model"
      ],
      "metadata": {
        "id": "Bh4MkUahR4Oy"
      },
      "execution_count": null,
      "outputs": []
    },
    {
      "cell_type": "code",
      "source": [
        "import os\n",
        "root_logdir = os.path.join(os.curdir, \"my_logs\")\n",
        "def get_run_logdir():\n",
        "    import time\n",
        "    run_id = time.strftime(\"run_%Y_%m_%d-%H_%M_%S\")\n",
        "    return os.path.join(root_logdir, run_id)\n",
        "\n",
        "run_logdir = get_run_logdir()"
      ],
      "metadata": {
        "id": "7vmtcKIvMPqM"
      },
      "execution_count": null,
      "outputs": []
    },
    {
      "cell_type": "code",
      "source": [
        "model = SimpleRegressor(units_1=300, units_2=100)\n",
        "tensorboard_cb = keras.callbacks.TensorBoard(run_logdir)\n",
        "history = model.fit(x=X_train, \n",
        "                    y=y_train, \n",
        "                    epochs=200, \n",
        "                    validation_data=(X_valid, y_valid), \n",
        "                    callbacks=[early_stopping, tensorboard_cb])"
      ],
      "metadata": {
        "colab": {
          "base_uri": "https://localhost:8080/",
          "height": 504
        },
        "id": "7_52lUJBM6WD",
        "outputId": "3c056716-4d21-452a-95ab-fdd601af86a6"
      },
      "execution_count": null,
      "outputs": [
        {
          "output_type": "stream",
          "name": "stdout",
          "text": [
            "Epoch 1/200\n",
            "363/363 [==============================] - 2s 4ms/step - loss: nan - accuracy: 8.6133e-05 - val_loss: nan - val_accuracy: 0.0000e+00\n",
            "Epoch 2/200\n",
            "363/363 [==============================] - 1s 3ms/step - loss: nan - accuracy: 0.0000e+00 - val_loss: nan - val_accuracy: 0.0000e+00\n",
            "Epoch 3/200\n",
            "363/363 [==============================] - 1s 4ms/step - loss: nan - accuracy: 0.0000e+00 - val_loss: nan - val_accuracy: 0.0000e+00\n",
            "Epoch 4/200\n",
            "316/363 [=========================>....] - ETA: 0s - loss: nan - accuracy: 0.0000e+00"
          ]
        },
        {
          "output_type": "error",
          "ename": "KeyboardInterrupt",
          "evalue": "ignored",
          "traceback": [
            "\u001b[0;31m---------------------------------------------------------------------------\u001b[0m",
            "\u001b[0;31mKeyboardInterrupt\u001b[0m                         Traceback (most recent call last)",
            "\u001b[0;32m<ipython-input-48-3461bb9ea5fd>\u001b[0m in \u001b[0;36m<module>\u001b[0;34m()\u001b[0m\n\u001b[1;32m      5\u001b[0m                     \u001b[0mepochs\u001b[0m\u001b[0;34m=\u001b[0m\u001b[0;36m200\u001b[0m\u001b[0;34m,\u001b[0m\u001b[0;34m\u001b[0m\u001b[0;34m\u001b[0m\u001b[0m\n\u001b[1;32m      6\u001b[0m                     \u001b[0mvalidation_data\u001b[0m\u001b[0;34m=\u001b[0m\u001b[0;34m(\u001b[0m\u001b[0mX_valid\u001b[0m\u001b[0;34m,\u001b[0m \u001b[0my_valid\u001b[0m\u001b[0;34m)\u001b[0m\u001b[0;34m,\u001b[0m\u001b[0;34m\u001b[0m\u001b[0;34m\u001b[0m\u001b[0m\n\u001b[0;32m----> 7\u001b[0;31m                     callbacks=[early_stopping, tensorboard_cb])\n\u001b[0m",
            "\u001b[0;32m/usr/local/lib/python3.7/dist-packages/keras/utils/traceback_utils.py\u001b[0m in \u001b[0;36merror_handler\u001b[0;34m(*args, **kwargs)\u001b[0m\n\u001b[1;32m     62\u001b[0m     \u001b[0mfiltered_tb\u001b[0m \u001b[0;34m=\u001b[0m \u001b[0;32mNone\u001b[0m\u001b[0;34m\u001b[0m\u001b[0;34m\u001b[0m\u001b[0m\n\u001b[1;32m     63\u001b[0m     \u001b[0;32mtry\u001b[0m\u001b[0;34m:\u001b[0m\u001b[0;34m\u001b[0m\u001b[0;34m\u001b[0m\u001b[0m\n\u001b[0;32m---> 64\u001b[0;31m       \u001b[0;32mreturn\u001b[0m \u001b[0mfn\u001b[0m\u001b[0;34m(\u001b[0m\u001b[0;34m*\u001b[0m\u001b[0margs\u001b[0m\u001b[0;34m,\u001b[0m \u001b[0;34m**\u001b[0m\u001b[0mkwargs\u001b[0m\u001b[0;34m)\u001b[0m\u001b[0;34m\u001b[0m\u001b[0;34m\u001b[0m\u001b[0m\n\u001b[0m\u001b[1;32m     65\u001b[0m     \u001b[0;32mexcept\u001b[0m \u001b[0mException\u001b[0m \u001b[0;32mas\u001b[0m \u001b[0me\u001b[0m\u001b[0;34m:\u001b[0m  \u001b[0;31m# pylint: disable=broad-except\u001b[0m\u001b[0;34m\u001b[0m\u001b[0;34m\u001b[0m\u001b[0m\n\u001b[1;32m     66\u001b[0m       \u001b[0mfiltered_tb\u001b[0m \u001b[0;34m=\u001b[0m \u001b[0m_process_traceback_frames\u001b[0m\u001b[0;34m(\u001b[0m\u001b[0me\u001b[0m\u001b[0;34m.\u001b[0m\u001b[0m__traceback__\u001b[0m\u001b[0;34m)\u001b[0m\u001b[0;34m\u001b[0m\u001b[0;34m\u001b[0m\u001b[0m\n",
            "\u001b[0;32m/usr/local/lib/python3.7/dist-packages/keras/engine/training.py\u001b[0m in \u001b[0;36mfit\u001b[0;34m(self, x, y, batch_size, epochs, verbose, callbacks, validation_split, validation_data, shuffle, class_weight, sample_weight, initial_epoch, steps_per_epoch, validation_steps, validation_batch_size, validation_freq, max_queue_size, workers, use_multiprocessing)\u001b[0m\n\u001b[1;32m   1214\u001b[0m                 _r=1):\n\u001b[1;32m   1215\u001b[0m               \u001b[0mcallbacks\u001b[0m\u001b[0;34m.\u001b[0m\u001b[0mon_train_batch_begin\u001b[0m\u001b[0;34m(\u001b[0m\u001b[0mstep\u001b[0m\u001b[0;34m)\u001b[0m\u001b[0;34m\u001b[0m\u001b[0;34m\u001b[0m\u001b[0m\n\u001b[0;32m-> 1216\u001b[0;31m               \u001b[0mtmp_logs\u001b[0m \u001b[0;34m=\u001b[0m \u001b[0mself\u001b[0m\u001b[0;34m.\u001b[0m\u001b[0mtrain_function\u001b[0m\u001b[0;34m(\u001b[0m\u001b[0miterator\u001b[0m\u001b[0;34m)\u001b[0m\u001b[0;34m\u001b[0m\u001b[0;34m\u001b[0m\u001b[0m\n\u001b[0m\u001b[1;32m   1217\u001b[0m               \u001b[0;32mif\u001b[0m \u001b[0mdata_handler\u001b[0m\u001b[0;34m.\u001b[0m\u001b[0mshould_sync\u001b[0m\u001b[0;34m:\u001b[0m\u001b[0;34m\u001b[0m\u001b[0;34m\u001b[0m\u001b[0m\n\u001b[1;32m   1218\u001b[0m                 \u001b[0mcontext\u001b[0m\u001b[0;34m.\u001b[0m\u001b[0masync_wait\u001b[0m\u001b[0;34m(\u001b[0m\u001b[0;34m)\u001b[0m\u001b[0;34m\u001b[0m\u001b[0;34m\u001b[0m\u001b[0m\n",
            "\u001b[0;32m/usr/local/lib/python3.7/dist-packages/tensorflow/python/util/traceback_utils.py\u001b[0m in \u001b[0;36merror_handler\u001b[0;34m(*args, **kwargs)\u001b[0m\n\u001b[1;32m    148\u001b[0m     \u001b[0mfiltered_tb\u001b[0m \u001b[0;34m=\u001b[0m \u001b[0;32mNone\u001b[0m\u001b[0;34m\u001b[0m\u001b[0;34m\u001b[0m\u001b[0m\n\u001b[1;32m    149\u001b[0m     \u001b[0;32mtry\u001b[0m\u001b[0;34m:\u001b[0m\u001b[0;34m\u001b[0m\u001b[0;34m\u001b[0m\u001b[0m\n\u001b[0;32m--> 150\u001b[0;31m       \u001b[0;32mreturn\u001b[0m \u001b[0mfn\u001b[0m\u001b[0;34m(\u001b[0m\u001b[0;34m*\u001b[0m\u001b[0margs\u001b[0m\u001b[0;34m,\u001b[0m \u001b[0;34m**\u001b[0m\u001b[0mkwargs\u001b[0m\u001b[0;34m)\u001b[0m\u001b[0;34m\u001b[0m\u001b[0;34m\u001b[0m\u001b[0m\n\u001b[0m\u001b[1;32m    151\u001b[0m     \u001b[0;32mexcept\u001b[0m \u001b[0mException\u001b[0m \u001b[0;32mas\u001b[0m \u001b[0me\u001b[0m\u001b[0;34m:\u001b[0m\u001b[0;34m\u001b[0m\u001b[0;34m\u001b[0m\u001b[0m\n\u001b[1;32m    152\u001b[0m       \u001b[0mfiltered_tb\u001b[0m \u001b[0;34m=\u001b[0m \u001b[0m_process_traceback_frames\u001b[0m\u001b[0;34m(\u001b[0m\u001b[0me\u001b[0m\u001b[0;34m.\u001b[0m\u001b[0m__traceback__\u001b[0m\u001b[0;34m)\u001b[0m\u001b[0;34m\u001b[0m\u001b[0;34m\u001b[0m\u001b[0m\n",
            "\u001b[0;32m/usr/local/lib/python3.7/dist-packages/tensorflow/python/eager/def_function.py\u001b[0m in \u001b[0;36m__call__\u001b[0;34m(self, *args, **kwds)\u001b[0m\n\u001b[1;32m    908\u001b[0m \u001b[0;34m\u001b[0m\u001b[0m\n\u001b[1;32m    909\u001b[0m       \u001b[0;32mwith\u001b[0m \u001b[0mOptionalXlaContext\u001b[0m\u001b[0;34m(\u001b[0m\u001b[0mself\u001b[0m\u001b[0;34m.\u001b[0m\u001b[0m_jit_compile\u001b[0m\u001b[0;34m)\u001b[0m\u001b[0;34m:\u001b[0m\u001b[0;34m\u001b[0m\u001b[0;34m\u001b[0m\u001b[0m\n\u001b[0;32m--> 910\u001b[0;31m         \u001b[0mresult\u001b[0m \u001b[0;34m=\u001b[0m \u001b[0mself\u001b[0m\u001b[0;34m.\u001b[0m\u001b[0m_call\u001b[0m\u001b[0;34m(\u001b[0m\u001b[0;34m*\u001b[0m\u001b[0margs\u001b[0m\u001b[0;34m,\u001b[0m \u001b[0;34m**\u001b[0m\u001b[0mkwds\u001b[0m\u001b[0;34m)\u001b[0m\u001b[0;34m\u001b[0m\u001b[0;34m\u001b[0m\u001b[0m\n\u001b[0m\u001b[1;32m    911\u001b[0m \u001b[0;34m\u001b[0m\u001b[0m\n\u001b[1;32m    912\u001b[0m       \u001b[0mnew_tracing_count\u001b[0m \u001b[0;34m=\u001b[0m \u001b[0mself\u001b[0m\u001b[0;34m.\u001b[0m\u001b[0mexperimental_get_tracing_count\u001b[0m\u001b[0;34m(\u001b[0m\u001b[0;34m)\u001b[0m\u001b[0;34m\u001b[0m\u001b[0;34m\u001b[0m\u001b[0m\n",
            "\u001b[0;32m/usr/local/lib/python3.7/dist-packages/tensorflow/python/eager/def_function.py\u001b[0m in \u001b[0;36m_call\u001b[0;34m(self, *args, **kwds)\u001b[0m\n\u001b[1;32m    940\u001b[0m       \u001b[0;31m# In this case we have created variables on the first call, so we run the\u001b[0m\u001b[0;34m\u001b[0m\u001b[0;34m\u001b[0m\u001b[0;34m\u001b[0m\u001b[0m\n\u001b[1;32m    941\u001b[0m       \u001b[0;31m# defunned version which is guaranteed to never create variables.\u001b[0m\u001b[0;34m\u001b[0m\u001b[0;34m\u001b[0m\u001b[0;34m\u001b[0m\u001b[0m\n\u001b[0;32m--> 942\u001b[0;31m       \u001b[0;32mreturn\u001b[0m \u001b[0mself\u001b[0m\u001b[0;34m.\u001b[0m\u001b[0m_stateless_fn\u001b[0m\u001b[0;34m(\u001b[0m\u001b[0;34m*\u001b[0m\u001b[0margs\u001b[0m\u001b[0;34m,\u001b[0m \u001b[0;34m**\u001b[0m\u001b[0mkwds\u001b[0m\u001b[0;34m)\u001b[0m  \u001b[0;31m# pylint: disable=not-callable\u001b[0m\u001b[0;34m\u001b[0m\u001b[0;34m\u001b[0m\u001b[0m\n\u001b[0m\u001b[1;32m    943\u001b[0m     \u001b[0;32melif\u001b[0m \u001b[0mself\u001b[0m\u001b[0;34m.\u001b[0m\u001b[0m_stateful_fn\u001b[0m \u001b[0;32mis\u001b[0m \u001b[0;32mnot\u001b[0m \u001b[0;32mNone\u001b[0m\u001b[0;34m:\u001b[0m\u001b[0;34m\u001b[0m\u001b[0;34m\u001b[0m\u001b[0m\n\u001b[1;32m    944\u001b[0m       \u001b[0;31m# Release the lock early so that multiple threads can perform the call\u001b[0m\u001b[0;34m\u001b[0m\u001b[0;34m\u001b[0m\u001b[0;34m\u001b[0m\u001b[0m\n",
            "\u001b[0;32m/usr/local/lib/python3.7/dist-packages/tensorflow/python/eager/function.py\u001b[0m in \u001b[0;36m__call__\u001b[0;34m(self, *args, **kwargs)\u001b[0m\n\u001b[1;32m   3127\u001b[0m     \u001b[0;32mwith\u001b[0m \u001b[0mself\u001b[0m\u001b[0;34m.\u001b[0m\u001b[0m_lock\u001b[0m\u001b[0;34m:\u001b[0m\u001b[0;34m\u001b[0m\u001b[0;34m\u001b[0m\u001b[0m\n\u001b[1;32m   3128\u001b[0m       (graph_function,\n\u001b[0;32m-> 3129\u001b[0;31m        filtered_flat_args) = self._maybe_define_function(args, kwargs)\n\u001b[0m\u001b[1;32m   3130\u001b[0m     return graph_function._call_flat(\n\u001b[1;32m   3131\u001b[0m         filtered_flat_args, captured_inputs=graph_function.captured_inputs)  # pylint: disable=protected-access\n",
            "\u001b[0;32m/usr/local/lib/python3.7/dist-packages/tensorflow/python/eager/function.py\u001b[0m in \u001b[0;36m_maybe_define_function\u001b[0;34m(self, args, kwargs)\u001b[0m\n\u001b[1;32m   3508\u001b[0m     \u001b[0;32mif\u001b[0m \u001b[0mself\u001b[0m\u001b[0;34m.\u001b[0m\u001b[0minput_signature\u001b[0m \u001b[0;32mis\u001b[0m \u001b[0;32mNone\u001b[0m \u001b[0;32mor\u001b[0m \u001b[0margs\u001b[0m \u001b[0;32mis\u001b[0m \u001b[0;32mnot\u001b[0m \u001b[0;32mNone\u001b[0m \u001b[0;32mor\u001b[0m \u001b[0mkwargs\u001b[0m \u001b[0;32mis\u001b[0m \u001b[0;32mnot\u001b[0m \u001b[0;32mNone\u001b[0m\u001b[0;34m:\u001b[0m\u001b[0;34m\u001b[0m\u001b[0;34m\u001b[0m\u001b[0m\n\u001b[1;32m   3509\u001b[0m       \u001b[0margs\u001b[0m\u001b[0;34m,\u001b[0m \u001b[0mkwargs\u001b[0m\u001b[0;34m,\u001b[0m \u001b[0mflat_args\u001b[0m\u001b[0;34m,\u001b[0m \u001b[0mfiltered_flat_args\u001b[0m \u001b[0;34m=\u001b[0m\u001b[0;31m \u001b[0m\u001b[0;31m\\\u001b[0m\u001b[0;34m\u001b[0m\u001b[0;34m\u001b[0m\u001b[0m\n\u001b[0;32m-> 3510\u001b[0;31m           \u001b[0mself\u001b[0m\u001b[0;34m.\u001b[0m\u001b[0m_function_spec\u001b[0m\u001b[0;34m.\u001b[0m\u001b[0mcanonicalize_function_inputs\u001b[0m\u001b[0;34m(\u001b[0m\u001b[0;34m*\u001b[0m\u001b[0margs\u001b[0m\u001b[0;34m,\u001b[0m \u001b[0;34m**\u001b[0m\u001b[0mkwargs\u001b[0m\u001b[0;34m)\u001b[0m\u001b[0;34m\u001b[0m\u001b[0;34m\u001b[0m\u001b[0m\n\u001b[0m\u001b[1;32m   3511\u001b[0m     \u001b[0;32melse\u001b[0m\u001b[0;34m:\u001b[0m\u001b[0;34m\u001b[0m\u001b[0;34m\u001b[0m\u001b[0m\n\u001b[1;32m   3512\u001b[0m       \u001b[0mflat_args\u001b[0m\u001b[0;34m,\u001b[0m \u001b[0mfiltered_flat_args\u001b[0m \u001b[0;34m=\u001b[0m \u001b[0;34m[\u001b[0m\u001b[0;32mNone\u001b[0m\u001b[0;34m]\u001b[0m\u001b[0;34m,\u001b[0m \u001b[0;34m[\u001b[0m\u001b[0;34m]\u001b[0m\u001b[0;34m\u001b[0m\u001b[0;34m\u001b[0m\u001b[0m\n",
            "\u001b[0;32m/usr/local/lib/python3.7/dist-packages/tensorflow/python/eager/function.py\u001b[0m in \u001b[0;36mcanonicalize_function_inputs\u001b[0;34m(self, *args, **kwargs)\u001b[0m\n\u001b[1;32m   2870\u001b[0m \u001b[0;34m\u001b[0m\u001b[0m\n\u001b[1;32m   2871\u001b[0m     \u001b[0;32mif\u001b[0m \u001b[0mself\u001b[0m\u001b[0;34m.\u001b[0m\u001b[0m_input_signature\u001b[0m \u001b[0;32mis\u001b[0m \u001b[0;32mNone\u001b[0m\u001b[0;34m:\u001b[0m\u001b[0;34m\u001b[0m\u001b[0;34m\u001b[0m\u001b[0m\n\u001b[0;32m-> 2872\u001b[0;31m       \u001b[0minputs\u001b[0m\u001b[0;34m,\u001b[0m \u001b[0mflat_inputs\u001b[0m\u001b[0;34m,\u001b[0m \u001b[0mfiltered_flat_inputs\u001b[0m \u001b[0;34m=\u001b[0m \u001b[0m_convert_numpy_inputs\u001b[0m\u001b[0;34m(\u001b[0m\u001b[0minputs\u001b[0m\u001b[0;34m)\u001b[0m\u001b[0;34m\u001b[0m\u001b[0;34m\u001b[0m\u001b[0m\n\u001b[0m\u001b[1;32m   2873\u001b[0m       \u001b[0mkwargs\u001b[0m\u001b[0;34m,\u001b[0m \u001b[0mflat_kwargs\u001b[0m\u001b[0;34m,\u001b[0m \u001b[0mfiltered_flat_kwargs\u001b[0m \u001b[0;34m=\u001b[0m \u001b[0m_convert_numpy_inputs\u001b[0m\u001b[0;34m(\u001b[0m\u001b[0mkwargs\u001b[0m\u001b[0;34m)\u001b[0m\u001b[0;34m\u001b[0m\u001b[0;34m\u001b[0m\u001b[0m\n\u001b[1;32m   2874\u001b[0m       \u001b[0mflat_inputs\u001b[0m \u001b[0;34m+=\u001b[0m \u001b[0mflat_kwargs\u001b[0m\u001b[0;34m\u001b[0m\u001b[0;34m\u001b[0m\u001b[0m\n",
            "\u001b[0;32m/usr/local/lib/python3.7/dist-packages/tensorflow/python/eager/function.py\u001b[0m in \u001b[0;36m_convert_numpy_inputs\u001b[0;34m(inputs)\u001b[0m\n\u001b[1;32m   2912\u001b[0m   \u001b[0;31m# are eventually passed to ConcreteFunction()._call_flat, which requires\u001b[0m\u001b[0;34m\u001b[0m\u001b[0;34m\u001b[0m\u001b[0;34m\u001b[0m\u001b[0m\n\u001b[1;32m   2913\u001b[0m   \u001b[0;31m# expanded composites.\u001b[0m\u001b[0;34m\u001b[0m\u001b[0;34m\u001b[0m\u001b[0;34m\u001b[0m\u001b[0m\n\u001b[0;32m-> 2914\u001b[0;31m   \u001b[0mflat_inputs\u001b[0m \u001b[0;34m=\u001b[0m \u001b[0mnest\u001b[0m\u001b[0;34m.\u001b[0m\u001b[0mflatten\u001b[0m\u001b[0;34m(\u001b[0m\u001b[0minputs\u001b[0m\u001b[0;34m,\u001b[0m \u001b[0mexpand_composites\u001b[0m\u001b[0;34m=\u001b[0m\u001b[0;32mTrue\u001b[0m\u001b[0;34m)\u001b[0m\u001b[0;34m\u001b[0m\u001b[0;34m\u001b[0m\u001b[0m\n\u001b[0m\u001b[1;32m   2915\u001b[0m \u001b[0;34m\u001b[0m\u001b[0m\n\u001b[1;32m   2916\u001b[0m   \u001b[0;31m# Check for NumPy arrays in arguments and convert them to Tensors.\u001b[0m\u001b[0;34m\u001b[0m\u001b[0;34m\u001b[0m\u001b[0;34m\u001b[0m\u001b[0m\n",
            "\u001b[0;32m/usr/local/lib/python3.7/dist-packages/tensorflow/python/util/nest.py\u001b[0m in \u001b[0;36mflatten\u001b[0;34m(structure, expand_composites)\u001b[0m\n\u001b[1;32m    415\u001b[0m     \u001b[0;32mreturn\u001b[0m \u001b[0;34m[\u001b[0m\u001b[0;32mNone\u001b[0m\u001b[0;34m]\u001b[0m\u001b[0;34m\u001b[0m\u001b[0;34m\u001b[0m\u001b[0m\n\u001b[1;32m    416\u001b[0m   \u001b[0mexpand_composites\u001b[0m \u001b[0;34m=\u001b[0m \u001b[0mbool\u001b[0m\u001b[0;34m(\u001b[0m\u001b[0mexpand_composites\u001b[0m\u001b[0;34m)\u001b[0m\u001b[0;34m\u001b[0m\u001b[0;34m\u001b[0m\u001b[0m\n\u001b[0;32m--> 417\u001b[0;31m   \u001b[0;32mreturn\u001b[0m \u001b[0m_pywrap_utils\u001b[0m\u001b[0;34m.\u001b[0m\u001b[0mFlatten\u001b[0m\u001b[0;34m(\u001b[0m\u001b[0mstructure\u001b[0m\u001b[0;34m,\u001b[0m \u001b[0mexpand_composites\u001b[0m\u001b[0;34m)\u001b[0m\u001b[0;34m\u001b[0m\u001b[0;34m\u001b[0m\u001b[0m\n\u001b[0m\u001b[1;32m    418\u001b[0m \u001b[0;34m\u001b[0m\u001b[0m\n\u001b[1;32m    419\u001b[0m \u001b[0;34m\u001b[0m\u001b[0m\n",
            "\u001b[0;32m/usr/local/lib/python3.7/dist-packages/tensorflow/python/data/ops/iterator_ops.py\u001b[0m in \u001b[0;36m_type_spec\u001b[0;34m(self)\u001b[0m\n\u001b[1;32m    792\u001b[0m         \u001b[0;32mreturn\u001b[0m \u001b[0mstructure\u001b[0m\u001b[0;34m.\u001b[0m\u001b[0mfrom_compatible_tensor_list\u001b[0m\u001b[0;34m(\u001b[0m\u001b[0mself\u001b[0m\u001b[0;34m.\u001b[0m\u001b[0m_element_spec\u001b[0m\u001b[0;34m,\u001b[0m \u001b[0mret\u001b[0m\u001b[0;34m)\u001b[0m\u001b[0;34m\u001b[0m\u001b[0;34m\u001b[0m\u001b[0m\n\u001b[1;32m    793\u001b[0m \u001b[0;34m\u001b[0m\u001b[0m\n\u001b[0;32m--> 794\u001b[0;31m   \u001b[0;34m@\u001b[0m\u001b[0mproperty\u001b[0m\u001b[0;34m\u001b[0m\u001b[0;34m\u001b[0m\u001b[0m\n\u001b[0m\u001b[1;32m    795\u001b[0m   \u001b[0;32mdef\u001b[0m \u001b[0m_type_spec\u001b[0m\u001b[0;34m(\u001b[0m\u001b[0mself\u001b[0m\u001b[0;34m)\u001b[0m\u001b[0;34m:\u001b[0m\u001b[0;34m\u001b[0m\u001b[0;34m\u001b[0m\u001b[0m\n\u001b[1;32m    796\u001b[0m     \u001b[0;32mreturn\u001b[0m \u001b[0mIteratorSpec\u001b[0m\u001b[0;34m(\u001b[0m\u001b[0mself\u001b[0m\u001b[0;34m.\u001b[0m\u001b[0melement_spec\u001b[0m\u001b[0;34m)\u001b[0m\u001b[0;34m\u001b[0m\u001b[0;34m\u001b[0m\u001b[0m\n",
            "\u001b[0;31mKeyboardInterrupt\u001b[0m: "
          ]
        }
      ]
    },
    {
      "cell_type": "code",
      "source": [
        ""
      ],
      "metadata": {
        "id": "PfaojpIKTztU"
      },
      "execution_count": null,
      "outputs": []
    }
  ]
}