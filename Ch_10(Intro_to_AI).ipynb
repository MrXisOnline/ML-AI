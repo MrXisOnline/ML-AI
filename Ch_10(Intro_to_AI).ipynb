{
  "cells": [
    {
      "cell_type": "code",
      "execution_count": null,
      "metadata": {
        "colab": {
          "base_uri": "https://localhost:8080/"
        },
        "id": "YHdU3pfHXiwg",
        "outputId": "3463fe6f-30bd-4ce3-ae6f-dd8f189ccfbe"
      },
      "outputs": [
        {
          "data": {
            "text/plain": [
              "array([1])"
            ]
          },
          "execution_count": 1,
          "metadata": {},
          "output_type": "execute_result"
        }
      ],
      "source": [
        "import numpy as np\n",
        "from sklearn.datasets import load_iris\n",
        "from sklearn.linear_model import Perceptron\n",
        "\n",
        "iris = load_iris()\n",
        "X = iris.data[:, (2, 3)] # petal length, petal width\n",
        "y = (iris.target == 0).astype(np.int)\n",
        "\n",
        "per_clf = Perceptron(max_iter = 1000, tol=1e-3, \n",
        "                     random_state=42)\n",
        "per_clf.fit(X, y)\n",
        "y_pred = per_clf.predict([[2, 0.5]])\n",
        "y_pred"
      ]
    },
    {
      "cell_type": "code",
      "source": [
        "import tensorflow as tf\n",
        "from tensorflow import keras\n",
        "print(tf.__version__, keras.__version__)"
      ],
      "metadata": {
        "id": "1eC38Zt7HArN",
        "outputId": "c222ff95-f72d-48e9-a30e-8bd46c0be7df",
        "colab": {
          "base_uri": "https://localhost:8080/"
        }
      },
      "execution_count": 2,
      "outputs": [
        {
          "output_type": "stream",
          "name": "stdout",
          "text": [
            "2.8.0 2.8.0\n"
          ]
        }
      ]
    },
    {
      "cell_type": "markdown",
      "metadata": {
        "id": "arBtx398KShS"
      },
      "source": [
        "## Classification Model using Sequential API"
      ]
    },
    {
      "cell_type": "code",
      "execution_count": null,
      "metadata": {
        "id": "BBMabbmWdGNA"
      },
      "outputs": [],
      "source": [
        "import math\n",
        "import random\n",
        "import matplotlib.pyplot as plt\n",
        "\n",
        "def images(no_of_images=25):\n",
        "    row, col = int(math.sqrt(no_of_images)), int(math.sqrt(no_of_images))\n",
        "    fig, subplots = plt.subplots(nrows=row, ncols=col)\n",
        "    fig.set_figheight(int(no_of_images/4))\n",
        "    fig.set_figwidth(int(no_of_images/4))\n",
        "    for r_plot in subplots:\n",
        "        for plot in r_plot:\n",
        "            r_in = random.randint(0, 59999)\n",
        "            plot.imshow(X_train_full[r_in], cmap=plt.cm.binary)\n",
        "            plot.set_title(class_names[y_train_full[r_in]])\n",
        "            plot.axis(False)"
      ]
    },
    {
      "cell_type": "code",
      "execution_count": null,
      "metadata": {
        "colab": {
          "base_uri": "https://localhost:8080/"
        },
        "id": "iRW7iQB5GUDL",
        "outputId": "4549b631-e00b-4511-8b27-cd83b38c4fce"
      },
      "outputs": [
        {
          "name": "stdout",
          "output_type": "stream",
          "text": [
            "Downloading data from https://storage.googleapis.com/tensorflow/tf-keras-datasets/train-labels-idx1-ubyte.gz\n",
            "32768/29515 [=================================] - 0s 0us/step\n",
            "40960/29515 [=========================================] - 0s 0us/step\n",
            "Downloading data from https://storage.googleapis.com/tensorflow/tf-keras-datasets/train-images-idx3-ubyte.gz\n",
            "26427392/26421880 [==============================] - 0s 0us/step\n",
            "26435584/26421880 [==============================] - 0s 0us/step\n",
            "Downloading data from https://storage.googleapis.com/tensorflow/tf-keras-datasets/t10k-labels-idx1-ubyte.gz\n",
            "16384/5148 [===============================================================================================] - 0s 0us/step\n",
            "Downloading data from https://storage.googleapis.com/tensorflow/tf-keras-datasets/t10k-images-idx3-ubyte.gz\n",
            "4423680/4422102 [==============================] - 0s 0us/step\n",
            "4431872/4422102 [==============================] - 0s 0us/step\n"
          ]
        }
      ],
      "source": [
        "# Importing Keras\n",
        "from tensorflow import keras\n",
        "\n",
        "# Loading Dataset from Keras\n",
        "mnist = keras.datasets.fashion_mnist\n",
        "(X_train_full, y_train_full), (X_test, y_test) = mnist.load_data()\n",
        "\n",
        "# checking shape of data\n",
        "X_train_full.shape, X_train_full.dtype\n",
        "\n",
        "# Creating Validation dataset\n",
        "X_valid, X_train = X_train_full[:5000]/255.0, X_train_full[5000:]/255.0\n",
        "y_valid, y_train = y_train_full[:5000], y_train_full[5000:]\n",
        "\n",
        "class_names = [\"T-Shirts/Top\", \"Trousers\", \"Pullover\", \"Dress\", \"Coat\", \n",
        "               \"Sandal\", \"Shirt\", \"Sneakers\", \"Bag\", \"Ankle Boot\"]"
      ]
    },
    {
      "cell_type": "code",
      "execution_count": null,
      "metadata": {
        "colab": {
          "base_uri": "https://localhost:8080/",
          "height": 264
        },
        "id": "a3-AEbEXbdjy",
        "outputId": "3f1d8f19-a821-40d9-970e-24228d167ead"
      },
      "outputs": [
        {
          "data": {
            "image/png": "[encoded data removed]",
            "text/plain": [
              "<Figure size 288x288 with 16 Axes>"
            ]
          },
          "metadata": {
            "needs_background": "light"
          },
          "output_type": "display_data"
        }
      ],
      "source": [
        "images(18)"
      ]
    },
    {
      "cell_type": "code",
      "execution_count": null,
      "metadata": {
        "id": "eRVJ4Bebis06"
      },
      "outputs": [],
      "source": [
        "# Creating the model using Sequential API\n",
        "model = keras.Sequential()  # Defining model\n",
        "# Flatten(Make it 1D array) the Input because our image is 28 x 28 matrices\n",
        "model.add(keras.layers.Flatten(input_shape=(28, 28)))\n",
        "# Dense(Fully Connected Layer) with relu activation\n",
        "model.add(keras.layers.Dense(300, activation=\"relu\"))\n",
        "model.add(keras.layers.Dense(100, activation=\"relu\"))\n",
        "model.add(keras.layers.Dense(10, activation=\"softmax\")) # Output Layer"
      ]
    },
    {
      "cell_type": "code",
      "execution_count": 3,
      "metadata": {
        "id": "2E9FQGUxkp9K"
      },
      "outputs": [],
      "source": [
        "## Another way to use Sequential API\n",
        "model = keras.Sequential([\n",
        "        keras.layers.Flatten(input_shape=(28, 28), name=\"input_layer\"), \n",
        "        keras.layers.Dense(300, activation=\"relu\", name=\"hidden_layer_1\"), \n",
        "        keras.layers.Dense(200, activation=\"relu\", name=\"hidden_layer_2\"), \n",
        "        keras.layers.Dense(10, activation=\"softmax\", name=\"output_layer\")\n",
        "])"
      ]
    },
    {
      "cell_type": "code",
      "execution_count": 4,
      "metadata": {
        "colab": {
          "base_uri": "https://localhost:8080/"
        },
        "id": "oJkJnEw6lmCk",
        "outputId": "aaa2728e-d90d-471d-c322-8933c291c30c"
      },
      "outputs": [
        {
          "output_type": "stream",
          "name": "stdout",
          "text": [
            "Model: \"sequential\"\n",
            "_________________________________________________________________\n",
            " Layer (type)                Output Shape              Param #   \n",
            "=================================================================\n",
            " input_layer (Flatten)       (None, 784)               0         \n",
            "                                                                 \n",
            " hidden_layer_1 (Dense)      (None, 300)               235500    \n",
            "                                                                 \n",
            " hidden_layer_2 (Dense)      (None, 200)               60200     \n",
            "                                                                 \n",
            " output_layer (Dense)        (None, 10)                2010      \n",
            "                                                                 \n",
            "=================================================================\n",
            "Total params: 297,710\n",
            "Trainable params: 297,710\n",
            "Non-trainable params: 0\n",
            "_________________________________________________________________\n"
          ]
        }
      ],
      "source": [
        "# Get model Info\n",
        "model.summary()"
      ]
    },
    {
      "cell_type": "code",
      "execution_count": null,
      "metadata": {
        "colab": {
          "base_uri": "https://localhost:8080/"
        },
        "id": "PAXoS6Kkma3V",
        "outputId": "7e164104-7faf-4f28-a617-1501d9c37d82"
      },
      "outputs": [
        {
          "data": {
            "text/plain": [
              "[<keras.layers.core.flatten.Flatten at 0x7f8f70d07750>,\n",
              " <keras.layers.core.dense.Dense at 0x7f8f70d07810>,\n",
              " <keras.layers.core.dense.Dense at 0x7f8f70d07bd0>,\n",
              " <keras.layers.core.dense.Dense at 0x7f8f76a97c90>]"
            ]
          },
          "execution_count": 8,
          "metadata": {},
          "output_type": "execute_result"
        }
      ],
      "source": [
        "# Get Model's Layer\n",
        "model.layers"
      ]
    },
    {
      "cell_type": "code",
      "execution_count": null,
      "metadata": {
        "colab": {
          "base_uri": "https://localhost:8080/",
          "height": 35
        },
        "id": "G_P0M6W4Jpgh",
        "outputId": "10321251-05e2-4ddc-8b9d-33fe69002bf9"
      },
      "outputs": [
        {
          "data": {
            "application/vnd.google.colaboratory.intrinsic+json": {
              "type": "string"
            },
            "text/plain": [
              "'hidden_layer_1'"
            ]
          },
          "execution_count": 14,
          "metadata": {},
          "output_type": "execute_result"
        }
      ],
      "source": [
        "# Get Model's Specific Layer\n",
        "model.layers[1].name"
      ]
    },
    {
      "cell_type": "code",
      "execution_count": null,
      "metadata": {
        "colab": {
          "base_uri": "https://localhost:8080/",
          "height": 35
        },
        "id": "AgycKlMsKIZ-",
        "outputId": "d7d4edc2-6b26-46ac-e5d6-282126aada0d"
      },
      "outputs": [
        {
          "data": {
            "application/vnd.google.colaboratory.intrinsic+json": {
              "type": "string"
            },
            "text/plain": [
              "'hidden_layer_1'"
            ]
          },
          "execution_count": 15,
          "metadata": {},
          "output_type": "execute_result"
        }
      ],
      "source": [
        "# Get Model's Layer By name\n",
        "model.get_layer(\"hidden_layer_1\").name"
      ]
    },
    {
      "cell_type": "code",
      "execution_count": 7,
      "metadata": {
        "colab": {
          "base_uri": "https://localhost:8080/"
        },
        "id": "L55vO8qOKkaz",
        "outputId": "9a0b3dfd-a089-437d-c771-a2efd4da1665"
      },
      "outputs": [
        {
          "output_type": "execute_result",
          "data": {
            "text/plain": [
              "(array([[ 0.0683558 , -0.03413387, -0.04048367, ..., -0.05799189,\n",
              "          0.0603157 ,  0.02894163],\n",
              "        [-0.01974002,  0.04897684, -0.06380622, ...,  0.07148272,\n",
              "         -0.03229299, -0.03449725],\n",
              "        [-0.01394694,  0.03245664, -0.05953439, ..., -0.03907236,\n",
              "          0.04657439,  0.01782626],\n",
              "        [-0.0440484 , -0.01502017,  0.00651875, ...,  0.04803076,\n",
              "          0.02162305, -0.06892921],\n",
              "        [ 0.01455132, -0.01745728, -0.05725405, ..., -0.03414634,\n",
              "         -0.02056236, -0.05788424]], dtype=float32),\n",
              " (784, 300),\n",
              " array([0., 0., 0., 0., 0.], dtype=float32),\n",
              " (300,))"
            ]
          },
          "metadata": {},
          "execution_count": 7
        }
      ],
      "source": [
        "# Getting Parameters(Weights and biasas) of model\n",
        "hidden_1 = model.get_layer(\"hidden_layer_1\")\n",
        "weights, biases = hidden_1.get_weights()\n",
        "weights[:5], weights.shape, biases[:5], biases.shape"
      ]
    },
    {
      "cell_type": "code",
      "execution_count": null,
      "metadata": {
        "id": "MbSShqXbMcUT"
      },
      "outputs": [],
      "source": [
        "# Compiling The Model\n",
        "model.compile(loss=\"sparse_categorical_crossentropy\", # loss function\n",
        "              optimizer=\"sgd\", # optimizer\n",
        "              metrics=[\"accuracy\"] # Performance Metric\n",
        ")"
      ]
    },
    {
      "cell_type": "code",
      "execution_count": null,
      "metadata": {
        "colab": {
          "base_uri": "https://localhost:8080/"
        },
        "id": "KV6OJDwxVQiN",
        "outputId": "f6543e30-a92c-4cdf-f05f-fe9adf82bf3c"
      },
      "outputs": [
        {
          "name": "stdout",
          "output_type": "stream",
          "text": [
            "Epoch 1/30\n",
            "1719/1719 [==============================] - 8s 4ms/step - loss: 0.7200 - accuracy: 0.7651 - val_loss: 0.5204 - val_accuracy: 0.8242\n",
            "Epoch 2/30\n",
            "1719/1719 [==============================] - 6s 4ms/step - loss: 0.4890 - accuracy: 0.8297 - val_loss: 0.4544 - val_accuracy: 0.8420\n",
            "Epoch 3/30\n",
            "1719/1719 [==============================] - 6s 4ms/step - loss: 0.4440 - accuracy: 0.8461 - val_loss: 0.4141 - val_accuracy: 0.8542\n",
            "Epoch 4/30\n",
            "1719/1719 [==============================] - 7s 4ms/step - loss: 0.4160 - accuracy: 0.8551 - val_loss: 0.4241 - val_accuracy: 0.8560\n",
            "Epoch 5/30\n",
            "1719/1719 [==============================] - 7s 4ms/step - loss: 0.3966 - accuracy: 0.8594 - val_loss: 0.4058 - val_accuracy: 0.8600\n",
            "Epoch 6/30\n",
            "1719/1719 [==============================] - 7s 4ms/step - loss: 0.3804 - accuracy: 0.8658 - val_loss: 0.3721 - val_accuracy: 0.8682\n",
            "Epoch 7/30\n",
            "1719/1719 [==============================] - 7s 4ms/step - loss: 0.3673 - accuracy: 0.8704 - val_loss: 0.3931 - val_accuracy: 0.8582\n",
            "Epoch 8/30\n",
            "1719/1719 [==============================] - 7s 4ms/step - loss: 0.3563 - accuracy: 0.8734 - val_loss: 0.3638 - val_accuracy: 0.8668\n",
            "Epoch 9/30\n",
            "1719/1719 [==============================] - 7s 4ms/step - loss: 0.3459 - accuracy: 0.8765 - val_loss: 0.3521 - val_accuracy: 0.8734\n",
            "Epoch 10/30\n",
            "1719/1719 [==============================] - 7s 4ms/step - loss: 0.3373 - accuracy: 0.8803 - val_loss: 0.3531 - val_accuracy: 0.8766\n",
            "Epoch 11/30\n",
            "1719/1719 [==============================] - 7s 4ms/step - loss: 0.3273 - accuracy: 0.8838 - val_loss: 0.3522 - val_accuracy: 0.8718\n",
            "Epoch 12/30\n",
            "1719/1719 [==============================] - 7s 4ms/step - loss: 0.3195 - accuracy: 0.8863 - val_loss: 0.3345 - val_accuracy: 0.8778\n",
            "Epoch 13/30\n",
            "1719/1719 [==============================] - 7s 4ms/step - loss: 0.3116 - accuracy: 0.8881 - val_loss: 0.3388 - val_accuracy: 0.8782\n",
            "Epoch 14/30\n",
            "1719/1719 [==============================] - 7s 4ms/step - loss: 0.3056 - accuracy: 0.8900 - val_loss: 0.3412 - val_accuracy: 0.8772\n",
            "Epoch 15/30\n",
            "1719/1719 [==============================] - 7s 4ms/step - loss: 0.2992 - accuracy: 0.8920 - val_loss: 0.3257 - val_accuracy: 0.8840\n",
            "Epoch 16/30\n",
            "1719/1719 [==============================] - 6s 4ms/step - loss: 0.2937 - accuracy: 0.8938 - val_loss: 0.3369 - val_accuracy: 0.8802\n",
            "Epoch 17/30\n",
            "1719/1719 [==============================] - 7s 4ms/step - loss: 0.2877 - accuracy: 0.8968 - val_loss: 0.3329 - val_accuracy: 0.8820\n",
            "Epoch 18/30\n",
            "1719/1719 [==============================] - 7s 4ms/step - loss: 0.2818 - accuracy: 0.8987 - val_loss: 0.3228 - val_accuracy: 0.8858\n",
            "Epoch 19/30\n",
            "1719/1719 [==============================] - 7s 4ms/step - loss: 0.2776 - accuracy: 0.8998 - val_loss: 0.3067 - val_accuracy: 0.8916\n",
            "Epoch 20/30\n",
            "1719/1719 [==============================] - 6s 4ms/step - loss: 0.2722 - accuracy: 0.9023 - val_loss: 0.3050 - val_accuracy: 0.8916\n",
            "Epoch 21/30\n",
            "1719/1719 [==============================] - 7s 4ms/step - loss: 0.2661 - accuracy: 0.9033 - val_loss: 0.3238 - val_accuracy: 0.8840\n",
            "Epoch 22/30\n",
            "1719/1719 [==============================] - 7s 4ms/step - loss: 0.2624 - accuracy: 0.9056 - val_loss: 0.3162 - val_accuracy: 0.8868\n",
            "Epoch 23/30\n",
            "1719/1719 [==============================] - 7s 4ms/step - loss: 0.2575 - accuracy: 0.9068 - val_loss: 0.3175 - val_accuracy: 0.8856\n",
            "Epoch 24/30\n",
            "1719/1719 [==============================] - 7s 4ms/step - loss: 0.2528 - accuracy: 0.9080 - val_loss: 0.3041 - val_accuracy: 0.8886\n",
            "Epoch 25/30\n",
            "1719/1719 [==============================] - 7s 4ms/step - loss: 0.2500 - accuracy: 0.9097 - val_loss: 0.3199 - val_accuracy: 0.8862\n",
            "Epoch 26/30\n",
            "1719/1719 [==============================] - 7s 4ms/step - loss: 0.2451 - accuracy: 0.9121 - val_loss: 0.3086 - val_accuracy: 0.8864\n",
            "Epoch 27/30\n",
            "1719/1719 [==============================] - 7s 4ms/step - loss: 0.2415 - accuracy: 0.9129 - val_loss: 0.3210 - val_accuracy: 0.8864\n",
            "Epoch 28/30\n",
            "1719/1719 [==============================] - 7s 4ms/step - loss: 0.2385 - accuracy: 0.9141 - val_loss: 0.2976 - val_accuracy: 0.8918\n",
            "Epoch 29/30\n",
            "1719/1719 [==============================] - 7s 4ms/step - loss: 0.2349 - accuracy: 0.9163 - val_loss: 0.2958 - val_accuracy: 0.8910\n",
            "Epoch 30/30\n",
            "1719/1719 [==============================] - 7s 4ms/step - loss: 0.2299 - accuracy: 0.9181 - val_loss: 0.3102 - val_accuracy: 0.8884\n"
          ]
        }
      ],
      "source": [
        "# Training the Model And saving the history\n",
        "history = model.fit(x=X_train, y=y_train, epochs=30, \n",
        "                    validation_data=(X_valid, y_valid))"
      ]
    },
    {
      "cell_type": "code",
      "execution_count": null,
      "metadata": {
        "colab": {
          "base_uri": "https://localhost:8080/",
          "height": 324
        },
        "id": "2DoUYicEer-A",
        "outputId": "08d8d0dc-2a25-457e-d949-d2e0563af7df"
      },
      "outputs": [
        {
          "data": {
            "image/png": "[encoded data removed]",
            "text/plain": [
              "<Figure size 576x360 with 1 Axes>"
            ]
          },
          "metadata": {
            "needs_background": "light"
          },
          "output_type": "display_data"
        }
      ],
      "source": [
        "import pandas as pd\n",
        "pd.DataFrame(history.history).plot(figsize=(8, 5))\n",
        "plt.grid(True)\n",
        "plt.gca().set_ylim(0, 1)\n",
        "plt.show()"
      ]
    },
    {
      "cell_type": "code",
      "execution_count": null,
      "metadata": {
        "colab": {
          "base_uri": "https://localhost:8080/"
        },
        "id": "gTLfnmEmhIP_",
        "outputId": "7460e460-b8ae-4aaf-b771-5c4b0b850a5a"
      },
      "outputs": [
        {
          "name": "stdout",
          "output_type": "stream",
          "text": [
            "313/313 [==============================] - 1s 3ms/step - loss: 71.6653 - accuracy: 0.8324\n"
          ]
        },
        {
          "data": {
            "text/plain": [
              "[71.66531372070312, 0.8324000239372253]"
            ]
          },
          "execution_count": 25,
          "metadata": {},
          "output_type": "execute_result"
        }
      ],
      "source": [
        "model.evaluate(X_test, y_test)"
      ]
    },
    {
      "cell_type": "code",
      "execution_count": null,
      "metadata": {
        "colab": {
          "base_uri": "https://localhost:8080/",
          "height": 242
        },
        "id": "g2IAS6SXih55",
        "outputId": "6a7991ee-4438-409c-ecf2-326a3d7d8f15"
      },
      "outputs": [
        {
          "data": {
            "image/png": "[encoded data removed]",
            "text/plain": [
              "<Figure size 720x288 with 3 Axes>"
            ]
          },
          "metadata": {
            "needs_background": "light"
          },
          "output_type": "display_data"
        }
      ],
      "source": [
        "import numpy as np\n",
        "\n",
        "X_new = X_test[:3]\n",
        "y_prob = model.predict(X_new)\n",
        "y_pred = np.argmax(y_prob, axis=1)\n",
        "\n",
        "fig, subplots = plt.subplots(nrows=1, ncols=3)\n",
        "fig.set_figwidth(10)\n",
        "for i, plot in enumerate(subplots):\n",
        "    plot.imshow(X_new[i], cmap=plt.cm.binary)\n",
        "    # plot.axis(False)\n",
        "    plot.set_title(\"Predicted Label: {}\".format(class_names[y_pred[i]]))\n",
        "    plot.set_xlabel(\"True Label: {}\".format(class_names[y_test[i]]))"
      ]
    },
    {
      "cell_type": "markdown",
      "metadata": {
        "id": "b-NLJ-_OjC8d"
      },
      "source": [
        "## Regression Model using Sequential API"
      ]
    },
    {
      "cell_type": "code",
      "execution_count": null,
      "metadata": {
        "id": "vHAB7g_xKdcS"
      },
      "outputs": [],
      "source": [
        "from sklearn.datasets import fetch_california_housing\n",
        "from sklearn.model_selection import train_test_split\n",
        "from sklearn.preprocessing import StandardScaler\n",
        "\n",
        "housing  = fetch_california_housing()\n",
        "X_train_full, X_test, y_train_full, y_test = train_test_split(housing.data, \n",
        "                                                              housing.target)\n",
        "X_train, X_valid, y_train, y_valid = train_test_split(X_train_full, y_train_full)\n",
        "scaler = StandardScaler()\n",
        "X_train_scaled = scaler.fit_transform(X_train)\n",
        "X_valid_scaled = scaler.transform(X_valid)\n",
        "X_test_scaled = scaler.transform(X_test)"
      ]
    },
    {
      "cell_type": "code",
      "execution_count": null,
      "metadata": {
        "colab": {
          "base_uri": "https://localhost:8080/"
        },
        "id": "HK8bYTCKLiyn",
        "outputId": "4e9b9142-d3c6-4631-f411-0e1791fa2d08"
      },
      "outputs": [
        {
          "name": "stdout",
          "output_type": "stream",
          "text": [
            "Epoch 1/20\n",
            "363/363 [==============================] - 1s 2ms/step - loss: 1.2703 - val_loss: 0.5808\n",
            "Epoch 2/20\n",
            "363/363 [==============================] - 1s 2ms/step - loss: 0.5232 - val_loss: 0.5124\n",
            "Epoch 3/20\n",
            "363/363 [==============================] - 1s 2ms/step - loss: 0.4786 - val_loss: 0.4702\n",
            "Epoch 4/20\n",
            "363/363 [==============================] - 1s 2ms/step - loss: 0.4441 - val_loss: 0.4464\n",
            "Epoch 5/20\n",
            "363/363 [==============================] - 1s 2ms/step - loss: 0.4262 - val_loss: 0.4301\n",
            "Epoch 6/20\n",
            "363/363 [==============================] - 1s 2ms/step - loss: 0.4147 - val_loss: 0.4170\n",
            "Epoch 7/20\n",
            "363/363 [==============================] - 1s 2ms/step - loss: 0.4051 - val_loss: 0.4103\n",
            "Epoch 8/20\n",
            "363/363 [==============================] - 1s 2ms/step - loss: 0.3980 - val_loss: 0.4176\n",
            "Epoch 9/20\n",
            "363/363 [==============================] - 1s 2ms/step - loss: 0.3937 - val_loss: 0.3999\n",
            "Epoch 10/20\n",
            "363/363 [==============================] - 1s 2ms/step - loss: 0.3889 - val_loss: 0.4005\n",
            "Epoch 11/20\n",
            "363/363 [==============================] - 1s 2ms/step - loss: 0.3855 - val_loss: 0.3958\n",
            "Epoch 12/20\n",
            "363/363 [==============================] - 1s 2ms/step - loss: 0.3819 - val_loss: 0.3930\n",
            "Epoch 13/20\n",
            "363/363 [==============================] - 1s 2ms/step - loss: 0.3778 - val_loss: 0.3875\n",
            "Epoch 14/20\n",
            "363/363 [==============================] - 1s 2ms/step - loss: 0.3756 - val_loss: 0.3843\n",
            "Epoch 15/20\n",
            "363/363 [==============================] - 1s 2ms/step - loss: 0.3731 - val_loss: 0.3884\n",
            "Epoch 16/20\n",
            "363/363 [==============================] - 1s 2ms/step - loss: 0.3695 - val_loss: 0.3816\n",
            "Epoch 17/20\n",
            "363/363 [==============================] - 1s 2ms/step - loss: 0.3672 - val_loss: 0.3806\n",
            "Epoch 18/20\n",
            "363/363 [==============================] - 1s 2ms/step - loss: 0.3644 - val_loss: 0.3827\n",
            "Epoch 19/20\n",
            "363/363 [==============================] - 1s 2ms/step - loss: 0.3630 - val_loss: 0.3736\n",
            "Epoch 20/20\n",
            "363/363 [==============================] - 1s 2ms/step - loss: 0.3604 - val_loss: 0.3745\n",
            "162/162 [==============================] - 0s 1ms/step - loss: 0.3729\n"
          ]
        },
        {
          "data": {
            "text/plain": [
              "(0.3728908896446228, array([[291.1767 ],\n",
              "        [174.27556],\n",
              "        [216.81638]], dtype=float32))"
            ]
          },
          "execution_count": 4,
          "metadata": {},
          "output_type": "execute_result"
        }
      ],
      "source": [
        "from tensorflow import keras\n",
        "model = keras.Sequential([\n",
        "        keras.layers.Dense(30, activation=\"relu\", input_shape=X_train.shape[1:]), \n",
        "        keras.layers.Dense(1)\n",
        "])\n",
        "model.compile(loss=\"mean_squared_error\", optimizer=\"sgd\")\n",
        "history = model.fit(X_train_scaled, y_train, epochs=20, \n",
        "                    validation_data=(X_valid_scaled, y_valid))\n",
        "mse_test = model.evaluate(X_test_scaled, y_test)\n",
        "X_new = X_test[:3]\n",
        "y_pred = model.predict(X_new)\n",
        "mse_test, y_pred"
      ]
    },
    {
      "cell_type": "code",
      "execution_count": null,
      "metadata": {
        "colab": {
          "base_uri": "https://localhost:8080/"
        },
        "id": "Xh4pKW4tNYDl",
        "outputId": "62c4073c-74d6-46c5-c9e0-c05a1a1056b5"
      },
      "outputs": [
        {
          "data": {
            "text/plain": [
              "(0.3728908896446228, array([[291.1767 ],\n",
              "        [174.27556],\n",
              "        [216.81638]], dtype=float32))"
            ]
          },
          "execution_count": 5,
          "metadata": {},
          "output_type": "execute_result"
        }
      ],
      "source": [
        "mse_test, y_pred"
      ]
    },
    {
      "cell_type": "markdown",
      "metadata": {
        "id": "sJWz6C8VOD7G"
      },
      "source": [
        "## Functional API"
      ]
    },
    {
      "cell_type": "code",
      "execution_count": null,
      "metadata": {
        "id": "8mWT3vapJoGt"
      },
      "outputs": [],
      "source": [
        "from tensorflow import keras\n",
        "\n",
        "input = keras.layers.Input(shape=X_train.shape[1:])\n",
        "hidden1 = keras.layers.Dense(30, activation=\"relu\")(input)\n",
        "hidden2 = keras.layers.Dense(30, activation=\"relu\")(hidden1)\n",
        "concat = keras.layers.Concatenate()([input, hidden2])\n",
        "output = keras.layers.Dense(1)(concat)\n",
        "model = keras.models.Model(inputs=[input], \n",
        "                           outputs=[output])"
      ]
    },
    {
      "cell_type": "code",
      "execution_count": null,
      "metadata": {
        "id": "-olxk1CiKpEp"
      },
      "outputs": [],
      "source": [
        "# Sending a Input as parts\n",
        "from tensorflow import keras\n",
        "input_A = keras.layers.Input(shape=(5,))\n",
        "input_B = keras.layers.Input(shape=(6,))\n",
        "hidden_1 = keras.layers.Dense(30, activation=\"relu\")(input_B)\n",
        "hidden_2 = keras.layers.Dense(30, activation=\"relu\")(hidden_1)\n",
        "concat = keras.layers.concatenate([input_A, hidden_2])\n",
        "output = keras.layers.Dense(1)(concat)\n",
        "model = keras.models.Model(inputs=[input_A, input_B], \n",
        "                           outputs=[output])\n",
        "model.compile(loss=\"mae\", \n",
        "              optimizer=\"sgd\", \n",
        "              metrics=[\"accuracy\"])"
      ]
    },
    {
      "cell_type": "code",
      "execution_count": null,
      "metadata": {
        "colab": {
          "base_uri": "https://localhost:8080/"
        },
        "id": "LEIi5_i2c53P",
        "outputId": "b2fd450b-1769-4ff5-a395-98c27d95d786"
      },
      "outputs": [
        {
          "data": {
            "text/plain": [
              "(8,)"
            ]
          },
          "execution_count": 14,
          "metadata": {},
          "output_type": "execute_result"
        }
      ],
      "source": [
        "X_train.shape[1:]"
      ]
    },
    {
      "cell_type": "code",
      "execution_count": null,
      "metadata": {
        "colab": {
          "base_uri": "https://localhost:8080/"
        },
        "id": "ATbqcKH7Nanz",
        "outputId": "a36dbf7b-0e15-4d31-8806-444aba491eb2"
      },
      "outputs": [
        {
          "name": "stdout",
          "output_type": "stream",
          "text": [
            "Epoch 1/20\n",
            "363/363 [==============================] - 1s 2ms/step - loss: 28113.2148 - accuracy: 0.0016 - val_loss: 13251.6973 - val_accuracy: 0.0000e+00\n",
            "Epoch 2/20\n",
            "363/363 [==============================] - 1s 2ms/step - loss: 10374.8662 - accuracy: 0.0013 - val_loss: 11338.9512 - val_accuracy: 0.0036\n",
            "Epoch 3/20\n",
            "363/363 [==============================] - 1s 2ms/step - loss: 10354.8711 - accuracy: 0.0010 - val_loss: 5740.3843 - val_accuracy: 0.0036\n",
            "Epoch 4/20\n",
            "363/363 [==============================] - 1s 2ms/step - loss: 10365.8916 - accuracy: 0.0016 - val_loss: 3103.3108 - val_accuracy: 0.0036\n",
            "Epoch 5/20\n",
            "363/363 [==============================] - 1s 2ms/step - loss: 10345.0225 - accuracy: 0.0014 - val_loss: 14662.6973 - val_accuracy: 0.0036\n",
            "Epoch 6/20\n",
            "363/363 [==============================] - 1s 2ms/step - loss: 10420.4668 - accuracy: 0.0013 - val_loss: 2275.7214 - val_accuracy: 0.0036\n",
            "Epoch 7/20\n",
            "363/363 [==============================] - 1s 2ms/step - loss: 10304.3428 - accuracy: 0.0014 - val_loss: 16486.3340 - val_accuracy: 0.0036\n",
            "Epoch 8/20\n",
            "363/363 [==============================] - 1s 2ms/step - loss: 10365.9717 - accuracy: 0.0014 - val_loss: 6295.4888 - val_accuracy: 0.0036\n",
            "Epoch 9/20\n",
            "363/363 [==============================] - 1s 2ms/step - loss: 10320.9980 - accuracy: 0.0013 - val_loss: 15835.5469 - val_accuracy: 0.0000e+00\n",
            "Epoch 10/20\n",
            "363/363 [==============================] - 1s 2ms/step - loss: 10376.3828 - accuracy: 0.0014 - val_loss: 2168.5276 - val_accuracy: 0.0000e+00\n",
            "Epoch 11/20\n",
            "363/363 [==============================] - 1s 2ms/step - loss: 10336.0029 - accuracy: 0.0012 - val_loss: 1471.1924 - val_accuracy: 0.0000e+00\n",
            "Epoch 12/20\n",
            "363/363 [==============================] - 1s 2ms/step - loss: 10351.4111 - accuracy: 0.0011 - val_loss: 2682.5369 - val_accuracy: 0.0036\n",
            "Epoch 13/20\n",
            "363/363 [==============================] - 1s 2ms/step - loss: 10359.2432 - accuracy: 0.0015 - val_loss: 12729.2266 - val_accuracy: 0.0000e+00\n",
            "Epoch 14/20\n",
            "363/363 [==============================] - 1s 2ms/step - loss: 10425.3379 - accuracy: 0.0014 - val_loss: 3800.2876 - val_accuracy: 0.0000e+00\n",
            "Epoch 15/20\n",
            "363/363 [==============================] - 1s 2ms/step - loss: 10347.8926 - accuracy: 0.0015 - val_loss: 980.5278 - val_accuracy: 0.0036\n",
            "Epoch 16/20\n",
            "363/363 [==============================] - 1s 2ms/step - loss: 10337.7295 - accuracy: 0.0010 - val_loss: 13141.9287 - val_accuracy: 0.0036\n",
            "Epoch 17/20\n",
            "363/363 [==============================] - 1s 2ms/step - loss: 10348.3633 - accuracy: 0.0018 - val_loss: 9815.0215 - val_accuracy: 0.0000e+00\n",
            "Epoch 18/20\n",
            "363/363 [==============================] - 1s 2ms/step - loss: 10310.1689 - accuracy: 9.4746e-04 - val_loss: 2792.0750 - val_accuracy: 0.0000e+00\n",
            "Epoch 19/20\n",
            "363/363 [==============================] - 1s 2ms/step - loss: 10297.5596 - accuracy: 0.0017 - val_loss: 13594.6553 - val_accuracy: 0.0000e+00\n",
            "Epoch 20/20\n",
            "363/363 [==============================] - 1s 2ms/step - loss: 10377.7031 - accuracy: 0.0017 - val_loss: 10625.9609 - val_accuracy: 0.0000e+00\n",
            "162/162 [==============================] - 0s 1ms/step - loss: 10704.5117 - accuracy: 0.0000e+00\n"
          ]
        }
      ],
      "source": [
        "X_train_A, X_train_B = X_train[:, :5], X_train[:, 2:]\n",
        "X_valid_A, X_valid_B = X_valid[:, :5], X_valid[:, 2:]\n",
        "X_test_A, X_test_B = X_test[:, :5], X_test[:, 2:]\n",
        "X_new_A, X_new_B = X_test_A[:3], X_test_B[:3]\n",
        "\n",
        "history = model.fit(x=(X_train_A, X_train_B), y=y_train, epochs=20, \n",
        "                    validation_data=((X_valid_A, X_valid_B), y_valid))\n",
        "mse_test = model.evaluate((X_test_A, X_test_B), y_test)\n",
        "y_pred = model.predict((X_new_A, X_new_B))"
      ]
    },
    {
      "cell_type": "code",
      "execution_count": null,
      "metadata": {
        "colab": {
          "base_uri": "https://localhost:8080/"
        },
        "id": "j3-Nc_FkXRQ0",
        "outputId": "f6f571a3-b5eb-4c2f-cba2-a867b18b7c08"
      },
      "outputs": [
        {
          "data": {
            "text/plain": [
              "nan"
            ]
          },
          "execution_count": 20,
          "metadata": {},
          "output_type": "execute_result"
        }
      ],
      "source": [
        "mse_test"
      ]
    },
    {
      "cell_type": "code",
      "execution_count": null,
      "metadata": {
        "colab": {
          "base_uri": "https://localhost:8080/"
        },
        "id": "3wdAUc8WjlLB",
        "outputId": "089f6c49-0d21-426f-a08f-5651c6c3357d"
      },
      "outputs": [
        {
          "name": "stdout",
          "output_type": "stream",
          "text": [
            "Epoch 1/20\n",
            "363/363 [==============================] - 2s 3ms/step - loss: 9682.3770 - dense_42_loss: 10742.8535 - dense_43_loss: 138.0936 - val_loss: 9276.1475 - val_dense_42_loss: 10306.6406 - val_dense_43_loss: 1.7283\n",
            "Epoch 2/20\n",
            "363/363 [==============================] - 1s 2ms/step - loss: 8545.9893 - dense_42_loss: 9495.3584 - dense_43_loss: 1.6746 - val_loss: 20998.8613 - val_dense_42_loss: 23331.9062 - val_dense_43_loss: 1.3962\n",
            "Epoch 3/20\n",
            "363/363 [==============================] - 1s 2ms/step - loss: 8569.3799 - dense_42_loss: 9521.3926 - dense_43_loss: 1.2601 - val_loss: 8655.0381 - val_dense_42_loss: 9616.5771 - val_dense_43_loss: 1.1780\n",
            "Epoch 4/20\n",
            "363/363 [==============================] - 1s 2ms/step - loss: 8533.7959 - dense_42_loss: 9481.8613 - dense_43_loss: 1.0939 - val_loss: 1848.0286 - val_dense_42_loss: 2053.2483 - val_dense_43_loss: 1.0532\n",
            "Epoch 5/20\n",
            "363/363 [==============================] - 1s 2ms/step - loss: 8544.6396 - dense_42_loss: 9493.9316 - dense_43_loss: 0.9996 - val_loss: 6718.8301 - val_dense_42_loss: 7465.2568 - val_dense_43_loss: 0.9802\n",
            "Epoch 6/20\n",
            "363/363 [==============================] - 1s 2ms/step - loss: 8535.8975 - dense_42_loss: 9484.2178 - dense_43_loss: 0.9451 - val_loss: 18474.9141 - val_dense_42_loss: 20527.5820 - val_dense_43_loss: 0.9384\n",
            "Epoch 7/20\n",
            "363/363 [==============================] - 1s 2ms/step - loss: 8573.4053 - dense_42_loss: 9525.9082 - dense_43_loss: 0.9159 - val_loss: 2817.4495 - val_dense_42_loss: 3130.3975 - val_dense_43_loss: 0.9156\n",
            "Epoch 8/20\n",
            "363/363 [==============================] - 1s 2ms/step - loss: 8520.8252 - dense_42_loss: 9467.4883 - dense_43_loss: 0.9001 - val_loss: 7082.1875 - val_dense_42_loss: 7868.9995 - val_dense_43_loss: 0.9038\n",
            "Epoch 9/20\n",
            "363/363 [==============================] - 1s 2ms/step - loss: 8530.4219 - dense_42_loss: 9478.1494 - dense_43_loss: 0.8925 - val_loss: 9221.9473 - val_dense_42_loss: 10246.5078 - val_dense_43_loss: 0.8981\n",
            "Epoch 10/20\n",
            "363/363 [==============================] - 1s 2ms/step - loss: 8526.1924 - dense_42_loss: 9473.4443 - dense_43_loss: 0.8890 - val_loss: 937.8549 - val_dense_42_loss: 1041.9615 - val_dense_43_loss: 0.8951\n",
            "Epoch 11/20\n",
            "363/363 [==============================] - 1s 2ms/step - loss: 8540.9883 - dense_42_loss: 9489.8828 - dense_43_loss: 0.8870 - val_loss: 14048.4180 - val_dense_42_loss: 15609.2520 - val_dense_43_loss: 0.8933\n",
            "Epoch 12/20\n",
            "363/363 [==============================] - 1s 2ms/step - loss: 8549.2334 - dense_42_loss: 9499.0518 - dense_43_loss: 0.8860 - val_loss: 5806.7676 - val_dense_42_loss: 6451.8643 - val_dense_43_loss: 0.8922\n",
            "Epoch 13/20\n",
            "363/363 [==============================] - 1s 2ms/step - loss: 8528.6484 - dense_42_loss: 9476.1729 - dense_43_loss: 0.8854 - val_loss: 6552.3071 - val_dense_42_loss: 7280.2437 - val_dense_43_loss: 0.8916\n",
            "Epoch 14/20\n",
            "363/363 [==============================] - 1s 2ms/step - loss: 8573.5459 - dense_42_loss: 9526.0596 - dense_43_loss: 0.8851 - val_loss: 998.5082 - val_dense_42_loss: 1109.3544 - val_dense_43_loss: 0.8912\n",
            "Epoch 15/20\n",
            "363/363 [==============================] - 1s 2ms/step - loss: 8539.1426 - dense_42_loss: 9487.8311 - dense_43_loss: 0.8849 - val_loss: 3416.7285 - val_dense_42_loss: 3796.2651 - val_dense_43_loss: 0.8909\n",
            "Epoch 16/20\n",
            "363/363 [==============================] - 1s 2ms/step - loss: 8524.4727 - dense_42_loss: 9471.5430 - dense_43_loss: 0.8848 - val_loss: 6776.8687 - val_dense_42_loss: 7529.7583 - val_dense_43_loss: 0.8908\n",
            "Epoch 17/20\n",
            "363/363 [==============================] - 1s 2ms/step - loss: 8508.3330 - dense_42_loss: 9453.6035 - dense_43_loss: 0.8847 - val_loss: 14847.9893 - val_dense_42_loss: 16497.6758 - val_dense_43_loss: 0.8906\n",
            "Epoch 18/20\n",
            "363/363 [==============================] - 1s 2ms/step - loss: 8569.9736 - dense_42_loss: 9522.0908 - dense_43_loss: 0.8847 - val_loss: 574.5918 - val_dense_42_loss: 638.3364 - val_dense_43_loss: 0.8905\n",
            "Epoch 19/20\n",
            "363/363 [==============================] - 1s 2ms/step - loss: 8545.2178 - dense_42_loss: 9494.5889 - dense_43_loss: 0.8847 - val_loss: 2398.5027 - val_dense_42_loss: 2664.9041 - val_dense_43_loss: 0.8905\n",
            "Epoch 20/20\n",
            "363/363 [==============================] - 1s 2ms/step - loss: 8541.5908 - dense_42_loss: 9490.5586 - dense_43_loss: 0.8846 - val_loss: 5266.2715 - val_dense_42_loss: 5851.3135 - val_dense_43_loss: 0.8904\n"
          ]
        }
      ],
      "source": [
        "# Model with more output\n",
        "input_A = keras.layers.Input(shape=[5])\n",
        "input_B = keras.layers.Input(shape=[6])\n",
        "hidden_1 = keras.layers.Dense(30, activation=\"relu\")(input_B)\n",
        "hidden_2 = keras.layers.Dense(30, activation=\"relu\")(hidden_1)\n",
        "concat = keras.layers.concatenate([input_A, hidden_2])\n",
        "output = keras.layers.Dense(1)(concat)\n",
        "aux_output = keras.layers.Dense(1)(hidden_2)\n",
        "model = keras.models.Model(inputs=[input_A, input_B], \n",
        "                           outputs=[output, aux_output])\n",
        "model.compile(loss=\"mae\", optimizer=\"sgd\", \n",
        "              loss_weights=[0.9, 0.1])\n",
        "history = model.fit([X_train_A, X_train_B], [y_train, y_train], epochs=20, \n",
        "                    validation_data=([X_valid_A, X_valid_B], [y_valid, y_valid]))"
      ]
    },
    {
      "cell_type": "markdown",
      "metadata": {
        "id": "lpbPXgHVrP2i"
      },
      "source": [
        "## Using Subclassing API"
      ]
    },
    {
      "cell_type": "code",
      "execution_count": null,
      "metadata": {
        "id": "UoNePBl6qC_2"
      },
      "outputs": [],
      "source": [
        "from tensorflow import keras\n",
        "\n",
        "class WideAndDeepModel(keras.models.Model):\n",
        "    def __init__(self, units=30, activation=\"relu\", **kwargs):\n",
        "        super().__init__(**kwargs)\n",
        "        self.hidden1 = keras.layers.Dense(units, activation=activation)\n",
        "        self.hidden2 = keras.layers.Dense(units, activation=activation)\n",
        "        self.main_ouptut = keras.layers.Dense(1)\n",
        "        self.aux_output = keras.layers.Dense(1)\n",
        "\n",
        "    def call(self, inputs):\n",
        "        input_A, input_B = inputs\n",
        "        hidden1 = self.hidden1(input_B)\n",
        "        hidden2 = self.hidden2(hidden1)\n",
        "        concat = keras.layers.concatenate([input_A, hidden2])\n",
        "        main_output = self.main_ouptut(concat)\n",
        "        aux_output = self.aux_output(hidden2)\n",
        "        return main_output, aux_output\n",
        "\n",
        "model = WideAndDeepModel()"
      ]
    },
    {
      "cell_type": "code",
      "execution_count": null,
      "metadata": {
        "colab": {
          "base_uri": "https://localhost:8080/"
        },
        "id": "GfuUkSWHeFxZ",
        "outputId": "34ed6062-be07-4494-b0cf-4aea0e7c3c66"
      },
      "outputs": [
        {
          "name": "stdout",
          "output_type": "stream",
          "text": [
            "Epoch 1/20\n",
            "363/363 [==============================] - 1s 1ms/step - loss: 10378.7803 - accuracy: 0.0015\n",
            "Epoch 2/20\n",
            "363/363 [==============================] - 1s 2ms/step - loss: 10345.1504 - accuracy: 0.0012\n",
            "Epoch 3/20\n",
            "363/363 [==============================] - 1s 1ms/step - loss: 10399.8369 - accuracy: 0.0017\n",
            "Epoch 4/20\n",
            "363/363 [==============================] - 1s 1ms/step - loss: 10391.1143 - accuracy: 0.0015\n",
            "Epoch 5/20\n",
            "363/363 [==============================] - 1s 2ms/step - loss: 10350.0781 - accuracy: 0.0015\n",
            "Epoch 6/20\n",
            "363/363 [==============================] - 1s 2ms/step - loss: 10363.9902 - accuracy: 8.6133e-04\n",
            "Epoch 7/20\n",
            "363/363 [==============================] - 1s 1ms/step - loss: 10361.1924 - accuracy: 0.0021\n",
            "Epoch 8/20\n",
            "363/363 [==============================] - 1s 1ms/step - loss: 10402.8857 - accuracy: 0.0020\n",
            "Epoch 9/20\n",
            "363/363 [==============================] - 1s 1ms/step - loss: 10352.9482 - accuracy: 0.0015\n",
            "Epoch 10/20\n",
            "363/363 [==============================] - 1s 1ms/step - loss: 10363.2168 - accuracy: 0.0011\n",
            "Epoch 11/20\n",
            "363/363 [==============================] - 1s 1ms/step - loss: 10373.8779 - accuracy: 0.0016\n",
            "Epoch 12/20\n",
            "363/363 [==============================] - 1s 2ms/step - loss: 10379.0576 - accuracy: 0.0013\n",
            "Epoch 13/20\n",
            "363/363 [==============================] - 1s 1ms/step - loss: 10329.8496 - accuracy: 0.0016\n",
            "Epoch 14/20\n",
            "363/363 [==============================] - 1s 1ms/step - loss: 10376.1553 - accuracy: 0.0014\n",
            "Epoch 15/20\n",
            "363/363 [==============================] - 1s 1ms/step - loss: 10358.6836 - accuracy: 0.0015\n",
            "Epoch 16/20\n",
            "363/363 [==============================] - 1s 2ms/step - loss: 10399.2148 - accuracy: 0.0016\n",
            "Epoch 17/20\n",
            "363/363 [==============================] - 1s 1ms/step - loss: 10372.9189 - accuracy: 0.0015\n",
            "Epoch 18/20\n",
            "363/363 [==============================] - 1s 2ms/step - loss: 10370.3887 - accuracy: 0.0014\n",
            "Epoch 19/20\n",
            "363/363 [==============================] - 1s 1ms/step - loss: 10348.4814 - accuracy: 0.0011\n",
            "Epoch 20/20\n",
            "363/363 [==============================] - 1s 1ms/step - loss: 10355.7412 - accuracy: 0.0010\n"
          ]
        },
        {
          "data": {
            "text/plain": [
              "<keras.callbacks.History at 0x7f7958d7ad10>"
            ]
          },
          "execution_count": 16,
          "metadata": {},
          "output_type": "execute_result"
        }
      ],
      "source": [
        "model.compile(loss=\"mae\", \n",
        "              optimizer=\"sgd\", \n",
        "              metrics=[\"accuracy\"])\n",
        "model.fit(x=(X_train_A, X_train_B), y=y_train, epochs=20)"
      ]
    },
    {
      "cell_type": "markdown",
      "metadata": {
        "id": "PLbnrguTeYZY"
      },
      "source": [
        "## Saving the model"
      ]
    },
    {
      "cell_type": "code",
      "execution_count": null,
      "metadata": {
        "id": "LEfBmP3cjAX0"
      },
      "outputs": [],
      "source": [
        "# Saving the model\n",
        "model.save(\"my_model.h5\")\n",
        "\n",
        "# Loading the model\n",
        "my_model = keras.models.load_model(\"my_model.h5\")"
      ]
    },
    {
      "cell_type": "markdown",
      "metadata": {
        "id": "IBXBq2atjpSZ"
      },
      "source": [
        "## Using Callbacks"
      ]
    },
    {
      "cell_type": "code",
      "execution_count": null,
      "metadata": {
        "id": "cNU1WvV2o42d"
      },
      "outputs": [],
      "source": [
        "def WideAndDeep(units=30):\n",
        "    input = keras.layers.Input(shape=X_train.shape[1:])\n",
        "    hidden1 = keras.layers.Dense(units, activation=\"relu\")(input)\n",
        "    hidden2 = keras.layers.Dense(units, activation=\"relu\")(hidden1)\n",
        "    concat = keras.layers.Concatenate()([input, hidden2])\n",
        "    output = keras.layers.Dense(1)(concat)\n",
        "    model = keras.models.Model(inputs=[input], \n",
        "                            outputs=[output])\n",
        "    model.compile(loss=\"mae\", optimizer=\"sgd\", metrics=[\"accuracy\"])\n",
        "    return model"
      ]
    },
    {
      "cell_type": "code",
      "execution_count": null,
      "metadata": {
        "colab": {
          "base_uri": "https://localhost:8080/"
        },
        "id": "x8sO6M8YpBMT",
        "outputId": "32df1514-a036-4d89-b305-250e7cc0659c"
      },
      "outputs": [
        {
          "name": "stdout",
          "output_type": "stream",
          "text": [
            "Epoch 1/10\n",
            "363/363 [==============================] - 1s 2ms/step - loss: 11958.0693 - accuracy: 0.0015 - val_loss: 17613.9023 - val_accuracy: 0.0023\n",
            "Epoch 2/10\n",
            "363/363 [==============================] - 1s 2ms/step - loss: 10606.3555 - accuracy: 0.0013 - val_loss: 10592.8975 - val_accuracy: 0.0000e+00\n",
            "Epoch 3/10\n",
            "363/363 [==============================] - 1s 2ms/step - loss: 10607.8740 - accuracy: 0.0018 - val_loss: 10723.6875 - val_accuracy: 0.0023\n",
            "Epoch 4/10\n",
            "363/363 [==============================] - 1s 2ms/step - loss: 10576.3916 - accuracy: 0.0018 - val_loss: 8800.6338 - val_accuracy: 0.0023\n",
            "Epoch 5/10\n",
            "363/363 [==============================] - 1s 2ms/step - loss: 10541.7051 - accuracy: 0.0014 - val_loss: 7786.0259 - val_accuracy: 0.0000e+00\n",
            "Epoch 6/10\n",
            "363/363 [==============================] - 1s 2ms/step - loss: 10621.0518 - accuracy: 0.0013 - val_loss: 5181.9385 - val_accuracy: 0.0023\n",
            "Epoch 7/10\n",
            "363/363 [==============================] - 1s 2ms/step - loss: 10606.5068 - accuracy: 0.0019 - val_loss: 14188.9443 - val_accuracy: 0.0023\n",
            "Epoch 8/10\n",
            "363/363 [==============================] - 1s 2ms/step - loss: 10595.3105 - accuracy: 0.0016 - val_loss: 9453.8486 - val_accuracy: 0.0023\n",
            "Epoch 9/10\n",
            "363/363 [==============================] - 1s 2ms/step - loss: 10566.9258 - accuracy: 0.0016 - val_loss: 13519.2285 - val_accuracy: 0.0023\n",
            "Epoch 10/10\n",
            "363/363 [==============================] - 1s 2ms/step - loss: 10616.7734 - accuracy: 0.0013 - val_loss: 13594.4346 - val_accuracy: 0.0000e+00\n"
          ]
        }
      ],
      "source": [
        "model = WideAndDeep()\n",
        "checkpoint_cb = keras.callbacks.ModelCheckpoint(\"my_model.h5\", \n",
        "                                                save_best_only=True)\n",
        "history = model.fit(X_train, y_train, epochs=10, \n",
        "                    validation_data=(X_valid, y_valid), \n",
        "                    callbacks=[checkpoint_cb])"
      ]
    },
    {
      "cell_type": "code",
      "execution_count": null,
      "metadata": {
        "colab": {
          "base_uri": "https://localhost:8080/"
        },
        "id": "6JKMzkC9qKWb",
        "outputId": "75d8c12e-6bdf-4c62-f67c-f23d9543c93c"
      },
      "outputs": [
        {
          "name": "stdout",
          "output_type": "stream",
          "text": [
            "Epoch 1/100\n",
            "363/363 [==============================] - 1s 2ms/step - loss: 3404811970019328.0000 - accuracy: 0.0012 - val_loss: 32661.5215 - val_accuracy: 0.0000e+00\n",
            "Epoch 2/100\n",
            "363/363 [==============================] - 1s 2ms/step - loss: 11051.8916 - accuracy: 0.0015 - val_loss: 19607.8262 - val_accuracy: 0.0000e+00\n",
            "Epoch 3/100\n",
            "363/363 [==============================] - 1s 2ms/step - loss: 10366.1738 - accuracy: 0.0016 - val_loss: 4539.9214 - val_accuracy: 0.0036\n",
            "Epoch 4/100\n",
            "363/363 [==============================] - 1s 2ms/step - loss: 10381.0820 - accuracy: 0.0012 - val_loss: 17043.3984 - val_accuracy: 0.0036\n",
            "Epoch 5/100\n",
            "363/363 [==============================] - 1s 2ms/step - loss: 10315.6865 - accuracy: 9.4746e-04 - val_loss: 13574.1611 - val_accuracy: 0.0036\n",
            "Epoch 6/100\n",
            "363/363 [==============================] - 1s 2ms/step - loss: 10354.4668 - accuracy: 0.0011 - val_loss: 15639.4209 - val_accuracy: 0.0036\n",
            "Epoch 7/100\n",
            "363/363 [==============================] - 1s 2ms/step - loss: 10420.6270 - accuracy: 9.4746e-04 - val_loss: 7714.7979 - val_accuracy: 0.0036\n",
            "Epoch 8/100\n",
            "363/363 [==============================] - 1s 2ms/step - loss: 10312.6494 - accuracy: 0.0015 - val_loss: 18029.1582 - val_accuracy: 0.0036\n",
            "Epoch 9/100\n",
            "363/363 [==============================] - 1s 2ms/step - loss: 10397.5498 - accuracy: 0.0013 - val_loss: 8154.7046 - val_accuracy: 0.0000e+00\n",
            "Epoch 10/100\n",
            "363/363 [==============================] - 1s 2ms/step - loss: 10396.8643 - accuracy: 0.0013 - val_loss: 9997.6797 - val_accuracy: 0.0036\n",
            "Epoch 11/100\n",
            "363/363 [==============================] - 1s 2ms/step - loss: 10434.0430 - accuracy: 0.0010 - val_loss: 5711.1587 - val_accuracy: 0.0000e+00\n",
            "Epoch 12/100\n",
            "363/363 [==============================] - 1s 2ms/step - loss: 10461.5195 - accuracy: 0.0014 - val_loss: 4442.8857 - val_accuracy: 0.0000e+00\n",
            "Epoch 13/100\n",
            "363/363 [==============================] - 1s 2ms/step - loss: 10387.9062 - accuracy: 0.0012 - val_loss: 7520.6533 - val_accuracy: 0.0036\n",
            "Epoch 14/100\n",
            "363/363 [==============================] - 1s 2ms/step - loss: 10437.5537 - accuracy: 8.6133e-04 - val_loss: 9683.9785 - val_accuracy: 0.0036\n",
            "Epoch 15/100\n",
            "363/363 [==============================] - 1s 2ms/step - loss: 10389.5674 - accuracy: 0.0016 - val_loss: 7141.3301 - val_accuracy: 0.0036\n",
            "Epoch 16/100\n",
            "363/363 [==============================] - 1s 2ms/step - loss: 10371.6719 - accuracy: 0.0014 - val_loss: 7950.1919 - val_accuracy: 0.0036\n",
            "Epoch 17/100\n",
            "363/363 [==============================] - 1s 2ms/step - loss: 10477.1602 - accuracy: 0.0013 - val_loss: 5563.0977 - val_accuracy: 0.0036\n",
            "Epoch 18/100\n",
            "363/363 [==============================] - 1s 2ms/step - loss: 10424.4209 - accuracy: 0.0016 - val_loss: 14164.1230 - val_accuracy: 0.0036\n",
            "Epoch 19/100\n",
            "363/363 [==============================] - 1s 2ms/step - loss: 10442.1826 - accuracy: 0.0016 - val_loss: 16510.3848 - val_accuracy: 0.0036\n",
            "Epoch 20/100\n",
            "363/363 [==============================] - 1s 2ms/step - loss: 10364.2051 - accuracy: 0.0013 - val_loss: 8421.4111 - val_accuracy: 0.0000e+00\n",
            "Epoch 21/100\n",
            "363/363 [==============================] - 1s 2ms/step - loss: 10452.9980 - accuracy: 0.0015 - val_loss: 1228.8115 - val_accuracy: 0.0036\n",
            "Epoch 22/100\n",
            "363/363 [==============================] - 1s 2ms/step - loss: 10432.2607 - accuracy: 0.0013 - val_loss: 13451.6143 - val_accuracy: 0.0000e+00\n",
            "Epoch 23/100\n",
            "363/363 [==============================] - 1s 2ms/step - loss: 10483.1006 - accuracy: 0.0010 - val_loss: 16918.4160 - val_accuracy: 0.0000e+00\n",
            "Epoch 24/100\n",
            "363/363 [==============================] - 1s 2ms/step - loss: 10342.3105 - accuracy: 0.0014 - val_loss: 1643.7183 - val_accuracy: 0.0000e+00\n",
            "Epoch 25/100\n",
            "363/363 [==============================] - 1s 2ms/step - loss: 10390.0977 - accuracy: 0.0016 - val_loss: 2440.9902 - val_accuracy: 0.0000e+00\n",
            "Epoch 26/100\n",
            "363/363 [==============================] - 1s 2ms/step - loss: 10432.8555 - accuracy: 0.0014 - val_loss: 15853.9824 - val_accuracy: 0.0036\n",
            "Epoch 27/100\n",
            "363/363 [==============================] - 1s 2ms/step - loss: 10411.7207 - accuracy: 9.4746e-04 - val_loss: 4322.5757 - val_accuracy: 0.0036\n",
            "Epoch 28/100\n",
            "363/363 [==============================] - 1s 2ms/step - loss: 10369.5596 - accuracy: 0.0014 - val_loss: 14752.6260 - val_accuracy: 0.0000e+00\n",
            "Epoch 29/100\n",
            "363/363 [==============================] - 1s 2ms/step - loss: 10371.4414 - accuracy: 0.0011 - val_loss: 13810.2930 - val_accuracy: 0.0000e+00\n",
            "Epoch 30/100\n",
            "363/363 [==============================] - 1s 2ms/step - loss: 10428.1143 - accuracy: 0.0016 - val_loss: 2538.7751 - val_accuracy: 0.0000e+00\n",
            "Epoch 31/100\n",
            "363/363 [==============================] - 1s 2ms/step - loss: 10399.5625 - accuracy: 0.0012 - val_loss: 8319.6475 - val_accuracy: 0.0036\n"
          ]
        },
        {
          "data": {
            "text/plain": [
              "<keras.callbacks.History at 0x7f79560fc2d0>"
            ]
          },
          "execution_count": 20,
          "metadata": {},
          "output_type": "execute_result"
        }
      ],
      "source": [
        "model = WideAndDeep()\n",
        "early_stopping = keras.callbacks.EarlyStopping(patience=10, \n",
        "                                               restore_best_weights=True)\n",
        "checkpoint_cb = keras.callbacks.ModelCheckpoint(\"my_model.h5\")\n",
        "model.fit(X_train, y_train, \n",
        "          epochs=100, \n",
        "          validation_data=(X_valid, y_valid), \n",
        "          callbacks=[early_stopping, checkpoint_cb])"
      ]
    },
    {
      "cell_type": "code",
      "execution_count": null,
      "metadata": {
        "colab": {
          "base_uri": "https://localhost:8080/"
        },
        "id": "9F3OnY8QseUb",
        "outputId": "d98d1836-0ce7-429b-bdaf-0a61e7426f8d"
      },
      "outputs": [
        {
          "name": "stdout",
          "output_type": "stream",
          "text": [
            "121/121 [==============================] - 0s 1ms/step - loss: 1261.7394 - accuracy: 0.0000e+00\n"
          ]
        },
        {
          "data": {
            "text/plain": [
              "[1261.7393798828125, 0.0]"
            ]
          },
          "execution_count": 45,
          "metadata": {},
          "output_type": "execute_result"
        }
      ],
      "source": [
        "model.evaluate(X_valid, y_valid)"
      ]
    },
    {
      "cell_type": "code",
      "execution_count": null,
      "metadata": {
        "colab": {
          "base_uri": "https://localhost:8080/"
        },
        "id": "EJBDXQrXtTmj",
        "outputId": "5ea53255-ec4e-462e-d05f-ba6987598146"
      },
      "outputs": [
        {
          "name": "stdout",
          "output_type": "stream",
          "text": [
            "Epoch 1/100\n",
            "349/363 [===========================>..] - ETA: 0s - loss: 18083.1348 - accuracy: 0.0014\n",
            "val/train: 0.171441\n",
            "363/363 [==============================] - 1s 2ms/step - loss: 17799.0840 - accuracy: 0.0016 - val_loss: 3051.4973 - val_accuracy: 0.0000e+00\n",
            "Epoch 2/100\n",
            "336/363 [==========================>...] - ETA: 0s - loss: 10517.1699 - accuracy: 0.0020\n",
            "val/train: 1.738182\n",
            "363/363 [==============================] - 1s 2ms/step - loss: 10560.8271 - accuracy: 0.0019 - val_loss: 18356.6445 - val_accuracy: 0.0000e+00\n",
            "Epoch 3/100\n",
            "348/363 [===========================>..] - ETA: 0s - loss: 10551.6602 - accuracy: 0.0018\n",
            "val/train: 1.099963\n",
            "363/363 [==============================] - 1s 2ms/step - loss: 10619.6289 - accuracy: 0.0018 - val_loss: 11681.1963 - val_accuracy: 0.0000e+00\n",
            "Epoch 4/100\n",
            "362/363 [============================>.] - ETA: 0s - loss: 10513.7168 - accuracy: 0.0018\n",
            "val/train: 0.618186\n",
            "363/363 [==============================] - 1s 2ms/step - loss: 10518.8086 - accuracy: 0.0018 - val_loss: 6502.5762 - val_accuracy: 0.0000e+00\n",
            "Epoch 5/100\n",
            "363/363 [==============================] - ETA: 0s - loss: 10505.5703 - accuracy: 0.0014\n",
            "val/train: 1.243934\n",
            "363/363 [==============================] - 1s 2ms/step - loss: 10505.5703 - accuracy: 0.0014 - val_loss: 13068.2324 - val_accuracy: 0.0000e+00\n",
            "Epoch 6/100\n",
            "352/363 [============================>.] - ETA: 0s - loss: 10643.6963 - accuracy: 0.0016\n",
            "val/train: 1.620508\n",
            "363/363 [==============================] - 1s 2ms/step - loss: 10610.8662 - accuracy: 0.0016 - val_loss: 17194.9922 - val_accuracy: 0.0023\n",
            "Epoch 7/100\n",
            "342/363 [===========================>..] - ETA: 0s - loss: 10566.0742 - accuracy: 0.0016\n",
            "val/train: 1.401540\n",
            "363/363 [==============================] - 1s 2ms/step - loss: 10631.9697 - accuracy: 0.0017 - val_loss: 14901.1357 - val_accuracy: 0.0000e+00\n",
            "Epoch 8/100\n",
            "359/363 [============================>.] - ETA: 0s - loss: 10637.1289 - accuracy: 0.0018\n",
            "val/train: 0.831461\n",
            "363/363 [==============================] - 1s 2ms/step - loss: 10634.5605 - accuracy: 0.0018 - val_loss: 8842.2178 - val_accuracy: 0.0000e+00\n",
            "Epoch 9/100\n",
            "343/363 [===========================>..] - ETA: 0s - loss: 10564.2080 - accuracy: 0.0017\n",
            "val/train: 1.904576\n",
            "363/363 [==============================] - 1s 2ms/step - loss: 10618.4473 - accuracy: 0.0016 - val_loss: 20223.6426 - val_accuracy: 0.0023\n",
            "Epoch 10/100\n",
            "357/363 [============================>.] - ETA: 0s - loss: 10575.3525 - accuracy: 0.0017\n",
            "val/train: 0.923026\n",
            "363/363 [==============================] - 1s 2ms/step - loss: 10603.7822 - accuracy: 0.0016 - val_loss: 9787.5713 - val_accuracy: 0.0000e+00\n",
            "Epoch 11/100\n",
            "362/363 [============================>.] - ETA: 0s - loss: 10597.9600 - accuracy: 0.0020\n",
            "val/train: 1.793239\n",
            "363/363 [==============================] - 1s 2ms/step - loss: 10593.1553 - accuracy: 0.0020 - val_loss: 18996.0586 - val_accuracy: 0.0000e+00\n"
          ]
        },
        {
          "data": {
            "text/plain": [
              "<keras.callbacks.History at 0x7f46cff558d0>"
            ]
          },
          "execution_count": 46,
          "metadata": {},
          "output_type": "execute_result"
        }
      ],
      "source": [
        "# Custom Callback\n",
        "class PrintValTrainRatioCallback(keras.callbacks.Callback):\n",
        "    def on_epoch_end(self, epoch, logs):\n",
        "        print(\"\\nval/train: {:2f}\".format(logs[\"val_loss\"]/logs[\"loss\"]))\n",
        "\n",
        "model = WideAndDeep()\n",
        "vnt_ratio = PrintValTrainRatioCallback()\n",
        "model.fit(X_train, y_train, epochs=100, \n",
        "          validation_data=(X_valid, y_valid), \n",
        "          callbacks=[checkpoint_cb, \n",
        "                     early_stopping, \n",
        "                     vnt_ratio])"
      ]
    },
    {
      "cell_type": "code",
      "execution_count": null,
      "metadata": {
        "id": "PcX4KJHSudNj"
      },
      "outputs": [],
      "source": [
        ""
      ]
    },
    {
      "cell_type": "markdown",
      "metadata": {
        "id": "qqs08H6TMKuJ"
      },
      "source": [
        "## Tensorboard"
      ]
    },
    {
      "cell_type": "code",
      "execution_count": null,
      "metadata": {
        "id": "7vmtcKIvMPqM"
      },
      "outputs": [],
      "source": [
        "import os\n",
        "root_logdir = os.path.join(os.curdir, \"my_logs\")\n",
        "def get_run_logdir():\n",
        "    import time\n",
        "    run_id = time.strftime(\"run_%Y_%m_%d-%H_%M_%S\")\n",
        "    return os.path.join(root_logdir, run_id)\n",
        "\n",
        "run_logdir = get_run_logdir()"
      ]
    },
    {
      "cell_type": "code",
      "execution_count": null,
      "metadata": {
        "colab": {
          "base_uri": "https://localhost:8080/"
        },
        "id": "7_52lUJBM6WD",
        "outputId": "61cccac6-e0e6-4b72-9198-f9d564b58c86"
      },
      "outputs": [
        {
          "name": "stdout",
          "output_type": "stream",
          "text": [
            "Epoch 1/200\n",
            "363/363 [==============================] - 6s 12ms/step - loss: 1.0140 - accuracy: 0.0028 - val_loss: 1.8419 - val_accuracy: 0.0026\n",
            "Epoch 2/200\n",
            "363/363 [==============================] - 0s 1ms/step - loss: 1.2072 - accuracy: 0.0030 - val_loss: 0.5464 - val_accuracy: 0.0026\n",
            "Epoch 3/200\n",
            "363/363 [==============================] - 0s 1ms/step - loss: 0.5097 - accuracy: 0.0030 - val_loss: 0.4729 - val_accuracy: 0.0026\n",
            "Epoch 4/200\n",
            "363/363 [==============================] - 0s 1ms/step - loss: 0.4594 - accuracy: 0.0030 - val_loss: 0.4380 - val_accuracy: 0.0026\n",
            "Epoch 5/200\n",
            "363/363 [==============================] - 1s 2ms/step - loss: 0.4345 - accuracy: 0.0030 - val_loss: 0.4214 - val_accuracy: 0.0026\n",
            "Epoch 6/200\n",
            "363/363 [==============================] - 0s 852us/step - loss: 0.4206 - accuracy: 0.0030 - val_loss: 0.4113 - val_accuracy: 0.0026\n",
            "Epoch 7/200\n",
            "363/363 [==============================] - 1s 4ms/step - loss: 0.4096 - accuracy: 0.0030 - val_loss: 0.4026 - val_accuracy: 0.0026\n",
            "Epoch 8/200\n",
            "363/363 [==============================] - 1s 2ms/step - loss: 0.4036 - accuracy: 0.0030 - val_loss: 0.3972 - val_accuracy: 0.0026\n",
            "Epoch 9/200\n",
            "363/363 [==============================] - 1s 3ms/step - loss: 0.3989 - accuracy: 0.0030 - val_loss: 0.3935 - val_accuracy: 0.0026\n",
            "Epoch 10/200\n",
            "363/363 [==============================] - 0s 864us/step - loss: 0.3934 - accuracy: 0.0030 - val_loss: 0.3891 - val_accuracy: 0.0026\n",
            "Epoch 11/200\n",
            "363/363 [==============================] - 1s 4ms/step - loss: 0.3968 - accuracy: 0.0030 - val_loss: 0.3853 - val_accuracy: 0.0026\n",
            "Epoch 12/200\n",
            "363/363 [==============================] - 0s 941us/step - loss: 0.3888 - accuracy: 0.0030 - val_loss: 0.3854 - val_accuracy: 0.0026\n",
            "Epoch 13/200\n",
            "363/363 [==============================] - 0s 991us/step - loss: 0.3916 - accuracy: 0.0030 - val_loss: 0.3850 - val_accuracy: 0.0026\n",
            "Epoch 14/200\n",
            "363/363 [==============================] - 1s 2ms/step - loss: 0.3918 - accuracy: 0.0030 - val_loss: 0.3810 - val_accuracy: 0.0026\n",
            "Epoch 15/200\n",
            "363/363 [==============================] - 0s 1ms/step - loss: 0.3817 - accuracy: 0.0030 - val_loss: 0.3773 - val_accuracy: 0.0026\n",
            "Epoch 16/200\n",
            "363/363 [==============================] - 1s 4ms/step - loss: 0.3784 - accuracy: 0.0030 - val_loss: 0.3823 - val_accuracy: 0.0026\n",
            "Epoch 17/200\n",
            "363/363 [==============================] - 0s 735us/step - loss: 0.3774 - accuracy: 0.0030 - val_loss: 0.3733 - val_accuracy: 0.0026\n",
            "Epoch 18/200\n",
            "363/363 [==============================] - 0s 1ms/step - loss: 0.3745 - accuracy: 0.0030 - val_loss: 0.3772 - val_accuracy: 0.0026\n",
            "Epoch 19/200\n",
            "363/363 [==============================] - 0s 940us/step - loss: 0.3746 - accuracy: 0.0030 - val_loss: 0.3750 - val_accuracy: 0.0026\n",
            "Epoch 20/200\n",
            "363/363 [==============================] - 0s 828us/step - loss: 0.3750 - accuracy: 0.0030 - val_loss: 0.3690 - val_accuracy: 0.0026\n",
            "Epoch 21/200\n",
            "363/363 [==============================] - 1s 2ms/step - loss: 0.3698 - accuracy: 0.0030 - val_loss: 0.3686 - val_accuracy: 0.0026\n",
            "Epoch 22/200\n",
            "363/363 [==============================] - 0s 1ms/step - loss: 0.3804 - accuracy: 0.0030 - val_loss: 0.4150 - val_accuracy: 0.0026\n",
            "Epoch 23/200\n",
            "363/363 [==============================] - 0s 1ms/step - loss: 0.3793 - accuracy: 0.0030 - val_loss: 0.3724 - val_accuracy: 0.0026\n",
            "Epoch 24/200\n",
            "363/363 [==============================] - 0s 802us/step - loss: 0.3861 - accuracy: 0.0030 - val_loss: 0.3715 - val_accuracy: 0.0026\n",
            "Epoch 25/200\n",
            "363/363 [==============================] - 0s 833us/step - loss: 0.3690 - accuracy: 0.0030 - val_loss: 0.3666 - val_accuracy: 0.0026\n",
            "Epoch 26/200\n",
            "363/363 [==============================] - 1s 3ms/step - loss: 0.3637 - accuracy: 0.0030 - val_loss: 0.3635 - val_accuracy: 0.0026\n",
            "Epoch 27/200\n",
            "363/363 [==============================] - 1s 2ms/step - loss: 0.3618 - accuracy: 0.0030 - val_loss: 0.3654 - val_accuracy: 0.0026\n",
            "Epoch 28/200\n",
            "363/363 [==============================] - 1s 3ms/step - loss: 0.3603 - accuracy: 0.0030 - val_loss: 0.3616 - val_accuracy: 0.0026\n",
            "Epoch 29/200\n",
            "363/363 [==============================] - 0s 1ms/step - loss: 0.3585 - accuracy: 0.0030 - val_loss: 0.3592 - val_accuracy: 0.0026\n",
            "Epoch 30/200\n",
            "363/363 [==============================] - 0s 1ms/step - loss: 0.3655 - accuracy: 0.0030 - val_loss: 0.3592 - val_accuracy: 0.0026\n",
            "Epoch 31/200\n",
            "363/363 [==============================] - 0s 1ms/step - loss: 0.3571 - accuracy: 0.0030 - val_loss: 0.3569 - val_accuracy: 0.0026\n",
            "Epoch 32/200\n",
            "363/363 [==============================] - 0s 819us/step - loss: 0.3544 - accuracy: 0.0030 - val_loss: 0.3678 - val_accuracy: 0.0026\n",
            "Epoch 33/200\n",
            "363/363 [==============================] - 0s 1ms/step - loss: 0.3542 - accuracy: 0.0030 - val_loss: 0.3539 - val_accuracy: 0.0026\n",
            "Epoch 34/200\n",
            "363/363 [==============================] - 0s 827us/step - loss: 0.3504 - accuracy: 0.0030 - val_loss: 0.3512 - val_accuracy: 0.0026\n",
            "Epoch 35/200\n",
            "363/363 [==============================] - 0s 958us/step - loss: 0.3891 - accuracy: 0.0030 - val_loss: 0.3553 - val_accuracy: 0.0026\n",
            "Epoch 36/200\n",
            "363/363 [==============================] - 1s 2ms/step - loss: 0.3485 - accuracy: 0.0030 - val_loss: 0.3502 - val_accuracy: 0.0026\n",
            "Epoch 37/200\n",
            "363/363 [==============================] - 0s 1ms/step - loss: 0.3485 - accuracy: 0.0030 - val_loss: 0.3501 - val_accuracy: 0.0026\n",
            "Epoch 38/200\n",
            "363/363 [==============================] - 0s 1ms/step - loss: 0.3505 - accuracy: 0.0030 - val_loss: 0.3459 - val_accuracy: 0.0026\n",
            "Epoch 39/200\n",
            "363/363 [==============================] - 1s 1ms/step - loss: 0.3460 - accuracy: 0.0030 - val_loss: 0.3511 - val_accuracy: 0.0026\n",
            "Epoch 40/200\n",
            "363/363 [==============================] - 1s 2ms/step - loss: 0.3435 - accuracy: 0.0030 - val_loss: 0.3542 - val_accuracy: 0.0026\n",
            "Epoch 41/200\n",
            "363/363 [==============================] - 0s 1ms/step - loss: 0.3432 - accuracy: 0.0030 - val_loss: 0.3451 - val_accuracy: 0.0026\n",
            "Epoch 42/200\n",
            "363/363 [==============================] - 1s 3ms/step - loss: 0.3502 - accuracy: 0.0030 - val_loss: 0.3445 - val_accuracy: 0.0026\n",
            "Epoch 43/200\n",
            "363/363 [==============================] - 0s 818us/step - loss: 0.3421 - accuracy: 0.0030 - val_loss: 0.3427 - val_accuracy: 0.0026\n",
            "Epoch 44/200\n",
            "363/363 [==============================] - 1s 3ms/step - loss: 0.3374 - accuracy: 0.0030 - val_loss: 0.3391 - val_accuracy: 0.0026\n",
            "Epoch 45/200\n",
            "363/363 [==============================] - 1s 3ms/step - loss: 0.3362 - accuracy: 0.0030 - val_loss: 0.3434 - val_accuracy: 0.0026\n",
            "Epoch 46/200\n",
            "363/363 [==============================] - 1s 4ms/step - loss: 0.3353 - accuracy: 0.0029 - val_loss: 0.3394 - val_accuracy: 0.0026\n",
            "Epoch 47/200\n",
            "363/363 [==============================] - 1s 2ms/step - loss: 0.3346 - accuracy: 0.0030 - val_loss: 0.3406 - val_accuracy: 0.0026\n",
            "Epoch 48/200\n",
            "363/363 [==============================] - 0s 1ms/step - loss: 0.3334 - accuracy: 0.0030 - val_loss: 0.3378 - val_accuracy: 0.0026\n",
            "Epoch 49/200\n",
            "363/363 [==============================] - 1s 3ms/step - loss: 0.3311 - accuracy: 0.0030 - val_loss: 0.3371 - val_accuracy: 0.0026\n",
            "Epoch 50/200\n",
            "363/363 [==============================] - 0s 1ms/step - loss: 0.3299 - accuracy: 0.0029 - val_loss: 0.3370 - val_accuracy: 0.0026\n",
            "Epoch 51/200\n",
            "363/363 [==============================] - 0s 827us/step - loss: 0.3354 - accuracy: 0.0030 - val_loss: 0.3402 - val_accuracy: 0.0026\n",
            "Epoch 52/200\n",
            "363/363 [==============================] - 1s 3ms/step - loss: 0.3305 - accuracy: 0.0030 - val_loss: 0.3344 - val_accuracy: 0.0026\n",
            "Epoch 53/200\n",
            "363/363 [==============================] - 0s 1ms/step - loss: 0.3285 - accuracy: 0.0030 - val_loss: 0.3371 - val_accuracy: 0.0026\n",
            "Epoch 54/200\n",
            "363/363 [==============================] - 0s 1ms/step - loss: 0.3272 - accuracy: 0.0030 - val_loss: 0.3374 - val_accuracy: 0.0026\n",
            "Epoch 55/200\n",
            "363/363 [==============================] - 0s 1ms/step - loss: 0.3306 - accuracy: 0.0030 - val_loss: 0.3315 - val_accuracy: 0.0026\n",
            "Epoch 56/200\n",
            "363/363 [==============================] - 0s 1ms/step - loss: 0.3284 - accuracy: 0.0029 - val_loss: 0.3303 - val_accuracy: 0.0026\n",
            "Epoch 57/200\n",
            "363/363 [==============================] - 1s 2ms/step - loss: 0.3294 - accuracy: 0.0030 - val_loss: 0.3303 - val_accuracy: 0.0026\n",
            "Epoch 58/200\n",
            "363/363 [==============================] - 0s 1ms/step - loss: 0.3251 - accuracy: 0.0029 - val_loss: 0.3303 - val_accuracy: 0.0026\n",
            "Epoch 59/200\n",
            "363/363 [==============================] - 0s 1ms/step - loss: 0.3254 - accuracy: 0.0030 - val_loss: 0.3294 - val_accuracy: 0.0026\n",
            "Epoch 60/200\n",
            "363/363 [==============================] - 0s 609us/step - loss: 0.3238 - accuracy: 0.0029 - val_loss: 0.3316 - val_accuracy: 0.0026\n",
            "Epoch 61/200\n",
            "363/363 [==============================] - 0s 970us/step - loss: 0.3220 - accuracy: 0.0030 - val_loss: 0.3291 - val_accuracy: 0.0026\n",
            "Epoch 62/200\n",
            "363/363 [==============================] - 0s 689us/step - loss: 0.3293 - accuracy: 0.0029 - val_loss: 0.3462 - val_accuracy: 0.0026\n",
            "Epoch 63/200\n",
            "363/363 [==============================] - 1s 3ms/step - loss: 0.3253 - accuracy: 0.0029 - val_loss: 0.3304 - val_accuracy: 0.0026\n",
            "Epoch 64/200\n",
            "363/363 [==============================] - 1s 3ms/step - loss: 0.3235 - accuracy: 0.0030 - val_loss: 0.3267 - val_accuracy: 0.0026\n",
            "Epoch 65/200\n",
            "363/363 [==============================] - 1s 2ms/step - loss: 0.3218 - accuracy: 0.0029 - val_loss: 0.3296 - val_accuracy: 0.0026\n",
            "Epoch 66/200\n",
            "363/363 [==============================] - 1s 1ms/step - loss: 0.3218 - accuracy: 0.0029 - val_loss: 0.3281 - val_accuracy: 0.0026\n",
            "Epoch 67/200\n",
            "363/363 [==============================] - 0s 1ms/step - loss: 0.3225 - accuracy: 0.0029 - val_loss: 0.3300 - val_accuracy: 0.0026\n",
            "Epoch 68/200\n",
            "363/363 [==============================] - 1s 2ms/step - loss: 0.3203 - accuracy: 0.0030 - val_loss: 0.3347 - val_accuracy: 0.0026\n",
            "Epoch 69/200\n",
            "363/363 [==============================] - 0s 1ms/step - loss: 0.3198 - accuracy: 0.0029 - val_loss: 0.3268 - val_accuracy: 0.0026\n",
            "Epoch 70/200\n",
            "363/363 [==============================] - 1s 2ms/step - loss: 0.3192 - accuracy: 0.0030 - val_loss: 0.3283 - val_accuracy: 0.0026\n",
            "Epoch 71/200\n",
            "363/363 [==============================] - 0s 782us/step - loss: 0.3202 - accuracy: 0.0029 - val_loss: 0.3266 - val_accuracy: 0.0026\n",
            "Epoch 72/200\n",
            "363/363 [==============================] - 0s 973us/step - loss: 0.3228 - accuracy: 0.0030 - val_loss: 0.3310 - val_accuracy: 0.0026\n",
            "Epoch 73/200\n",
            "363/363 [==============================] - 1s 2ms/step - loss: 0.3180 - accuracy: 0.0029 - val_loss: 0.3288 - val_accuracy: 0.0026\n",
            "Epoch 74/200\n",
            "363/363 [==============================] - 0s 1ms/step - loss: 0.3179 - accuracy: 0.0029 - val_loss: 0.3251 - val_accuracy: 0.0026\n",
            "Epoch 75/200\n",
            "363/363 [==============================] - 1s 2ms/step - loss: 0.3167 - accuracy: 0.0030 - val_loss: 0.3298 - val_accuracy: 0.0026\n",
            "Epoch 76/200\n",
            "363/363 [==============================] - 0s 1ms/step - loss: 0.3169 - accuracy: 0.0029 - val_loss: 0.3235 - val_accuracy: 0.0026\n",
            "Epoch 77/200\n",
            "363/363 [==============================] - 1s 1ms/step - loss: 0.3170 - accuracy: 0.0029 - val_loss: 0.3252 - val_accuracy: 0.0023\n",
            "Epoch 78/200\n",
            "363/363 [==============================] - 1s 2ms/step - loss: 0.3166 - accuracy: 0.0029 - val_loss: 0.3329 - val_accuracy: 0.0026\n",
            "Epoch 79/200\n",
            "363/363 [==============================] - 0s 1ms/step - loss: 0.3157 - accuracy: 0.0029 - val_loss: 0.3311 - val_accuracy: 0.0026\n",
            "Epoch 80/200\n",
            "363/363 [==============================] - 0s 1ms/step - loss: 0.3161 - accuracy: 0.0030 - val_loss: 0.3230 - val_accuracy: 0.0026\n",
            "Epoch 81/200\n",
            "363/363 [==============================] - 1s 3ms/step - loss: 0.3186 - accuracy: 0.0030 - val_loss: 0.3241 - val_accuracy: 0.0023\n",
            "Epoch 82/200\n",
            "363/363 [==============================] - 0s 969us/step - loss: 0.3145 - accuracy: 0.0029 - val_loss: 0.3247 - val_accuracy: 0.0023\n",
            "Epoch 83/200\n",
            "363/363 [==============================] - 0s 864us/step - loss: 0.3135 - accuracy: 0.0030 - val_loss: 0.3202 - val_accuracy: 0.0026\n",
            "Epoch 84/200\n",
            "363/363 [==============================] - 1s 2ms/step - loss: 0.3139 - accuracy: 0.0029 - val_loss: 0.3233 - val_accuracy: 0.0023\n",
            "Epoch 85/200\n",
            "363/363 [==============================] - 1s 1ms/step - loss: 0.3146 - accuracy: 0.0029 - val_loss: 0.3207 - val_accuracy: 0.0026\n",
            "Epoch 86/200\n",
            "363/363 [==============================] - 0s 1ms/step - loss: 0.3123 - accuracy: 0.0029 - val_loss: 0.3219 - val_accuracy: 0.0026\n",
            "Epoch 87/200\n",
            "363/363 [==============================] - 1s 3ms/step - loss: 0.3123 - accuracy: 0.0030 - val_loss: 0.3202 - val_accuracy: 0.0026\n",
            "Epoch 88/200\n",
            "363/363 [==============================] - 1s 2ms/step - loss: 0.3151 - accuracy: 0.0030 - val_loss: 0.3248 - val_accuracy: 0.0026\n",
            "Epoch 89/200\n",
            "363/363 [==============================] - 1s 2ms/step - loss: 0.3120 - accuracy: 0.0029 - val_loss: 0.3190 - val_accuracy: 0.0026\n",
            "Epoch 90/200\n",
            "363/363 [==============================] - 1s 2ms/step - loss: 0.3105 - accuracy: 0.0030 - val_loss: 0.3222 - val_accuracy: 0.0026\n",
            "Epoch 91/200\n",
            "363/363 [==============================] - 1s 3ms/step - loss: 0.3123 - accuracy: 0.0029 - val_loss: 0.3206 - val_accuracy: 0.0026\n",
            "Epoch 92/200\n",
            "363/363 [==============================] - 1s 2ms/step - loss: 0.3120 - accuracy: 0.0029 - val_loss: 0.3240 - val_accuracy: 0.0026\n",
            "Epoch 93/200\n",
            "363/363 [==============================] - 0s 1ms/step - loss: 0.3127 - accuracy: 0.0029 - val_loss: 0.3171 - val_accuracy: 0.0026\n",
            "Epoch 94/200\n",
            "363/363 [==============================] - 1s 2ms/step - loss: 0.3111 - accuracy: 0.0029 - val_loss: 0.3176 - val_accuracy: 0.0023\n",
            "Epoch 95/200\n",
            "363/363 [==============================] - 1s 1ms/step - loss: 0.3130 - accuracy: 0.0029 - val_loss: 0.3178 - val_accuracy: 0.0026\n",
            "Epoch 96/200\n",
            "363/363 [==============================] - 1s 1ms/step - loss: 0.3106 - accuracy: 0.0029 - val_loss: 0.3210 - val_accuracy: 0.0026\n",
            "Epoch 97/200\n",
            "363/363 [==============================] - 0s 968us/step - loss: 0.3095 - accuracy: 0.0029 - val_loss: 0.3178 - val_accuracy: 0.0023\n",
            "Epoch 98/200\n",
            "363/363 [==============================] - 1s 2ms/step - loss: 0.3388 - accuracy: 0.0030 - val_loss: 0.3217 - val_accuracy: 0.0026\n",
            "Epoch 99/200\n",
            "363/363 [==============================] - 1s 4ms/step - loss: 0.3100 - accuracy: 0.0030 - val_loss: 0.3215 - val_accuracy: 0.0026\n",
            "Epoch 100/200\n",
            "363/363 [==============================] - 0s 1ms/step - loss: 0.3090 - accuracy: 0.0029 - val_loss: 0.3152 - val_accuracy: 0.0023\n",
            "Epoch 101/200\n",
            "363/363 [==============================] - 0s 1ms/step - loss: 0.3080 - accuracy: 0.0029 - val_loss: 0.3150 - val_accuracy: 0.0026\n",
            "Epoch 102/200\n",
            "363/363 [==============================] - ETA: 0s - loss: 0.3156 - accuracy: 0.00 - 0s 972us/step - loss: 0.3189 - accuracy: 0.0030 - val_loss: 0.3263 - val_accuracy: 0.0026\n",
            "Epoch 103/200\n",
            "363/363 [==============================] - 0s 1ms/step - loss: 0.3085 - accuracy: 0.0029 - val_loss: 0.3197 - val_accuracy: 0.0026\n",
            "Epoch 104/200\n",
            "363/363 [==============================] - 1s 4ms/step - loss: 0.3077 - accuracy: 0.0029 - val_loss: 0.3169 - val_accuracy: 0.0026\n",
            "Epoch 105/200\n",
            "363/363 [==============================] - 2s 5ms/step - loss: 0.3066 - accuracy: 0.0029 - val_loss: 0.3176 - val_accuracy: 0.0026\n",
            "Epoch 106/200\n",
            "363/363 [==============================] - 0s 937us/step - loss: 0.3068 - accuracy: 0.0030 - val_loss: 0.3133 - val_accuracy: 0.0023\n",
            "Epoch 107/200\n",
            "363/363 [==============================] - 1s 2ms/step - loss: 0.3203 - accuracy: 0.0029 - val_loss: 0.3145 - val_accuracy: 0.0023\n",
            "Epoch 108/200\n",
            "363/363 [==============================] - 0s 1ms/step - loss: 0.3079 - accuracy: 0.0029 - val_loss: 0.3222 - val_accuracy: 0.0026\n",
            "Epoch 109/200\n",
            "363/363 [==============================] - 0s 850us/step - loss: 0.3071 - accuracy: 0.0029 - val_loss: 0.3215 - val_accuracy: 0.0026\n",
            "Epoch 110/200\n",
            "363/363 [==============================] - 0s 936us/step - loss: 0.3084 - accuracy: 0.0029 - val_loss: 0.3151 - val_accuracy: 0.0023\n",
            "Epoch 111/200\n",
            "363/363 [==============================] - 1s 4ms/step - loss: 0.3067 - accuracy: 0.0029 - val_loss: 0.3225 - val_accuracy: 0.0026\n",
            "Epoch 112/200\n",
            "363/363 [==============================] - 0s 890us/step - loss: 0.3055 - accuracy: 0.0029 - val_loss: 0.3168 - val_accuracy: 0.0026\n",
            "Epoch 113/200\n",
            "363/363 [==============================] - 0s 913us/step - loss: 0.3063 - accuracy: 0.0029 - val_loss: 0.3147 - val_accuracy: 0.0023\n",
            "Epoch 114/200\n",
            "363/363 [==============================] - 0s 1ms/step - loss: 0.3051 - accuracy: 0.0030 - val_loss: 0.3147 - val_accuracy: 0.0023\n",
            "Epoch 115/200\n",
            "363/363 [==============================] - 0s 809us/step - loss: 0.3054 - accuracy: 0.0030 - val_loss: 0.3134 - val_accuracy: 0.0023\n",
            "Epoch 116/200\n",
            "363/363 [==============================] - 0s 867us/step - loss: 0.3064 - accuracy: 0.0030 - val_loss: 0.3182 - val_accuracy: 0.0023\n"
          ]
        }
      ],
      "source": [
        "from tensorflow import keras\n",
        "\n",
        "model = keras.Sequential([\n",
        "        keras.layers.Dense(30, activation=\"relu\", input_shape=X_train.shape[1:]), \n",
        "        keras.layers.Dense(1)\n",
        "])\n",
        "model.compile(loss=\"mean_squared_error\", optimizer=\"sgd\", metrics=[\"accuracy\"])\n",
        "tensorboard_cb = keras.callbacks.TensorBoard(run_logdir)\n",
        "early_stopping = keras.callbacks.EarlyStopping(patience=10, \n",
        "                                               restore_best_weights=True)\n",
        "history = model.fit(X_train_scaled, y_train, epochs=200, \n",
        "                    validation_data=(X_valid_scaled, y_valid), \n",
        "                    callbacks=[early_stopping, tensorboard_cb])"
      ]
    },
    {
      "cell_type": "code",
      "execution_count": null,
      "metadata": {
        "id": "D8HBCnLBN7Hk",
        "outputId": "d9cdf5ab-6d79-42d1-ca92-a11bb6493a33"
      },
      "outputs": [
        {
          "data": {
            "text/plain": [
              "Reusing TensorBoard on port 6006 (pid 1612), started 3 days, 10:31:55 ago. (Use '!kill 1612' to kill it.)"
            ]
          },
          "metadata": {},
          "output_type": "display_data"
        },
        {
          "data": {
            "text/html": [
              "\n",
              "      <iframe id=\"tensorboard-frame-36fd40390b6a64d7\" width=\"100%\" height=\"800\" frameborder=\"0\">\n",
              "      </iframe>\n",
              "      <script>\n",
              "        (function() {\n",
              "          const frame = document.getElementById(\"tensorboard-frame-36fd40390b6a64d7\");\n",
              "          const url = new URL(\"http://localhost\");\n",
              "          const port = 6006;\n",
              "          if (port) {\n",
              "            url.port = port;\n",
              "          }\n",
              "          frame.src = url;\n",
              "        })();\n",
              "      </script>\n",
              "    "
            ],
            "text/plain": [
              "<IPython.core.display.HTML object>"
            ]
          },
          "metadata": {},
          "output_type": "display_data"
        }
      ],
      "source": [
        "%load_ext tensorboard\n",
        "%tensorboard --logdir my_logs"
      ]
    },
    {
      "cell_type": "code",
      "execution_count": null,
      "metadata": {
        "id": "bjukKxoPG79v",
        "outputId": "7763816d-bcb0-41b1-83b1-9e87b31a6230"
      },
      "outputs": [
        {
          "name": "stdout",
          "output_type": "stream",
          "text": [
            "Selecting TensorBoard with logdir my_logs (started 3 days, 10:35:50 ago; port 6006, pid 1612).\n"
          ]
        },
        {
          "data": {
            "text/html": [
              "\n",
              "      <iframe id=\"tensorboard-frame-927392c2629708a7\" width=\"100%\" height=\"1000\" frameborder=\"0\">\n",
              "      </iframe>\n",
              "      <script>\n",
              "        (function() {\n",
              "          const frame = document.getElementById(\"tensorboard-frame-927392c2629708a7\");\n",
              "          const url = new URL(\"http://localhost\");\n",
              "          const port = 6006;\n",
              "          if (port) {\n",
              "            url.port = port;\n",
              "          }\n",
              "          frame.src = url;\n",
              "        })();\n",
              "      </script>\n",
              "    "
            ],
            "text/plain": [
              "<IPython.core.display.HTML object>"
            ]
          },
          "metadata": {},
          "output_type": "display_data"
        }
      ],
      "source": [
        "from tensorboard import notebook\n",
        "notebook.display(port=6006, height=1000)"
      ]
    },
    {
      "cell_type": "markdown",
      "metadata": {
        "id": "4oyRnsBVG79v"
      },
      "source": [
        "## Tuning Hyperparamters"
      ]
    },
    {
      "cell_type": "code",
      "execution_count": null,
      "metadata": {
        "id": "pRfuniK0G79w"
      },
      "outputs": [],
      "source": [
        "def build_model(n_hidden=1, n_neurons=30, learning_rate=1e-3, input_shape=[8]):\n",
        "    model = keras.Sequential()\n",
        "    options = {\"input_shape\": input_shape}\n",
        "    for layers in range(n_hidden):\n",
        "        model.add(keras.layers.Dense(n_neurons, activation=\"relu\", **options))\n",
        "        options = {}\n",
        "    model.add(keras.layers.Dense(1, **options))\n",
        "    optimizer = keras.optimizers.SGD(learning_rate=learning_rate)\n",
        "    model.compile(loss=\"mean_squared_error\", optimizer=optimizer)\n",
        "    return model"
      ]
    },
    {
      "cell_type": "code",
      "execution_count": null,
      "metadata": {
        "id": "hqGMfz3BG79w"
      },
      "outputs": [],
      "source": [
        "keras_reg = keras.wrappers.scikit_learn.KerasRegressor(build_model)"
      ]
    },
    {
      "cell_type": "code",
      "execution_count": null,
      "metadata": {
        "id": "uuyf5RnnG79w",
        "outputId": "a64b6ade-13ab-4535-b8b4-752176026f73"
      },
      "outputs": [
        {
          "name": "stdout",
          "output_type": "stream",
          "text": [
            "Epoch 1/100\n",
            "363/363 [==============================] - 0s 751us/step - loss: 511355853471744.0000 - val_loss: 928366657536.0000\n",
            "Epoch 2/100\n",
            "363/363 [==============================] - 0s 555us/step - loss: 490541481984.0000 - val_loss: 217016369152.0000\n",
            "Epoch 3/100\n",
            "363/363 [==============================] - 0s 574us/step - loss: 114669756416.0000 - val_loss: 50730037248.0000\n",
            "Epoch 4/100\n",
            "363/363 [==============================] - 0s 624us/step - loss: 26805366784.0000 - val_loss: 11858742272.0000\n",
            "Epoch 5/100\n",
            "363/363 [==============================] - 0s 671us/step - loss: 6266070016.0000 - val_loss: 2772119040.0000\n",
            "Epoch 6/100\n",
            "363/363 [==============================] - 0s 709us/step - loss: 1464766592.0000 - val_loss: 648014912.0000\n",
            "Epoch 7/100\n",
            "363/363 [==============================] - 0s 596us/step - loss: 342405920.0000 - val_loss: 151480736.0000\n",
            "Epoch 8/100\n",
            "363/363 [==============================] - 0s 621us/step - loss: 80041192.0000 - val_loss: 35410396.0000\n",
            "Epoch 9/100\n",
            "363/363 [==============================] - 0s 589us/step - loss: 18710552.0000 - val_loss: 8277601.5000\n",
            "Epoch 10/100\n",
            "363/363 [==============================] - 0s 638us/step - loss: 4373805.0000 - val_loss: 1934989.0000\n",
            "Epoch 11/100\n",
            "363/363 [==============================] - 0s 753us/step - loss: 1022424.8125 - val_loss: 452327.8125\n",
            "Epoch 12/100\n",
            "363/363 [==============================] - 0s 833us/step - loss: 239003.6875 - val_loss: 105739.6641\n",
            "Epoch 13/100\n",
            "363/363 [==============================] - 0s 692us/step - loss: 55871.1055 - val_loss: 24720.0332\n",
            "Epoch 14/100\n",
            "363/363 [==============================] - 0s 654us/step - loss: 13061.7119 - val_loss: 5780.1348\n",
            "Epoch 15/100\n",
            "363/363 [==============================] - 0s 891us/step - loss: 3054.4524 - val_loss: 1352.4961\n",
            "Epoch 16/100\n",
            "363/363 [==============================] - 0s 526us/step - loss: 715.1027 - val_loss: 317.3405\n",
            "Epoch 17/100\n",
            "363/363 [==============================] - 0s 523us/step - loss: 168.1982 - val_loss: 75.2567\n",
            "Epoch 18/100\n",
            "363/363 [==============================] - 0s 574us/step - loss: 40.3353 - val_loss: 18.6404\n",
            "Epoch 19/100\n",
            "363/363 [==============================] - 0s 532us/step - loss: 10.4514 - val_loss: 5.4037\n",
            "Epoch 20/100\n",
            "363/363 [==============================] - 0s 708us/step - loss: 3.4668 - val_loss: 2.2982\n",
            "Epoch 21/100\n",
            "363/363 [==============================] - 0s 682us/step - loss: 1.8334 - val_loss: 1.5733\n",
            "Epoch 22/100\n",
            "363/363 [==============================] - 0s 550us/step - loss: 1.4522 - val_loss: 1.4012\n",
            "Epoch 23/100\n",
            "363/363 [==============================] - 0s 523us/step - loss: 1.3628 - val_loss: 1.3605\n",
            "Epoch 24/100\n",
            "363/363 [==============================] - 0s 576us/step - loss: 1.3422 - val_loss: 1.3511\n",
            "Epoch 25/100\n",
            "363/363 [==============================] - 0s 530us/step - loss: 1.3375 - val_loss: 1.3488\n",
            "Epoch 26/100\n",
            "363/363 [==============================] - 0s 653us/step - loss: 1.3365 - val_loss: 1.3482\n",
            "Epoch 27/100\n",
            "363/363 [==============================] - 0s 522us/step - loss: 1.3362 - val_loss: 1.3480\n",
            "Epoch 28/100\n",
            "363/363 [==============================] - 0s 522us/step - loss: 1.3361 - val_loss: 1.3480\n",
            "Epoch 29/100\n",
            "363/363 [==============================] - 0s 526us/step - loss: 1.3361 - val_loss: 1.3479\n",
            "Epoch 30/100\n",
            "363/363 [==============================] - 0s 539us/step - loss: 1.3361 - val_loss: 1.3479\n",
            "Epoch 31/100\n",
            "363/363 [==============================] - 0s 526us/step - loss: 1.3361 - val_loss: 1.3479\n",
            "Epoch 32/100\n",
            "363/363 [==============================] - 0s 709us/step - loss: 1.3361 - val_loss: 1.3479\n",
            "Epoch 33/100\n",
            "363/363 [==============================] - 0s 565us/step - loss: 1.3361 - val_loss: 1.3479\n",
            "Epoch 34/100\n",
            "363/363 [==============================] - 0s 536us/step - loss: 1.3361 - val_loss: 1.3479\n",
            "Epoch 35/100\n",
            "363/363 [==============================] - 0s 526us/step - loss: 1.3361 - val_loss: 1.3479\n",
            "Epoch 36/100\n",
            "363/363 [==============================] - 0s 517us/step - loss: 1.3361 - val_loss: 1.3479\n",
            "Epoch 37/100\n",
            "363/363 [==============================] - 0s 522us/step - loss: 1.3361 - val_loss: 1.3479\n",
            "Epoch 38/100\n",
            "363/363 [==============================] - 0s 707us/step - loss: 1.3361 - val_loss: 1.3479\n",
            "Epoch 39/100\n",
            "363/363 [==============================] - 0s 532us/step - loss: 1.3361 - val_loss: 1.3479\n",
            "Epoch 40/100\n",
            "363/363 [==============================] - 0s 531us/step - loss: 1.3361 - val_loss: 1.3479\n",
            "Epoch 41/100\n",
            "363/363 [==============================] - 0s 522us/step - loss: 1.3361 - val_loss: 1.3479\n",
            "Epoch 42/100\n",
            "363/363 [==============================] - 0s 514us/step - loss: 1.3361 - val_loss: 1.3479\n",
            "Epoch 43/100\n",
            "363/363 [==============================] - 0s 810us/step - loss: 1.3361 - val_loss: 1.3479\n",
            "Epoch 44/100\n",
            "363/363 [==============================] - 0s 531us/step - loss: 1.3361 - val_loss: 1.3479\n",
            "162/162 [==============================] - 0s 441us/step - loss: 1.3092\n"
          ]
        }
      ],
      "source": [
        "keras_reg.fit(X_train, y_train, epochs=100, \n",
        "            validation_data=(X_valid, y_valid), \n",
        "            callbacks=[keras.callbacks.EarlyStopping(patience=10)])\n",
        "mse_test = keras_reg.score(X_test, y_test)"
      ]
    },
    {
      "cell_type": "code",
      "execution_count": null,
      "metadata": {
        "id": "dWtBcRLvG79w",
        "outputId": "1cdc34e1-229d-448f-d019-df10dc83e5e7"
      },
      "outputs": [
        {
          "name": "stdout",
          "output_type": "stream",
          "text": [
            "Epoch 1/100\n",
            "242/242 [==============================] - 1s 3ms/step - loss: nan - val_loss: nan\n",
            "Epoch 2/100\n",
            "242/242 [==============================] - 1s 2ms/step - loss: nan - val_loss: nan\n",
            "Epoch 3/100\n",
            "242/242 [==============================] - 1s 3ms/step - loss: nan - val_loss: nan\n",
            "Epoch 4/100\n",
            "242/242 [==============================] - 1s 2ms/step - loss: nan - val_loss: nan\n",
            "Epoch 5/100\n",
            "242/242 [==============================] - 0s 2ms/step - loss: nan - val_loss: nan\n",
            "Epoch 6/100\n",
            "242/242 [==============================] - 0s 2ms/step - loss: nan - val_loss: nan\n",
            "Epoch 7/100\n",
            "242/242 [==============================] - 0s 2ms/step - loss: nan - val_loss: nan\n",
            "Epoch 8/100\n",
            "242/242 [==============================] - 0s 2ms/step - loss: nan - val_loss: nan\n",
            "Epoch 9/100\n",
            "242/242 [==============================] - 0s 2ms/step - loss: nan - val_loss: nan\n",
            "Epoch 10/100\n",
            "242/242 [==============================] - 0s 1ms/step - loss: nan - val_loss: nan\n",
            "121/121 [==============================] - 0s 783us/step - loss: nan\n",
            "Epoch 1/100\n",
            "242/242 [==============================] - 1s 2ms/step - loss: nan - val_loss: nan\n",
            "Epoch 2/100\n",
            "242/242 [==============================] - 0s 1ms/step - loss: nan - val_loss: nan\n",
            "Epoch 3/100\n",
            "242/242 [==============================] - 0s 980us/step - loss: nan - val_loss: nan\n",
            "Epoch 4/100\n",
            "242/242 [==============================] - 0s 2ms/step - loss: nan - val_loss: nan\n",
            "Epoch 5/100\n",
            "242/242 [==============================] - 1s 2ms/step - loss: nan - val_loss: nan\n",
            "Epoch 6/100\n",
            "242/242 [==============================] - 1s 2ms/step - loss: nan - val_loss: nan\n",
            "Epoch 7/100\n",
            "242/242 [==============================] - 1s 2ms/step - loss: nan - val_loss: nan\n",
            "Epoch 8/100\n",
            "242/242 [==============================] - 1s 2ms/step - loss: nan - val_loss: nan\n",
            "Epoch 9/100\n",
            "242/242 [==============================] - 0s 1ms/step - loss: nan - val_loss: nan\n",
            "Epoch 10/100\n",
            "242/242 [==============================] - 1s 2ms/step - loss: nan - val_loss: nan\n",
            "121/121 [==============================] - 0s 2ms/step - loss: nan\n",
            "Epoch 1/100\n",
            "242/242 [==============================] - 1s 2ms/step - loss: nan - val_loss: nan\n",
            "Epoch 2/100\n",
            "242/242 [==============================] - 0s 2ms/step - loss: nan - val_loss: nan\n",
            "Epoch 3/100\n",
            "242/242 [==============================] - 1s 2ms/step - loss: nan - val_loss: nan\n",
            "Epoch 4/100\n",
            "242/242 [==============================] - 0s 2ms/step - loss: nan - val_loss: nan\n",
            "Epoch 5/100\n",
            "242/242 [==============================] - 0s 1ms/step - loss: nan - val_loss: nan\n",
            "Epoch 6/100\n",
            "242/242 [==============================] - 1s 2ms/step - loss: nan - val_loss: nan\n",
            "Epoch 7/100\n",
            "242/242 [==============================] - 1s 2ms/step - loss: nan - val_loss: nan\n",
            "Epoch 8/100\n",
            "242/242 [==============================] - 1s 2ms/step - loss: nan - val_loss: nan\n",
            "Epoch 9/100\n",
            "242/242 [==============================] - 1s 3ms/step - loss: nan - val_loss: nan\n",
            "Epoch 10/100\n",
            "242/242 [==============================] - 1s 2ms/step - loss: nan - val_loss: nan\n",
            "121/121 [==============================] - 0s 2ms/step - loss: nan\n",
            "Epoch 1/100\n",
            "242/242 [==============================] - 1s 2ms/step - loss: 91.9420 - val_loss: 1.5164\n",
            "Epoch 2/100\n",
            "242/242 [==============================] - 0s 957us/step - loss: 1.3671 - val_loss: 1.3514\n",
            "Epoch 3/100\n",
            "242/242 [==============================] - 1s 2ms/step - loss: 1.3265 - val_loss: 1.3483\n",
            "Epoch 4/100\n",
            "242/242 [==============================] - 0s 2ms/step - loss: 1.3255 - val_loss: 1.3480\n",
            "Epoch 5/100\n",
            "242/242 [==============================] - 0s 2ms/step - loss: 1.3258 - val_loss: 1.3480\n",
            "Epoch 6/100\n",
            "242/242 [==============================] - 0s 2ms/step - loss: 1.3258 - val_loss: 1.3479\n",
            "Epoch 7/100\n",
            "242/242 [==============================] - 1s 2ms/step - loss: 1.3258 - val_loss: 1.3479\n",
            "Epoch 8/100\n",
            "242/242 [==============================] - 0s 2ms/step - loss: 1.3258 - val_loss: 1.3479\n",
            "Epoch 9/100\n",
            "242/242 [==============================] - 0s 2ms/step - loss: 1.3257 - val_loss: 1.3479\n",
            "Epoch 10/100\n",
            "242/242 [==============================] - 0s 2ms/step - loss: 1.3258 - val_loss: 1.3481\n",
            "Epoch 11/100\n",
            "242/242 [==============================] - 0s 2ms/step - loss: 1.3258 - val_loss: 1.3479\n",
            "Epoch 12/100\n",
            "242/242 [==============================] - 1s 3ms/step - loss: 1.3258 - val_loss: 1.3480\n",
            "Epoch 13/100\n",
            "242/242 [==============================] - 0s 2ms/step - loss: 1.3257 - val_loss: 1.3479\n",
            "Epoch 14/100\n",
            "242/242 [==============================] - 0s 845us/step - loss: 1.3256 - val_loss: 1.3483\n",
            "Epoch 15/100\n",
            "242/242 [==============================] - 0s 810us/step - loss: 1.3257 - val_loss: 1.3481\n",
            "Epoch 16/100\n",
            "242/242 [==============================] - 0s 849us/step - loss: 1.3257 - val_loss: 1.3479\n",
            "Epoch 17/100\n",
            "242/242 [==============================] - 0s 1ms/step - loss: 1.3258 - val_loss: 1.3479\n",
            "Epoch 18/100\n",
            "242/242 [==============================] - 0s 1ms/step - loss: 1.3258 - val_loss: 1.3479\n",
            "Epoch 19/100\n",
            "242/242 [==============================] - 0s 1ms/step - loss: 1.3257 - val_loss: 1.3479\n",
            "Epoch 20/100\n",
            "242/242 [==============================] - 0s 1ms/step - loss: 1.3257 - val_loss: 1.3479\n",
            "Epoch 21/100\n",
            "242/242 [==============================] - 0s 1ms/step - loss: 1.3258 - val_loss: 1.3480\n",
            "Epoch 22/100\n",
            "242/242 [==============================] - 0s 903us/step - loss: 1.3252 - val_loss: 1.3490\n",
            "Epoch 23/100\n",
            "242/242 [==============================] - 0s 871us/step - loss: 1.3259 - val_loss: 1.3480\n",
            "Epoch 24/100\n",
            "242/242 [==============================] - 0s 1ms/step - loss: 1.3258 - val_loss: 1.3480\n",
            "Epoch 25/100\n",
            "242/242 [==============================] - 0s 1ms/step - loss: 1.3258 - val_loss: 1.3479\n",
            "Epoch 26/100\n",
            "242/242 [==============================] - 1s 2ms/step - loss: 1.3258 - val_loss: 1.3479\n",
            "Epoch 27/100\n",
            "242/242 [==============================] - 0s 2ms/step - loss: 1.3258 - val_loss: 1.3479\n",
            "Epoch 28/100\n",
            "242/242 [==============================] - 0s 2ms/step - loss: 1.3258 - val_loss: 1.3481\n",
            "Epoch 29/100\n",
            "242/242 [==============================] - 0s 2ms/step - loss: 1.3258 - val_loss: 1.3480\n",
            "121/121 [==============================] - 0s 2ms/step - loss: 1.3572\n",
            "Epoch 1/100\n",
            "242/242 [==============================] - 1s 1ms/step - loss: 4.3904 - val_loss: 3.4322\n",
            "Epoch 2/100\n",
            "242/242 [==============================] - 1s 2ms/step - loss: 2.8109 - val_loss: 2.3570\n",
            "Epoch 3/100\n",
            "242/242 [==============================] - 1s 2ms/step - loss: 2.0472 - val_loss: 1.8361\n",
            "Epoch 4/100\n",
            "242/242 [==============================] - 0s 2ms/step - loss: 1.6788 - val_loss: 1.5847\n",
            "Epoch 5/100\n",
            "242/242 [==============================] - 0s 2ms/step - loss: 1.5008 - val_loss: 1.4628\n",
            "Epoch 6/100\n",
            "242/242 [==============================] - 0s 1ms/step - loss: 1.4148 - val_loss: 1.4038\n",
            "Epoch 7/100\n",
            "242/242 [==============================] - 0s 776us/step - loss: 1.3733 - val_loss: 1.3751\n",
            "Epoch 8/100\n",
            "242/242 [==============================] - 0s 768us/step - loss: 1.3533 - val_loss: 1.3612\n",
            "Epoch 9/100\n",
            "242/242 [==============================] - 0s 2ms/step - loss: 1.3437 - val_loss: 1.3545\n",
            "Epoch 10/100\n",
            "242/242 [==============================] - 1s 2ms/step - loss: 1.3391 - val_loss: 1.3513\n",
            "Epoch 11/100\n",
            "242/242 [==============================] - 0s 2ms/step - loss: 1.3369 - val_loss: 1.3496\n",
            "Epoch 12/100\n",
            "242/242 [==============================] - 0s 2ms/step - loss: 1.3358 - val_loss: 1.3487\n",
            "Epoch 13/100\n",
            "242/242 [==============================] - 1s 2ms/step - loss: 1.3352 - val_loss: 1.3483\n",
            "Epoch 14/100\n",
            "242/242 [==============================] - 0s 2ms/step - loss: 1.3350 - val_loss: 1.3481\n",
            "Epoch 15/100\n",
            "242/242 [==============================] - 1s 2ms/step - loss: 1.3349 - val_loss: 1.3480\n",
            "Epoch 16/100\n",
            "242/242 [==============================] - 0s 2ms/step - loss: 1.3348 - val_loss: 1.3480\n",
            "Epoch 17/100\n",
            "242/242 [==============================] - 1s 2ms/step - loss: 1.3348 - val_loss: 1.3479\n",
            "Epoch 18/100\n",
            "242/242 [==============================] - 1s 2ms/step - loss: 1.3348 - val_loss: 1.3479\n",
            "Epoch 19/100\n",
            "242/242 [==============================] - 0s 2ms/step - loss: 1.3348 - val_loss: 1.3479\n",
            "Epoch 20/100\n",
            "242/242 [==============================] - 0s 2ms/step - loss: 1.3348 - val_loss: 1.3479\n",
            "Epoch 21/100\n",
            "242/242 [==============================] - 0s 2ms/step - loss: 1.3348 - val_loss: 1.3479\n",
            "Epoch 22/100\n",
            "242/242 [==============================] - 0s 2ms/step - loss: 1.3348 - val_loss: 1.3479\n",
            "Epoch 23/100\n",
            "242/242 [==============================] - 1s 2ms/step - loss: 1.3348 - val_loss: 1.3479\n",
            "Epoch 24/100\n",
            "242/242 [==============================] - 1s 2ms/step - loss: 1.3348 - val_loss: 1.3479\n",
            "Epoch 25/100\n",
            "242/242 [==============================] - 0s 2ms/step - loss: 1.3348 - val_loss: 1.3479\n",
            "Epoch 26/100\n",
            "242/242 [==============================] - 0s 1ms/step - loss: 1.3348 - val_loss: 1.3479\n",
            "Epoch 27/100\n",
            "242/242 [==============================] - 0s 972us/step - loss: 1.3348 - val_loss: 1.3479\n",
            "Epoch 28/100\n",
            "242/242 [==============================] - 0s 2ms/step - loss: 1.3348 - val_loss: 1.3479\n",
            "Epoch 29/100\n",
            "242/242 [==============================] - 1s 2ms/step - loss: 1.3348 - val_loss: 1.3479\n",
            "Epoch 30/100\n",
            "242/242 [==============================] - 0s 1ms/step - loss: 1.3348 - val_loss: 1.3479\n",
            "Epoch 31/100\n",
            "242/242 [==============================] - 0s 1ms/step - loss: 1.3348 - val_loss: 1.3479\n",
            "Epoch 32/100\n",
            "242/242 [==============================] - 0s 2ms/step - loss: 1.3348 - val_loss: 1.3479\n",
            "Epoch 33/100\n",
            "242/242 [==============================] - 1s 2ms/step - loss: 1.3348 - val_loss: 1.3479\n",
            "Epoch 34/100\n",
            "242/242 [==============================] - 0s 2ms/step - loss: 1.3348 - val_loss: 1.3479\n",
            "Epoch 35/100\n",
            "242/242 [==============================] - 0s 2ms/step - loss: 1.3348 - val_loss: 1.3479\n",
            "Epoch 36/100\n",
            "242/242 [==============================] - 0s 2ms/step - loss: 1.3348 - val_loss: 1.3479\n",
            "Epoch 37/100\n",
            "242/242 [==============================] - 0s 2ms/step - loss: 1.3348 - val_loss: 1.3479\n",
            "Epoch 38/100\n",
            "242/242 [==============================] - 1s 2ms/step - loss: 1.3348 - val_loss: 1.3479\n",
            "Epoch 39/100\n",
            "242/242 [==============================] - 0s 2ms/step - loss: 1.3348 - val_loss: 1.3479\n",
            "121/121 [==============================] - 0s 1ms/step - loss: 1.3386\n",
            "Epoch 1/100\n",
            "242/242 [==============================] - 1s 2ms/step - loss: 1244129.2500 - val_loss: 187.3926\n",
            "Epoch 2/100\n",
            "242/242 [==============================] - 0s 949us/step - loss: 133.8136 - val_loss: 91.0966\n",
            "Epoch 3/100\n",
            "242/242 [==============================] - 0s 992us/step - loss: 65.2703 - val_loss: 44.6256\n",
            "Epoch 4/100\n",
            "242/242 [==============================] - 0s 1ms/step - loss: 32.1912 - val_loss: 22.2151\n",
            "Epoch 5/100\n",
            "242/242 [==============================] - 0s 1ms/step - loss: 16.2343 - val_loss: 11.4094\n",
            "Epoch 6/100\n",
            "242/242 [==============================] - 0s 796us/step - loss: 8.5343 - val_loss: 6.1956\n",
            "Epoch 7/100\n",
            "242/242 [==============================] - 0s 1ms/step - loss: 4.8156 - val_loss: 3.6802\n",
            "Epoch 8/100\n",
            "242/242 [==============================] - 0s 2ms/step - loss: 3.0209 - val_loss: 2.4698\n",
            "Epoch 9/100\n",
            "242/242 [==============================] - 0s 2ms/step - loss: 2.1558 - val_loss: 1.8867\n",
            "Epoch 10/100\n",
            "242/242 [==============================] - 0s 2ms/step - loss: 1.7382 - val_loss: 1.6066\n",
            "Epoch 11/100\n",
            "242/242 [==============================] - 0s 2ms/step - loss: 1.5366 - val_loss: 1.4712\n",
            "Epoch 12/100\n",
            "242/242 [==============================] - 0s 2ms/step - loss: 1.4389 - val_loss: 1.4064\n",
            "Epoch 13/100\n",
            "242/242 [==============================] - 0s 2ms/step - loss: 1.3920 - val_loss: 1.3757\n",
            "Epoch 14/100\n",
            "242/242 [==============================] - 0s 2ms/step - loss: 1.3692 - val_loss: 1.3607\n",
            "Epoch 15/100\n",
            "242/242 [==============================] - 0s 1ms/step - loss: 1.3581 - val_loss: 1.3537\n",
            "Epoch 16/100\n",
            "242/242 [==============================] - 0s 2ms/step - loss: 1.3528 - val_loss: 1.3505\n",
            "Epoch 17/100\n",
            "242/242 [==============================] - 0s 2ms/step - loss: 1.3503 - val_loss: 1.3490\n",
            "Epoch 18/100\n",
            "242/242 [==============================] - 0s 881us/step - loss: 1.3491 - val_loss: 1.3484\n",
            "Epoch 19/100\n",
            "242/242 [==============================] - 0s 800us/step - loss: 1.3485 - val_loss: 1.3481\n",
            "Epoch 20/100\n",
            "242/242 [==============================] - 0s 762us/step - loss: 1.3482 - val_loss: 1.3479\n",
            "Epoch 21/100\n",
            "242/242 [==============================] - 0s 774us/step - loss: 1.3481 - val_loss: 1.3479\n",
            "Epoch 22/100\n",
            "242/242 [==============================] - 0s 946us/step - loss: 1.3480 - val_loss: 1.3479\n",
            "Epoch 23/100\n",
            "242/242 [==============================] - 1s 2ms/step - loss: 1.3480 - val_loss: 1.3479\n",
            "Epoch 24/100\n",
            "242/242 [==============================] - 0s 2ms/step - loss: 1.3480 - val_loss: 1.3479\n",
            "Epoch 25/100\n",
            "242/242 [==============================] - 0s 2ms/step - loss: 1.3480 - val_loss: 1.3479\n",
            "Epoch 26/100\n",
            "242/242 [==============================] - 1s 2ms/step - loss: 1.3480 - val_loss: 1.3479\n",
            "Epoch 27/100\n",
            "242/242 [==============================] - 0s 2ms/step - loss: 1.3480 - val_loss: 1.3479\n",
            "Epoch 28/100\n",
            "242/242 [==============================] - 1s 2ms/step - loss: 1.3480 - val_loss: 1.3479\n",
            "Epoch 29/100\n",
            "242/242 [==============================] - 1s 2ms/step - loss: 1.3480 - val_loss: 1.3479\n",
            "Epoch 30/100\n",
            "242/242 [==============================] - 1s 2ms/step - loss: 1.3480 - val_loss: 1.3479\n",
            "Epoch 31/100\n",
            "242/242 [==============================] - 0s 2ms/step - loss: 1.3480 - val_loss: 1.3479\n",
            "Epoch 32/100\n",
            "242/242 [==============================] - 1s 2ms/step - loss: 1.3480 - val_loss: 1.3479\n",
            "121/121 [==============================] - 0s 2ms/step - loss: 1.3123\n",
            "Epoch 1/100\n",
            "242/242 [==============================] - 1s 1ms/step - loss: nan - val_loss: nan\n",
            "Epoch 2/100\n",
            "242/242 [==============================] - 0s 2ms/step - loss: nan - val_loss: nan\n",
            "Epoch 3/100\n",
            "242/242 [==============================] - 0s 2ms/step - loss: nan - val_loss: nan\n",
            "Epoch 4/100\n",
            "242/242 [==============================] - 0s 2ms/step - loss: nan - val_loss: nan\n",
            "Epoch 5/100\n",
            "242/242 [==============================] - 0s 2ms/step - loss: nan - val_loss: nan\n",
            "Epoch 6/100\n",
            "242/242 [==============================] - 0s 2ms/step - loss: nan - val_loss: nan\n",
            "Epoch 7/100\n",
            "242/242 [==============================] - 0s 2ms/step - loss: nan - val_loss: nan\n",
            "Epoch 8/100\n",
            "242/242 [==============================] - 0s 2ms/step - loss: nan - val_loss: nan\n",
            "Epoch 9/100\n",
            "242/242 [==============================] - 0s 2ms/step - loss: nan - val_loss: nan\n",
            "Epoch 10/100\n",
            "242/242 [==============================] - 0s 2ms/step - loss: nan - val_loss: nan\n",
            "121/121 [==============================] - 0s 2ms/step - loss: nan\n",
            "Epoch 1/100\n",
            "242/242 [==============================] - 1s 2ms/step - loss: 39402762240.0000 - val_loss: 3040192.7500\n",
            "Epoch 2/100\n",
            "242/242 [==============================] - 0s 1ms/step - loss: 2591028.0000 - val_loss: 2184828.5000\n",
            "Epoch 3/100\n",
            "242/242 [==============================] - 1s 2ms/step - loss: 1862041.8750 - val_loss: 1570121.5000\n",
            "Epoch 4/100\n",
            "242/242 [==============================] - 0s 1ms/step - loss: 1338158.0000 - val_loss: 1128364.2500\n",
            "Epoch 5/100\n",
            "242/242 [==============================] - 0s 903us/step - loss: 961668.0625 - val_loss: 810895.6250\n",
            "Epoch 6/100\n",
            "242/242 [==============================] - 0s 2ms/step - loss: 691102.8750 - val_loss: 582746.9375\n",
            "Epoch 7/100\n",
            "242/242 [==============================] - 0s 2ms/step - loss: 496661.4062 - val_loss: 418788.0312\n",
            "Epoch 8/100\n",
            "242/242 [==============================] - 0s 2ms/step - loss: 356925.5938 - val_loss: 300959.3750\n",
            "Epoch 9/100\n",
            "242/242 [==============================] - 1s 2ms/step - loss: 256504.7344 - val_loss: 216282.9531\n",
            "Epoch 10/100\n",
            "242/242 [==============================] - 0s 2ms/step - loss: 184337.2969 - val_loss: 155430.1875\n",
            "Epoch 11/100\n",
            "242/242 [==============================] - 1s 2ms/step - loss: 132474.3125 - val_loss: 111698.6719\n",
            "Epoch 12/100\n",
            "242/242 [==============================] - 0s 2ms/step - loss: 95202.9844 - val_loss: 80271.3828\n",
            "Epoch 13/100\n",
            "242/242 [==============================] - 0s 2ms/step - loss: 68417.8828 - val_loss: 57686.3242\n",
            "Epoch 14/100\n",
            "242/242 [==============================] - 1s 2ms/step - loss: 49168.8555 - val_loss: 41455.8555\n",
            "Epoch 15/100\n",
            "242/242 [==============================] - 1s 2ms/step - loss: 35335.6602 - val_loss: 29791.9629\n",
            "Epoch 16/100\n",
            "242/242 [==============================] - 1s 2ms/step - loss: 25394.3633 - val_loss: 21409.7656\n",
            "Epoch 17/100\n",
            "242/242 [==============================] - 0s 2ms/step - loss: 18250.0059 - val_loss: 15385.9756\n",
            "Epoch 18/100\n",
            "242/242 [==============================] - 0s 2ms/step - loss: 13115.7051 - val_loss: 11057.1221\n",
            "Epoch 19/100\n",
            "242/242 [==============================] - 1s 2ms/step - loss: 9425.9775 - val_loss: 7946.2500\n",
            "Epoch 20/100\n",
            "242/242 [==============================] - 1s 2ms/step - loss: 6774.3633 - val_loss: 5710.7144\n",
            "Epoch 21/100\n",
            "242/242 [==============================] - 0s 2ms/step - loss: 4868.7852 - val_loss: 4104.1797\n",
            "Epoch 22/100\n",
            "242/242 [==============================] - 0s 1ms/step - loss: 3499.3289 - val_loss: 2949.6885\n",
            "Epoch 23/100\n",
            "242/242 [==============================] - 1s 2ms/step - loss: 2515.1682 - val_loss: 2120.0500\n",
            "Epoch 24/100\n",
            "242/242 [==============================] - 0s 2ms/step - loss: 1807.9023 - val_loss: 1523.8597\n",
            "Epoch 25/100\n",
            "242/242 [==============================] - 1s 2ms/step - loss: 1299.6202 - val_loss: 1095.4374\n",
            "Epoch 26/100\n",
            "242/242 [==============================] - 0s 2ms/step - loss: 934.3538 - val_loss: 787.5839\n",
            "Epoch 27/100\n",
            "242/242 [==============================] - 0s 2ms/step - loss: 671.8489 - val_loss: 566.3508\n",
            "Epoch 28/100\n",
            "242/242 [==============================] - 0s 741us/step - loss: 483.1998 - val_loss: 407.3884\n",
            "Epoch 29/100\n",
            "242/242 [==============================] - 0s 747us/step - loss: 347.6295 - val_loss: 293.1595\n",
            "Epoch 30/100\n",
            "242/242 [==============================] - 0s 971us/step - loss: 250.1986 - val_loss: 211.0788\n",
            "Epoch 31/100\n",
            "242/242 [==============================] - 0s 2ms/step - loss: 180.1768 - val_loss: 152.0992\n",
            "Epoch 32/100\n",
            "242/242 [==============================] - 1s 2ms/step - loss: 129.8570 - val_loss: 109.7258\n",
            "Epoch 33/100\n",
            "242/242 [==============================] - 0s 2ms/step - loss: 93.6965 - val_loss: 79.2827\n",
            "Epoch 34/100\n",
            "242/242 [==============================] - 0s 2ms/step - loss: 67.7103 - val_loss: 57.4095\n",
            "Epoch 35/100\n",
            "242/242 [==============================] - 1s 2ms/step - loss: 49.0344 - val_loss: 41.6959\n",
            "Epoch 36/100\n",
            "242/242 [==============================] - 0s 2ms/step - loss: 35.6139 - val_loss: 30.4094\n",
            "Epoch 37/100\n",
            "242/242 [==============================] - 1s 2ms/step - loss: 25.9701 - val_loss: 22.3018\n",
            "Epoch 38/100\n",
            "242/242 [==============================] - 1s 2ms/step - loss: 19.0392 - val_loss: 16.4784\n",
            "Epoch 39/100\n",
            "242/242 [==============================] - 1s 2ms/step - loss: 14.0581 - val_loss: 12.2953\n",
            "Epoch 40/100\n",
            "242/242 [==============================] - 0s 2ms/step - loss: 10.4777 - val_loss: 9.2915\n",
            "Epoch 41/100\n",
            "242/242 [==============================] - 0s 2ms/step - loss: 7.9054 - val_loss: 7.1354\n",
            "Epoch 42/100\n",
            "242/242 [==============================] - 0s 2ms/step - loss: 6.0564 - val_loss: 5.5867\n",
            "Epoch 43/100\n",
            "242/242 [==============================] - 1s 2ms/step - loss: 4.7274 - val_loss: 4.4754\n",
            "Epoch 44/100\n",
            "242/242 [==============================] - 1s 2ms/step - loss: 3.7727 - val_loss: 3.6783\n",
            "Epoch 45/100\n",
            "242/242 [==============================] - 0s 2ms/step - loss: 3.0868 - val_loss: 3.1066\n",
            "Epoch 46/100\n",
            "242/242 [==============================] - 1s 2ms/step - loss: 2.5940 - val_loss: 2.6968\n",
            "Epoch 47/100\n",
            "242/242 [==============================] - 1s 2ms/step - loss: 2.2399 - val_loss: 2.4027\n",
            "Epoch 48/100\n",
            "242/242 [==============================] - 1s 2ms/step - loss: 1.9851 - val_loss: 2.1920\n",
            "Epoch 49/100\n",
            "242/242 [==============================] - 1s 2ms/step - loss: 1.8021 - val_loss: 2.0410\n",
            "Epoch 50/100\n",
            "242/242 [==============================] - 1s 2ms/step - loss: 1.6706 - val_loss: 1.9331\n",
            "Epoch 51/100\n",
            "242/242 [==============================] - 1s 2ms/step - loss: 1.5761 - val_loss: 1.8559\n",
            "Epoch 52/100\n",
            "242/242 [==============================] - 0s 2ms/step - loss: 1.5083 - val_loss: 1.8007\n",
            "Epoch 53/100\n",
            "242/242 [==============================] - 0s 953us/step - loss: 1.4595 - val_loss: 1.7613\n",
            "Epoch 54/100\n",
            "242/242 [==============================] - 0s 2ms/step - loss: 1.4244 - val_loss: 1.7332\n",
            "Epoch 55/100\n",
            "242/242 [==============================] - 0s 2ms/step - loss: 1.3992 - val_loss: 1.7133\n",
            "Epoch 56/100\n",
            "242/242 [==============================] - 0s 2ms/step - loss: 1.3811 - val_loss: 1.6991\n",
            "Epoch 57/100\n",
            "242/242 [==============================] - 0s 2ms/step - loss: 1.3680 - val_loss: 1.6890\n",
            "Epoch 58/100\n",
            "242/242 [==============================] - 0s 2ms/step - loss: 1.3587 - val_loss: 1.6818\n",
            "Epoch 59/100\n",
            "242/242 [==============================] - 0s 2ms/step - loss: 1.3520 - val_loss: 1.6768\n",
            "Epoch 60/100\n",
            "242/242 [==============================] - 0s 762us/step - loss: 1.3471 - val_loss: 1.6733\n",
            "Epoch 61/100\n",
            "242/242 [==============================] - 0s 885us/step - loss: 1.3436 - val_loss: 1.6708\n",
            "Epoch 62/100\n",
            "242/242 [==============================] - 0s 887us/step - loss: 1.3411 - val_loss: 1.6691\n",
            "Epoch 63/100\n",
            "242/242 [==============================] - 0s 2ms/step - loss: 1.3393 - val_loss: 1.6679\n",
            "Epoch 64/100\n",
            "242/242 [==============================] - 0s 2ms/step - loss: 1.3380 - val_loss: 1.6671\n",
            "Epoch 65/100\n",
            "242/242 [==============================] - 0s 2ms/step - loss: 1.3371 - val_loss: 1.6666\n",
            "Epoch 66/100\n",
            "242/242 [==============================] - 0s 2ms/step - loss: 1.3364 - val_loss: 1.6662\n",
            "Epoch 67/100\n",
            "242/242 [==============================] - 1s 2ms/step - loss: 1.3360 - val_loss: 1.6660\n",
            "Epoch 68/100\n",
            "242/242 [==============================] - 0s 2ms/step - loss: 1.3356 - val_loss: 1.6659\n",
            "Epoch 69/100\n",
            "242/242 [==============================] - 0s 2ms/step - loss: 1.3354 - val_loss: 1.6658\n",
            "Epoch 70/100\n",
            "242/242 [==============================] - 1s 2ms/step - loss: 1.3352 - val_loss: 1.6658\n",
            "Epoch 71/100\n",
            "242/242 [==============================] - 0s 2ms/step - loss: 1.3351 - val_loss: 1.6657\n",
            "Epoch 72/100\n",
            "242/242 [==============================] - 1s 2ms/step - loss: 1.3350 - val_loss: 1.6657\n",
            "Epoch 73/100\n",
            "242/242 [==============================] - 0s 2ms/step - loss: 1.3349 - val_loss: 1.6657\n",
            "Epoch 74/100\n",
            "242/242 [==============================] - 0s 2ms/step - loss: 1.3349 - val_loss: 1.6658\n",
            "Epoch 75/100\n",
            "242/242 [==============================] - 1s 2ms/step - loss: 1.3348 - val_loss: 1.6658\n",
            "Epoch 76/100\n",
            "242/242 [==============================] - 1s 2ms/step - loss: 1.3348 - val_loss: 1.6658\n",
            "Epoch 77/100\n",
            "242/242 [==============================] - 0s 2ms/step - loss: 1.3348 - val_loss: 1.6658\n",
            "Epoch 78/100\n",
            "242/242 [==============================] - 0s 2ms/step - loss: 1.3348 - val_loss: 1.6658\n",
            "Epoch 79/100\n",
            "242/242 [==============================] - 0s 2ms/step - loss: 1.3348 - val_loss: 1.6659\n",
            "Epoch 80/100\n",
            "242/242 [==============================] - 0s 2ms/step - loss: 1.3348 - val_loss: 1.6659\n",
            "Epoch 81/100\n",
            "242/242 [==============================] - 0s 2ms/step - loss: 1.3348 - val_loss: 1.6659\n",
            "Epoch 82/100\n",
            "242/242 [==============================] - 0s 2ms/step - loss: 1.3348 - val_loss: 1.6659\n",
            "121/121 [==============================] - 0s 2ms/step - loss: 20.4514\n",
            "Epoch 1/100\n",
            "242/242 [==============================] - 1s 2ms/step - loss: 180477847666688.0000 - val_loss: 11764856832.0000\n",
            "Epoch 2/100\n",
            "242/242 [==============================] - 1s 2ms/step - loss: 10026515456.0000 - val_loss: 8454806528.0000\n",
            "Epoch 3/100\n",
            "242/242 [==============================] - 0s 2ms/step - loss: 7205551616.0000 - val_loss: 6076048896.0000\n",
            "Epoch 4/100\n",
            "242/242 [==============================] - 0s 2ms/step - loss: 5178270208.0000 - val_loss: 4366556672.0000\n",
            "Epoch 5/100\n",
            "242/242 [==============================] - 1s 2ms/step - loss: 3721365504.0000 - val_loss: 3138022144.0000\n",
            "Epoch 6/100\n",
            "242/242 [==============================] - 0s 2ms/step - loss: 2674356224.0000 - val_loss: 2255140096.0000\n",
            "Epoch 7/100\n",
            "242/242 [==============================] - 0s 2ms/step - loss: 1921926272.0000 - val_loss: 1620653824.0000\n",
            "Epoch 8/100\n",
            "242/242 [==============================] - 0s 2ms/step - loss: 1381191424.0000 - val_loss: 1164682880.0000\n",
            "Epoch 9/100\n",
            "242/242 [==============================] - 0s 2ms/step - loss: 992592768.0000 - val_loss: 836997760.0000\n",
            "Epoch 10/100\n",
            "242/242 [==============================] - 1s 2ms/step - loss: 713325248.0000 - val_loss: 601508288.0000\n",
            "Epoch 11/100\n",
            "242/242 [==============================] - 0s 1ms/step - loss: 512631104.0000 - val_loss: 432273184.0000\n",
            "Epoch 12/100\n",
            "242/242 [==============================] - 0s 743us/step - loss: 368402080.0000 - val_loss: 310653600.0000\n",
            "Epoch 13/100\n",
            "242/242 [==============================] - 0s 731us/step - loss: 264752176.0000 - val_loss: 223250704.0000\n",
            "Epoch 14/100\n",
            "242/242 [==============================] - 0s 728us/step - loss: 190263840.0000 - val_loss: 160438864.0000\n",
            "Epoch 15/100\n",
            "242/242 [==============================] - 0s 867us/step - loss: 136732944.0000 - val_loss: 115299312.0000\n",
            "Epoch 16/100\n",
            "242/242 [==============================] - 0s 1ms/step - loss: 98263144.0000 - val_loss: 82859816.0000\n",
            "Epoch 17/100\n",
            "242/242 [==============================] - 0s 2ms/step - loss: 70616768.0000 - val_loss: 59547160.0000\n",
            "Epoch 18/100\n",
            "242/242 [==============================] - 0s 2ms/step - loss: 50748720.0000 - val_loss: 42793552.0000\n",
            "Epoch 19/100\n",
            "242/242 [==============================] - 0s 1ms/step - loss: 36470568.0000 - val_loss: 30753590.0000\n",
            "Epoch 20/100\n",
            "242/242 [==============================] - 0s 2ms/step - loss: 26209568.0000 - val_loss: 22101040.0000\n",
            "Epoch 21/100\n",
            "242/242 [==============================] - 0s 2ms/step - loss: 18835490.0000 - val_loss: 15882881.0000\n",
            "Epoch 22/100\n",
            "242/242 [==============================] - 0s 2ms/step - loss: 13536115.0000 - val_loss: 11414229.0000\n",
            "Epoch 23/100\n",
            "242/242 [==============================] - 0s 2ms/step - loss: 9727725.0000 - val_loss: 8202819.0000\n",
            "Epoch 24/100\n",
            "242/242 [==============================] - 1s 2ms/step - loss: 6990826.0000 - val_loss: 5894946.5000\n",
            "Epoch 25/100\n",
            "242/242 [==============================] - 0s 2ms/step - loss: 5023949.0000 - val_loss: 4236393.5000\n",
            "Epoch 26/100\n",
            "242/242 [==============================] - 0s 934us/step - loss: 3610455.7500 - val_loss: 3044479.2500\n",
            "Epoch 27/100\n",
            "242/242 [==============================] - 0s 770us/step - loss: 2594656.7500 - val_loss: 2187914.5000\n",
            "Epoch 28/100\n",
            "242/242 [==============================] - 0s 954us/step - loss: 1864650.5000 - val_loss: 1572341.8750\n",
            "Epoch 29/100\n",
            "242/242 [==============================] - 0s 1ms/step - loss: 1340030.2500 - val_loss: 1129961.8750\n",
            "Epoch 30/100\n",
            "242/242 [==============================] - 0s 2ms/step - loss: 963012.3125 - val_loss: 812044.8125\n",
            "Epoch 31/100\n",
            "242/242 [==============================] - 0s 2ms/step - loss: 692068.5000 - val_loss: 583574.6875\n",
            "Epoch 32/100\n",
            "242/242 [==============================] - 0s 2ms/step - loss: 497355.4375 - val_loss: 419385.1562\n",
            "Epoch 33/100\n",
            "242/242 [==============================] - 0s 2ms/step - loss: 357424.8438 - val_loss: 301390.4062\n",
            "Epoch 34/100\n",
            "242/242 [==============================] - 1s 2ms/step - loss: 256863.6562 - val_loss: 216593.5000\n",
            "Epoch 35/100\n",
            "242/242 [==============================] - 1s 2ms/step - loss: 184595.4062 - val_loss: 155654.7500\n",
            "Epoch 36/100\n",
            "242/242 [==============================] - 0s 2ms/step - loss: 132659.9688 - val_loss: 111861.1016\n",
            "Epoch 37/100\n",
            "242/242 [==============================] - 0s 2ms/step - loss: 95336.3828 - val_loss: 80388.8203\n",
            "Epoch 38/100\n",
            "242/242 [==============================] - 0s 2ms/step - loss: 68513.8750 - val_loss: 57771.3438\n",
            "Epoch 39/100\n",
            "242/242 [==============================] - 1s 2ms/step - loss: 49237.8242 - val_loss: 41517.2891\n",
            "Epoch 40/100\n",
            "242/242 [==============================] - 0s 2ms/step - loss: 35385.0742 - val_loss: 29836.4180\n",
            "Epoch 41/100\n",
            "242/242 [==============================] - 0s 2ms/step - loss: 25429.8379 - val_loss: 21442.0410\n",
            "Epoch 42/100\n",
            "242/242 [==============================] - 0s 2ms/step - loss: 18275.5273 - val_loss: 15409.4863\n",
            "Epoch 43/100\n",
            "242/242 [==============================] - 0s 2ms/step - loss: 13134.0859 - val_loss: 11074.2197\n",
            "Epoch 44/100\n",
            "242/242 [==============================] - 0s 2ms/step - loss: 9439.1777 - val_loss: 7958.6675\n",
            "Epoch 45/100\n",
            "242/242 [==============================] - 0s 2ms/step - loss: 6783.8223 - val_loss: 5719.7246\n",
            "Epoch 46/100\n",
            "242/242 [==============================] - 0s 2ms/step - loss: 4875.5654 - val_loss: 4110.7393\n",
            "Epoch 47/100\n",
            "242/242 [==============================] - 0s 2ms/step - loss: 3504.2039 - val_loss: 2954.4592\n",
            "Epoch 48/100\n",
            "242/242 [==============================] - 0s 2ms/step - loss: 2518.6736 - val_loss: 2123.5149\n",
            "Epoch 49/100\n",
            "242/242 [==============================] - 0s 873us/step - loss: 1810.4218 - val_loss: 1526.3734\n",
            "Epoch 50/100\n",
            "242/242 [==============================] - 0s 2ms/step - loss: 1301.4365 - val_loss: 1097.2419\n",
            "Epoch 51/100\n",
            "242/242 [==============================] - 0s 2ms/step - loss: 935.6570 - val_loss: 788.8628\n",
            "Epoch 52/100\n",
            "242/242 [==============================] - 0s 2ms/step - loss: 672.7898 - val_loss: 567.2539\n",
            "Epoch 53/100\n",
            "242/242 [==============================] - 0s 1ms/step - loss: 483.8801 - val_loss: 407.9968\n",
            "Epoch 54/100\n",
            "242/242 [==============================] - 0s 2ms/step - loss: 348.1163 - val_loss: 293.5507\n",
            "Epoch 55/100\n",
            "242/242 [==============================] - 0s 2ms/step - loss: 250.5484 - val_loss: 211.3087\n",
            "Epoch 56/100\n",
            "242/242 [==============================] - 1s 2ms/step - loss: 180.4354 - val_loss: 152.2161\n",
            "Epoch 57/100\n",
            "242/242 [==============================] - 0s 2ms/step - loss: 130.0497 - val_loss: 109.7505\n",
            "Epoch 58/100\n",
            "242/242 [==============================] - 0s 2ms/step - loss: 93.8399 - val_loss: 79.2342\n",
            "Epoch 59/100\n",
            "242/242 [==============================] - 1s 2ms/step - loss: 67.8157 - val_loss: 57.3062\n",
            "Epoch 60/100\n",
            "242/242 [==============================] - 0s 2ms/step - loss: 49.1154 - val_loss: 41.5514\n",
            "Epoch 61/100\n",
            "242/242 [==============================] - 1s 2ms/step - loss: 35.6767 - val_loss: 30.2307\n",
            "Epoch 62/100\n",
            "242/242 [==============================] - 0s 2ms/step - loss: 26.0178 - val_loss: 22.0954\n",
            "Epoch 63/100\n",
            "242/242 [==============================] - 0s 2ms/step - loss: 19.0770 - val_loss: 16.2507\n",
            "Epoch 64/100\n",
            "242/242 [==============================] - 1s 2ms/step - loss: 14.0882 - val_loss: 12.0510\n",
            "Epoch 65/100\n",
            "242/242 [==============================] - 0s 2ms/step - loss: 10.5037 - val_loss: 9.0348\n",
            "Epoch 66/100\n",
            "242/242 [==============================] - 0s 2ms/step - loss: 7.9280 - val_loss: 6.8679\n",
            "Epoch 67/100\n",
            "242/242 [==============================] - 0s 2ms/step - loss: 6.0767 - val_loss: 5.3110\n",
            "Epoch 68/100\n",
            "242/242 [==============================] - 0s 2ms/step - loss: 4.7460 - val_loss: 4.1926\n",
            "Epoch 69/100\n",
            "242/242 [==============================] - 0s 2ms/step - loss: 3.7900 - val_loss: 3.3895\n",
            "Epoch 70/100\n",
            "242/242 [==============================] - 0s 2ms/step - loss: 3.1030 - val_loss: 2.8128\n",
            "Epoch 71/100\n",
            "242/242 [==============================] - 0s 2ms/step - loss: 2.6092 - val_loss: 2.3987\n",
            "Epoch 72/100\n",
            "242/242 [==============================] - 0s 2ms/step - loss: 2.2543 - val_loss: 2.1012\n",
            "Epoch 73/100\n",
            "242/242 [==============================] - 0s 2ms/step - loss: 1.9993 - val_loss: 1.8879\n",
            "Epoch 74/100\n",
            "242/242 [==============================] - 0s 2ms/step - loss: 1.8161 - val_loss: 1.7347\n",
            "Epoch 75/100\n",
            "242/242 [==============================] - 0s 979us/step - loss: 1.6844 - val_loss: 1.6248\n",
            "Epoch 76/100\n",
            "242/242 [==============================] - 0s 990us/step - loss: 1.5897 - val_loss: 1.5459\n",
            "Epoch 77/100\n",
            "242/242 [==============================] - 0s 2ms/step - loss: 1.5217 - val_loss: 1.4894\n",
            "Epoch 78/100\n",
            "242/242 [==============================] - 1s 2ms/step - loss: 1.4728 - val_loss: 1.4489\n",
            "Epoch 79/100\n",
            "242/242 [==============================] - 0s 2ms/step - loss: 1.4377 - val_loss: 1.4198\n",
            "Epoch 80/100\n",
            "242/242 [==============================] - 0s 2ms/step - loss: 1.4124 - val_loss: 1.3991\n",
            "Epoch 81/100\n",
            "242/242 [==============================] - 1s 2ms/step - loss: 1.3943 - val_loss: 1.3842\n",
            "Epoch 82/100\n",
            "242/242 [==============================] - 0s 2ms/step - loss: 1.3812 - val_loss: 1.3735\n",
            "Epoch 83/100\n",
            "242/242 [==============================] - 0s 2ms/step - loss: 1.3718 - val_loss: 1.3659\n",
            "Epoch 84/100\n",
            "242/242 [==============================] - 0s 2ms/step - loss: 1.3651 - val_loss: 1.3605\n",
            "Epoch 85/100\n",
            "242/242 [==============================] - 0s 2ms/step - loss: 1.3603 - val_loss: 1.3567\n",
            "Epoch 86/100\n",
            "242/242 [==============================] - 0s 2ms/step - loss: 1.3568 - val_loss: 1.3539\n",
            "Epoch 87/100\n",
            "242/242 [==============================] - 0s 2ms/step - loss: 1.3543 - val_loss: 1.3520\n",
            "Epoch 88/100\n",
            "242/242 [==============================] - 0s 2ms/step - loss: 1.3525 - val_loss: 1.3506\n",
            "Epoch 89/100\n",
            "242/242 [==============================] - 1s 2ms/step - loss: 1.3512 - val_loss: 1.3496\n",
            "Epoch 90/100\n",
            "242/242 [==============================] - 0s 2ms/step - loss: 1.3503 - val_loss: 1.3489\n",
            "Epoch 91/100\n",
            "242/242 [==============================] - 0s 2ms/step - loss: 1.3496 - val_loss: 1.3485\n",
            "Epoch 92/100\n",
            "242/242 [==============================] - 0s 1ms/step - loss: 1.3492 - val_loss: 1.3481\n",
            "Epoch 93/100\n",
            "242/242 [==============================] - 0s 2ms/step - loss: 1.3488 - val_loss: 1.3479\n",
            "Epoch 94/100\n",
            "242/242 [==============================] - 0s 2ms/step - loss: 1.3486 - val_loss: 1.3477\n",
            "Epoch 95/100\n",
            "242/242 [==============================] - 0s 2ms/step - loss: 1.3484 - val_loss: 1.3476\n",
            "Epoch 96/100\n",
            "242/242 [==============================] - 0s 2ms/step - loss: 1.3483 - val_loss: 1.3476\n",
            "Epoch 97/100\n",
            "242/242 [==============================] - 0s 2ms/step - loss: 1.3482 - val_loss: 1.3475\n",
            "Epoch 98/100\n",
            "242/242 [==============================] - 0s 2ms/step - loss: 1.3481 - val_loss: 1.3475\n",
            "Epoch 99/100\n",
            "242/242 [==============================] - 0s 2ms/step - loss: 1.3481 - val_loss: 1.3475\n",
            "Epoch 100/100\n",
            "242/242 [==============================] - 0s 2ms/step - loss: 1.3480 - val_loss: 1.3474\n",
            "121/121 [==============================] - 0s 1ms/step - loss: 1.3122\n",
            "Epoch 1/100\n",
            "242/242 [==============================] - 1s 2ms/step - loss: nan - val_loss: nan\n",
            "Epoch 2/100\n",
            "242/242 [==============================] - 0s 2ms/step - loss: nan - val_loss: nan\n",
            "Epoch 3/100\n",
            "242/242 [==============================] - 0s 2ms/step - loss: nan - val_loss: nan\n",
            "Epoch 4/100\n",
            "242/242 [==============================] - 0s 2ms/step - loss: nan - val_loss: nan\n",
            "Epoch 5/100\n",
            "242/242 [==============================] - 0s 2ms/step - loss: nan - val_loss: nan\n",
            "Epoch 6/100\n",
            "242/242 [==============================] - 0s 2ms/step - loss: nan - val_loss: nan\n",
            "Epoch 7/100\n",
            "242/242 [==============================] - 1s 2ms/step - loss: nan - val_loss: nan\n",
            "Epoch 8/100\n",
            "242/242 [==============================] - 0s 2ms/step - loss: nan - val_loss: nan\n",
            "Epoch 9/100\n",
            "242/242 [==============================] - 0s 2ms/step - loss: nan - val_loss: nan\n",
            "Epoch 10/100\n",
            "242/242 [==============================] - 0s 1ms/step - loss: nan - val_loss: nan\n",
            "121/121 [==============================] - 0s 617us/step - loss: nan\n",
            "Epoch 1/100\n",
            "242/242 [==============================] - 1s 2ms/step - loss: nan - val_loss: nan\n",
            "Epoch 2/100\n",
            "242/242 [==============================] - 0s 829us/step - loss: nan - val_loss: nan\n",
            "Epoch 3/100\n",
            "242/242 [==============================] - 0s 2ms/step - loss: nan - val_loss: nan\n",
            "Epoch 4/100\n",
            "242/242 [==============================] - 0s 2ms/step - loss: nan - val_loss: nan\n",
            "Epoch 5/100\n",
            "242/242 [==============================] - 0s 2ms/step - loss: nan - val_loss: nan\n",
            "Epoch 6/100\n",
            "242/242 [==============================] - 0s 2ms/step - loss: nan - val_loss: nan\n",
            "Epoch 7/100\n",
            "242/242 [==============================] - 0s 2ms/step - loss: nan - val_loss: nan\n",
            "Epoch 8/100\n",
            "242/242 [==============================] - 0s 2ms/step - loss: nan - val_loss: nan\n",
            "Epoch 9/100\n",
            "242/242 [==============================] - 0s 2ms/step - loss: nan - val_loss: nan\n",
            "Epoch 10/100\n",
            "242/242 [==============================] - 0s 2ms/step - loss: nan - val_loss: nan\n",
            "121/121 [==============================] - 0s 1ms/step - loss: nan\n",
            "Epoch 1/100\n",
            "242/242 [==============================] - 1s 1ms/step - loss: nan - val_loss: nan\n",
            "Epoch 2/100\n",
            "242/242 [==============================] - 1s 2ms/step - loss: nan - val_loss: nan\n",
            "Epoch 3/100\n",
            "242/242 [==============================] - 0s 2ms/step - loss: nan - val_loss: nan\n",
            "Epoch 4/100\n",
            "242/242 [==============================] - 0s 2ms/step - loss: nan - val_loss: nan\n",
            "Epoch 5/100\n",
            "242/242 [==============================] - 1s 2ms/step - loss: nan - val_loss: nan\n",
            "Epoch 6/100\n",
            "242/242 [==============================] - 0s 2ms/step - loss: nan - val_loss: nan\n",
            "Epoch 7/100\n",
            "242/242 [==============================] - 1s 2ms/step - loss: nan - val_loss: nan\n",
            "Epoch 8/100\n",
            "242/242 [==============================] - 0s 2ms/step - loss: nan - val_loss: nan\n",
            "Epoch 9/100\n",
            "242/242 [==============================] - 0s 1ms/step - loss: nan - val_loss: nan\n",
            "Epoch 10/100\n",
            "242/242 [==============================] - 0s 2ms/step - loss: nan - val_loss: nan\n",
            "121/121 [==============================] - 0s 1ms/step - loss: nan\n",
            "Epoch 1/100\n",
            "242/242 [==============================] - 0s 1ms/step - loss: nan - val_loss: nan\n",
            "Epoch 2/100\n",
            "242/242 [==============================] - 0s 703us/step - loss: nan - val_loss: nan\n",
            "Epoch 3/100\n",
            "242/242 [==============================] - 0s 869us/step - loss: nan - val_loss: nan\n",
            "Epoch 4/100\n",
            "242/242 [==============================] - 0s 2ms/step - loss: nan - val_loss: nan\n",
            "Epoch 5/100\n",
            "242/242 [==============================] - 0s 2ms/step - loss: nan - val_loss: nan\n",
            "Epoch 6/100\n",
            "242/242 [==============================] - 0s 2ms/step - loss: nan - val_loss: nan\n",
            "Epoch 7/100\n",
            "242/242 [==============================] - 0s 2ms/step - loss: nan - val_loss: nan\n",
            "Epoch 8/100\n",
            "242/242 [==============================] - 0s 2ms/step - loss: nan - val_loss: nan\n",
            "Epoch 9/100\n",
            "242/242 [==============================] - 0s 2ms/step - loss: nan - val_loss: nan\n",
            "Epoch 10/100\n",
            "242/242 [==============================] - 0s 2ms/step - loss: nan - val_loss: nan\n",
            "121/121 [==============================] - 0s 741us/step - loss: nan\n",
            "Epoch 1/100\n",
            "242/242 [==============================] - 0s 1ms/step - loss: nan - val_loss: nan\n",
            "Epoch 2/100\n",
            "242/242 [==============================] - 0s 927us/step - loss: nan - val_loss: nan\n",
            "Epoch 3/100\n",
            "242/242 [==============================] - 0s 2ms/step - loss: nan - val_loss: nan\n",
            "Epoch 4/100\n",
            "242/242 [==============================] - 0s 2ms/step - loss: nan - val_loss: nan\n",
            "Epoch 5/100\n",
            "242/242 [==============================] - 0s 1ms/step - loss: nan - val_loss: nan\n",
            "Epoch 6/100\n",
            "242/242 [==============================] - 0s 681us/step - loss: nan - val_loss: nan\n",
            "Epoch 7/100\n",
            "242/242 [==============================] - 0s 718us/step - loss: nan - val_loss: nan\n",
            "Epoch 8/100\n",
            "242/242 [==============================] - 0s 833us/step - loss: nan - val_loss: nan\n",
            "Epoch 9/100\n",
            "242/242 [==============================] - 0s 2ms/step - loss: nan - val_loss: nan\n",
            "Epoch 10/100\n",
            "242/242 [==============================] - 0s 2ms/step - loss: nan - val_loss: nan\n",
            "121/121 [==============================] - 0s 1ms/step - loss: nan\n",
            "Epoch 1/100\n",
            "242/242 [==============================] - 1s 2ms/step - loss: nan - val_loss: nan\n",
            "Epoch 2/100\n",
            "242/242 [==============================] - 0s 1ms/step - loss: nan - val_loss: nan\n",
            "Epoch 3/100\n",
            "242/242 [==============================] - 0s 1ms/step - loss: nan - val_loss: nan\n",
            "Epoch 4/100\n",
            "242/242 [==============================] - 0s 1ms/step - loss: nan - val_loss: nan\n",
            "Epoch 5/100\n",
            "242/242 [==============================] - 0s 2ms/step - loss: nan - val_loss: nan\n",
            "Epoch 6/100\n",
            "242/242 [==============================] - 0s 2ms/step - loss: nan - val_loss: nan\n",
            "Epoch 7/100\n",
            "242/242 [==============================] - 0s 1ms/step - loss: nan - val_loss: nan\n",
            "Epoch 8/100\n",
            "242/242 [==============================] - 0s 2ms/step - loss: nan - val_loss: nan\n",
            "Epoch 9/100\n",
            "242/242 [==============================] - 0s 2ms/step - loss: nan - val_loss: nan\n",
            "Epoch 10/100\n",
            "242/242 [==============================] - 0s 2ms/step - loss: nan - val_loss: nan\n",
            "121/121 [==============================] - 0s 604us/step - loss: nan\n",
            "Epoch 1/100\n",
            "242/242 [==============================] - 1s 1ms/step - loss: nan - val_loss: nan\n",
            "Epoch 2/100\n",
            "242/242 [==============================] - 0s 1ms/step - loss: nan - val_loss: nan\n",
            "Epoch 3/100\n",
            "242/242 [==============================] - 0s 1ms/step - loss: nan - val_loss: nan\n",
            "Epoch 4/100\n",
            "242/242 [==============================] - 0s 2ms/step - loss: nan - val_loss: nan\n",
            "Epoch 5/100\n",
            "242/242 [==============================] - 0s 2ms/step - loss: nan - val_loss: nan\n",
            "Epoch 6/100\n",
            "242/242 [==============================] - 0s 2ms/step - loss: nan - val_loss: nan\n",
            "Epoch 7/100\n",
            "242/242 [==============================] - 0s 2ms/step - loss: nan - val_loss: nan\n",
            "Epoch 8/100\n",
            "242/242 [==============================] - 0s 2ms/step - loss: nan - val_loss: nan\n",
            "Epoch 9/100\n",
            "242/242 [==============================] - 0s 2ms/step - loss: nan - val_loss: nan\n",
            "Epoch 10/100\n",
            "242/242 [==============================] - 0s 2ms/step - loss: nan - val_loss: nan\n",
            "121/121 [==============================] - 0s 1ms/step - loss: nan\n",
            "Epoch 1/100\n",
            "242/242 [==============================] - 1s 2ms/step - loss: nan - val_loss: nan\n",
            "Epoch 2/100\n",
            "242/242 [==============================] - 0s 2ms/step - loss: nan - val_loss: nan\n",
            "Epoch 3/100\n",
            "242/242 [==============================] - 0s 2ms/step - loss: nan - val_loss: nan\n",
            "Epoch 4/100\n",
            "242/242 [==============================] - 0s 2ms/step - loss: nan - val_loss: nan\n",
            "Epoch 5/100\n",
            "242/242 [==============================] - 0s 2ms/step - loss: nan - val_loss: nan\n",
            "Epoch 6/100\n",
            "242/242 [==============================] - 0s 2ms/step - loss: nan - val_loss: nan\n",
            "Epoch 7/100\n",
            "242/242 [==============================] - 0s 2ms/step - loss: nan - val_loss: nan\n",
            "Epoch 8/100\n",
            "242/242 [==============================] - 0s 2ms/step - loss: nan - val_loss: nan\n",
            "Epoch 9/100\n",
            "242/242 [==============================] - 0s 2ms/step - loss: nan - val_loss: nan\n",
            "Epoch 10/100\n",
            "242/242 [==============================] - 0s 2ms/step - loss: nan - val_loss: nan\n",
            "121/121 [==============================] - 0s 585us/step - loss: nan\n",
            "Epoch 1/100\n",
            "242/242 [==============================] - 0s 1ms/step - loss: nan - val_loss: nan\n",
            "Epoch 2/100\n",
            "242/242 [==============================] - 0s 1ms/step - loss: nan - val_loss: nan\n",
            "Epoch 3/100\n",
            "242/242 [==============================] - 0s 2ms/step - loss: nan - val_loss: nan\n",
            "Epoch 4/100\n",
            "242/242 [==============================] - 0s 2ms/step - loss: nan - val_loss: nan\n",
            "Epoch 5/100\n",
            "242/242 [==============================] - 0s 2ms/step - loss: nan - val_loss: nan\n",
            "Epoch 6/100\n",
            "242/242 [==============================] - 0s 2ms/step - loss: nan - val_loss: nan\n",
            "Epoch 7/100\n",
            "242/242 [==============================] - 0s 2ms/step - loss: nan - val_loss: nan\n",
            "Epoch 8/100\n",
            "242/242 [==============================] - 0s 2ms/step - loss: nan - val_loss: nan\n",
            "Epoch 9/100\n",
            "242/242 [==============================] - 0s 2ms/step - loss: nan - val_loss: nan\n",
            "Epoch 10/100\n",
            "242/242 [==============================] - 0s 2ms/step - loss: nan - val_loss: nan\n",
            "121/121 [==============================] - 0s 1ms/step - loss: nan\n",
            "Epoch 1/100\n",
            "242/242 [==============================] - 1s 2ms/step - loss: nan - val_loss: nan\n",
            "Epoch 2/100\n",
            "242/242 [==============================] - 0s 1ms/step - loss: nan - val_loss: nan\n",
            "Epoch 3/100\n",
            "242/242 [==============================] - 0s 988us/step - loss: nan - val_loss: nan\n",
            "Epoch 4/100\n",
            "242/242 [==============================] - 0s 2ms/step - loss: nan - val_loss: nan\n",
            "Epoch 5/100\n",
            "242/242 [==============================] - 0s 2ms/step - loss: nan - val_loss: nan\n",
            "Epoch 6/100\n",
            "242/242 [==============================] - 0s 2ms/step - loss: nan - val_loss: nan\n",
            "Epoch 7/100\n",
            "242/242 [==============================] - 0s 2ms/step - loss: nan - val_loss: nan\n",
            "Epoch 8/100\n",
            "242/242 [==============================] - 1s 2ms/step - loss: nan - val_loss: nan\n",
            "Epoch 9/100\n",
            "242/242 [==============================] - 1s 2ms/step - loss: nan - val_loss: nan\n",
            "Epoch 10/100\n",
            "242/242 [==============================] - 1s 2ms/step - loss: nan - val_loss: nan\n",
            "121/121 [==============================] - 0s 2ms/step - loss: nan\n",
            "Epoch 1/100\n",
            "242/242 [==============================] - 1s 2ms/step - loss: nan - val_loss: nan\n",
            "Epoch 2/100\n",
            "242/242 [==============================] - 0s 931us/step - loss: nan - val_loss: nan\n",
            "Epoch 3/100\n",
            "242/242 [==============================] - 0s 779us/step - loss: nan - val_loss: nan\n",
            "Epoch 4/100\n",
            "242/242 [==============================] - 0s 848us/step - loss: nan - val_loss: nan\n",
            "Epoch 5/100\n",
            "242/242 [==============================] - 0s 813us/step - loss: nan - val_loss: nan\n",
            "Epoch 6/100\n",
            "242/242 [==============================] - 0s 753us/step - loss: nan - val_loss: nan\n",
            "Epoch 7/100\n",
            "242/242 [==============================] - 0s 1ms/step - loss: nan - val_loss: nan\n",
            "Epoch 8/100\n",
            "242/242 [==============================] - 0s 2ms/step - loss: nan - val_loss: nan\n",
            "Epoch 9/100\n",
            "242/242 [==============================] - 0s 2ms/step - loss: nan - val_loss: nan\n",
            "Epoch 10/100\n",
            "242/242 [==============================] - 1s 2ms/step - loss: nan - val_loss: nan\n",
            "121/121 [==============================] - 0s 1ms/step - loss: nan\n",
            "Epoch 1/100\n",
            "242/242 [==============================] - 1s 2ms/step - loss: nan - val_loss: nan\n",
            "Epoch 2/100\n",
            "242/242 [==============================] - 0s 810us/step - loss: nan - val_loss: nan\n",
            "Epoch 3/100\n",
            "242/242 [==============================] - 0s 2ms/step - loss: nan - val_loss: nan\n",
            "Epoch 4/100\n",
            "242/242 [==============================] - 0s 2ms/step - loss: nan - val_loss: nan\n",
            "Epoch 5/100\n",
            "242/242 [==============================] - 0s 2ms/step - loss: nan - val_loss: nan\n",
            "Epoch 6/100\n",
            "242/242 [==============================] - 1s 2ms/step - loss: nan - val_loss: nan\n",
            "Epoch 7/100\n",
            "242/242 [==============================] - 0s 1ms/step - loss: nan - val_loss: nan\n",
            "Epoch 8/100\n",
            "242/242 [==============================] - 0s 788us/step - loss: nan - val_loss: nan\n",
            "Epoch 9/100\n",
            "242/242 [==============================] - 0s 827us/step - loss: nan - val_loss: nan\n",
            "Epoch 10/100\n",
            "242/242 [==============================] - 0s 2ms/step - loss: nan - val_loss: nan\n",
            "121/121 [==============================] - 0s 2ms/step - loss: nan\n",
            "Epoch 1/100\n",
            "242/242 [==============================] - 1s 1ms/step - loss: nan - val_loss: nan\n",
            "Epoch 2/100\n",
            "242/242 [==============================] - 0s 2ms/step - loss: nan - val_loss: nan\n",
            "Epoch 3/100\n",
            "242/242 [==============================] - 0s 2ms/step - loss: nan - val_loss: nan\n",
            "Epoch 4/100\n",
            "242/242 [==============================] - 0s 2ms/step - loss: nan - val_loss: nan\n",
            "Epoch 5/100\n",
            "242/242 [==============================] - 0s 2ms/step - loss: nan - val_loss: nan\n",
            "Epoch 6/100\n",
            "242/242 [==============================] - 0s 2ms/step - loss: nan - val_loss: nan\n",
            "Epoch 7/100\n",
            "242/242 [==============================] - 0s 790us/step - loss: nan - val_loss: nan\n",
            "Epoch 8/100\n",
            "242/242 [==============================] - 0s 879us/step - loss: nan - val_loss: nan\n",
            "Epoch 9/100\n",
            "242/242 [==============================] - 0s 2ms/step - loss: nan - val_loss: nan\n",
            "Epoch 10/100\n",
            "242/242 [==============================] - 0s 1ms/step - loss: nan - val_loss: nan\n",
            "121/121 [==============================] - 0s 1ms/step - loss: nan\n",
            "Epoch 1/100\n",
            "242/242 [==============================] - 1s 2ms/step - loss: nan - val_loss: nan\n",
            "Epoch 2/100\n",
            "242/242 [==============================] - 0s 785us/step - loss: nan - val_loss: nan\n",
            "Epoch 3/100\n",
            "242/242 [==============================] - 0s 764us/step - loss: nan - val_loss: nan\n",
            "Epoch 4/100\n",
            "242/242 [==============================] - 0s 743us/step - loss: nan - val_loss: nan\n",
            "Epoch 5/100\n",
            "242/242 [==============================] - 0s 896us/step - loss: nan - val_loss: nan\n",
            "Epoch 6/100\n",
            "242/242 [==============================] - 0s 2ms/step - loss: nan - val_loss: nan\n",
            "Epoch 7/100\n",
            "242/242 [==============================] - 0s 2ms/step - loss: nan - val_loss: nan\n",
            "Epoch 8/100\n",
            "242/242 [==============================] - 0s 1ms/step - loss: nan - val_loss: nan\n",
            "Epoch 9/100\n",
            "242/242 [==============================] - 0s 2ms/step - loss: nan - val_loss: nan\n",
            "Epoch 10/100\n",
            "242/242 [==============================] - 0s 2ms/step - loss: nan - val_loss: nan\n",
            "121/121 [==============================] - 0s 1ms/step - loss: nan\n",
            "Epoch 1/100\n",
            "242/242 [==============================] - 0s 981us/step - loss: nan - val_loss: nan\n",
            "Epoch 2/100\n",
            "242/242 [==============================] - 0s 1ms/step - loss: nan - val_loss: nan\n",
            "Epoch 3/100\n",
            "242/242 [==============================] - 0s 2ms/step - loss: nan - val_loss: nan\n",
            "Epoch 4/100\n",
            "242/242 [==============================] - 0s 2ms/step - loss: nan - val_loss: nan\n",
            "Epoch 5/100\n",
            "242/242 [==============================] - 0s 2ms/step - loss: nan - val_loss: nan\n",
            "Epoch 6/100\n",
            "242/242 [==============================] - 0s 2ms/step - loss: nan - val_loss: nan\n",
            "Epoch 7/100\n",
            "242/242 [==============================] - 0s 2ms/step - loss: nan - val_loss: nan\n",
            "Epoch 8/100\n",
            "242/242 [==============================] - 0s 2ms/step - loss: nan - val_loss: nan\n",
            "Epoch 9/100\n",
            "242/242 [==============================] - 0s 2ms/step - loss: nan - val_loss: nan\n",
            "Epoch 10/100\n",
            "242/242 [==============================] - 0s 2ms/step - loss: nan - val_loss: nan\n",
            "121/121 [==============================] - 0s 1ms/step - loss: nan\n",
            "Epoch 1/100\n",
            "242/242 [==============================] - 0s 1ms/step - loss: nan - val_loss: nan\n",
            "Epoch 2/100\n",
            "242/242 [==============================] - 0s 970us/step - loss: nan - val_loss: nan\n",
            "Epoch 3/100\n",
            "242/242 [==============================] - 0s 2ms/step - loss: nan - val_loss: nan\n",
            "Epoch 4/100\n",
            "242/242 [==============================] - 0s 2ms/step - loss: nan - val_loss: nan\n",
            "Epoch 5/100\n",
            "242/242 [==============================] - 0s 2ms/step - loss: nan - val_loss: nan\n",
            "Epoch 6/100\n",
            "242/242 [==============================] - 0s 2ms/step - loss: nan - val_loss: nan\n",
            "Epoch 7/100\n",
            "242/242 [==============================] - 0s 2ms/step - loss: nan - val_loss: nan\n",
            "Epoch 8/100\n",
            "242/242 [==============================] - 0s 2ms/step - loss: nan - val_loss: nan\n",
            "Epoch 9/100\n",
            "242/242 [==============================] - 0s 2ms/step - loss: nan - val_loss: nan\n",
            "Epoch 10/100\n",
            "242/242 [==============================] - 0s 2ms/step - loss: nan - val_loss: nan\n",
            "121/121 [==============================] - 0s 1ms/step - loss: nan\n",
            "Epoch 1/100\n",
            "242/242 [==============================] - 1s 2ms/step - loss: nan - val_loss: nan\n",
            "Epoch 2/100\n",
            "242/242 [==============================] - 0s 2ms/step - loss: nan - val_loss: nan\n",
            "Epoch 3/100\n",
            "242/242 [==============================] - 0s 2ms/step - loss: nan - val_loss: nan\n",
            "Epoch 4/100\n",
            "242/242 [==============================] - 0s 2ms/step - loss: nan - val_loss: nan\n",
            "Epoch 5/100\n",
            "242/242 [==============================] - 0s 2ms/step - loss: nan - val_loss: nan\n",
            "Epoch 6/100\n",
            "242/242 [==============================] - 0s 2ms/step - loss: nan - val_loss: nan\n",
            "Epoch 7/100\n",
            "242/242 [==============================] - 0s 1ms/step - loss: nan - val_loss: nan\n",
            "Epoch 8/100\n",
            "242/242 [==============================] - 0s 2ms/step - loss: nan - val_loss: nan\n",
            "Epoch 9/100\n",
            "242/242 [==============================] - 0s 2ms/step - loss: nan - val_loss: nan\n",
            "Epoch 10/100\n",
            "242/242 [==============================] - 0s 2ms/step - loss: nan - val_loss: nan\n",
            "121/121 [==============================] - 0s 1ms/step - loss: nan\n",
            "Epoch 1/100\n",
            "242/242 [==============================] - 1s 2ms/step - loss: nan - val_loss: nan\n",
            "Epoch 2/100\n",
            "242/242 [==============================] - 0s 777us/step - loss: nan - val_loss: nan\n",
            "Epoch 3/100\n",
            "242/242 [==============================] - 0s 758us/step - loss: nan - val_loss: nan\n",
            "Epoch 4/100\n",
            "242/242 [==============================] - 0s 746us/step - loss: nan - val_loss: nan\n",
            "Epoch 5/100\n",
            "242/242 [==============================] - 0s 732us/step - loss: nan - val_loss: nan\n",
            "Epoch 6/100\n",
            "242/242 [==============================] - 0s 762us/step - loss: nan - val_loss: nan\n",
            "Epoch 7/100\n",
            "242/242 [==============================] - 0s 1ms/step - loss: nan - val_loss: nan\n",
            "Epoch 8/100\n",
            "242/242 [==============================] - 0s 2ms/step - loss: nan - val_loss: nan\n",
            "Epoch 9/100\n",
            "242/242 [==============================] - 0s 2ms/step - loss: nan - val_loss: nan\n",
            "Epoch 10/100\n",
            "242/242 [==============================] - 0s 2ms/step - loss: nan - val_loss: nan\n",
            "121/121 [==============================] - 0s 1ms/step - loss: nan\n",
            "Epoch 1/100\n",
            "242/242 [==============================] - 1s 2ms/step - loss: nan - val_loss: nan\n",
            "Epoch 2/100\n",
            "242/242 [==============================] - 0s 1ms/step - loss: nan - val_loss: nan\n",
            "Epoch 3/100\n",
            "242/242 [==============================] - 0s 748us/step - loss: nan - val_loss: nan\n",
            "Epoch 4/100\n",
            "242/242 [==============================] - 0s 689us/step - loss: nan - val_loss: nan\n",
            "Epoch 5/100\n",
            "242/242 [==============================] - 0s 696us/step - loss: nan - val_loss: nan\n",
            "Epoch 6/100\n",
            "242/242 [==============================] - 0s 698us/step - loss: nan - val_loss: nan\n",
            "Epoch 7/100\n",
            "242/242 [==============================] - 0s 698us/step - loss: nan - val_loss: nan\n",
            "Epoch 8/100\n",
            "242/242 [==============================] - 0s 681us/step - loss: nan - val_loss: nan\n",
            "Epoch 9/100\n",
            "242/242 [==============================] - 0s 865us/step - loss: nan - val_loss: nan\n",
            "Epoch 10/100\n",
            "242/242 [==============================] - 0s 915us/step - loss: nan - val_loss: nan\n",
            "121/121 [==============================] - 0s 752us/step - loss: nan\n",
            "Epoch 1/100\n",
            "242/242 [==============================] - 1s 1ms/step - loss: nan - val_loss: nan\n",
            "Epoch 2/100\n",
            "242/242 [==============================] - 0s 1ms/step - loss: nan - val_loss: nan\n",
            "Epoch 3/100\n",
            "242/242 [==============================] - 0s 1ms/step - loss: nan - val_loss: nan\n",
            "Epoch 4/100\n",
            "242/242 [==============================] - 0s 2ms/step - loss: nan - val_loss: nan\n",
            "Epoch 5/100\n",
            "242/242 [==============================] - 0s 2ms/step - loss: nan - val_loss: nan\n",
            "Epoch 6/100\n",
            "242/242 [==============================] - 0s 2ms/step - loss: nan - val_loss: nan\n",
            "Epoch 7/100\n",
            "242/242 [==============================] - 0s 2ms/step - loss: nan - val_loss: nan\n",
            "Epoch 8/100\n",
            "242/242 [==============================] - 0s 2ms/step - loss: nan - val_loss: nan\n",
            "Epoch 9/100\n",
            "242/242 [==============================] - 0s 2ms/step - loss: nan - val_loss: nan\n",
            "Epoch 10/100\n",
            "242/242 [==============================] - 0s 2ms/step - loss: nan - val_loss: nan\n",
            "121/121 [==============================] - 0s 1ms/step - loss: nan\n",
            "Epoch 1/100\n",
            "242/242 [==============================] - 1s 2ms/step - loss: nan - val_loss: nan\n",
            "Epoch 2/100\n",
            "242/242 [==============================] - 0s 1ms/step - loss: nan - val_loss: nan\n",
            "Epoch 3/100\n",
            "242/242 [==============================] - 0s 2ms/step - loss: nan - val_loss: nan\n",
            "Epoch 4/100\n",
            "242/242 [==============================] - 0s 2ms/step - loss: nan - val_loss: nan\n",
            "Epoch 5/100\n",
            "242/242 [==============================] - 0s 2ms/step - loss: nan - val_loss: nan\n",
            "Epoch 6/100\n",
            "242/242 [==============================] - 0s 2ms/step - loss: nan - val_loss: nan\n",
            "Epoch 7/100\n",
            "242/242 [==============================] - 0s 2ms/step - loss: nan - val_loss: nan\n",
            "Epoch 8/100\n",
            "242/242 [==============================] - 0s 2ms/step - loss: nan - val_loss: nan\n",
            "Epoch 9/100\n",
            "242/242 [==============================] - 0s 2ms/step - loss: nan - val_loss: nan\n",
            "Epoch 10/100\n",
            "242/242 [==============================] - 0s 2ms/step - loss: nan - val_loss: nan\n",
            "121/121 [==============================] - 0s 562us/step - loss: nan\n"
          ]
        },
        {
          "name": "stderr",
          "output_type": "stream",
          "text": [
            "C:\\Users\\SG704\\AppData\\Local\\Programs\\Python\\Python37\\lib\\site-packages\\sklearn\\model_selection\\_search.py:972: UserWarning: One or more of the test scores are non-finite: [        nan -1.33604105         nan         nan         nan         nan\n",
            "         nan         nan         nan         nan]\n",
            "  category=UserWarning,\n"
          ]
        },
        {
          "name": "stdout",
          "output_type": "stream",
          "text": [
            "Epoch 1/100\n",
            "363/363 [==============================] - 1s 2ms/step - loss: 3.9469 - val_loss: 2.7956\n",
            "Epoch 2/100\n",
            "363/363 [==============================] - 1s 2ms/step - loss: 2.2103 - val_loss: 1.8356\n",
            "Epoch 3/100\n",
            "363/363 [==============================] - 1s 2ms/step - loss: 1.6294 - val_loss: 1.5137\n",
            "Epoch 4/100\n",
            "363/363 [==============================] - 1s 2ms/step - loss: 1.4347 - val_loss: 1.4045\n",
            "Epoch 5/100\n",
            "363/363 [==============================] - 1s 2ms/step - loss: 1.3691 - val_loss: 1.3676\n",
            "Epoch 6/100\n",
            "363/363 [==============================] - 1s 2ms/step - loss: 1.3474 - val_loss: 1.3551\n",
            "Epoch 7/100\n",
            "363/363 [==============================] - 0s 1ms/step - loss: 1.3399 - val_loss: 1.3505\n",
            "Epoch 8/100\n",
            "363/363 [==============================] - 1s 2ms/step - loss: 1.3373 - val_loss: 1.3488\n",
            "Epoch 9/100\n",
            "363/363 [==============================] - 1s 2ms/step - loss: 1.3365 - val_loss: 1.3483\n",
            "Epoch 10/100\n",
            "363/363 [==============================] - 1s 2ms/step - loss: 1.3362 - val_loss: 1.3481\n",
            "Epoch 11/100\n",
            "363/363 [==============================] - 1s 2ms/step - loss: 1.3361 - val_loss: 1.3480\n",
            "Epoch 12/100\n",
            "363/363 [==============================] - 1s 2ms/step - loss: 1.3361 - val_loss: 1.3480\n",
            "Epoch 13/100\n",
            "363/363 [==============================] - 1s 2ms/step - loss: 1.3361 - val_loss: 1.3479\n",
            "Epoch 14/100\n",
            "363/363 [==============================] - 0s 782us/step - loss: 1.3361 - val_loss: 1.3479\n",
            "Epoch 15/100\n",
            "363/363 [==============================] - 1s 2ms/step - loss: 1.3361 - val_loss: 1.3479\n",
            "Epoch 16/100\n",
            "363/363 [==============================] - 1s 2ms/step - loss: 1.3361 - val_loss: 1.3479\n",
            "Epoch 17/100\n",
            "363/363 [==============================] - 1s 2ms/step - loss: 1.3361 - val_loss: 1.3479\n",
            "Epoch 18/100\n",
            "363/363 [==============================] - 1s 2ms/step - loss: 1.3361 - val_loss: 1.3479\n",
            "Epoch 19/100\n",
            "363/363 [==============================] - 1s 2ms/step - loss: 1.3361 - val_loss: 1.3479\n",
            "Epoch 20/100\n",
            "363/363 [==============================] - 1s 2ms/step - loss: 1.3361 - val_loss: 1.3479\n",
            "Epoch 21/100\n",
            "363/363 [==============================] - 1s 2ms/step - loss: 1.3361 - val_loss: 1.3479\n",
            "Epoch 22/100\n",
            "363/363 [==============================] - 1s 2ms/step - loss: 1.3361 - val_loss: 1.3479\n",
            "Epoch 23/100\n",
            "363/363 [==============================] - 1s 2ms/step - loss: 1.3361 - val_loss: 1.3479\n",
            "Epoch 24/100\n",
            "363/363 [==============================] - 1s 2ms/step - loss: 1.3361 - val_loss: 1.3479\n",
            "Epoch 25/100\n",
            "363/363 [==============================] - 1s 2ms/step - loss: 1.3361 - val_loss: 1.3479\n",
            "Epoch 26/100\n",
            "363/363 [==============================] - 0s 719us/step - loss: 1.3361 - val_loss: 1.3479\n",
            "Epoch 27/100\n",
            "363/363 [==============================] - 0s 838us/step - loss: 1.3361 - val_loss: 1.3479\n",
            "Epoch 28/100\n",
            "363/363 [==============================] - 0s 674us/step - loss: 1.3361 - val_loss: 1.3479\n",
            "Epoch 29/100\n",
            "363/363 [==============================] - 0s 800us/step - loss: 1.3361 - val_loss: 1.3479\n",
            "Epoch 30/100\n",
            "363/363 [==============================] - 1s 2ms/step - loss: 1.3361 - val_loss: 1.3479\n",
            "Epoch 31/100\n",
            "363/363 [==============================] - 1s 2ms/step - loss: 1.3361 - val_loss: 1.3479\n"
          ]
        },
        {
          "data": {
            "text/plain": [
              "RandomizedSearchCV(cv=3,\n",
              "                   estimator=<tensorflow.python.keras.wrappers.scikit_learn.KerasRegressor object at 0x00000167D9B33588>,\n",
              "                   param_distributions={'learning_rate': <scipy.stats._distn_infrastructure.rv_frozen object at 0x00000167DAD63048>,\n",
              "                                        'n_hidden': [0, 1, 2, 3],\n",
              "                                        'n_neurons': array([ 1,  2,  3,  4,  5,  6,  7,  8,  9, 10, 11, 12, 13, 14, 15, 16, 17,\n",
              "       18, 19, 20, 21, 22, 23, 24, 25, 26, 27, 28, 29, 30, 31, 32, 33, 34,\n",
              "       35, 36, 37, 38, 39, 40, 41, 42, 43, 44, 45, 46, 47, 48, 49, 50, 51,\n",
              "       52, 53, 54, 55, 56, 57, 58, 59, 60, 61, 62, 63, 64, 65, 66, 67, 68,\n",
              "       69, 70, 71, 72, 73, 74, 75, 76, 77, 78, 79, 80, 81, 82, 83, 84, 85,\n",
              "       86, 87, 88, 89, 90, 91, 92, 93, 94, 95, 96, 97, 98, 99])})"
            ]
          },
          "execution_count": 29,
          "metadata": {},
          "output_type": "execute_result"
        }
      ],
      "source": [
        "from scipy.stats import reciprocal\n",
        "from sklearn.model_selection import RandomizedSearchCV\n",
        "import numpy as np\n",
        "\n",
        "param_distribs = {\n",
        "                \"n_hidden\": [0, 1, 2, 3], \n",
        "                \"n_neurons\": np.arange(1, 100), \n",
        "                \"learning_rate\": reciprocal(3e-4, 3e-2), \n",
        "}\n",
        "rnd_search_cv = RandomizedSearchCV(keras_reg, param_distribs, n_iter=10, cv=3)\n",
        "rnd_search_cv.fit(X_train, y_train, epochs=100, \n",
        "                validation_data=(X_valid, y_valid), \n",
        "                callbacks=[keras.callbacks.EarlyStopping(patience=10)])"
      ]
    },
    {
      "cell_type": "code",
      "execution_count": null,
      "metadata": {
        "id": "87cFHDgVG79x",
        "outputId": "6e2a116f-1edf-478f-cafc-4d9986ee53a5"
      },
      "outputs": [
        {
          "data": {
            "text/plain": [
              "{'learning_rate': 0.0007521502841201217, 'n_hidden': 3, 'n_neurons': 3}"
            ]
          },
          "execution_count": 32,
          "metadata": {},
          "output_type": "execute_result"
        }
      ],
      "source": [
        "rnd_search_cv.best_params_"
      ]
    },
    {
      "cell_type": "code",
      "execution_count": null,
      "metadata": {
        "id": "-wXRjJD8G79x",
        "outputId": "223cfcd5-fb44-487b-be4a-7afe9d69ed89"
      },
      "outputs": [
        {
          "data": {
            "text/plain": [
              "({'learning_rate': 0.0007521502841201217, 'n_hidden': 3, 'n_neurons': 3},\n",
              " -1.3360410531361897)"
            ]
          },
          "execution_count": 34,
          "metadata": {},
          "output_type": "execute_result"
        }
      ],
      "source": [
        "model = rnd_search_cv.best_estimator_\n",
        "rnd_search_cv.best_params_, rnd_search_cv.best_score_"
      ]
    },
    {
      "cell_type": "markdown",
      "metadata": {
        "id": "jQ1uonB4G79x"
      },
      "source": [
        "## Exercise"
      ]
    },
    {
      "cell_type": "code",
      "execution_count": null,
      "metadata": {
        "id": "zUZ5EphEG79x"
      },
      "outputs": [],
      "source": [
        "from tensorflow import keras\n",
        "\n",
        "model_6 = keras.Sequential([\n",
        "    keras.layers.Flatten(input_shape=(10,), name=\"Input_layer\"), \n",
        "    keras.layers.Dense(50, activation=\"relu\", name=\"Hidden_layer\"), \n",
        "    keras.layers.Dense(3, activation=\"relu\", name=\"Output_layer\")\n",
        "], name=\"Model_6\")"
      ]
    },
    {
      "cell_type": "code",
      "execution_count": null,
      "metadata": {
        "id": "3nTJXIY0G79x",
        "outputId": "f1ff4629-ba67-4551-e21e-6ff749fa5190"
      },
      "outputs": [
        {
          "data": {
            "text/plain": [
              "<tf.Variable 'Output_layer/kernel:0' shape=(50, 3) dtype=float32, numpy=\n",
              "array([[ 0.05986616, -0.26919204, -0.3178979 ],\n",
              "       [ 0.17057982, -0.03633001,  0.16913971],\n",
              "       [ 0.3071992 , -0.21047239, -0.23410669],\n",
              "       [-0.27393347, -0.13299774, -0.27095366],\n",
              "       [ 0.04353073,  0.23908743, -0.3033835 ],\n",
              "       [-0.17217523, -0.15673827, -0.23850118],\n",
              "       [-0.1711055 ,  0.3022934 , -0.06058443],\n",
              "       [-0.08369997, -0.26040605,  0.24610916],\n",
              "       [ 0.19319054,  0.11778265, -0.27708185],\n",
              "       [ 0.2144604 , -0.31775782,  0.33248803],\n",
              "       [ 0.25455096,  0.23562983, -0.0843727 ],\n",
              "       [-0.09475304, -0.3187511 ,  0.25575903],\n",
              "       [ 0.1927264 ,  0.10505077,  0.06351164],\n",
              "       [-0.15184161, -0.14081998,  0.22880527],\n",
              "       [ 0.27686575,  0.1092633 ,  0.06279585],\n",
              "       [ 0.17501834, -0.13821255,  0.18205687],\n",
              "       [-0.12150218,  0.2700313 ,  0.1854609 ],\n",
              "       [-0.2098766 , -0.23710456,  0.09555644],\n",
              "       [ 0.09100994,  0.09485555, -0.06919795],\n",
              "       [-0.32844839, -0.21234101, -0.32822704],\n",
              "       [-0.07259017, -0.33608404, -0.15891846],\n",
              "       [-0.01359811, -0.26263142,  0.20304683],\n",
              "       [-0.04074794,  0.2740068 ,  0.23057881],\n",
              "       [ 0.1766108 , -0.0248445 ,  0.16539887],\n",
              "       [ 0.27300468,  0.0060887 , -0.12167554],\n",
              "       [ 0.33137068, -0.21456501, -0.19981295],\n",
              "       [-0.32443148, -0.18404765, -0.09256947],\n",
              "       [-0.10945496,  0.24133834, -0.13061877],\n",
              "       [-0.27360675,  0.32418707, -0.02071056],\n",
              "       [ 0.11572784,  0.03721365, -0.13975106],\n",
              "       [-0.22280839, -0.09601159,  0.12726352],\n",
              "       [-0.17599164,  0.13223493, -0.19330871],\n",
              "       [ 0.32392833, -0.32857713, -0.12051284],\n",
              "       [ 0.14212322, -0.08932902, -0.06894311],\n",
              "       [ 0.05843776, -0.18101135, -0.044393  ],\n",
              "       [-0.26354164,  0.02030137, -0.00143769],\n",
              "       [-0.28963187,  0.24417028,  0.25172964],\n",
              "       [ 0.0673753 ,  0.00112146,  0.05132025],\n",
              "       [ 0.33329287, -0.22038305,  0.16616216],\n",
              "       [ 0.03984916, -0.16751128,  0.19415984],\n",
              "       [-0.22755721,  0.01972243,  0.23951885],\n",
              "       [ 0.18695661,  0.23491845,  0.25342652],\n",
              "       [-0.03552806,  0.00336248,  0.25619128],\n",
              "       [-0.25855988, -0.05622286,  0.32567462],\n",
              "       [ 0.13146925, -0.21178967, -0.05062097],\n",
              "       [-0.3312115 , -0.08490863,  0.01984116],\n",
              "       [ 0.325891  ,  0.25998047,  0.22152129],\n",
              "       [-0.0351845 , -0.22288734,  0.12883943],\n",
              "       [-0.31268787,  0.02714565,  0.01076236],\n",
              "       [-0.26694566, -0.14904429,  0.09906465]], dtype=float32)>"
            ]
          },
          "execution_count": 4,
          "metadata": {},
          "output_type": "execute_result"
        }
      ],
      "source": [
        "model_6.weights[2]"
      ]
    },
    {
      "cell_type": "code",
      "execution_count": null,
      "metadata": {
        "id": "L_rR0cS1G79y"
      },
      "outputs": [],
      "source": [
        "train, test = keras.datasets.mnist.load_data()\n",
        "X_train, y_train = train\n",
        "X_test, y_test = test\n",
        "X_train, y_train, X_val, y_val = X_train[:50000], y_train[:50000], X_train[50000:], y_train[50000:]"
      ]
    },
    {
      "cell_type": "code",
      "execution_count": null,
      "metadata": {
        "id": "6baX7RAkG79y",
        "outputId": "41d03749-8207-4376-c751-fad535cbdaa6"
      },
      "outputs": [
        {
          "data": {
            "text/plain": [
              "<matplotlib.image.AxesImage at 0x1e5f9d2cb50>"
            ]
          },
          "execution_count": 6,
          "metadata": {},
          "output_type": "execute_result"
        },
        {
          "data": {
            "image/png": "[encoded data removed]",
            "text/plain": [
              "<Figure size 432x288 with 1 Axes>"
            ]
          },
          "metadata": {
            "needs_background": "light"
          },
          "output_type": "display_data"
        }
      ],
      "source": [
        "import numpy as np\n",
        "import matplotlib.pyplot as plt\n",
        "\n",
        "plt.imshow(np.array(X_train[0]), cmap=plt.cm.binary)\n",
        "\n"
      ]
    },
    {
      "cell_type": "code",
      "execution_count": null,
      "metadata": {
        "id": "fkZF711XG79y"
      },
      "outputs": [],
      "source": [
        "inputs = keras.layers.Input(shape=(28, 28))\n",
        "x = keras.layers.Flatten()(inputs)\n",
        "x = keras.layers.Dense(300, activation=\"relu\")(x)\n",
        "x = keras.layers.Dense(100, activation=\"relu\")(x)\n",
        "outputs = keras.layers.Dense(10, activation=\"softmax\")(x)\n",
        "mnist_model = keras.models.Model(inputs=inputs, outputs=outputs)\n",
        "\n",
        "mnist_model.compile(loss=\"sparse_categorical_crossentropy\", \n",
        "                    optimizer=\"adam\", \n",
        "                    metrics=[\"accuracy\"])\n"
      ]
    },
    {
      "cell_type": "code",
      "execution_count": null,
      "metadata": {
        "id": "3eUq5iWxG79y",
        "outputId": "93478ffd-12fd-471e-bb9e-ac0472f33615"
      },
      "outputs": [
        {
          "name": "stdout",
          "output_type": "stream",
          "text": [
            "Epoch 1/100\n",
            "1563/1563 [==============================] - 6s 4ms/step - loss: 0.0611 - accuracy: 0.9864 - val_loss: 0.1896 - val_accuracy: 0.9706\n",
            "Epoch 2/100\n",
            "1563/1563 [==============================] - 4s 3ms/step - loss: 0.0569 - accuracy: 0.9877 - val_loss: 0.2935 - val_accuracy: 0.9673\n",
            "Epoch 3/100\n",
            "1563/1563 [==============================] - 4s 2ms/step - loss: 0.0660 - accuracy: 0.9861 - val_loss: 0.2057 - val_accuracy: 0.9736\n",
            "Epoch 4/100\n",
            "1563/1563 [==============================] - 5s 3ms/step - loss: 0.0553 - accuracy: 0.9876 - val_loss: 0.2398 - val_accuracy: 0.9684\n",
            "Epoch 5/100\n",
            "1563/1563 [==============================] - 3s 2ms/step - loss: 0.0596 - accuracy: 0.9868 - val_loss: 0.2983 - val_accuracy: 0.9647\n",
            "Epoch 6/100\n",
            "1563/1563 [==============================] - 3s 2ms/step - loss: 0.0667 - accuracy: 0.9853 - val_loss: 0.2446 - val_accuracy: 0.9719\n",
            "Epoch 7/100\n",
            "1563/1563 [==============================] - 6s 4ms/step - loss: 0.0574 - accuracy: 0.9879 - val_loss: 0.2647 - val_accuracy: 0.9668\n",
            "Epoch 8/100\n",
            "1563/1563 [==============================] - 3s 2ms/step - loss: 0.0598 - accuracy: 0.9871 - val_loss: 0.3119 - val_accuracy: 0.9669\n",
            "Epoch 9/100\n",
            "1563/1563 [==============================] - 4s 3ms/step - loss: 0.0594 - accuracy: 0.9877 - val_loss: 0.2570 - val_accuracy: 0.9716\n",
            "Epoch 10/100\n",
            "1563/1563 [==============================] - 3s 2ms/step - loss: 0.0682 - accuracy: 0.9852 - val_loss: 0.2675 - val_accuracy: 0.9684\n",
            "Epoch 11/100\n",
            "1563/1563 [==============================] - 3s 2ms/step - loss: 0.0528 - accuracy: 0.9879 - val_loss: 0.3809 - val_accuracy: 0.9662\n"
          ]
        }
      ],
      "source": [
        "model_checkpoint = keras.callbacks.ModelCheckpoint(\"mnsit_model.h5\", save_best_only=True)\n",
        "early_stopping = keras.callbacks.EarlyStopping(patience=10)\n",
        "tensorboard_cb = keras.callbacks.TensorBoard(run_logdir)\n",
        "mnist_history = mnist_model.fit(X_train, y_train, \n",
        "                epochs=100, \n",
        "                validation_data=(X_val, y_val), \n",
        "                callbacks=[model_checkpoint, early_stopping, tensorboard_cb]\n",
        "                )"
      ]
    },
    {
      "cell_type": "code",
      "execution_count": null,
      "metadata": {
        "id": "22E1SSzUG79z",
        "outputId": "fce8197f-3dd3-473b-ad72-9562c46fbdfc"
      },
      "outputs": [
        {
          "data": {
            "text/plain": [
              "<AxesSubplot:>"
            ]
          },
          "execution_count": 13,
          "metadata": {},
          "output_type": "execute_result"
        },
        {
          "data": {
            "image/png": "[encoded data removed]",
            "text/plain": [
              "<Figure size 720x504 with 1 Axes>"
            ]
          },
          "metadata": {
            "needs_background": "light"
          },
          "output_type": "display_data"
        }
      ],
      "source": [
        "\n",
        "import pandas as pd\n",
        "pd.DataFrame(mnist_history.history).plot(figsize=(10, 7))"
      ]
    },
    {
      "cell_type": "code",
      "execution_count": null,
      "metadata": {
        "id": "r5RvLFi9G79z",
        "outputId": "8ae2e975-5bc2-4606-83a1-5f9a109638c9"
      },
      "outputs": [
        {
          "name": "stdout",
          "output_type": "stream",
          "text": [
            "313/313 [==============================] - 0s 929us/step - loss: 0.3809 - accuracy: 0.9662\n"
          ]
        },
        {
          "data": {
            "text/plain": [
              "[0.3809444010257721, 0.9661999940872192]"
            ]
          },
          "execution_count": 14,
          "metadata": {},
          "output_type": "execute_result"
        }
      ],
      "source": [
        "mnist_model.evaluate(X_val, y_val)"
      ]
    },
    {
      "cell_type": "code",
      "execution_count": null,
      "metadata": {
        "id": "cKU9-NYsG79z",
        "outputId": "4521d559-5ecc-465e-c51e-134f872dace3"
      },
      "outputs": [
        {
          "data": {
            "text/html": [
              "\n",
              "      <iframe id=\"tensorboard-frame-3b2a61c65a0ef19f\" width=\"100%\" height=\"800\" frameborder=\"0\">\n",
              "      </iframe>\n",
              "      <script>\n",
              "        (function() {\n",
              "          const frame = document.getElementById(\"tensorboard-frame-3b2a61c65a0ef19f\");\n",
              "          const url = new URL(\"/\", window.location);\n",
              "          const port = 6006;\n",
              "          if (port) {\n",
              "            url.port = port;\n",
              "          }\n",
              "          frame.src = url;\n",
              "        })();\n",
              "      </script>\n",
              "    "
            ],
            "text/plain": [
              "<IPython.core.display.HTML object>"
            ]
          },
          "metadata": {},
          "output_type": "display_data"
        }
      ],
      "source": [
        "%load_ext tensorboard\n",
        "\n",
        "%tensorboard --logdir my_logs"
      ]
    },
    {
      "cell_type": "code",
      "execution_count": null,
      "metadata": {
        "id": "W3X0OZFDG79z",
        "outputId": "b0a61259-abdc-4058-c20c-ad23717ad3f2"
      },
      "outputs": [
        {
          "name": "stdout",
          "output_type": "stream",
          "text": [
            "Selecting TensorBoard with logdir my_logs (started 0:01:02 ago; port 6006, pid 12972).\n"
          ]
        },
        {
          "data": {
            "text/html": [
              "\n",
              "      <iframe id=\"tensorboard-frame-5690570e0a7f8288\" width=\"100%\" height=\"1000\" frameborder=\"0\">\n",
              "      </iframe>\n",
              "      <script>\n",
              "        (function() {\n",
              "          const frame = document.getElementById(\"tensorboard-frame-5690570e0a7f8288\");\n",
              "          const url = new URL(\"http://localhost\");\n",
              "          const port = 6006;\n",
              "          if (port) {\n",
              "            url.port = port;\n",
              "          }\n",
              "          frame.src = url;\n",
              "        })();\n",
              "      </script>\n",
              "    "
            ],
            "text/plain": [
              "<IPython.core.display.HTML object>"
            ]
          },
          "metadata": {},
          "output_type": "display_data"
        }
      ],
      "source": [
        "from tensorboard import notebook\n",
        "notebook.display(port=6006, height=1000)"
      ]
    },
    {
      "cell_type": "code",
      "execution_count": null,
      "metadata": {
        "id": "YGvygRCbG79z"
      },
      "outputs": [],
      "source": [
        ""
      ]
    }
  ],
  "metadata": {
    "colab": {
      "collapsed_sections": [
        "b-NLJ-_OjC8d",
        "sJWz6C8VOD7G",
        "lpbPXgHVrP2i",
        "PLbnrguTeYZY",
        "IBXBq2atjpSZ",
        "qqs08H6TMKuJ"
      ],
      "name": "Ch-10(Intro to AI)",
      "provenance": []
    },
    "kernelspec": {
      "display_name": "Python 3",
      "name": "python3"
    },
    "language_info": {
      "codemirror_mode": {
        "name": "ipython",
        "version": 3
      },
      "file_extension": ".py",
      "mimetype": "text/x-python",
      "name": "python",
      "nbconvert_exporter": "python",
      "pygments_lexer": "ipython3",
      "version": "3.8.10"
    }
  },
  "nbformat": 4,
  "nbformat_minor": 0
}