{
  "cells": [
    {
      "cell_type": "code",
      "execution_count": 1,
      "metadata": {
        "id": "gLTUTVAiyUxn"
      },
      "outputs": [],
      "source": [
        "from tensorflow import keras\n",
        "from tensorflow.keras import Sequential, layers"
      ]
    },
    {
      "cell_type": "code",
      "execution_count": 2,
      "metadata": {
        "id": "XsveUsd7yUxr"
      },
      "outputs": [],
      "source": [
        "encoder = Sequential([layers.Dense(2, input_shape=[3])])\n",
        "decoder = Sequential([layers.Dense(3, input_shape=[2])])\n",
        "\n",
        "autoencoder = Sequential([encoder, decoder])\n",
        "autoencoder.compile(loss=\"mse\", optimizer=\"sgd\")"
      ]
    },
    {
      "cell_type": "code",
      "execution_count": 9,
      "metadata": {
        "id": "MqEIANVOyUxs"
      },
      "outputs": [],
      "source": [
        "import numpy as np\n",
        "\n",
        "def generate_3d_data(m ,w1=0.1, w2=0.3, noise=0.1):\n",
        "    angles = np.random.rand(m) * 3 * np.pi/2 - 0.5\n",
        "    data = np.empty((m, 3))\n",
        "    data[:, 0] = np.cos(angles) + np.sin(angles)/2 + noise * np.random.randn(m)/2\n",
        "    data[:, 1] = np.sin(angles) * 0.7 + noise * np.random.randn(m)/2\n",
        "    data[:, 2] = data[:, 0] * w1 + data[:, 1] * w1 + noise * np.random.randn(m)\n",
        "    return data\n",
        "\n",
        "X_train = generate_3d_data(60)\n",
        "X_train = X_train - X_train.mean(axis=0, keepdims=0)"
      ]
    },
    {
      "cell_type": "code",
      "execution_count": 10,
      "metadata": {
        "id": "TmM0JD5kyUxv",
        "outputId": "60b0f480-50b3-4781-a213-5d23c940f671",
        "colab": {
          "base_uri": "https://localhost:8080/"
        }
      },
      "outputs": [
        {
          "output_type": "stream",
          "name": "stdout",
          "text": [
            "Epoch 1/20\n",
            "2/2 [==============================] - 0s 6ms/step - loss: 0.1122\n",
            "Epoch 2/20\n",
            "2/2 [==============================] - 0s 6ms/step - loss: 0.1115\n",
            "Epoch 3/20\n",
            "2/2 [==============================] - 0s 5ms/step - loss: 0.1108\n",
            "Epoch 4/20\n",
            "2/2 [==============================] - 0s 5ms/step - loss: 0.1100\n",
            "Epoch 5/20\n",
            "2/2 [==============================] - 0s 5ms/step - loss: 0.1093\n",
            "Epoch 6/20\n",
            "2/2 [==============================] - 0s 4ms/step - loss: 0.1086\n",
            "Epoch 7/20\n",
            "2/2 [==============================] - 0s 6ms/step - loss: 0.1080\n",
            "Epoch 8/20\n",
            "2/2 [==============================] - 0s 6ms/step - loss: 0.1074\n",
            "Epoch 9/20\n",
            "2/2 [==============================] - 0s 5ms/step - loss: 0.1067\n",
            "Epoch 10/20\n",
            "2/2 [==============================] - 0s 6ms/step - loss: 0.1060\n",
            "Epoch 11/20\n",
            "2/2 [==============================] - 0s 7ms/step - loss: 0.1054\n",
            "Epoch 12/20\n",
            "2/2 [==============================] - 0s 5ms/step - loss: 0.1047\n",
            "Epoch 13/20\n",
            "2/2 [==============================] - 0s 5ms/step - loss: 0.1041\n",
            "Epoch 14/20\n",
            "2/2 [==============================] - 0s 4ms/step - loss: 0.1035\n",
            "Epoch 15/20\n",
            "2/2 [==============================] - 0s 5ms/step - loss: 0.1029\n",
            "Epoch 16/20\n",
            "2/2 [==============================] - 0s 5ms/step - loss: 0.1023\n",
            "Epoch 17/20\n",
            "2/2 [==============================] - 0s 5ms/step - loss: 0.1017\n",
            "Epoch 18/20\n",
            "2/2 [==============================] - 0s 5ms/step - loss: 0.1011\n",
            "Epoch 19/20\n",
            "2/2 [==============================] - 0s 5ms/step - loss: 0.1005\n",
            "Epoch 20/20\n",
            "2/2 [==============================] - 0s 4ms/step - loss: 0.0999\n"
          ]
        },
        {
          "output_type": "execute_result",
          "data": {
            "text/plain": [
              "<keras.callbacks.History at 0x7f3f6f9f5ad0>"
            ]
          },
          "metadata": {},
          "execution_count": 10
        }
      ],
      "source": [
        "autoencoder.fit(X_train, X_train, epochs=20)"
      ]
    },
    {
      "cell_type": "code",
      "source": [
        "import matplotlib.pyplot as plt\n",
        "\n",
        "coding = autoencoder.predict(X_train)\n",
        "plt.figure(figsize=(4, 3))\n",
        "plt.plot(coding[:, 0], coding[:, 1], \"b.\")"
      ],
      "metadata": {
        "id": "YNJA-aEF1duw",
        "outputId": "c3d62658-914b-491d-f9a3-6a68d16ffa50",
        "colab": {
          "base_uri": "https://localhost:8080/",
          "height": 228
        }
      },
      "execution_count": 11,
      "outputs": [
        {
          "output_type": "execute_result",
          "data": {
            "text/plain": [
              "[<matplotlib.lines.Line2D at 0x7f3f6f932c50>]"
            ]
          },
          "metadata": {},
          "execution_count": 11
        },
        {
          "output_type": "display_data",
          "data": {
            "text/plain": [
              "<Figure size 288x216 with 1 Axes>"
            ],
            "image/png": "[encoded data removed]"
          },
          "metadata": {
            "needs_background": "light"
          }
        }
      ]
    },
    {
      "cell_type": "code",
      "source": [
        ""
      ],
      "metadata": {
        "id": "BOcOaOpw1qb5"
      },
      "execution_count": null,
      "outputs": []
    }
  ],
  "metadata": {
    "interpreter": {
      "hash": "81727fb6587a0e5418c3cf386f53a5fb924b641d49e181fa8e28403b9a38d60e"
    },
    "kernelspec": {
      "display_name": "Python 3.8.0 64-bit",
      "language": "python",
      "name": "python3"
    },
    "language_info": {
      "codemirror_mode": {
        "name": "ipython",
        "version": 3
      },
      "file_extension": ".py",
      "mimetype": "text/x-python",
      "name": "python",
      "nbconvert_exporter": "python",
      "pygments_lexer": "ipython3",
      "version": "3.8.0"
    },
    "orig_nbformat": 4,
    "colab": {
      "name": "Ch-17(GAN).ipynb",
      "provenance": []
    }
  },
  "nbformat": 4,
  "nbformat_minor": 0
}