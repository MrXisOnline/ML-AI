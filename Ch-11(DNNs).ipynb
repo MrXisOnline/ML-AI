{
 "cells": [
  {
   "cell_type": "markdown",
   "metadata": {},
   "source": [
    "## Vanishing/Exploding Gradients"
   ]
  },
  {
   "cell_type": "code",
   "execution_count": 1,
   "metadata": {},
   "outputs": [],
   "source": [
    "from tensorflow import keras"
   ]
  },
  {
   "cell_type": "code",
   "execution_count": 2,
   "metadata": {},
   "outputs": [
    {
     "data": {
      "text/plain": [
       "<keras.layers.core.dense.Dense at 0x1f812ceb670>"
      ]
     },
     "execution_count": 2,
     "metadata": {},
     "output_type": "execute_result"
    }
   ],
   "source": [
    "keras.layers.Dense(10, activation=\"relu\", \n",
    "                    kernel_initializer=\"he_normal\")"
   ]
  },
  {
   "cell_type": "code",
   "execution_count": 4,
   "metadata": {},
   "outputs": [
    {
     "data": {
      "text/plain": [
       "<keras.layers.core.dense.Dense at 0x1f812dadb50>"
      ]
     },
     "execution_count": 4,
     "metadata": {},
     "output_type": "execute_result"
    }
   ],
   "source": [
    "he_avg_init = keras.initializers.VarianceScaling(scale=2, \n",
    "                                                mode=\"fan_avg\", \n",
    "                                                distribution=\"uniform\")\n",
    "keras.layers.Dense(10, activation=\"relu\", \n",
    "                    kernel_initializer=he_avg_init)"
   ]
  },
  {
   "cell_type": "code",
   "execution_count": 5,
   "metadata": {},
   "outputs": [
    {
     "data": {
      "text/plain": [
       "<keras.layers.core.dense.Dense at 0x1f812dadd30>"
      ]
     },
     "execution_count": 5,
     "metadata": {},
     "output_type": "execute_result"
    }
   ],
   "source": [
    "# using leaky relu\n",
    "leaky_relu = keras.layers.LeakyReLU(alpha=0.2)\n",
    "keras.layers.Dense(10, activation=leaky_relu, \n",
    "                    kernel_initializer=\"he_normal\")"
   ]
  },
  {
   "cell_type": "code",
   "execution_count": 6,
   "metadata": {},
   "outputs": [
    {
     "data": {
      "text/plain": [
       "<keras.layers.core.dense.Dense at 0x1f812dad970>"
      ]
     },
     "execution_count": 6,
     "metadata": {},
     "output_type": "execute_result"
    }
   ],
   "source": [
    "keras.layers.Dense(10, activation=\"selu\", \n",
    "                    kernel_initializer=\"lecun_normal\")"
   ]
  },
  {
   "cell_type": "code",
   "execution_count": 8,
   "metadata": {},
   "outputs": [],
   "source": [
    "model = keras.Sequential([\n",
    "    keras.layers.Flatten(input_shape=[28, 28]), \n",
    "    keras.layers.BatchNormalization(), \n",
    "    keras.layers.Dense(300, activation=\"elu\", \n",
    "                        kernel_initializer=\"he_normal\"), \n",
    "    keras.layers.BatchNormalization(), \n",
    "    keras.layers.Dense(100, activation=\"elu\", \n",
    "                        kernel_initializer=\"he_normal\"), \n",
    "    keras.layers.BatchNormalization(), \n",
    "    keras.layers.Dense(10, activation=\"softmax\")\n",
    "])"
   ]
  },
  {
   "cell_type": "code",
   "execution_count": 9,
   "metadata": {},
   "outputs": [
    {
     "name": "stdout",
     "output_type": "stream",
     "text": [
      "Model: \"sequential_1\"\n",
      "_________________________________________________________________\n",
      " Layer (type)                Output Shape              Param #   \n",
      "=================================================================\n",
      " flatten_1 (Flatten)         (None, 784)               0         \n",
      "                                                                 \n",
      " batch_normalization_3 (Batc  (None, 784)              3136      \n",
      " hNormalization)                                                 \n",
      "                                                                 \n",
      " dense_7 (Dense)             (None, 300)               235500    \n",
      "                                                                 \n",
      " batch_normalization_4 (Batc  (None, 300)              1200      \n",
      " hNormalization)                                                 \n",
      "                                                                 \n",
      " dense_8 (Dense)             (None, 100)               30100     \n",
      "                                                                 \n",
      " batch_normalization_5 (Batc  (None, 100)              400       \n",
      " hNormalization)                                                 \n",
      "                                                                 \n",
      " dense_9 (Dense)             (None, 10)                1010      \n",
      "                                                                 \n",
      "=================================================================\n",
      "Total params: 271,346\n",
      "Trainable params: 268,978\n",
      "Non-trainable params: 2,368\n",
      "_________________________________________________________________\n"
     ]
    }
   ],
   "source": [
    "model.summary()"
   ]
  },
  {
   "cell_type": "code",
   "execution_count": 10,
   "metadata": {},
   "outputs": [
    {
     "data": {
      "text/plain": [
       "[('batch_normalization_3/gamma:0', True),\n",
       " ('batch_normalization_3/beta:0', True),\n",
       " ('batch_normalization_3/moving_mean:0', False),\n",
       " ('batch_normalization_3/moving_variance:0', False)]"
      ]
     },
     "execution_count": 10,
     "metadata": {},
     "output_type": "execute_result"
    }
   ],
   "source": [
    "[(var.name, var.trainable) for var in model.layers[1].variables]"
   ]
  },
  {
   "cell_type": "code",
   "execution_count": 11,
   "metadata": {},
   "outputs": [
    {
     "name": "stderr",
     "output_type": "stream",
     "text": [
      "C:\\Users\\SG704\\AppData\\Local\\Temp/ipykernel_12816/3873162892.py:1: UserWarning: `layer.updates` will be removed in a future version. This property should not be used in TensorFlow 2.0, as `updates` are applied automatically.\n",
      "  model.layers[1].updates\n"
     ]
    },
    {
     "data": {
      "text/plain": [
       "[]"
      ]
     },
     "execution_count": 11,
     "metadata": {},
     "output_type": "execute_result"
    }
   ],
   "source": [
    "model.layers[1].updates"
   ]
  },
  {
   "cell_type": "code",
   "execution_count": 2,
   "metadata": {},
   "outputs": [],
   "source": [
    "from tensorflow import keras"
   ]
  },
  {
   "cell_type": "code",
   "execution_count": 3,
   "metadata": {},
   "outputs": [],
   "source": [
    "model = keras.Sequential([\n",
    "    keras.layers.Flatten(input_shape=[28, 28]), \n",
    "    keras.layers.BatchNormalization(), \n",
    "    keras.layers.Dense(300, \n",
    "        kernel_initializer=\"he_normal\", \n",
    "        use_bias=False), \n",
    "    keras.layers.BatchNormalization(), \n",
    "    keras.layers.Activation(\"elu\"), \n",
    "    keras.layers.Dense(100, \n",
    "        kernel_initializer=\"he_normal\", \n",
    "        use_bias=False), \n",
    "    keras.layers.BatchNormalization(), \n",
    "    keras.layers.Activation(\"elu\"), \n",
    "    keras.layers.Dense(10, activation=\"softmax\")\n",
    "])"
   ]
  },
  {
   "cell_type": "code",
   "execution_count": 4,
   "metadata": {},
   "outputs": [],
   "source": [
    "optimizer = keras.optimizers.SGD(clipvalue=1.0)\n",
    "model.compile(loss=\"mse\", optimizer=optimizer)"
   ]
  },
  {
   "cell_type": "markdown",
   "metadata": {},
   "source": [
    "## Reusing Pretrained Layers"
   ]
  },
  {
   "cell_type": "code",
   "execution_count": 1,
   "metadata": {},
   "outputs": [],
   "source": [
    "from tensorflow import keras\n",
    "import numpy as np\n",
    "\n",
    "def get_data_without_5_6(data, labels):\n",
    "    new_data, new_labels = [], []\n",
    "    for i, label in enumerate(labels):\n",
    "        if (label != 5) & (label != 6):\n",
    "            if label > 5:\n",
    "                new_labels.append(labels[i]-2)\n",
    "            else:\n",
    "                new_labels.append(labels[i])\n",
    "            new_data.append(data[i])\n",
    "    return np.array(new_data), np.array(new_labels)\n",
    "        \n",
    "(X_train, y_train), (X_test, y_test) = keras.datasets.fashion_mnist.load_data()\n",
    "X_train_A, y_train_A = get_data_without_5_6(X_train, y_train)\n",
    "X_test_A, y_test_A = get_data_without_5_6(X_test, y_test)\n",
    "X_train_A, X_val_A = X_train_A[:30000], X_train_A[30000:]\n",
    "y_train_A, y_val_A = y_train_A[:30000], y_train_A[30000:]"
   ]
  },
  {
   "cell_type": "code",
   "execution_count": 2,
   "metadata": {},
   "outputs": [
    {
     "name": "stdout",
     "output_type": "stream",
     "text": [
      "Epoch 1/100\n",
      "938/938 [==============================] - 7s 5ms/step - loss: 0.3977 - accuracy: 0.8659 - val_loss: 0.2692 - val_accuracy: 0.9088\n",
      "Epoch 2/100\n",
      "938/938 [==============================] - 5s 5ms/step - loss: 0.2771 - accuracy: 0.9043 - val_loss: 0.2425 - val_accuracy: 0.9173\n",
      "Epoch 3/100\n",
      "938/938 [==============================] - 3s 3ms/step - loss: 0.2402 - accuracy: 0.9177 - val_loss: 0.2338 - val_accuracy: 0.9207\n",
      "Epoch 4/100\n",
      "938/938 [==============================] - 3s 3ms/step - loss: 0.2150 - accuracy: 0.9246 - val_loss: 0.2207 - val_accuracy: 0.9251\n",
      "Epoch 5/100\n",
      "938/938 [==============================] - 3s 3ms/step - loss: 0.2044 - accuracy: 0.9281 - val_loss: 0.2209 - val_accuracy: 0.9233\n",
      "Epoch 6/100\n",
      "938/938 [==============================] - 3s 4ms/step - loss: 0.1892 - accuracy: 0.9326 - val_loss: 0.2141 - val_accuracy: 0.9277\n",
      "Epoch 7/100\n",
      "938/938 [==============================] - 3s 3ms/step - loss: 0.1761 - accuracy: 0.9371 - val_loss: 0.2168 - val_accuracy: 0.9251\n",
      "Epoch 8/100\n",
      "938/938 [==============================] - 3s 4ms/step - loss: 0.1654 - accuracy: 0.9397 - val_loss: 0.2088 - val_accuracy: 0.9282\n",
      "Epoch 9/100\n",
      "938/938 [==============================] - 4s 4ms/step - loss: 0.1579 - accuracy: 0.9439 - val_loss: 0.2177 - val_accuracy: 0.92680s - loss: 0\n",
      "Epoch 10/100\n",
      "938/938 [==============================] - 3s 3ms/step - loss: 0.1511 - accuracy: 0.9464 - val_loss: 0.2061 - val_accuracy: 0.9316\n",
      "Epoch 11/100\n",
      "938/938 [==============================] - 3s 4ms/step - loss: 0.1448 - accuracy: 0.9490 - val_loss: 0.2025 - val_accuracy: 0.9320\n",
      "Epoch 12/100\n",
      "938/938 [==============================] - 3s 3ms/step - loss: 0.1380 - accuracy: 0.9515 - val_loss: 0.2066 - val_accuracy: 0.9319\n",
      "Epoch 13/100\n",
      "938/938 [==============================] - 4s 4ms/step - loss: 0.1313 - accuracy: 0.9533 - val_loss: 0.2161 - val_accuracy: 0.9277\n",
      "Epoch 14/100\n",
      "938/938 [==============================] - 3s 3ms/step - loss: 0.1260 - accuracy: 0.9557 - val_loss: 0.2042 - val_accuracy: 0.9331\n",
      "Epoch 15/100\n",
      "938/938 [==============================] - 3s 3ms/step - loss: 0.1211 - accuracy: 0.9565 - val_loss: 0.2101 - val_accuracy: 0.9299\n",
      "Epoch 16/100\n",
      "938/938 [==============================] - 3s 3ms/step - loss: 0.1123 - accuracy: 0.9605 - val_loss: 0.2117 - val_accuracy: 0.9294\n",
      "Epoch 17/100\n",
      "938/938 [==============================] - 3s 3ms/step - loss: 0.1090 - accuracy: 0.9610 - val_loss: 0.2098 - val_accuracy: 0.9306\n",
      "Epoch 18/100\n",
      "938/938 [==============================] - 3s 3ms/step - loss: 0.1025 - accuracy: 0.9633 - val_loss: 0.2136 - val_accuracy: 0.9303\n",
      "Epoch 19/100\n",
      "938/938 [==============================] - 3s 3ms/step - loss: 0.0990 - accuracy: 0.9650 - val_loss: 0.2125 - val_accuracy: 0.9317\n",
      "Epoch 20/100\n",
      "938/938 [==============================] - 3s 4ms/step - loss: 0.0943 - accuracy: 0.9668 - val_loss: 0.2237 - val_accuracy: 0.9288\n",
      "Epoch 21/100\n",
      "938/938 [==============================] - 3s 4ms/step - loss: 0.0920 - accuracy: 0.9662 - val_loss: 0.2159 - val_accuracy: 0.9317\n"
     ]
    },
    {
     "data": {
      "text/plain": [
       "<keras.callbacks.History at 0x24762e9e580>"
      ]
     },
     "execution_count": 2,
     "metadata": {},
     "output_type": "execute_result"
    }
   ],
   "source": [
    "\n",
    "\n",
    "model_A = keras.Sequential([\n",
    "    keras.layers.Flatten(input_shape=(28, 28)), \n",
    "    keras.layers.BatchNormalization(), \n",
    "    keras.layers.Dense(300, activation=\"relu\"), \n",
    "    keras.layers.BatchNormalization(), \n",
    "    keras.layers.Dense(100, activation=\"relu\"), \n",
    "    keras.layers.BatchNormalization(), \n",
    "    keras.layers.Dense(8, activation=\"softmax\")\n",
    "])\n",
    "model_A.compile(loss=\"sparse_categorical_crossentropy\", \n",
    "                optimizer=\"sgd\", \n",
    "                metrics=\"accuracy\")\n",
    "model_A.fit(X_train_A, y_train_A, epochs=100, \n",
    "            validation_data=(X_val_A, y_val_A), \n",
    "            callbacks=[keras.callbacks.EarlyStopping(monitor=\"val_loss\", \n",
    "                                                     patience=10, \n",
    "                                                     restore_best_weights=True)])"
   ]
  },
  {
   "cell_type": "code",
   "execution_count": 3,
   "metadata": {},
   "outputs": [
    {
     "name": "stdout",
     "output_type": "stream",
     "text": [
      "250/250 [==============================] - 1s 2ms/step - loss: 0.2272 - accuracy: 0.9243\n"
     ]
    },
    {
     "data": {
      "text/plain": [
       "[0.22721777856349945, 0.9242500066757202]"
      ]
     },
     "execution_count": 3,
     "metadata": {},
     "output_type": "execute_result"
    }
   ],
   "source": [
    "model_A.evaluate(X_test_A, y_test_A)"
   ]
  },
  {
   "cell_type": "code",
   "execution_count": 4,
   "metadata": {},
   "outputs": [],
   "source": [
    "def get_data_withonly_5_6(data, labels):\n",
    "    new_data, new_labels = [], []\n",
    "    for i, label in enumerate(labels):\n",
    "        if label == 5:\n",
    "            new_data.append(data[i])\n",
    "            new_labels.append(1)\n",
    "        elif label == 6:\n",
    "            new_data.append(data[i])\n",
    "            new_labels.append(0)\n",
    "    return np.array(new_data), np.array(new_labels)\n",
    "\n",
    "X_train_B, y_train_B = get_data_withonly_5_6(X_train, y_train)\n",
    "X_test_B, y_test_B = get_data_withonly_5_6(X_test, y_test)\n",
    "X_train_B, X_val_B = X_train_B[:10000], X_train_B[10000:]\n",
    "y_train_B, y_val_B = y_train_B[:10000], y_train_B[10000:]"
   ]
  },
  {
   "cell_type": "code",
   "execution_count": 5,
   "metadata": {},
   "outputs": [
    {
     "name": "stdout",
     "output_type": "stream",
     "text": [
      "Epoch 1/100\n",
      "313/313 [==============================] - 2s 5ms/step - loss: 0.1196 - accuracy: 0.9791 - val_loss: 0.0525 - val_accuracy: 0.9920\n",
      "Epoch 2/100\n",
      "313/313 [==============================] - 1s 3ms/step - loss: 0.0477 - accuracy: 0.9923 - val_loss: 0.0312 - val_accuracy: 0.9925\n",
      "Epoch 3/100\n",
      "313/313 [==============================] - 1s 4ms/step - loss: 0.0296 - accuracy: 0.9956 - val_loss: 0.0316 - val_accuracy: 0.9930\n",
      "Epoch 4/100\n",
      "313/313 [==============================] - 1s 4ms/step - loss: 0.0199 - accuracy: 0.9970 - val_loss: 0.0238 - val_accuracy: 0.9950\n",
      "Epoch 5/100\n",
      "313/313 [==============================] - 1s 3ms/step - loss: 0.0184 - accuracy: 0.9965 - val_loss: 0.0205 - val_accuracy: 0.9950\n",
      "Epoch 6/100\n",
      "313/313 [==============================] - 1s 3ms/step - loss: 0.0148 - accuracy: 0.9980 - val_loss: 0.0240 - val_accuracy: 0.9950\n",
      "Epoch 7/100\n",
      "313/313 [==============================] - 1s 3ms/step - loss: 0.0123 - accuracy: 0.9979 - val_loss: 0.0163 - val_accuracy: 0.9955\n",
      "Epoch 8/100\n",
      "313/313 [==============================] - 1s 3ms/step - loss: 0.0128 - accuracy: 0.9969 - val_loss: 0.0149 - val_accuracy: 0.9960\n",
      "Epoch 9/100\n",
      "313/313 [==============================] - 1s 3ms/step - loss: 0.0116 - accuracy: 0.9975 - val_loss: 0.0154 - val_accuracy: 0.9955\n",
      "Epoch 10/100\n",
      "313/313 [==============================] - 1s 3ms/step - loss: 0.0093 - accuracy: 0.9985 - val_loss: 0.0118 - val_accuracy: 0.9965\n",
      "Epoch 11/100\n",
      "313/313 [==============================] - 1s 4ms/step - loss: 0.0092 - accuracy: 0.9984 - val_loss: 0.0134 - val_accuracy: 0.9960\n",
      "Epoch 12/100\n",
      "313/313 [==============================] - 1s 4ms/step - loss: 0.0089 - accuracy: 0.9979 - val_loss: 0.0122 - val_accuracy: 0.9970\n",
      "Epoch 13/100\n",
      "313/313 [==============================] - 1s 3ms/step - loss: 0.0079 - accuracy: 0.9984 - val_loss: 0.0112 - val_accuracy: 0.9965\n",
      "Epoch 14/100\n",
      "313/313 [==============================] - 1s 4ms/step - loss: 0.0062 - accuracy: 0.9993 - val_loss: 0.0112 - val_accuracy: 0.9970\n",
      "Epoch 15/100\n",
      "313/313 [==============================] - 1s 4ms/step - loss: 0.0077 - accuracy: 0.9982 - val_loss: 0.0133 - val_accuracy: 0.9965\n",
      "Epoch 16/100\n",
      "313/313 [==============================] - 2s 5ms/step - loss: 0.0048 - accuracy: 0.9994 - val_loss: 0.0124 - val_accuracy: 0.9965\n",
      "Epoch 17/100\n",
      "313/313 [==============================] - 1s 3ms/step - loss: 0.0065 - accuracy: 0.9988 - val_loss: 0.0109 - val_accuracy: 0.9975\n",
      "Epoch 18/100\n",
      "313/313 [==============================] - 1s 3ms/step - loss: 0.0071 - accuracy: 0.9987 - val_loss: 0.0122 - val_accuracy: 0.9970\n",
      "Epoch 19/100\n",
      "313/313 [==============================] - 1s 3ms/step - loss: 0.0050 - accuracy: 0.9994 - val_loss: 0.0122 - val_accuracy: 0.9975\n",
      "Epoch 20/100\n",
      "313/313 [==============================] - 1s 3ms/step - loss: 0.0068 - accuracy: 0.9985 - val_loss: 0.0147 - val_accuracy: 0.9970\n",
      "Epoch 21/100\n",
      "313/313 [==============================] - 1s 4ms/step - loss: 0.0056 - accuracy: 0.9990 - val_loss: 0.0106 - val_accuracy: 0.9975\n",
      "Epoch 22/100\n",
      "313/313 [==============================] - 1s 3ms/step - loss: 0.0046 - accuracy: 0.9993 - val_loss: 0.0124 - val_accuracy: 0.9975\n",
      "Epoch 23/100\n",
      "313/313 [==============================] - 1s 3ms/step - loss: 0.0054 - accuracy: 0.9989 - val_loss: 0.0121 - val_accuracy: 0.9975\n",
      "Epoch 24/100\n",
      "313/313 [==============================] - 1s 3ms/step - loss: 0.0058 - accuracy: 0.9990 - val_loss: 0.0117 - val_accuracy: 0.9975\n",
      "Epoch 25/100\n",
      "313/313 [==============================] - 1s 3ms/step - loss: 0.0035 - accuracy: 0.9994 - val_loss: 0.0123 - val_accuracy: 0.9975\n",
      "Epoch 26/100\n",
      "313/313 [==============================] - 1s 3ms/step - loss: 0.0046 - accuracy: 0.9993 - val_loss: 0.0160 - val_accuracy: 0.9965\n",
      "Epoch 27/100\n",
      "313/313 [==============================] - 2s 5ms/step - loss: 0.0036 - accuracy: 0.9995 - val_loss: 0.0131 - val_accuracy: 0.9970\n",
      "Epoch 28/100\n",
      "313/313 [==============================] - 1s 3ms/step - loss: 0.0026 - accuracy: 0.9998 - val_loss: 0.0108 - val_accuracy: 0.9970\n",
      "Epoch 29/100\n",
      "313/313 [==============================] - 1s 3ms/step - loss: 0.0044 - accuracy: 0.9993 - val_loss: 0.0113 - val_accuracy: 0.9970\n",
      "Epoch 30/100\n",
      "313/313 [==============================] - 2s 5ms/step - loss: 0.0028 - accuracy: 0.9996 - val_loss: 0.0111 - val_accuracy: 0.9970\n",
      "Epoch 31/100\n",
      "313/313 [==============================] - 2s 5ms/step - loss: 0.0025 - accuracy: 0.9998 - val_loss: 0.0101 - val_accuracy: 0.9970\n",
      "Epoch 32/100\n",
      "313/313 [==============================] - 1s 4ms/step - loss: 0.0033 - accuracy: 0.9995 - val_loss: 0.0108 - val_accuracy: 0.9970\n",
      "Epoch 33/100\n",
      "313/313 [==============================] - 1s 3ms/step - loss: 0.0026 - accuracy: 0.9998 - val_loss: 0.0128 - val_accuracy: 0.9970\n",
      "Epoch 34/100\n",
      "313/313 [==============================] - 1s 3ms/step - loss: 0.0030 - accuracy: 0.9996 - val_loss: 0.0118 - val_accuracy: 0.9975\n",
      "Epoch 35/100\n",
      "313/313 [==============================] - 1s 3ms/step - loss: 0.0026 - accuracy: 0.9997 - val_loss: 0.0116 - val_accuracy: 0.9970\n",
      "Epoch 36/100\n",
      "313/313 [==============================] - 1s 4ms/step - loss: 0.0028 - accuracy: 0.9994 - val_loss: 0.0111 - val_accuracy: 0.9975\n",
      "Epoch 37/100\n",
      "313/313 [==============================] - 1s 3ms/step - loss: 0.0042 - accuracy: 0.9989 - val_loss: 0.0182 - val_accuracy: 0.9970\n",
      "Epoch 38/100\n",
      "313/313 [==============================] - 2s 5ms/step - loss: 0.0021 - accuracy: 0.9998 - val_loss: 0.0137 - val_accuracy: 0.9970\n",
      "Epoch 39/100\n",
      "313/313 [==============================] - 1s 3ms/step - loss: 0.0033 - accuracy: 0.9993 - val_loss: 0.0135 - val_accuracy: 0.9970\n",
      "Epoch 40/100\n",
      "313/313 [==============================] - 1s 3ms/step - loss: 0.0025 - accuracy: 0.9995 - val_loss: 0.0109 - val_accuracy: 0.9975\n",
      "Epoch 41/100\n",
      "313/313 [==============================] - 1s 3ms/step - loss: 0.0028 - accuracy: 0.9993 - val_loss: 0.0107 - val_accuracy: 0.9975\n"
     ]
    },
    {
     "data": {
      "text/plain": [
       "<keras.callbacks.History at 0x2476345fa90>"
      ]
     },
     "execution_count": 5,
     "metadata": {},
     "output_type": "execute_result"
    }
   ],
   "source": [
    "model_B = keras.Sequential([\n",
    "    keras.layers.Flatten(input_shape=(28, 28)), \n",
    "    keras.layers.BatchNormalization(), \n",
    "    keras.layers.Dense(300, activation=\"relu\"), \n",
    "    keras.layers.BatchNormalization(), \n",
    "    keras.layers.Dense(100, activation=\"relu\"), \n",
    "    keras.layers.BatchNormalization(), \n",
    "    keras.layers.Dense(10, activation=\"relu\"), \n",
    "    keras.layers.BatchNormalization(), \n",
    "    keras.layers.Dense(1, activation=\"sigmoid\")\n",
    "])\n",
    "model_B.compile(loss=\"binary_crossentropy\", \n",
    "                optimizer=\"sgd\", \n",
    "                metrics=\"accuracy\")\n",
    "model_B.fit(X_train_B, y_train_B, epochs=100, \n",
    "            validation_data=(X_val_B, y_val_B), \n",
    "            callbacks=[keras.callbacks.EarlyStopping(monitor=\"val_loss\", \n",
    "                                                     patience=10, \n",
    "                                                     restore_best_weights=True)])"
   ]
  },
  {
   "cell_type": "code",
   "execution_count": 6,
   "metadata": {},
   "outputs": [
    {
     "name": "stdout",
     "output_type": "stream",
     "text": [
      "63/63 [==============================] - 0s 2ms/step - loss: 0.0076 - accuracy: 0.9985\n"
     ]
    },
    {
     "data": {
      "text/plain": [
       "[0.0075619034469127655, 0.9984999895095825]"
      ]
     },
     "execution_count": 6,
     "metadata": {},
     "output_type": "execute_result"
    }
   ],
   "source": [
    "model_B.evaluate(X_test_B, y_test_B)"
   ]
  },
  {
   "cell_type": "code",
   "execution_count": 7,
   "metadata": {},
   "outputs": [
    {
     "name": "stdout",
     "output_type": "stream",
     "text": [
      "250/250 [==============================] - 1s 2ms/step - loss: 0.2272 - accuracy: 0.9243\n"
     ]
    },
    {
     "data": {
      "text/plain": [
       "[0.22721777856349945, 0.9242500066757202]"
      ]
     },
     "execution_count": 7,
     "metadata": {},
     "output_type": "execute_result"
    }
   ],
   "source": [
    "model_A.evaluate(X_test_A, y_test_A)"
   ]
  },
  {
   "cell_type": "code",
   "execution_count": 8,
   "metadata": {},
   "outputs": [],
   "source": [
    "model_B_on_A = keras.Sequential(model_A.layers[:-1])\n",
    "model_B_on_A.add(keras.layers.Dense(1, activation=\"sigmoid\"))"
   ]
  },
  {
   "cell_type": "code",
   "execution_count": 9,
   "metadata": {},
   "outputs": [],
   "source": [
    "model_A_clone = keras.models.clone_model(model_A)\n",
    "model_A_clone.set_weights(model_A.get_weights())"
   ]
  },
  {
   "cell_type": "code",
   "execution_count": 10,
   "metadata": {},
   "outputs": [],
   "source": [
    "for layer in model_B_on_A.layers[:-1]:\n",
    "    layer.trainable = False\n",
    "model_B_on_A.compile(loss=\"binary_crossentropy\", \n",
    "                     optimizer=\"sgd\", \n",
    "                     metrics=[\"accuracy\"])\n"
   ]
  },
  {
   "cell_type": "code",
   "execution_count": 11,
   "metadata": {},
   "outputs": [
    {
     "name": "stdout",
     "output_type": "stream",
     "text": [
      "Epoch 1/4\n",
      "313/313 [==============================] - 1s 3ms/step - loss: 0.1328 - accuracy: 0.9611 - val_loss: 0.0554 - val_accuracy: 0.9880\n",
      "Epoch 2/4\n",
      "313/313 [==============================] - 1s 3ms/step - loss: 0.0345 - accuracy: 0.9950 - val_loss: 0.0379 - val_accuracy: 0.9905\n",
      "Epoch 3/4\n",
      "313/313 [==============================] - 1s 2ms/step - loss: 0.0238 - accuracy: 0.9962 - val_loss: 0.0313 - val_accuracy: 0.9910\n",
      "Epoch 4/4\n",
      "313/313 [==============================] - 1s 2ms/step - loss: 0.0191 - accuracy: 0.9967 - val_loss: 0.0280 - val_accuracy: 0.9910\n"
     ]
    }
   ],
   "source": [
    "history_b_on_A = model_B_on_A.fit(X_train_B, y_train_B, epochs=4, \n",
    "                                  validation_data=(X_val_B, y_val_B))"
   ]
  },
  {
   "cell_type": "code",
   "execution_count": 12,
   "metadata": {},
   "outputs": [
    {
     "name": "stdout",
     "output_type": "stream",
     "text": [
      "Epoch 1/16\n",
      "313/313 [==============================] - 2s 4ms/step - loss: 0.0403 - accuracy: 0.9886 - val_loss: 0.0410 - val_accuracy: 0.9905\n",
      "Epoch 2/16\n",
      "313/313 [==============================] - 1s 4ms/step - loss: 0.0333 - accuracy: 0.9916 - val_loss: 0.0398 - val_accuracy: 0.9915\n",
      "Epoch 3/16\n",
      "313/313 [==============================] - 1s 4ms/step - loss: 0.0332 - accuracy: 0.9919 - val_loss: 0.0361 - val_accuracy: 0.9915\n",
      "Epoch 4/16\n",
      "313/313 [==============================] - 2s 5ms/step - loss: 0.0327 - accuracy: 0.9916 - val_loss: 0.0353 - val_accuracy: 0.9910\n",
      "Epoch 5/16\n",
      "313/313 [==============================] - 2s 7ms/step - loss: 0.0334 - accuracy: 0.9917 - val_loss: 0.0327 - val_accuracy: 0.9910\n",
      "Epoch 6/16\n",
      "313/313 [==============================] - 2s 6ms/step - loss: 0.0312 - accuracy: 0.9919 - val_loss: 0.0321 - val_accuracy: 0.9915\n",
      "Epoch 7/16\n",
      "313/313 [==============================] - 2s 7ms/step - loss: 0.0268 - accuracy: 0.9946 - val_loss: 0.0312 - val_accuracy: 0.9915\n",
      "Epoch 8/16\n",
      "313/313 [==============================] - 1s 4ms/step - loss: 0.0267 - accuracy: 0.9938 - val_loss: 0.0317 - val_accuracy: 0.9915\n",
      "Epoch 9/16\n",
      "313/313 [==============================] - 1s 3ms/step - loss: 0.0259 - accuracy: 0.9935 - val_loss: 0.0303 - val_accuracy: 0.9910\n",
      "Epoch 10/16\n",
      "313/313 [==============================] - 1s 3ms/step - loss: 0.0283 - accuracy: 0.9927 - val_loss: 0.0309 - val_accuracy: 0.9910\n",
      "Epoch 11/16\n",
      "313/313 [==============================] - 1s 3ms/step - loss: 0.0262 - accuracy: 0.9933 - val_loss: 0.0286 - val_accuracy: 0.9915\n",
      "Epoch 12/16\n",
      "313/313 [==============================] - 1s 4ms/step - loss: 0.0237 - accuracy: 0.9952 - val_loss: 0.0288 - val_accuracy: 0.9915\n",
      "Epoch 13/16\n",
      "313/313 [==============================] - 1s 4ms/step - loss: 0.0244 - accuracy: 0.9943 - val_loss: 0.0276 - val_accuracy: 0.9915\n",
      "Epoch 14/16\n",
      "313/313 [==============================] - 2s 5ms/step - loss: 0.0243 - accuracy: 0.9940 - val_loss: 0.0287 - val_accuracy: 0.9915\n",
      "Epoch 15/16\n",
      "313/313 [==============================] - 1s 5ms/step - loss: 0.0241 - accuracy: 0.9946 - val_loss: 0.0273 - val_accuracy: 0.9915\n",
      "Epoch 16/16\n",
      "313/313 [==============================] - 1s 4ms/step - loss: 0.0235 - accuracy: 0.9945 - val_loss: 0.0266 - val_accuracy: 0.9915\n"
     ]
    }
   ],
   "source": [
    "for layer in model_B_on_A.layers[:-1]:\n",
    "    layer.trainable = True\n",
    "\n",
    "optimizer = keras.optimizers.SGD(learning_rate=1e-4)\n",
    "model_B_on_A.compile(loss=\"binary_crossentropy\", \n",
    "                     optimizer=optimizer, \n",
    "                     metrics=[\"accuracy\"])\n",
    "\n",
    "history_b_on_A = model_B_on_A.fit(X_train_B, y_train_B, epochs=16, \n",
    "                                  validation_data=(X_val_B, y_val_B))"
   ]
  },
  {
   "cell_type": "code",
   "execution_count": 13,
   "metadata": {},
   "outputs": [
    {
     "name": "stdout",
     "output_type": "stream",
     "text": [
      "63/63 [==============================] - 0s 3ms/step - loss: 0.0151 - accuracy: 0.9975\n"
     ]
    },
    {
     "data": {
      "text/plain": [
       "[0.015052733942866325, 0.9975000023841858]"
      ]
     },
     "execution_count": 13,
     "metadata": {},
     "output_type": "execute_result"
    }
   ],
   "source": [
    "model_B_on_A.evaluate(X_test_B, y_test_B)"
   ]
  },
  {
   "cell_type": "markdown",
   "metadata": {},
   "source": [
    "## Faster Optimizer"
   ]
  },
  {
   "cell_type": "code",
   "execution_count": 4,
   "metadata": {},
   "outputs": [],
   "source": [
    "from tensorflow import keras\n",
    "momentum_optimizer = keras.optimizers.SGD(learning_rate=0.001, \n",
    "                                          momentum=0.9)"
   ]
  },
  {
   "cell_type": "code",
   "execution_count": 2,
   "metadata": {},
   "outputs": [],
   "source": [
    "from tensorflow import keras\n",
    "nag_optimizer = keras.optimizers.SGD(learning_rate=1e-3, \n",
    "                                     momentum=0.9, \n",
    "                                     nesterov=True)"
   ]
  },
  {
   "cell_type": "code",
   "execution_count": 3,
   "metadata": {},
   "outputs": [],
   "source": [
    "adagrad_optimizer = keras.optimizers.Adagrad(learning_rate=1e-3, \n",
    "                                             initial_accumulator_value=0.1, \n",
    "                                             epsilon=1e-10)"
   ]
  },
  {
   "cell_type": "code",
   "execution_count": 4,
   "metadata": {},
   "outputs": [],
   "source": [
    "rmsprop_optimizer = keras.optimizers.RMSprop(learning_rate=1e-3, \n",
    "                                             rho=0.9)"
   ]
  },
  {
   "cell_type": "code",
   "execution_count": 5,
   "metadata": {},
   "outputs": [],
   "source": [
    "adam_optimizer = keras.optimizers.Adam(learning_rate=0.001, \n",
    "                                       beta_1=0.9, \n",
    "                                       beta_2=0.999)"
   ]
  },
  {
   "cell_type": "code",
   "execution_count": 1,
   "metadata": {},
   "outputs": [],
   "source": [
    "from tensorflow import keras\n",
    "optimizer = keras.optimizers.SGD(learning_rate=0.01, decay=1e-4)"
   ]
  },
  {
   "cell_type": "code",
   "execution_count": 2,
   "metadata": {},
   "outputs": [],
   "source": [
    "def exponential_decay(lr0, s):\n",
    "    def exponential_decay_fn(epoch):\n",
    "        return lr0 * 0.1 **(epoch/s)\n",
    "    return exponential_decay_fn\n",
    "\n",
    "exponential_decay_fn = exponential_decay(lr0=0.01, s=20)\n",
    "lr_scheduler = keras.callbacks.LearningRateScheduler(exponential_decay_fn)"
   ]
  },
  {
   "cell_type": "code",
   "execution_count": 3,
   "metadata": {},
   "outputs": [],
   "source": [
    "def piecewise_constant_fn(epoch):\n",
    "    if epoch < 5:\n",
    "        return 0.01\n",
    "    elif epoch < 15:\n",
    "        return 0.005\n",
    "    else:\n",
    "        return 0.001"
   ]
  },
  {
   "cell_type": "code",
   "execution_count": 4,
   "metadata": {},
   "outputs": [],
   "source": [
    "lr_scheduler = keras.callbacks.ReduceLROnPlateau(factor=0.5, \n",
    "                                                 patience=5)"
   ]
  },
  {
   "cell_type": "code",
   "execution_count": 5,
   "metadata": {},
   "outputs": [],
   "source": [
    "length_of_dataset = 2000\n",
    "s = 20 * length_of_dataset // 32\n",
    "learning_rate = keras.optimizers.schedules.ExponentialDecay(0.01, s, 0.1)\n",
    "optimizer = keras.optimizers.SGD(learning_rate)"
   ]
  },
  {
   "cell_type": "markdown",
   "metadata": {},
   "source": [
    "## Avoiding Overfitting Through Regularization"
   ]
  },
  {
   "cell_type": "code",
   "execution_count": 1,
   "metadata": {},
   "outputs": [],
   "source": [
    "from tensorflow import keras\n",
    "\n",
    "l1_dense_layer = keras.layers.Dense(\n",
    "    units=100, \n",
    "    activation=\"elu\", \n",
    "    kernel_initializer=\"he_normal\", \n",
    "    kernel_regularizer=keras.regularizers.l1(0.01)\n",
    ")"
   ]
  },
  {
   "cell_type": "code",
   "execution_count": 2,
   "metadata": {},
   "outputs": [],
   "source": [
    "l2_dense_layer = keras.layers.Dense(\n",
    "    units=100, \n",
    "    activation=\"elu\", \n",
    "    kernel_initializer=\"he_normal\", \n",
    "    kernel_regularizer=keras.regularizers.l2(0.01)\n",
    ")"
   ]
  },
  {
   "cell_type": "code",
   "execution_count": 4,
   "metadata": {},
   "outputs": [],
   "source": [
    "l1_l2_dense_layer = keras.layers.Dense(\n",
    "    units=100, \n",
    "    activation=\"elu\", \n",
    "    kernel_initializer=\"he_normal\", \n",
    "    kernel_regularizer=keras.regularizers.l1_l2(0.01)\n",
    ")"
   ]
  },
  {
   "cell_type": "code",
   "execution_count": 5,
   "metadata": {},
   "outputs": [],
   "source": [
    "from functools import partial\n",
    "\n",
    "RegularizedDense = partial(\n",
    "    keras.layers.Dense, \n",
    "    activation=\"elu\", \n",
    "    kernel_initializer=\"he_normal\", \n",
    "    kernel_regularizer=keras.regularizers.l2(0.01)\n",
    ")\n",
    "\n",
    "model = keras.Sequential([\n",
    "    keras.layers.Flatten(input_shape=[28, 28]), \n",
    "    RegularizedDense(300), \n",
    "    RegularizedDense(100), \n",
    "    RegularizedDense(10, activation=\"softmax\", \n",
    "                     kernel_initializer=\"glorot_uniform\")\n",
    "])"
   ]
  },
  {
   "cell_type": "code",
   "execution_count": 6,
   "metadata": {},
   "outputs": [],
   "source": [
    "model = keras.Sequential([\n",
    "    keras.layers.Flatten(input_shape=[28, 28]), \n",
    "    keras.layers.Dropout(rate=0.2), \n",
    "    keras.layers.Dense(300, activation=\"elu\", \n",
    "                       kernel_initializer=\"he_normal\"), \n",
    "    keras.layers.Dropout(rate=0.2), \n",
    "    keras.layers.Dense(100, activation=\"elu\", \n",
    "                       kernel_initializer=\"he_normal\"), \n",
    "    keras.layers.Dropout(rate=0.2), \n",
    "    keras.layers.Dense(10, activation=\"softmax\")\n",
    "])"
   ]
  },
  {
   "cell_type": "code",
   "execution_count": 10,
   "metadata": {},
   "outputs": [
    {
     "name": "stdout",
     "output_type": "stream",
     "text": [
      "Epoch 1/100\n",
      "1563/1563 [==============================] - 7s 3ms/step - loss: 0.7499 - accuracy: 0.7347 - val_loss: 0.4495 - val_accuracy: 0.8339\n",
      "Epoch 2/100\n",
      "1563/1563 [==============================] - 5s 3ms/step - loss: 0.5557 - accuracy: 0.8009 - val_loss: 0.4183 - val_accuracy: 0.8449\n",
      "Epoch 3/100\n",
      "1563/1563 [==============================] - 5s 3ms/step - loss: 0.5038 - accuracy: 0.8169 - val_loss: 0.3996 - val_accuracy: 0.8519\n",
      "Epoch 4/100\n",
      "1563/1563 [==============================] - 5s 3ms/step - loss: 0.4814 - accuracy: 0.8258 - val_loss: 0.3785 - val_accuracy: 0.8615\n",
      "Epoch 5/100\n",
      "1563/1563 [==============================] - 5s 3ms/step - loss: 0.4537 - accuracy: 0.8347 - val_loss: 0.3762 - val_accuracy: 0.8636\n",
      "Epoch 6/100\n",
      "1563/1563 [==============================] - 5s 3ms/step - loss: 0.4426 - accuracy: 0.8378 - val_loss: 0.3611 - val_accuracy: 0.8694\n",
      "Epoch 7/100\n",
      "1563/1563 [==============================] - 5s 3ms/step - loss: 0.4325 - accuracy: 0.8420 - val_loss: 0.3584 - val_accuracy: 0.8677\n",
      "Epoch 8/100\n",
      "1563/1563 [==============================] - 5s 3ms/step - loss: 0.4281 - accuracy: 0.8441 - val_loss: 0.3528 - val_accuracy: 0.8685\n",
      "Epoch 9/100\n",
      "1563/1563 [==============================] - 5s 3ms/step - loss: 0.4144 - accuracy: 0.8473 - val_loss: 0.3461 - val_accuracy: 0.8725\n",
      "Epoch 10/100\n",
      "1563/1563 [==============================] - 5s 3ms/step - loss: 0.4097 - accuracy: 0.8509 - val_loss: 0.3458 - val_accuracy: 0.8716\n",
      "Epoch 11/100\n",
      "1563/1563 [==============================] - 5s 3ms/step - loss: 0.4031 - accuracy: 0.8526 - val_loss: 0.3370 - val_accuracy: 0.8747\n",
      "Epoch 12/100\n",
      "1563/1563 [==============================] - 5s 3ms/step - loss: 0.3964 - accuracy: 0.8540 - val_loss: 0.3363 - val_accuracy: 0.8750\n",
      "Epoch 13/100\n",
      "1563/1563 [==============================] - 5s 3ms/step - loss: 0.3939 - accuracy: 0.8556 - val_loss: 0.3356 - val_accuracy: 0.8756\n",
      "Epoch 14/100\n",
      "1563/1563 [==============================] - 5s 3ms/step - loss: 0.3871 - accuracy: 0.8561 - val_loss: 0.3282 - val_accuracy: 0.8786\n",
      "Epoch 15/100\n",
      "1563/1563 [==============================] - 5s 3ms/step - loss: 0.3842 - accuracy: 0.8583 - val_loss: 0.3240 - val_accuracy: 0.8796\n",
      "Epoch 16/100\n",
      "1563/1563 [==============================] - 5s 3ms/step - loss: 0.3766 - accuracy: 0.8594 - val_loss: 0.3214 - val_accuracy: 0.8810\n",
      "Epoch 17/100\n",
      "1563/1563 [==============================] - 5s 3ms/step - loss: 0.3759 - accuracy: 0.8607 - val_loss: 0.3279 - val_accuracy: 0.8779\n",
      "Epoch 18/100\n",
      "1563/1563 [==============================] - 5s 3ms/step - loss: 0.3700 - accuracy: 0.8636 - val_loss: 0.3268 - val_accuracy: 0.8793\n",
      "Epoch 19/100\n",
      "1563/1563 [==============================] - 5s 3ms/step - loss: 0.3652 - accuracy: 0.8635 - val_loss: 0.3211 - val_accuracy: 0.8797\n",
      "Epoch 20/100\n",
      "1563/1563 [==============================] - 5s 3ms/step - loss: 0.3647 - accuracy: 0.8652 - val_loss: 0.3174 - val_accuracy: 0.8830\n",
      "Epoch 21/100\n",
      "1563/1563 [==============================] - 5s 3ms/step - loss: 0.3629 - accuracy: 0.8653 - val_loss: 0.3147 - val_accuracy: 0.8832\n",
      "Epoch 22/100\n",
      "1563/1563 [==============================] - 5s 3ms/step - loss: 0.3582 - accuracy: 0.8679 - val_loss: 0.3137 - val_accuracy: 0.8840\n",
      "Epoch 23/100\n",
      "1563/1563 [==============================] - 5s 3ms/step - loss: 0.3539 - accuracy: 0.8676 - val_loss: 0.3139 - val_accuracy: 0.8855\n",
      "Epoch 24/100\n",
      "1563/1563 [==============================] - 5s 3ms/step - loss: 0.3503 - accuracy: 0.8685 - val_loss: 0.3173 - val_accuracy: 0.8848\n",
      "Epoch 25/100\n",
      "1563/1563 [==============================] - 5s 3ms/step - loss: 0.3468 - accuracy: 0.8715 - val_loss: 0.3103 - val_accuracy: 0.8863\n",
      "Epoch 26/100\n",
      "1563/1563 [==============================] - 5s 3ms/step - loss: 0.3504 - accuracy: 0.8701 - val_loss: 0.3074 - val_accuracy: 0.8862\n",
      "Epoch 27/100\n",
      "1563/1563 [==============================] - 5s 3ms/step - loss: 0.3432 - accuracy: 0.8726 - val_loss: 0.3107 - val_accuracy: 0.8868\n",
      "Epoch 28/100\n",
      "1563/1563 [==============================] - 5s 3ms/step - loss: 0.3444 - accuracy: 0.8706 - val_loss: 0.3055 - val_accuracy: 0.8862\n",
      "Epoch 29/100\n",
      "1563/1563 [==============================] - 5s 3ms/step - loss: 0.3381 - accuracy: 0.8720 - val_loss: 0.3090 - val_accuracy: 0.8876\n",
      "Epoch 30/100\n",
      "1563/1563 [==============================] - 5s 3ms/step - loss: 0.3359 - accuracy: 0.8742 - val_loss: 0.3055 - val_accuracy: 0.8875\n",
      "Epoch 31/100\n",
      "1563/1563 [==============================] - 5s 3ms/step - loss: 0.3355 - accuracy: 0.8741 - val_loss: 0.3045 - val_accuracy: 0.8878\n",
      "Epoch 32/100\n",
      "1563/1563 [==============================] - 5s 3ms/step - loss: 0.3317 - accuracy: 0.8776 - val_loss: 0.3020 - val_accuracy: 0.8904\n",
      "Epoch 33/100\n",
      "1563/1563 [==============================] - 5s 3ms/step - loss: 0.3345 - accuracy: 0.8752 - val_loss: 0.3034 - val_accuracy: 0.8885\n",
      "Epoch 34/100\n",
      "1563/1563 [==============================] - 5s 3ms/step - loss: 0.3293 - accuracy: 0.8770 - val_loss: 0.3080 - val_accuracy: 0.8881\n",
      "Epoch 35/100\n",
      "1563/1563 [==============================] - 5s 3ms/step - loss: 0.3303 - accuracy: 0.8757 - val_loss: 0.2996 - val_accuracy: 0.8889\n",
      "Epoch 36/100\n",
      "1563/1563 [==============================] - 5s 3ms/step - loss: 0.3283 - accuracy: 0.8782 - val_loss: 0.3017 - val_accuracy: 0.8895\n",
      "Epoch 37/100\n",
      "1563/1563 [==============================] - 5s 3ms/step - loss: 0.3249 - accuracy: 0.8779 - val_loss: 0.3000 - val_accuracy: 0.8876\n",
      "Epoch 38/100\n",
      "1563/1563 [==============================] - 5s 3ms/step - loss: 0.3256 - accuracy: 0.8773 - val_loss: 0.2985 - val_accuracy: 0.8931\n",
      "Epoch 39/100\n",
      "1563/1563 [==============================] - 5s 3ms/step - loss: 0.3215 - accuracy: 0.8795 - val_loss: 0.2940 - val_accuracy: 0.8916\n",
      "Epoch 40/100\n",
      "1563/1563 [==============================] - 5s 3ms/step - loss: 0.3181 - accuracy: 0.8809 - val_loss: 0.2950 - val_accuracy: 0.8895\n",
      "Epoch 41/100\n",
      "1563/1563 [==============================] - 5s 3ms/step - loss: 0.3178 - accuracy: 0.8815 - val_loss: 0.2967 - val_accuracy: 0.8881\n",
      "Epoch 42/100\n",
      "1563/1563 [==============================] - 5s 3ms/step - loss: 0.3182 - accuracy: 0.8815 - val_loss: 0.2973 - val_accuracy: 0.8904\n",
      "Epoch 43/100\n",
      "1563/1563 [==============================] - 5s 3ms/step - loss: 0.3134 - accuracy: 0.8830 - val_loss: 0.2968 - val_accuracy: 0.8891\n",
      "Epoch 44/100\n",
      "1563/1563 [==============================] - 5s 3ms/step - loss: 0.3151 - accuracy: 0.8805 - val_loss: 0.3022 - val_accuracy: 0.8879\n",
      "Epoch 45/100\n",
      "1563/1563 [==============================] - 5s 3ms/step - loss: 0.3114 - accuracy: 0.8832 - val_loss: 0.2918 - val_accuracy: 0.8906\n",
      "Epoch 46/100\n",
      "1563/1563 [==============================] - 5s 3ms/step - loss: 0.3109 - accuracy: 0.8822 - val_loss: 0.2913 - val_accuracy: 0.8924\n",
      "Epoch 47/100\n",
      "1563/1563 [==============================] - 5s 3ms/step - loss: 0.3066 - accuracy: 0.8854 - val_loss: 0.2924 - val_accuracy: 0.8926\n",
      "Epoch 48/100\n",
      "1563/1563 [==============================] - 5s 3ms/step - loss: 0.3102 - accuracy: 0.8832 - val_loss: 0.2910 - val_accuracy: 0.8927\n",
      "Epoch 49/100\n",
      "1563/1563 [==============================] - 5s 3ms/step - loss: 0.3073 - accuracy: 0.8848 - val_loss: 0.2933 - val_accuracy: 0.8908\n",
      "Epoch 50/100\n",
      "1563/1563 [==============================] - 5s 3ms/step - loss: 0.3091 - accuracy: 0.8821 - val_loss: 0.2943 - val_accuracy: 0.8909\n",
      "Epoch 51/100\n",
      "1563/1563 [==============================] - 5s 3ms/step - loss: 0.2999 - accuracy: 0.8863 - val_loss: 0.2914 - val_accuracy: 0.8933\n",
      "Epoch 52/100\n",
      "1563/1563 [==============================] - 5s 3ms/step - loss: 0.3029 - accuracy: 0.8871 - val_loss: 0.2935 - val_accuracy: 0.8932\n",
      "Epoch 53/100\n",
      "1563/1563 [==============================] - 5s 3ms/step - loss: 0.3011 - accuracy: 0.8872 - val_loss: 0.2865 - val_accuracy: 0.8924\n",
      "Epoch 54/100\n",
      "1563/1563 [==============================] - 5s 3ms/step - loss: 0.3015 - accuracy: 0.8863 - val_loss: 0.2905 - val_accuracy: 0.8913\n",
      "Epoch 55/100\n",
      "1563/1563 [==============================] - 5s 3ms/step - loss: 0.2997 - accuracy: 0.8875 - val_loss: 0.2893 - val_accuracy: 0.8914\n",
      "Epoch 56/100\n",
      "1563/1563 [==============================] - 5s 3ms/step - loss: 0.2976 - accuracy: 0.8865 - val_loss: 0.2842 - val_accuracy: 0.8947\n",
      "Epoch 57/100\n",
      "1563/1563 [==============================] - 5s 3ms/step - loss: 0.2951 - accuracy: 0.8899 - val_loss: 0.2875 - val_accuracy: 0.8935\n",
      "Epoch 58/100\n",
      "1563/1563 [==============================] - 5s 3ms/step - loss: 0.2932 - accuracy: 0.8892 - val_loss: 0.2879 - val_accuracy: 0.8950\n",
      "Epoch 59/100\n",
      "1563/1563 [==============================] - 5s 3ms/step - loss: 0.2925 - accuracy: 0.8911 - val_loss: 0.2863 - val_accuracy: 0.8941\n",
      "Epoch 60/100\n",
      "1563/1563 [==============================] - 5s 3ms/step - loss: 0.2930 - accuracy: 0.8910 - val_loss: 0.2852 - val_accuracy: 0.8933\n",
      "Epoch 61/100\n",
      "1563/1563 [==============================] - 4s 3ms/step - loss: 0.2921 - accuracy: 0.8904 - val_loss: 0.2832 - val_accuracy: 0.8955\n",
      "Epoch 62/100\n",
      "1563/1563 [==============================] - 5s 3ms/step - loss: 0.2920 - accuracy: 0.8906 - val_loss: 0.2864 - val_accuracy: 0.8954\n",
      "Epoch 63/100\n",
      "1563/1563 [==============================] - 5s 3ms/step - loss: 0.2914 - accuracy: 0.8899 - val_loss: 0.2927 - val_accuracy: 0.8896\n",
      "Epoch 64/100\n",
      "1563/1563 [==============================] - 5s 3ms/step - loss: 0.2876 - accuracy: 0.8913 - val_loss: 0.2829 - val_accuracy: 0.8943\n",
      "Epoch 65/100\n",
      "1563/1563 [==============================] - 4s 3ms/step - loss: 0.2844 - accuracy: 0.8929 - val_loss: 0.2810 - val_accuracy: 0.8964\n",
      "Epoch 66/100\n",
      "1563/1563 [==============================] - 4s 3ms/step - loss: 0.2875 - accuracy: 0.8926 - val_loss: 0.2809 - val_accuracy: 0.8960 loss: 0.2900  - ETA: 0s - loss: 0.2872 - accuracy: \n",
      "Epoch 67/100\n",
      "1563/1563 [==============================] - 5s 3ms/step - loss: 0.2859 - accuracy: 0.8930 - val_loss: 0.2852 - val_accuracy: 0.8955\n",
      "Epoch 68/100\n",
      "1563/1563 [==============================] - 5s 3ms/step - loss: 0.2843 - accuracy: 0.8917 - val_loss: 0.2893 - val_accuracy: 0.8946\n",
      "Epoch 69/100\n",
      "1563/1563 [==============================] - 4s 3ms/step - loss: 0.2849 - accuracy: 0.8932 - val_loss: 0.2848 - val_accuracy: 0.8955\n",
      "Epoch 70/100\n",
      "1563/1563 [==============================] - 5s 3ms/step - loss: 0.2833 - accuracy: 0.8923 - val_loss: 0.2835 - val_accuracy: 0.8935\n",
      "Epoch 71/100\n",
      "1563/1563 [==============================] - 4s 3ms/step - loss: 0.2813 - accuracy: 0.8951 - val_loss: 0.2853 - val_accuracy: 0.8946\n",
      "Epoch 72/100\n",
      "1563/1563 [==============================] - 4s 3ms/step - loss: 0.2800 - accuracy: 0.8931 - val_loss: 0.2824 - val_accuracy: 0.8952\n",
      "Epoch 73/100\n",
      "1563/1563 [==============================] - 5s 3ms/step - loss: 0.2797 - accuracy: 0.8943 - val_loss: 0.2798 - val_accuracy: 0.8951\n",
      "Epoch 74/100\n",
      "1563/1563 [==============================] - 4s 3ms/step - loss: 0.2794 - accuracy: 0.8950 - val_loss: 0.2840 - val_accuracy: 0.8947\n",
      "Epoch 75/100\n",
      "1563/1563 [==============================] - 5s 3ms/step - loss: 0.2750 - accuracy: 0.8957 - val_loss: 0.2795 - val_accuracy: 0.8965\n",
      "Epoch 76/100\n",
      "1563/1563 [==============================] - 5s 3ms/step - loss: 0.2797 - accuracy: 0.8944 - val_loss: 0.2831 - val_accuracy: 0.8953\n",
      "Epoch 77/100\n",
      "1563/1563 [==============================] - 4s 3ms/step - loss: 0.2778 - accuracy: 0.8955 - val_loss: 0.2814 - val_accuracy: 0.8952\n",
      "Epoch 78/100\n",
      "1563/1563 [==============================] - 4s 3ms/step - loss: 0.2780 - accuracy: 0.8944 - val_loss: 0.2796 - val_accuracy: 0.8970\n",
      "Epoch 79/100\n",
      "1563/1563 [==============================] - 4s 3ms/step - loss: 0.2755 - accuracy: 0.8960 - val_loss: 0.2810 - val_accuracy: 0.8964\n",
      "Epoch 80/100\n",
      "1563/1563 [==============================] - 4s 3ms/step - loss: 0.2743 - accuracy: 0.8965 - val_loss: 0.2789 - val_accuracy: 0.8961\n",
      "Epoch 81/100\n",
      "1563/1563 [==============================] - 5s 3ms/step - loss: 0.2697 - accuracy: 0.8971 - val_loss: 0.2813 - val_accuracy: 0.8974\n",
      "Epoch 82/100\n",
      "1563/1563 [==============================] - 4s 3ms/step - loss: 0.2721 - accuracy: 0.8978 - val_loss: 0.2800 - val_accuracy: 0.8953\n",
      "Epoch 83/100\n",
      "1563/1563 [==============================] - 4s 3ms/step - loss: 0.2743 - accuracy: 0.8951 - val_loss: 0.2793 - val_accuracy: 0.8970\n",
      "Epoch 84/100\n",
      "1563/1563 [==============================] - 5s 3ms/step - loss: 0.2707 - accuracy: 0.8975 - val_loss: 0.2758 - val_accuracy: 0.8965\n",
      "Epoch 85/100\n",
      "1563/1563 [==============================] - 5s 3ms/step - loss: 0.2686 - accuracy: 0.8983 - val_loss: 0.2772 - val_accuracy: 0.8985\n",
      "Epoch 86/100\n",
      "1563/1563 [==============================] - 5s 3ms/step - loss: 0.2707 - accuracy: 0.8979 - val_loss: 0.2787 - val_accuracy: 0.8971\n",
      "Epoch 87/100\n",
      "1563/1563 [==============================] - 5s 3ms/step - loss: 0.2663 - accuracy: 0.8983 - val_loss: 0.2771 - val_accuracy: 0.8988\n",
      "Epoch 88/100\n",
      "1563/1563 [==============================] - 5s 3ms/step - loss: 0.2664 - accuracy: 0.9002 - val_loss: 0.2824 - val_accuracy: 0.8962\n",
      "Epoch 89/100\n",
      "1563/1563 [==============================] - 5s 3ms/step - loss: 0.2634 - accuracy: 0.8997 - val_loss: 0.2832 - val_accuracy: 0.8990\n",
      "Epoch 90/100\n",
      "1563/1563 [==============================] - 5s 3ms/step - loss: 0.2653 - accuracy: 0.8997 - val_loss: 0.2804 - val_accuracy: 0.8974\n",
      "Epoch 91/100\n",
      "1563/1563 [==============================] - 5s 3ms/step - loss: 0.2670 - accuracy: 0.8988 - val_loss: 0.2782 - val_accuracy: 0.8982\n",
      "Epoch 92/100\n",
      "1563/1563 [==============================] - 5s 3ms/step - loss: 0.2651 - accuracy: 0.8997 - val_loss: 0.2813 - val_accuracy: 0.8963\n",
      "Epoch 93/100\n",
      "1563/1563 [==============================] - 5s 3ms/step - loss: 0.2668 - accuracy: 0.8995 - val_loss: 0.2821 - val_accuracy: 0.8973\n",
      "Epoch 94/100\n",
      "1563/1563 [==============================] - 5s 3ms/step - loss: 0.2652 - accuracy: 0.8981 - val_loss: 0.2818 - val_accuracy: 0.8967\n"
     ]
    },
    {
     "data": {
      "text/plain": [
       "<keras.callbacks.History at 0x1950ca3e550>"
      ]
     },
     "execution_count": 10,
     "metadata": {},
     "output_type": "execute_result"
    }
   ],
   "source": [
    "(X_train, y_train), (X_test, y_test) = keras.datasets.fashion_mnist.load_data()\n",
    "X_train, X_val = X_train[:50000], X_train[50000:]\n",
    "y_train, y_val = y_train[:50000], y_train[50000:]\n",
    "\n",
    "\n",
    "model = keras.Sequential([\n",
    "    keras.layers.Flatten(input_shape=[28, 28]), \n",
    "    keras.layers.BatchNormalization(),\n",
    "    keras.layers.Dropout(rate=0.2), \n",
    "    keras.layers.Dense(300, activation=\"relu\", \n",
    "                        kernel_initializer=\"he_normal\"), \n",
    "    keras.layers.BatchNormalization(),\n",
    "    keras.layers.Dropout(rate=0.2), \n",
    "    keras.layers.Dense(100, activation=\"relu\", \n",
    "                        kernel_initializer=\"he_normal\"), \n",
    "    keras.layers.Dropout(rate=0.2), \n",
    "    keras.layers.Dense(10, activation=\"softmax\")\n",
    "]) \n",
    "lr_scheduler = keras.callbacks.ReduceLROnPlateau(factor=0.5, \n",
    "                                                 patience=5)\n",
    "model.compile(loss=\"sparse_categorical_crossentropy\", \n",
    "              optimizer=\"sgd\", \n",
    "              metrics=[\"accuracy\"])\n",
    "model.fit(X_train, y_train, epochs=100, \n",
    "          validation_data=(X_val, y_val), \n",
    "          callbacks=[keras.callbacks.EarlyStopping(patience=10, \n",
    "                                                   restore_best_weights=True)])\n"
   ]
  },
  {
   "cell_type": "code",
   "execution_count": 19,
   "metadata": {},
   "outputs": [],
   "source": [
    "model.save(\"fashion_mnist.h5\")"
   ]
  },
  {
   "cell_type": "code",
   "execution_count": 11,
   "metadata": {},
   "outputs": [
    {
     "name": "stderr",
     "output_type": "stream",
     "text": [
      "C:\\Users\\msi1\\AppData\\Local\\Programs\\Python\\Python38\\lib\\contextlib.py:113: UserWarning: `tf.keras.backend.learning_phase_scope` is deprecated and will be removed after 2020-10-11. To update it, simply pass a True/False value to the `training` argument of the `__call__` method of your layer or model.\n",
      "  return next(self.gen)\n"
     ]
    }
   ],
   "source": [
    "import numpy as np\n",
    "\n",
    "with keras.backend.learning_phase_scope(1):\n",
    "    y_probas = np.stack([model.predict(X_test) for sample in range(100)])\n",
    "y_proba = y_probas.mean(axis=0)"
   ]
  },
  {
   "cell_type": "code",
   "execution_count": 39,
   "metadata": {},
   "outputs": [
    {
     "data": {
      "text/plain": [
       "array([[0.   , 0.   , 0.   , 0.   , 0.   , 0.   , 0.   , 0.002, 0.   ,\n",
       "        0.998]], dtype=float32)"
      ]
     },
     "execution_count": 39,
     "metadata": {},
     "output_type": "execute_result"
    }
   ],
   "source": [
    "np.round(model.predict(X_test[:1]), 3)"
   ]
  },
  {
   "cell_type": "code",
   "execution_count": 44,
   "metadata": {},
   "outputs": [
    {
     "data": {
      "text/plain": [
       "array([[[0.   , 0.   , 0.   , 0.   , 0.   , 0.   , 0.   , 0.002, 0.   ,\n",
       "         0.998]],\n",
       "\n",
       "       [[0.   , 0.   , 0.   , 0.   , 0.   , 0.   , 0.   , 0.002, 0.   ,\n",
       "         0.998]],\n",
       "\n",
       "       [[0.   , 0.   , 0.   , 0.   , 0.   , 0.   , 0.   , 0.002, 0.   ,\n",
       "         0.998]],\n",
       "\n",
       "       [[0.   , 0.   , 0.   , 0.   , 0.   , 0.   , 0.   , 0.002, 0.   ,\n",
       "         0.998]],\n",
       "\n",
       "       [[0.   , 0.   , 0.   , 0.   , 0.   , 0.   , 0.   , 0.002, 0.   ,\n",
       "         0.998]],\n",
       "\n",
       "       [[0.   , 0.   , 0.   , 0.   , 0.   , 0.   , 0.   , 0.002, 0.   ,\n",
       "         0.998]],\n",
       "\n",
       "       [[0.   , 0.   , 0.   , 0.   , 0.   , 0.   , 0.   , 0.002, 0.   ,\n",
       "         0.998]],\n",
       "\n",
       "       [[0.   , 0.   , 0.   , 0.   , 0.   , 0.   , 0.   , 0.002, 0.   ,\n",
       "         0.998]],\n",
       "\n",
       "       [[0.   , 0.   , 0.   , 0.   , 0.   , 0.   , 0.   , 0.002, 0.   ,\n",
       "         0.998]],\n",
       "\n",
       "       [[0.   , 0.   , 0.   , 0.   , 0.   , 0.   , 0.   , 0.002, 0.   ,\n",
       "         0.998]],\n",
       "\n",
       "       [[0.   , 0.   , 0.   , 0.   , 0.   , 0.   , 0.   , 0.002, 0.   ,\n",
       "         0.998]],\n",
       "\n",
       "       [[0.   , 0.   , 0.   , 0.   , 0.   , 0.   , 0.   , 0.002, 0.   ,\n",
       "         0.998]],\n",
       "\n",
       "       [[0.   , 0.   , 0.   , 0.   , 0.   , 0.   , 0.   , 0.002, 0.   ,\n",
       "         0.998]],\n",
       "\n",
       "       [[0.   , 0.   , 0.   , 0.   , 0.   , 0.   , 0.   , 0.002, 0.   ,\n",
       "         0.998]],\n",
       "\n",
       "       [[0.   , 0.   , 0.   , 0.   , 0.   , 0.   , 0.   , 0.002, 0.   ,\n",
       "         0.998]],\n",
       "\n",
       "       [[0.   , 0.   , 0.   , 0.   , 0.   , 0.   , 0.   , 0.002, 0.   ,\n",
       "         0.998]],\n",
       "\n",
       "       [[0.   , 0.   , 0.   , 0.   , 0.   , 0.   , 0.   , 0.002, 0.   ,\n",
       "         0.998]],\n",
       "\n",
       "       [[0.   , 0.   , 0.   , 0.   , 0.   , 0.   , 0.   , 0.002, 0.   ,\n",
       "         0.998]],\n",
       "\n",
       "       [[0.   , 0.   , 0.   , 0.   , 0.   , 0.   , 0.   , 0.002, 0.   ,\n",
       "         0.998]],\n",
       "\n",
       "       [[0.   , 0.   , 0.   , 0.   , 0.   , 0.   , 0.   , 0.002, 0.   ,\n",
       "         0.998]],\n",
       "\n",
       "       [[0.   , 0.   , 0.   , 0.   , 0.   , 0.   , 0.   , 0.002, 0.   ,\n",
       "         0.998]],\n",
       "\n",
       "       [[0.   , 0.   , 0.   , 0.   , 0.   , 0.   , 0.   , 0.002, 0.   ,\n",
       "         0.998]],\n",
       "\n",
       "       [[0.   , 0.   , 0.   , 0.   , 0.   , 0.   , 0.   , 0.002, 0.   ,\n",
       "         0.998]],\n",
       "\n",
       "       [[0.   , 0.   , 0.   , 0.   , 0.   , 0.   , 0.   , 0.002, 0.   ,\n",
       "         0.998]],\n",
       "\n",
       "       [[0.   , 0.   , 0.   , 0.   , 0.   , 0.   , 0.   , 0.002, 0.   ,\n",
       "         0.998]],\n",
       "\n",
       "       [[0.   , 0.   , 0.   , 0.   , 0.   , 0.   , 0.   , 0.002, 0.   ,\n",
       "         0.998]],\n",
       "\n",
       "       [[0.   , 0.   , 0.   , 0.   , 0.   , 0.   , 0.   , 0.002, 0.   ,\n",
       "         0.998]],\n",
       "\n",
       "       [[0.   , 0.   , 0.   , 0.   , 0.   , 0.   , 0.   , 0.002, 0.   ,\n",
       "         0.998]],\n",
       "\n",
       "       [[0.   , 0.   , 0.   , 0.   , 0.   , 0.   , 0.   , 0.002, 0.   ,\n",
       "         0.998]],\n",
       "\n",
       "       [[0.   , 0.   , 0.   , 0.   , 0.   , 0.   , 0.   , 0.002, 0.   ,\n",
       "         0.998]],\n",
       "\n",
       "       [[0.   , 0.   , 0.   , 0.   , 0.   , 0.   , 0.   , 0.002, 0.   ,\n",
       "         0.998]],\n",
       "\n",
       "       [[0.   , 0.   , 0.   , 0.   , 0.   , 0.   , 0.   , 0.002, 0.   ,\n",
       "         0.998]],\n",
       "\n",
       "       [[0.   , 0.   , 0.   , 0.   , 0.   , 0.   , 0.   , 0.002, 0.   ,\n",
       "         0.998]],\n",
       "\n",
       "       [[0.   , 0.   , 0.   , 0.   , 0.   , 0.   , 0.   , 0.002, 0.   ,\n",
       "         0.998]],\n",
       "\n",
       "       [[0.   , 0.   , 0.   , 0.   , 0.   , 0.   , 0.   , 0.002, 0.   ,\n",
       "         0.998]],\n",
       "\n",
       "       [[0.   , 0.   , 0.   , 0.   , 0.   , 0.   , 0.   , 0.002, 0.   ,\n",
       "         0.998]],\n",
       "\n",
       "       [[0.   , 0.   , 0.   , 0.   , 0.   , 0.   , 0.   , 0.002, 0.   ,\n",
       "         0.998]],\n",
       "\n",
       "       [[0.   , 0.   , 0.   , 0.   , 0.   , 0.   , 0.   , 0.002, 0.   ,\n",
       "         0.998]],\n",
       "\n",
       "       [[0.   , 0.   , 0.   , 0.   , 0.   , 0.   , 0.   , 0.002, 0.   ,\n",
       "         0.998]],\n",
       "\n",
       "       [[0.   , 0.   , 0.   , 0.   , 0.   , 0.   , 0.   , 0.002, 0.   ,\n",
       "         0.998]],\n",
       "\n",
       "       [[0.   , 0.   , 0.   , 0.   , 0.   , 0.   , 0.   , 0.002, 0.   ,\n",
       "         0.998]],\n",
       "\n",
       "       [[0.   , 0.   , 0.   , 0.   , 0.   , 0.   , 0.   , 0.002, 0.   ,\n",
       "         0.998]],\n",
       "\n",
       "       [[0.   , 0.   , 0.   , 0.   , 0.   , 0.   , 0.   , 0.002, 0.   ,\n",
       "         0.998]],\n",
       "\n",
       "       [[0.   , 0.   , 0.   , 0.   , 0.   , 0.   , 0.   , 0.002, 0.   ,\n",
       "         0.998]],\n",
       "\n",
       "       [[0.   , 0.   , 0.   , 0.   , 0.   , 0.   , 0.   , 0.002, 0.   ,\n",
       "         0.998]],\n",
       "\n",
       "       [[0.   , 0.   , 0.   , 0.   , 0.   , 0.   , 0.   , 0.002, 0.   ,\n",
       "         0.998]],\n",
       "\n",
       "       [[0.   , 0.   , 0.   , 0.   , 0.   , 0.   , 0.   , 0.002, 0.   ,\n",
       "         0.998]],\n",
       "\n",
       "       [[0.   , 0.   , 0.   , 0.   , 0.   , 0.   , 0.   , 0.002, 0.   ,\n",
       "         0.998]],\n",
       "\n",
       "       [[0.   , 0.   , 0.   , 0.   , 0.   , 0.   , 0.   , 0.002, 0.   ,\n",
       "         0.998]],\n",
       "\n",
       "       [[0.   , 0.   , 0.   , 0.   , 0.   , 0.   , 0.   , 0.002, 0.   ,\n",
       "         0.998]],\n",
       "\n",
       "       [[0.   , 0.   , 0.   , 0.   , 0.   , 0.   , 0.   , 0.002, 0.   ,\n",
       "         0.998]],\n",
       "\n",
       "       [[0.   , 0.   , 0.   , 0.   , 0.   , 0.   , 0.   , 0.002, 0.   ,\n",
       "         0.998]],\n",
       "\n",
       "       [[0.   , 0.   , 0.   , 0.   , 0.   , 0.   , 0.   , 0.002, 0.   ,\n",
       "         0.998]],\n",
       "\n",
       "       [[0.   , 0.   , 0.   , 0.   , 0.   , 0.   , 0.   , 0.002, 0.   ,\n",
       "         0.998]],\n",
       "\n",
       "       [[0.   , 0.   , 0.   , 0.   , 0.   , 0.   , 0.   , 0.002, 0.   ,\n",
       "         0.998]],\n",
       "\n",
       "       [[0.   , 0.   , 0.   , 0.   , 0.   , 0.   , 0.   , 0.002, 0.   ,\n",
       "         0.998]],\n",
       "\n",
       "       [[0.   , 0.   , 0.   , 0.   , 0.   , 0.   , 0.   , 0.002, 0.   ,\n",
       "         0.998]],\n",
       "\n",
       "       [[0.   , 0.   , 0.   , 0.   , 0.   , 0.   , 0.   , 0.002, 0.   ,\n",
       "         0.998]],\n",
       "\n",
       "       [[0.   , 0.   , 0.   , 0.   , 0.   , 0.   , 0.   , 0.002, 0.   ,\n",
       "         0.998]],\n",
       "\n",
       "       [[0.   , 0.   , 0.   , 0.   , 0.   , 0.   , 0.   , 0.002, 0.   ,\n",
       "         0.998]],\n",
       "\n",
       "       [[0.   , 0.   , 0.   , 0.   , 0.   , 0.   , 0.   , 0.002, 0.   ,\n",
       "         0.998]],\n",
       "\n",
       "       [[0.   , 0.   , 0.   , 0.   , 0.   , 0.   , 0.   , 0.002, 0.   ,\n",
       "         0.998]],\n",
       "\n",
       "       [[0.   , 0.   , 0.   , 0.   , 0.   , 0.   , 0.   , 0.002, 0.   ,\n",
       "         0.998]],\n",
       "\n",
       "       [[0.   , 0.   , 0.   , 0.   , 0.   , 0.   , 0.   , 0.002, 0.   ,\n",
       "         0.998]],\n",
       "\n",
       "       [[0.   , 0.   , 0.   , 0.   , 0.   , 0.   , 0.   , 0.002, 0.   ,\n",
       "         0.998]],\n",
       "\n",
       "       [[0.   , 0.   , 0.   , 0.   , 0.   , 0.   , 0.   , 0.002, 0.   ,\n",
       "         0.998]],\n",
       "\n",
       "       [[0.   , 0.   , 0.   , 0.   , 0.   , 0.   , 0.   , 0.002, 0.   ,\n",
       "         0.998]],\n",
       "\n",
       "       [[0.   , 0.   , 0.   , 0.   , 0.   , 0.   , 0.   , 0.002, 0.   ,\n",
       "         0.998]],\n",
       "\n",
       "       [[0.   , 0.   , 0.   , 0.   , 0.   , 0.   , 0.   , 0.002, 0.   ,\n",
       "         0.998]],\n",
       "\n",
       "       [[0.   , 0.   , 0.   , 0.   , 0.   , 0.   , 0.   , 0.002, 0.   ,\n",
       "         0.998]],\n",
       "\n",
       "       [[0.   , 0.   , 0.   , 0.   , 0.   , 0.   , 0.   , 0.002, 0.   ,\n",
       "         0.998]],\n",
       "\n",
       "       [[0.   , 0.   , 0.   , 0.   , 0.   , 0.   , 0.   , 0.002, 0.   ,\n",
       "         0.998]],\n",
       "\n",
       "       [[0.   , 0.   , 0.   , 0.   , 0.   , 0.   , 0.   , 0.002, 0.   ,\n",
       "         0.998]],\n",
       "\n",
       "       [[0.   , 0.   , 0.   , 0.   , 0.   , 0.   , 0.   , 0.002, 0.   ,\n",
       "         0.998]],\n",
       "\n",
       "       [[0.   , 0.   , 0.   , 0.   , 0.   , 0.   , 0.   , 0.002, 0.   ,\n",
       "         0.998]],\n",
       "\n",
       "       [[0.   , 0.   , 0.   , 0.   , 0.   , 0.   , 0.   , 0.002, 0.   ,\n",
       "         0.998]],\n",
       "\n",
       "       [[0.   , 0.   , 0.   , 0.   , 0.   , 0.   , 0.   , 0.002, 0.   ,\n",
       "         0.998]],\n",
       "\n",
       "       [[0.   , 0.   , 0.   , 0.   , 0.   , 0.   , 0.   , 0.002, 0.   ,\n",
       "         0.998]],\n",
       "\n",
       "       [[0.   , 0.   , 0.   , 0.   , 0.   , 0.   , 0.   , 0.002, 0.   ,\n",
       "         0.998]],\n",
       "\n",
       "       [[0.   , 0.   , 0.   , 0.   , 0.   , 0.   , 0.   , 0.002, 0.   ,\n",
       "         0.998]],\n",
       "\n",
       "       [[0.   , 0.   , 0.   , 0.   , 0.   , 0.   , 0.   , 0.002, 0.   ,\n",
       "         0.998]],\n",
       "\n",
       "       [[0.   , 0.   , 0.   , 0.   , 0.   , 0.   , 0.   , 0.002, 0.   ,\n",
       "         0.998]],\n",
       "\n",
       "       [[0.   , 0.   , 0.   , 0.   , 0.   , 0.   , 0.   , 0.002, 0.   ,\n",
       "         0.998]],\n",
       "\n",
       "       [[0.   , 0.   , 0.   , 0.   , 0.   , 0.   , 0.   , 0.002, 0.   ,\n",
       "         0.998]],\n",
       "\n",
       "       [[0.   , 0.   , 0.   , 0.   , 0.   , 0.   , 0.   , 0.002, 0.   ,\n",
       "         0.998]],\n",
       "\n",
       "       [[0.   , 0.   , 0.   , 0.   , 0.   , 0.   , 0.   , 0.002, 0.   ,\n",
       "         0.998]],\n",
       "\n",
       "       [[0.   , 0.   , 0.   , 0.   , 0.   , 0.   , 0.   , 0.002, 0.   ,\n",
       "         0.998]],\n",
       "\n",
       "       [[0.   , 0.   , 0.   , 0.   , 0.   , 0.   , 0.   , 0.002, 0.   ,\n",
       "         0.998]],\n",
       "\n",
       "       [[0.   , 0.   , 0.   , 0.   , 0.   , 0.   , 0.   , 0.002, 0.   ,\n",
       "         0.998]],\n",
       "\n",
       "       [[0.   , 0.   , 0.   , 0.   , 0.   , 0.   , 0.   , 0.002, 0.   ,\n",
       "         0.998]],\n",
       "\n",
       "       [[0.   , 0.   , 0.   , 0.   , 0.   , 0.   , 0.   , 0.002, 0.   ,\n",
       "         0.998]],\n",
       "\n",
       "       [[0.   , 0.   , 0.   , 0.   , 0.   , 0.   , 0.   , 0.002, 0.   ,\n",
       "         0.998]],\n",
       "\n",
       "       [[0.   , 0.   , 0.   , 0.   , 0.   , 0.   , 0.   , 0.002, 0.   ,\n",
       "         0.998]],\n",
       "\n",
       "       [[0.   , 0.   , 0.   , 0.   , 0.   , 0.   , 0.   , 0.002, 0.   ,\n",
       "         0.998]],\n",
       "\n",
       "       [[0.   , 0.   , 0.   , 0.   , 0.   , 0.   , 0.   , 0.002, 0.   ,\n",
       "         0.998]],\n",
       "\n",
       "       [[0.   , 0.   , 0.   , 0.   , 0.   , 0.   , 0.   , 0.002, 0.   ,\n",
       "         0.998]],\n",
       "\n",
       "       [[0.   , 0.   , 0.   , 0.   , 0.   , 0.   , 0.   , 0.002, 0.   ,\n",
       "         0.998]],\n",
       "\n",
       "       [[0.   , 0.   , 0.   , 0.   , 0.   , 0.   , 0.   , 0.002, 0.   ,\n",
       "         0.998]],\n",
       "\n",
       "       [[0.   , 0.   , 0.   , 0.   , 0.   , 0.   , 0.   , 0.002, 0.   ,\n",
       "         0.998]],\n",
       "\n",
       "       [[0.   , 0.   , 0.   , 0.   , 0.   , 0.   , 0.   , 0.002, 0.   ,\n",
       "         0.998]]], dtype=float32)"
      ]
     },
     "execution_count": 44,
     "metadata": {},
     "output_type": "execute_result"
    }
   ],
   "source": [
    "np.round(y_probas[:, :1], 3)"
   ]
  },
  {
   "cell_type": "code",
   "execution_count": 36,
   "metadata": {},
   "outputs": [
    {
     "data": {
      "text/plain": [
       "(1, 28, 28)"
      ]
     },
     "execution_count": 36,
     "metadata": {},
     "output_type": "execute_result"
    }
   ],
   "source": [
    "np.array([X_test[1]]).shape"
   ]
  },
  {
   "cell_type": "code",
   "execution_count": 45,
   "metadata": {},
   "outputs": [],
   "source": [
    "class MCDropout(keras.layers.Dropout):\n",
    "    def call(self, inputs):\n",
    "        return super().call(inputs, training=True)"
   ]
  },
  {
   "cell_type": "code",
   "execution_count": 1,
   "metadata": {},
   "outputs": [
    {
     "data": {
      "text/plain": [
       "<keras.layers.core.dense.Dense at 0x16b383c4b50>"
      ]
     },
     "execution_count": 1,
     "metadata": {},
     "output_type": "execute_result"
    }
   ],
   "source": [
    "from tensorflow import keras\n",
    "\n",
    "keras.layers.Dense(100, activation=\"elu\", \n",
    "                   kernel_initializer=\"he_normal\", \n",
    "                   kernel_constraint=keras.constraints.max_norm())"
   ]
  },
  {
   "cell_type": "markdown",
   "metadata": {},
   "source": [
    "## Exercise"
   ]
  },
  {
   "cell_type": "markdown",
   "metadata": {},
   "source": [
    "### Q 8."
   ]
  },
  {
   "cell_type": "code",
   "execution_count": 2,
   "metadata": {},
   "outputs": [],
   "source": [
    "from tensorflow import keras\n",
    "import numpy as np\n",
    "\n",
    "def dataset_split(data, labels, yes=True):\n",
    "    n_data, n_labels = [], []\n",
    "    for i, label in enumerate(labels):\n",
    "        if yes:\n",
    "            if label < 5:\n",
    "                n_data.append(data[i])\n",
    "                n_labels.append(labels[i])\n",
    "        else:\n",
    "            if label > 5:\n",
    "                n_data.append(data[i])\n",
    "                n_labels.append(labels[i]-5)\n",
    "    return np.array(n_data), np.array(n_labels)\n",
    "\n",
    "(X_train, y_train), (X_test, y_test) = keras.datasets.mnist.load_data()\n",
    "X_train_A, y_train_A = dataset_split(X_train, y_train)\n",
    "X_train_A, X_val_A = X_train_A[:23000], X_train_A[23000:]\n",
    "y_train_A, y_val_A = y_train_A[:23000], y_train_A[23000:]\n",
    "X_test_A, y_test_A = dataset_split(X_test, y_test)"
   ]
  },
  {
   "cell_type": "code",
   "execution_count": 23,
   "metadata": {},
   "outputs": [
    {
     "name": "stdout",
     "output_type": "stream",
     "text": [
      "Epoch 1/100\n",
      "719/719 [==============================] - 5s 6ms/step - loss: 1.7513 - accuracy: 0.9307 - val_loss: 0.4829 - val_accuracy: 0.9600\n",
      "Epoch 2/100\n",
      "719/719 [==============================] - 4s 6ms/step - loss: 0.2946 - accuracy: 0.9650 - val_loss: 0.1782 - val_accuracy: 0.9758\n",
      "Epoch 3/100\n",
      "719/719 [==============================] - 3s 4ms/step - loss: 0.1645 - accuracy: 0.9730 - val_loss: 0.1930 - val_accuracy: 0.9742\n",
      "Epoch 4/100\n",
      "719/719 [==============================] - 2s 3ms/step - loss: 0.1129 - accuracy: 0.9769 - val_loss: 0.1539 - val_accuracy: 0.9706\n",
      "Epoch 5/100\n",
      "719/719 [==============================] - 4s 6ms/step - loss: 0.1037 - accuracy: 0.9791 - val_loss: 0.0896 - val_accuracy: 0.9787\n",
      "Epoch 6/100\n",
      "719/719 [==============================] - 4s 6ms/step - loss: 0.0665 - accuracy: 0.9848 - val_loss: 0.0937 - val_accuracy: 0.9837\n",
      "Epoch 7/100\n",
      "719/719 [==============================] - 4s 5ms/step - loss: 0.0555 - accuracy: 0.9858 - val_loss: 0.0642 - val_accuracy: 0.9838\n",
      "Epoch 8/100\n",
      "719/719 [==============================] - 2s 3ms/step - loss: 0.0557 - accuracy: 0.9861 - val_loss: 0.1435 - val_accuracy: 0.9696\n",
      "Epoch 9/100\n",
      "719/719 [==============================] - 2s 2ms/step - loss: 0.0552 - accuracy: 0.9851 - val_loss: 0.0721 - val_accuracy: 0.9821\n",
      "Epoch 10/100\n",
      "719/719 [==============================] - 3s 5ms/step - loss: 0.0584 - accuracy: 0.9861 - val_loss: 0.0559 - val_accuracy: 0.9851\n",
      "Epoch 11/100\n",
      "719/719 [==============================] - 4s 6ms/step - loss: 0.0284 - accuracy: 0.9917 - val_loss: 0.0591 - val_accuracy: 0.9829\n",
      "Epoch 12/100\n",
      "719/719 [==============================] - 3s 4ms/step - loss: 0.0359 - accuracy: 0.9910 - val_loss: 0.0562 - val_accuracy: 0.9862\n",
      "Epoch 13/100\n",
      "719/719 [==============================] - 2s 3ms/step - loss: 0.0337 - accuracy: 0.9907 - val_loss: 0.0697 - val_accuracy: 0.9825\n",
      "Epoch 14/100\n",
      "719/719 [==============================] - 3s 4ms/step - loss: 0.0360 - accuracy: 0.9910 - val_loss: 0.0569 - val_accuracy: 0.9860\n",
      "Epoch 15/100\n",
      "719/719 [==============================] - 4s 5ms/step - loss: 0.0267 - accuracy: 0.9924 - val_loss: 0.0610 - val_accuracy: 0.9863\n",
      "Epoch 16/100\n",
      "719/719 [==============================] - 2s 2ms/step - loss: 0.0230 - accuracy: 0.9933 - val_loss: 0.0507 - val_accuracy: 0.9896\n",
      "Epoch 17/100\n",
      "719/719 [==============================] - 3s 4ms/step - loss: 0.0315 - accuracy: 0.9929 - val_loss: 0.0469 - val_accuracy: 0.9904\n",
      "Epoch 18/100\n",
      "719/719 [==============================] - 3s 5ms/step - loss: 0.0225 - accuracy: 0.9946 - val_loss: 0.0697 - val_accuracy: 0.9857\n",
      "Epoch 19/100\n",
      "719/719 [==============================] - 1s 2ms/step - loss: 0.0153 - accuracy: 0.9961 - val_loss: 0.0622 - val_accuracy: 0.9870\n",
      "Epoch 20/100\n",
      "719/719 [==============================] - 1s 2ms/step - loss: 0.0156 - accuracy: 0.9954 - val_loss: 0.0658 - val_accuracy: 0.9866\n",
      "Epoch 21/100\n",
      "719/719 [==============================] - 1s 2ms/step - loss: 0.0183 - accuracy: 0.9947 - val_loss: 0.0802 - val_accuracy: 0.9863\n",
      "Epoch 22/100\n",
      "719/719 [==============================] - 2s 2ms/step - loss: 0.0146 - accuracy: 0.9962 - val_loss: 0.0597 - val_accuracy: 0.9887\n",
      "Epoch 23/100\n",
      "719/719 [==============================] - 2s 2ms/step - loss: 0.0178 - accuracy: 0.9955 - val_loss: 0.0468 - val_accuracy: 0.9897\n",
      "Epoch 24/100\n",
      "719/719 [==============================] - 3s 4ms/step - loss: 0.0130 - accuracy: 0.9966 - val_loss: 0.0595 - val_accuracy: 0.9879\n",
      "Epoch 25/100\n",
      "719/719 [==============================] - 3s 4ms/step - loss: 0.0211 - accuracy: 0.9956 - val_loss: 0.0696 - val_accuracy: 0.9853\n",
      "Epoch 26/100\n",
      "719/719 [==============================] - 3s 4ms/step - loss: 0.0130 - accuracy: 0.9967 - val_loss: 0.0471 - val_accuracy: 0.9900\n",
      "Epoch 27/100\n",
      "719/719 [==============================] - 4s 5ms/step - loss: 0.0115 - accuracy: 0.9970 - val_loss: 0.0627 - val_accuracy: 0.9887\n",
      "Epoch 28/100\n",
      "719/719 [==============================] - 2s 3ms/step - loss: 0.0101 - accuracy: 0.9977 - val_loss: 0.0600 - val_accuracy: 0.9878\n",
      "Epoch 29/100\n",
      "719/719 [==============================] - 3s 4ms/step - loss: 0.0180 - accuracy: 0.9958 - val_loss: 0.0785 - val_accuracy: 0.9880\n",
      "Epoch 30/100\n",
      "719/719 [==============================] - 3s 5ms/step - loss: 0.0152 - accuracy: 0.9961 - val_loss: 0.0490 - val_accuracy: 0.9884\n",
      "Epoch 31/100\n",
      "719/719 [==============================] - 2s 3ms/step - loss: 0.0098 - accuracy: 0.9970 - val_loss: 0.0800 - val_accuracy: 0.9887\n",
      "Epoch 32/100\n",
      "719/719 [==============================] - 2s 3ms/step - loss: 0.0082 - accuracy: 0.9980 - val_loss: 0.0576 - val_accuracy: 0.9914\n",
      "Epoch 33/100\n",
      "719/719 [==============================] - 2s 2ms/step - loss: 0.0048 - accuracy: 0.9987 - val_loss: 0.0625 - val_accuracy: 0.9905\n"
     ]
    }
   ],
   "source": [
    "from tensorflow.keras import layers\n",
    "\n",
    "model_A = keras.Sequential([\n",
    "    layers.Flatten(input_shape=[28, 28]),\n",
    "    layers.Dense(100, kernel_initializer=\"he_normal\", \n",
    "                 activation=\"elu\"), \n",
    "    layers.Dense(100, kernel_initializer=\"he_normal\", \n",
    "                 activation=\"elu\"), \n",
    "    layers.Dense(100, kernel_initializer=\"he_normal\", \n",
    "                 activation=\"elu\"), \n",
    "    layers.Dense(100, kernel_initializer=\"he_normal\", \n",
    "                 activation=\"elu\"), \n",
    "    layers.Dense(100, kernel_initializer=\"he_normal\", \n",
    "                 activation=\"elu\"), \n",
    "    layers.Dense(5, activation=\"softmax\")\n",
    "])\n",
    "\n",
    "model_A.compile(loss=\"sparse_categorical_crossentropy\", \n",
    "              optimizer=\"adam\", \n",
    "              metrics=[\"accuracy\"])\n",
    "\n",
    "history_A = model_A.fit(X_train_A, y_train_A, epochs=100, \n",
    "                      validation_data=(X_val_A, y_val_A), \n",
    "                      callbacks=[keras.callbacks.EarlyStopping(patience=10, \n",
    "                                                               restore_best_weights=True, \n",
    "                                                               monitor=\"val_loss\")])\n"
   ]
  },
  {
   "cell_type": "code",
   "execution_count": 25,
   "metadata": {},
   "outputs": [
    {
     "name": "stdout",
     "output_type": "stream",
     "text": [
      "238/238 [==============================] - 1s 2ms/step - loss: 0.0468 - accuracy: 0.9897\n"
     ]
    },
    {
     "data": {
      "text/plain": [
       "[0.04679414629936218, 0.9897314310073853]"
      ]
     },
     "execution_count": 25,
     "metadata": {},
     "output_type": "execute_result"
    }
   ],
   "source": [
    "model_A.evaluate(X_val_A, y_val_A)"
   ]
  },
  {
   "cell_type": "code",
   "execution_count": 4,
   "metadata": {},
   "outputs": [],
   "source": [
    "X_train_B, y_train_B = dataset_split(X_train, y_train, yes=False)\n",
    "X_train_B, X_val_B = X_train_A[:15000], X_train_A[15000:]\n",
    "y_train_B, y_val_B = y_train_A[:15000], y_train_A[15000:]\n",
    "X_test_B, y_test_B = dataset_split(X_test, y_test, yes=False)"
   ]
  },
  {
   "cell_type": "code",
   "execution_count": 8,
   "metadata": {},
   "outputs": [],
   "source": [
    "\n",
    "model_B = keras.Sequential(model_A.layers[:-1])\n",
    "model_B.add(layers.Dense(5, activation=\"softmax\"))"
   ]
  },
  {
   "cell_type": "code",
   "execution_count": 9,
   "metadata": {},
   "outputs": [
    {
     "name": "stdout",
     "output_type": "stream",
     "text": [
      "Epoch 1/5\n",
      "469/469 [==============================] - 1s 2ms/step - loss: 0.0769 - accuracy: 0.9949 - val_loss: 0.0246 - val_accuracy: 0.9962\n",
      "Epoch 2/5\n",
      "469/469 [==============================] - 1s 2ms/step - loss: 0.0185 - accuracy: 0.9981 - val_loss: 0.0173 - val_accuracy: 0.9967\n",
      "Epoch 3/5\n",
      "469/469 [==============================] - 1s 2ms/step - loss: 0.0135 - accuracy: 0.9985 - val_loss: 0.0150 - val_accuracy: 0.9973\n",
      "Epoch 4/5\n",
      "469/469 [==============================] - 1s 2ms/step - loss: 0.0102 - accuracy: 0.9985 - val_loss: 0.0134 - val_accuracy: 0.9973\n",
      "Epoch 5/5\n",
      "469/469 [==============================] - 1s 2ms/step - loss: 0.0087 - accuracy: 0.9988 - val_loss: 0.0128 - val_accuracy: 0.9975\n"
     ]
    }
   ],
   "source": [
    "for layer in model_B.layers[:-1]:\n",
    "    layer.trainable = False\n",
    "\n",
    "model_B.compile(loss=\"sparse_categorical_crossentropy\", \n",
    "                optimizer=\"sgd\", \n",
    "                metrics=[\"accuracy\"])\n",
    "history_B = model_B.fit(X_train_B, y_train_B, epochs=5, \n",
    "                        validation_data=(X_val_B, y_val_B))"
   ]
  },
  {
   "cell_type": "code",
   "execution_count": 10,
   "metadata": {},
   "outputs": [
    {
     "name": "stdout",
     "output_type": "stream",
     "text": [
      "Epoch 1/16\n",
      "469/469 [==============================] - 2s 3ms/step - loss: 0.0068 - accuracy: 0.9988 - val_loss: 0.0124 - val_accuracy: 0.9975\n",
      "Epoch 2/16\n",
      "469/469 [==============================] - 1s 2ms/step - loss: 0.0062 - accuracy: 0.9989 - val_loss: 0.0121 - val_accuracy: 0.9975\n",
      "Epoch 3/16\n",
      "469/469 [==============================] - 1s 2ms/step - loss: 0.0056 - accuracy: 0.9990 - val_loss: 0.0119 - val_accuracy: 0.9975\n",
      "Epoch 4/16\n",
      "469/469 [==============================] - 1s 2ms/step - loss: 0.0052 - accuracy: 0.9990 - val_loss: 0.0117 - val_accuracy: 0.9975\n",
      "Epoch 5/16\n",
      "469/469 [==============================] - 1s 2ms/step - loss: 0.0049 - accuracy: 0.9991 - val_loss: 0.0116 - val_accuracy: 0.9975\n",
      "Epoch 6/16\n",
      "469/469 [==============================] - 1s 2ms/step - loss: 0.0046 - accuracy: 0.9991 - val_loss: 0.0114 - val_accuracy: 0.9975\n",
      "Epoch 7/16\n",
      "469/469 [==============================] - 1s 2ms/step - loss: 0.0044 - accuracy: 0.9991 - val_loss: 0.0113 - val_accuracy: 0.9975\n",
      "Epoch 8/16\n",
      "469/469 [==============================] - 1s 2ms/step - loss: 0.0042 - accuracy: 0.9992 - val_loss: 0.0113 - val_accuracy: 0.9975\n",
      "Epoch 9/16\n",
      "469/469 [==============================] - 1s 2ms/step - loss: 0.0040 - accuracy: 0.9993 - val_loss: 0.0112 - val_accuracy: 0.9975\n",
      "Epoch 10/16\n",
      "469/469 [==============================] - 1s 1ms/step - loss: 0.0039 - accuracy: 0.9993 - val_loss: 0.0111 - val_accuracy: 0.9975\n",
      "Epoch 11/16\n",
      "469/469 [==============================] - 1s 2ms/step - loss: 0.0038 - accuracy: 0.9993 - val_loss: 0.0110 - val_accuracy: 0.9975\n",
      "Epoch 12/16\n",
      "469/469 [==============================] - 1s 2ms/step - loss: 0.0037 - accuracy: 0.9993 - val_loss: 0.0109 - val_accuracy: 0.9975\n",
      "Epoch 13/16\n",
      "469/469 [==============================] - 1s 2ms/step - loss: 0.0036 - accuracy: 0.9993 - val_loss: 0.0109 - val_accuracy: 0.9975\n",
      "Epoch 14/16\n",
      "469/469 [==============================] - 1s 2ms/step - loss: 0.0035 - accuracy: 0.9993 - val_loss: 0.0108 - val_accuracy: 0.9975\n",
      "Epoch 15/16\n",
      "469/469 [==============================] - 1s 2ms/step - loss: 0.0035 - accuracy: 0.9993 - val_loss: 0.0107 - val_accuracy: 0.9976\n",
      "Epoch 16/16\n",
      "469/469 [==============================] - 1s 2ms/step - loss: 0.0034 - accuracy: 0.9993 - val_loss: 0.0106 - val_accuracy: 0.9976\n"
     ]
    }
   ],
   "source": [
    "for layer in model_B.layers[:-1]:\n",
    "    layer.trainable = True\n",
    "\n",
    "optimizer = keras.optimizers.SGD(learning_rate=1e-4)\n",
    "model_B.compile(loss=\"sparse_categorical_crossentropy\", \n",
    "                optimizer=optimizer, \n",
    "                metrics=[\"accuracy\"])\n",
    "history_B = model_B.fit(X_train_B, y_train_B, epochs=16, \n",
    "                        validation_data=(X_val_B, y_val_B))"
   ]
  },
  {
   "cell_type": "code",
   "execution_count": 12,
   "metadata": {},
   "outputs": [
    {
     "data": {
      "text/plain": [
       "<AxesSubplot:>"
      ]
     },
     "execution_count": 12,
     "metadata": {},
     "output_type": "execute_result"
    },
    {
     "data": {
      "image/png": "[encoded data removed]",
      "text/plain": [
       "<Figure size 432x288 with 1 Axes>"
      ]
     },
     "metadata": {
      "needs_background": "light"
     },
     "output_type": "display_data"
    }
   ],
   "source": [
    "import pandas\n",
    "\n",
    "pandas.DataFrame(history_A.history).plot()"
   ]
  },
  {
   "cell_type": "code",
   "execution_count": 13,
   "metadata": {},
   "outputs": [
    {
     "data": {
      "text/plain": [
       "<AxesSubplot:>"
      ]
     },
     "execution_count": 13,
     "metadata": {},
     "output_type": "execute_result"
    },
    {
     "data": {
      "image/png": "[encoded data removed]",
      "text/plain": [
       "<Figure size 432x288 with 1 Axes>"
      ]
     },
     "metadata": {
      "needs_background": "light"
     },
     "output_type": "display_data"
    }
   ],
   "source": [
    "pandas.DataFrame(history_B.history).plot()"
   ]
  },
  {
   "cell_type": "code",
   "execution_count": 15,
   "metadata": {},
   "outputs": [],
   "source": [
    "model_A.save(\"model_A.h5\")\n",
    "model_B.save(\"model_B.h5\")"
   ]
  },
  {
   "cell_type": "code",
   "execution_count": 1,
   "metadata": {},
   "outputs": [],
   "source": [
    "from tensorflow import keras\n",
    "from tensorflow.keras import layers\n",
    "\n",
    "def build_model(n_hiddens=4, n_neurons=100, learning_rate=1e-3, input_shape=[28, 28]):\n",
    "    model = keras.Sequential()\n",
    "    model.add(layers.Flatten(input_shape=input_shape))\n",
    "    for layer in range(n_hiddens):\n",
    "        model.add(layers.Dense(n_neurons, activation=\"elu\", kernel_initializer=\"he_normal\"))\n",
    "    model.add(layers.Dense(5, activation=\"softmax\"))\n",
    "    optimizer = keras.optimizers.Adam(learning_rate=learning_rate)\n",
    "    model.compile(loss=\"sparse_categorical_crossentropy\", \n",
    "                  optimizer=optimizer, \n",
    "                  metrics=[\"accuracy\"])\n",
    "    return model"
   ]
  },
  {
   "cell_type": "code",
   "execution_count": 5,
   "metadata": {},
   "outputs": [
    {
     "name": "stdout",
     "output_type": "stream",
     "text": [
      "Epoch 1/100\n",
      "469/469 [==============================] - 5s 6ms/step - loss: 2.8375 - accuracy: 0.8982 - val_loss: 0.5121 - val_accuracy: 0.9361\n",
      "Epoch 2/100\n",
      "469/469 [==============================] - 2s 5ms/step - loss: 0.2543 - accuracy: 0.9550 - val_loss: 0.3506 - val_accuracy: 0.9452\n",
      "Epoch 3/100\n",
      "469/469 [==============================] - 2s 5ms/step - loss: 0.1325 - accuracy: 0.9686 - val_loss: 0.2683 - val_accuracy: 0.9582\n",
      "Epoch 4/100\n",
      "469/469 [==============================] - 2s 5ms/step - loss: 0.0794 - accuracy: 0.9798 - val_loss: 0.2602 - val_accuracy: 0.9559\n",
      "Epoch 5/100\n",
      "469/469 [==============================] - 2s 5ms/step - loss: 0.0526 - accuracy: 0.9851 - val_loss: 0.2523 - val_accuracy: 0.9597\n",
      "Epoch 6/100\n",
      "469/469 [==============================] - 1s 3ms/step - loss: 0.0353 - accuracy: 0.9891 - val_loss: 0.2430 - val_accuracy: 0.9605\n",
      "Epoch 7/100\n",
      "469/469 [==============================] - 1s 2ms/step - loss: 0.0259 - accuracy: 0.9929 - val_loss: 0.2412 - val_accuracy: 0.9625\n",
      "Epoch 8/100\n",
      "469/469 [==============================] - 1s 3ms/step - loss: 0.0180 - accuracy: 0.9943 - val_loss: 0.2404 - val_accuracy: 0.9621\n",
      "Epoch 9/100\n",
      "469/469 [==============================] - 2s 4ms/step - loss: 0.0124 - accuracy: 0.9969 - val_loss: 0.2451 - val_accuracy: 0.9597\n",
      "Epoch 10/100\n",
      "469/469 [==============================] - 2s 5ms/step - loss: 0.0092 - accuracy: 0.9977 - val_loss: 0.2442 - val_accuracy: 0.9629\n",
      "Epoch 11/100\n",
      "469/469 [==============================] - 2s 3ms/step - loss: 0.0067 - accuracy: 0.9989 - val_loss: 0.2446 - val_accuracy: 0.9624\n",
      "Epoch 12/100\n",
      "469/469 [==============================] - 1s 2ms/step - loss: 0.0053 - accuracy: 0.9993 - val_loss: 0.2459 - val_accuracy: 0.9639\n",
      "Epoch 13/100\n",
      "469/469 [==============================] - 1s 2ms/step - loss: 0.0043 - accuracy: 0.9993 - val_loss: 0.2457 - val_accuracy: 0.9641\n",
      "Epoch 14/100\n",
      "469/469 [==============================] - 2s 4ms/step - loss: 0.0037 - accuracy: 0.9995 - val_loss: 0.2468 - val_accuracy: 0.9636\n",
      "Epoch 15/100\n",
      "469/469 [==============================] - 2s 3ms/step - loss: 0.0031 - accuracy: 0.9997 - val_loss: 0.2481 - val_accuracy: 0.9640\n",
      "Epoch 16/100\n",
      "469/469 [==============================] - 1s 3ms/step - loss: 0.0028 - accuracy: 0.9997 - val_loss: 0.2504 - val_accuracy: 0.9653\n",
      "Epoch 17/100\n",
      "469/469 [==============================] - 2s 3ms/step - loss: 0.0025 - accuracy: 0.9998 - val_loss: 0.2503 - val_accuracy: 0.9650\n",
      "Epoch 18/100\n",
      "469/469 [==============================] - 1s 3ms/step - loss: 0.0023 - accuracy: 0.9999 - val_loss: 0.2504 - val_accuracy: 0.9647\n",
      "Epoch 19/100\n",
      "469/469 [==============================] - 1s 2ms/step - loss: 0.0021 - accuracy: 0.9999 - val_loss: 0.2513 - val_accuracy: 0.9650\n",
      "Epoch 20/100\n",
      "469/469 [==============================] - 1s 2ms/step - loss: 0.0019 - accuracy: 0.9999 - val_loss: 0.2522 - val_accuracy: 0.9653\n",
      "Epoch 21/100\n",
      "469/469 [==============================] - 1s 2ms/step - loss: 0.0018 - accuracy: 0.9999 - val_loss: 0.2539 - val_accuracy: 0.9657\n",
      "Epoch 22/100\n",
      "469/469 [==============================] - 2s 4ms/step - loss: 0.0016 - accuracy: 0.9999 - val_loss: 0.2540 - val_accuracy: 0.9649\n",
      "Epoch 23/100\n",
      "469/469 [==============================] - 2s 4ms/step - loss: 0.0015 - accuracy: 1.0000 - val_loss: 0.2550 - val_accuracy: 0.9657\n",
      "Epoch 24/100\n",
      "469/469 [==============================] - 2s 3ms/step - loss: 0.0014 - accuracy: 0.9999 - val_loss: 0.2560 - val_accuracy: 0.9660\n",
      "Epoch 25/100\n",
      "469/469 [==============================] - 2s 5ms/step - loss: 0.0013 - accuracy: 1.0000 - val_loss: 0.2568 - val_accuracy: 0.9666\n",
      "Epoch 26/100\n",
      "469/469 [==============================] - 2s 5ms/step - loss: 0.0012 - accuracy: 1.0000 - val_loss: 0.2570 - val_accuracy: 0.9661\n",
      "Epoch 27/100\n",
      "469/469 [==============================] - 2s 4ms/step - loss: 0.0012 - accuracy: 1.0000 - val_loss: 0.2579 - val_accuracy: 0.9659\n",
      "Epoch 28/100\n",
      "469/469 [==============================] - 2s 4ms/step - loss: 0.0011 - accuracy: 1.0000 - val_loss: 0.2590 - val_accuracy: 0.9664\n",
      "Epoch 29/100\n",
      "469/469 [==============================] - 2s 5ms/step - loss: 0.0011 - accuracy: 1.0000 - val_loss: 0.2591 - val_accuracy: 0.9665\n",
      "Epoch 30/100\n",
      "469/469 [==============================] - 2s 5ms/step - loss: 0.0010 - accuracy: 1.0000 - val_loss: 0.2602 - val_accuracy: 0.9663\n",
      "Epoch 31/100\n",
      "469/469 [==============================] - 2s 5ms/step - loss: 9.6747e-04 - accuracy: 1.0000 - val_loss: 0.2602 - val_accuracy: 0.9666\n",
      "Epoch 32/100\n",
      "469/469 [==============================] - 2s 3ms/step - loss: 9.2126e-04 - accuracy: 1.0000 - val_loss: 0.2609 - val_accuracy: 0.9665\n",
      "Epoch 33/100\n",
      "469/469 [==============================] - 1s 2ms/step - loss: 8.8246e-04 - accuracy: 1.0000 - val_loss: 0.2615 - val_accuracy: 0.9663\n",
      "Epoch 34/100\n",
      "469/469 [==============================] - 1s 3ms/step - loss: 8.5516e-04 - accuracy: 1.0000 - val_loss: 0.2622 - val_accuracy: 0.9664\n",
      "Epoch 35/100\n",
      "469/469 [==============================] - 2s 4ms/step - loss: 8.1952e-04 - accuracy: 1.0000 - val_loss: 0.2624 - val_accuracy: 0.9660\n",
      "Epoch 36/100\n",
      "469/469 [==============================] - 2s 5ms/step - loss: 7.8831e-04 - accuracy: 1.0000 - val_loss: 0.2631 - val_accuracy: 0.9665\n",
      "Epoch 37/100\n",
      "469/469 [==============================] - 2s 5ms/step - loss: 7.6032e-04 - accuracy: 1.0000 - val_loss: 0.2637 - val_accuracy: 0.9664\n",
      "Epoch 38/100\n",
      "469/469 [==============================] - 2s 4ms/step - loss: 7.3190e-04 - accuracy: 1.0000 - val_loss: 0.2635 - val_accuracy: 0.9663\n",
      "Epoch 39/100\n",
      "469/469 [==============================] - 2s 5ms/step - loss: 7.1170e-04 - accuracy: 1.0000 - val_loss: 0.2644 - val_accuracy: 0.9666\n",
      "Epoch 40/100\n",
      "469/469 [==============================] - 2s 5ms/step - loss: 6.9017e-04 - accuracy: 1.0000 - val_loss: 0.2647 - val_accuracy: 0.9665\n",
      "Epoch 41/100\n",
      "469/469 [==============================] - 2s 5ms/step - loss: 6.6732e-04 - accuracy: 1.0000 - val_loss: 0.2651 - val_accuracy: 0.9663\n",
      "Epoch 42/100\n",
      "469/469 [==============================] - 2s 5ms/step - loss: 6.4775e-04 - accuracy: 1.0000 - val_loss: 0.2655 - val_accuracy: 0.9663\n",
      "Epoch 43/100\n",
      "469/469 [==============================] - 1s 3ms/step - loss: 6.2762e-04 - accuracy: 1.0000 - val_loss: 0.2662 - val_accuracy: 0.9665\n",
      "Epoch 44/100\n",
      "469/469 [==============================] - 2s 5ms/step - loss: 6.0872e-04 - accuracy: 1.0000 - val_loss: 0.2662 - val_accuracy: 0.9661\n",
      "Epoch 45/100\n",
      "469/469 [==============================] - 2s 5ms/step - loss: 5.9534e-04 - accuracy: 1.0000 - val_loss: 0.2667 - val_accuracy: 0.9663\n",
      "Epoch 46/100\n",
      "469/469 [==============================] - 2s 4ms/step - loss: 5.7601e-04 - accuracy: 1.0000 - val_loss: 0.2669 - val_accuracy: 0.9663\n",
      "Epoch 47/100\n",
      "469/469 [==============================] - 2s 4ms/step - loss: 5.6197e-04 - accuracy: 1.0000 - val_loss: 0.2675 - val_accuracy: 0.9665\n",
      "Epoch 48/100\n",
      "469/469 [==============================] - 2s 4ms/step - loss: 5.4740e-04 - accuracy: 1.0000 - val_loss: 0.2680 - val_accuracy: 0.9666\n",
      "Epoch 49/100\n",
      "469/469 [==============================] - 2s 5ms/step - loss: 5.3285e-04 - accuracy: 1.0000 - val_loss: 0.2682 - val_accuracy: 0.9665\n",
      "Epoch 50/100\n",
      "469/469 [==============================] - 2s 4ms/step - loss: 5.2212e-04 - accuracy: 1.0000 - val_loss: 0.2685 - val_accuracy: 0.9664\n",
      "Epoch 51/100\n",
      "469/469 [==============================] - 2s 5ms/step - loss: 5.0583e-04 - accuracy: 1.0000 - val_loss: 0.2690 - val_accuracy: 0.9664\n",
      "Epoch 52/100\n",
      "469/469 [==============================] - 2s 5ms/step - loss: 4.9583e-04 - accuracy: 1.0000 - val_loss: 0.2690 - val_accuracy: 0.9664\n",
      "Epoch 53/100\n",
      "469/469 [==============================] - 2s 5ms/step - loss: 4.8302e-04 - accuracy: 1.0000 - val_loss: 0.2697 - val_accuracy: 0.9668\n",
      "Epoch 54/100\n",
      "469/469 [==============================] - 1s 2ms/step - loss: 4.7163e-04 - accuracy: 1.0000 - val_loss: 0.2697 - val_accuracy: 0.9670\n",
      "Epoch 55/100\n",
      "469/469 [==============================] - 1s 2ms/step - loss: 4.6038e-04 - accuracy: 1.0000 - val_loss: 0.2701 - val_accuracy: 0.9665\n",
      "Epoch 56/100\n",
      "469/469 [==============================] - 2s 4ms/step - loss: 4.5348e-04 - accuracy: 1.0000 - val_loss: 0.2703 - val_accuracy: 0.9666\n",
      "Epoch 57/100\n",
      "469/469 [==============================] - 2s 4ms/step - loss: 4.4275e-04 - accuracy: 1.0000 - val_loss: 0.2707 - val_accuracy: 0.9668\n",
      "Epoch 58/100\n",
      "469/469 [==============================] - 2s 4ms/step - loss: 4.3362e-04 - accuracy: 1.0000 - val_loss: 0.2709 - val_accuracy: 0.9668\n",
      "Epoch 59/100\n",
      "469/469 [==============================] - 1s 2ms/step - loss: 4.2416e-04 - accuracy: 1.0000 - val_loss: 0.2713 - val_accuracy: 0.9668\n",
      "Epoch 60/100\n",
      "469/469 [==============================] - 1s 2ms/step - loss: 4.1610e-04 - accuracy: 1.0000 - val_loss: 0.2716 - val_accuracy: 0.9665\n",
      "Epoch 61/100\n",
      "469/469 [==============================] - 2s 5ms/step - loss: 4.0738e-04 - accuracy: 1.0000 - val_loss: 0.2717 - val_accuracy: 0.9668\n",
      "Epoch 62/100\n",
      "469/469 [==============================] - 2s 5ms/step - loss: 3.9955e-04 - accuracy: 1.0000 - val_loss: 0.2721 - val_accuracy: 0.9669\n",
      "Epoch 63/100\n",
      "469/469 [==============================] - 2s 4ms/step - loss: 3.9138e-04 - accuracy: 1.0000 - val_loss: 0.2724 - val_accuracy: 0.9670\n",
      "Epoch 64/100\n",
      "469/469 [==============================] - 1s 3ms/step - loss: 3.8489e-04 - accuracy: 1.0000 - val_loss: 0.2726 - val_accuracy: 0.9672\n",
      "Epoch 65/100\n",
      "469/469 [==============================] - 2s 3ms/step - loss: 3.7545e-04 - accuracy: 1.0000 - val_loss: 0.2728 - val_accuracy: 0.9670\n",
      "Epoch 66/100\n",
      "469/469 [==============================] - 3s 6ms/step - loss: 3.7035e-04 - accuracy: 1.0000 - val_loss: 0.2731 - val_accuracy: 0.9672\n",
      "Epoch 67/100\n",
      "469/469 [==============================] - 2s 3ms/step - loss: 3.6480e-04 - accuracy: 1.0000 - val_loss: 0.2734 - val_accuracy: 0.9671\n",
      "Epoch 68/100\n",
      "469/469 [==============================] - 1s 2ms/step - loss: 3.5741e-04 - accuracy: 1.0000 - val_loss: 0.2736 - val_accuracy: 0.9671\n",
      "Epoch 69/100\n",
      "469/469 [==============================] - 2s 4ms/step - loss: 3.5117e-04 - accuracy: 1.0000 - val_loss: 0.2738 - val_accuracy: 0.9671\n",
      "Epoch 70/100\n",
      "469/469 [==============================] - 2s 5ms/step - loss: 3.4518e-04 - accuracy: 1.0000 - val_loss: 0.2741 - val_accuracy: 0.9670\n",
      "Epoch 71/100\n",
      "469/469 [==============================] - 2s 5ms/step - loss: 3.3922e-04 - accuracy: 1.0000 - val_loss: 0.2744 - val_accuracy: 0.9669\n",
      "Epoch 72/100\n",
      "469/469 [==============================] - 2s 4ms/step - loss: 3.3406e-04 - accuracy: 1.0000 - val_loss: 0.2743 - val_accuracy: 0.9672\n",
      "Epoch 73/100\n",
      "469/469 [==============================] - 2s 4ms/step - loss: 3.2829e-04 - accuracy: 1.0000 - val_loss: 0.2747 - val_accuracy: 0.9672\n",
      "Epoch 74/100\n",
      "469/469 [==============================] - 1s 2ms/step - loss: 3.2306e-04 - accuracy: 1.0000 - val_loss: 0.2749 - val_accuracy: 0.9671\n",
      "Epoch 75/100\n",
      "469/469 [==============================] - 1s 2ms/step - loss: 3.1821e-04 - accuracy: 1.0000 - val_loss: 0.2752 - val_accuracy: 0.9672\n",
      "Epoch 76/100\n",
      "469/469 [==============================] - 1s 2ms/step - loss: 3.1223e-04 - accuracy: 1.0000 - val_loss: 0.2755 - val_accuracy: 0.9669\n",
      "Epoch 77/100\n",
      "469/469 [==============================] - 1s 2ms/step - loss: 3.0818e-04 - accuracy: 1.0000 - val_loss: 0.2757 - val_accuracy: 0.9674\n",
      "Epoch 78/100\n",
      "469/469 [==============================] - 1s 3ms/step - loss: 3.0325e-04 - accuracy: 1.0000 - val_loss: 0.2759 - val_accuracy: 0.9672\n",
      "Epoch 79/100\n",
      "469/469 [==============================] - 1s 2ms/step - loss: 2.9870e-04 - accuracy: 1.0000 - val_loss: 0.2761 - val_accuracy: 0.9672\n",
      "Epoch 80/100\n",
      "469/469 [==============================] - 1s 2ms/step - loss: 2.9393e-04 - accuracy: 1.0000 - val_loss: 0.2764 - val_accuracy: 0.9672\n",
      "Epoch 81/100\n",
      "469/469 [==============================] - 1s 3ms/step - loss: 2.8963e-04 - accuracy: 1.0000 - val_loss: 0.2765 - val_accuracy: 0.9672\n",
      "Epoch 82/100\n",
      "469/469 [==============================] - 1s 2ms/step - loss: 2.8526e-04 - accuracy: 1.0000 - val_loss: 0.2768 - val_accuracy: 0.9671\n",
      "Epoch 83/100\n",
      "469/469 [==============================] - 1s 2ms/step - loss: 2.8124e-04 - accuracy: 1.0000 - val_loss: 0.2771 - val_accuracy: 0.9670\n",
      "Epoch 84/100\n",
      "469/469 [==============================] - 1s 2ms/step - loss: 2.7739e-04 - accuracy: 1.0000 - val_loss: 0.2772 - val_accuracy: 0.9670\n",
      "Epoch 85/100\n",
      "469/469 [==============================] - 1s 2ms/step - loss: 2.7371e-04 - accuracy: 1.0000 - val_loss: 0.2774 - val_accuracy: 0.9671\n",
      "Epoch 86/100\n",
      "469/469 [==============================] - 1s 2ms/step - loss: 2.6984e-04 - accuracy: 1.0000 - val_loss: 0.2776 - val_accuracy: 0.9670\n",
      "Epoch 87/100\n",
      "469/469 [==============================] - 1s 2ms/step - loss: 2.6578e-04 - accuracy: 1.0000 - val_loss: 0.2777 - val_accuracy: 0.9671\n",
      "Epoch 88/100\n",
      "469/469 [==============================] - 1s 2ms/step - loss: 2.6230e-04 - accuracy: 1.0000 - val_loss: 0.2779 - val_accuracy: 0.9671\n",
      "Epoch 89/100\n",
      "469/469 [==============================] - 1s 2ms/step - loss: 2.5884e-04 - accuracy: 1.0000 - val_loss: 0.2781 - val_accuracy: 0.9670\n",
      "Epoch 90/100\n",
      "469/469 [==============================] - 1s 2ms/step - loss: 2.5533e-04 - accuracy: 1.0000 - val_loss: 0.2784 - val_accuracy: 0.9670\n",
      "Epoch 91/100\n",
      "469/469 [==============================] - 1s 2ms/step - loss: 2.5227e-04 - accuracy: 1.0000 - val_loss: 0.2785 - val_accuracy: 0.9671\n",
      "Epoch 92/100\n",
      "469/469 [==============================] - 1s 2ms/step - loss: 2.4866e-04 - accuracy: 1.0000 - val_loss: 0.2788 - val_accuracy: 0.9670\n",
      "Epoch 93/100\n",
      "469/469 [==============================] - 1s 2ms/step - loss: 2.4566e-04 - accuracy: 1.0000 - val_loss: 0.2790 - val_accuracy: 0.9669\n",
      "Epoch 94/100\n",
      "469/469 [==============================] - 1s 2ms/step - loss: 2.4240e-04 - accuracy: 1.0000 - val_loss: 0.2792 - val_accuracy: 0.9668\n",
      "Epoch 95/100\n",
      "469/469 [==============================] - 1s 2ms/step - loss: 2.3912e-04 - accuracy: 1.0000 - val_loss: 0.2794 - val_accuracy: 0.9669\n",
      "Epoch 96/100\n",
      "469/469 [==============================] - 2s 4ms/step - loss: 2.3671e-04 - accuracy: 1.0000 - val_loss: 0.2796 - val_accuracy: 0.9670\n",
      "Epoch 97/100\n",
      "469/469 [==============================] - 1s 2ms/step - loss: 2.3358e-04 - accuracy: 1.0000 - val_loss: 0.2797 - val_accuracy: 0.9670\n",
      "Epoch 98/100\n",
      "469/469 [==============================] - 1s 2ms/step - loss: 2.3077e-04 - accuracy: 1.0000 - val_loss: 0.2799 - val_accuracy: 0.9671\n",
      "Epoch 99/100\n",
      "469/469 [==============================] - 1s 3ms/step - loss: 2.2789e-04 - accuracy: 1.0000 - val_loss: 0.2801 - val_accuracy: 0.9671\n",
      "Epoch 100/100\n",
      "469/469 [==============================] - 2s 4ms/step - loss: 2.2518e-04 - accuracy: 1.0000 - val_loss: 0.2802 - val_accuracy: 0.9670\n"
     ]
    },
    {
     "data": {
      "text/plain": [
       "KerasClassifier(\n",
       "\tmodel=<function build_model at 0x000002B82740FC10>\n",
       "\tbuild_fn=None\n",
       "\twarm_start=False\n",
       "\trandom_state=None\n",
       "\toptimizer=rmsprop\n",
       "\tloss=None\n",
       "\tmetrics=None\n",
       "\tbatch_size=None\n",
       "\tvalidation_batch_size=None\n",
       "\tverbose=1\n",
       "\tcallbacks=None\n",
       "\tvalidation_split=0.0\n",
       "\tshuffle=True\n",
       "\trun_eagerly=False\n",
       "\tepochs=1\n",
       "\tclass_weight=None\n",
       ")"
      ]
     },
     "execution_count": 5,
     "metadata": {},
     "output_type": "execute_result"
    }
   ],
   "source": [
    "from scikeras.wrappers import KerasClassifier\n",
    "\n",
    "keras_clf = KerasClassifier(model=build_model)\n",
    "keras_clf.fit(X_train_B, y_train_B, epochs=100, \n",
    "              validation_data=(X_val_B, y_val_B), \n",
    "              callbacks=[keras.callbacks.EarlyStopping(patience=10, monitor=\"val_loss\",\n",
    "                                                       restore_best_weights=True)])\n",
    "\n",
    "# score_B = keras_clf.score(X_test_B, y_test_B)"
   ]
  },
  {
   "cell_type": "code",
   "execution_count": null,
   "metadata": {},
   "outputs": [],
   "source": [
    "from scipy.stats import reciprocal\n",
    "from sklearn.model_selection import GridSearchCV\n",
    "import numpy as np\n",
    "\n",
    "param_distrib = {\n",
    "    \"n_hiddens\":[1, 2, 3, 4], \n",
    "    \"n_neurons\": np.arange(1, 100), \n",
    "    \"learning_rate\": reciprocal(3e-4, 3e-2),\n",
    "}\n",
    "gridsearch_cv = GridSearchCV(keras_clf, param_distrib, n_iter=10, cv=10)\n",
    "gridsearch_cv.fit(X_train_B, y_train_B, epochs=100, \n",
    "                  validation_data=(X_val_B, y_val_B), \n",
    "                  callbacks=[keras.callbacks.EarlyStopping(patience=5, monitor=\"val_loss\")])"
   ]
  },
  {
   "cell_type": "code",
   "execution_count": 10,
   "metadata": {},
   "outputs": [
    {
     "name": "stdout",
     "output_type": "stream",
     "text": [
      "313/313 [==============================] - 1s 2ms/step - loss: 3.1093 - accuracy: 0.8805\n",
      "157/157 [==============================] - 0s 2ms/step\n",
      "313/313 [==============================] - 2s 3ms/step - loss: 2.6862 - accuracy: 0.8925\n",
      "157/157 [==============================] - 0s 1ms/step\n",
      "313/313 [==============================] - 1s 2ms/step - loss: 4.3411 - accuracy: 0.8804\n",
      "157/157 [==============================] - 1s 3ms/step\n"
     ]
    },
    {
     "data": {
      "text/plain": [
       "0.9262666666666667"
      ]
     },
     "execution_count": 10,
     "metadata": {},
     "output_type": "execute_result"
    }
   ],
   "source": [
    "from sklearn.model_selection import cross_val_score\n",
    "import numpy as np\n",
    "np.average(cross_val_score(keras_clf, X_train_B, y_train_B, cv=3, scoring=\"accuracy\"), axis=0)"
   ]
  },
  {
   "cell_type": "code",
   "execution_count": 16,
   "metadata": {},
   "outputs": [
    {
     "name": "stdout",
     "output_type": "stream",
     "text": [
      "250/250 [==============================] - 1s 3ms/step\n"
     ]
    }
   ],
   "source": [
    "y_val_pred = keras_clf.predict(X_val_B)"
   ]
  },
  {
   "cell_type": "code",
   "execution_count": 17,
   "metadata": {},
   "outputs": [
    {
     "data": {
      "text/plain": [
       "array([[1524,    0,   14,    3,   10],\n",
       "       [   1, 1755,   14,   11,    7],\n",
       "       [  18,   11, 1470,   45,   21],\n",
       "       [  10,   14,   42, 1493,    4],\n",
       "       [   5,    5,   26,    3, 1494]], dtype=int64)"
      ]
     },
     "execution_count": 17,
     "metadata": {},
     "output_type": "execute_result"
    }
   ],
   "source": [
    "from sklearn.metrics import confusion_matrix\n",
    "\n",
    "confusion_matrix(y_val_B, y_val_pred)"
   ]
  },
  {
   "cell_type": "code",
   "execution_count": 21,
   "metadata": {},
   "outputs": [
    {
     "data": {
      "text/plain": [
       "(0.9669908378314356, 0.967)"
      ]
     },
     "execution_count": 21,
     "metadata": {},
     "output_type": "execute_result"
    }
   ],
   "source": [
    "from sklearn.metrics import precision_score, recall_score\n",
    "\n",
    "precision_score(y_val_B, y_val_pred, average=\"weighted\"), recall_score(y_val_B, y_val_pred, average=\"weighted\")"
   ]
  },
  {
   "cell_type": "code",
   "execution_count": 27,
   "metadata": {},
   "outputs": [
    {
     "data": {
      "text/plain": [
       "<AxesSubplot:>"
      ]
     },
     "execution_count": 27,
     "metadata": {},
     "output_type": "execute_result"
    },
    {
     "data": {
      "image/png": "[encoded data removed]",
      "text/plain": [
       "<Figure size 720x504 with 1 Axes>"
      ]
     },
     "metadata": {
      "needs_background": "light"
     },
     "output_type": "display_data"
    }
   ],
   "source": [
    "import pandas\n",
    "pandas.DataFrame(history_A.history).plot(figsize=(10, 7))"
   ]
  },
  {
   "cell_type": "code",
   "execution_count": 32,
   "metadata": {},
   "outputs": [
    {
     "name": "stdout",
     "output_type": "stream",
     "text": [
      "Epoch 1/100\n",
      "719/719 [==============================] - 4s 4ms/step - loss: 0.1444 - accuracy: 0.9552 - val_loss: 0.1240 - val_accuracy: 0.9783\n",
      "Epoch 2/100\n",
      "719/719 [==============================] - 2s 3ms/step - loss: 0.0612 - accuracy: 0.9800 - val_loss: 0.1899 - val_accuracy: 0.9791\n",
      "Epoch 3/100\n",
      "719/719 [==============================] - 2s 3ms/step - loss: 0.0472 - accuracy: 0.9844 - val_loss: 0.1317 - val_accuracy: 0.9825\n",
      "Epoch 4/100\n",
      "719/719 [==============================] - 2s 3ms/step - loss: 0.0372 - accuracy: 0.9884 - val_loss: 0.2364 - val_accuracy: 0.9808\n",
      "Epoch 5/100\n",
      "719/719 [==============================] - 3s 4ms/step - loss: 0.0288 - accuracy: 0.9902 - val_loss: 0.2077 - val_accuracy: 0.9842\n",
      "Epoch 6/100\n",
      "719/719 [==============================] - 3s 4ms/step - loss: 0.0267 - accuracy: 0.9909 - val_loss: 0.2349 - val_accuracy: 0.9822\n",
      "Epoch 7/100\n",
      "719/719 [==============================] - 3s 4ms/step - loss: 0.0225 - accuracy: 0.9926 - val_loss: 0.2249 - val_accuracy: 0.9796\n",
      "Epoch 8/100\n",
      "719/719 [==============================] - 3s 4ms/step - loss: 0.0254 - accuracy: 0.9923 - val_loss: 0.2838 - val_accuracy: 0.9838\n",
      "Epoch 9/100\n",
      "719/719 [==============================] - 3s 4ms/step - loss: 0.0177 - accuracy: 0.9939 - val_loss: 0.3256 - val_accuracy: 0.9843\n",
      "Epoch 10/100\n",
      "719/719 [==============================] - 2s 3ms/step - loss: 0.0150 - accuracy: 0.9947 - val_loss: 0.2565 - val_accuracy: 0.9837\n",
      "Epoch 11/100\n",
      "719/719 [==============================] - 2s 3ms/step - loss: 0.0183 - accuracy: 0.9943 - val_loss: 0.1962 - val_accuracy: 0.9847\n"
     ]
    }
   ],
   "source": [
    "from tensorflow.keras import layers, Sequential, callbacks\n",
    "model_A_with_BN = Sequential([\n",
    "    layers.Flatten(input_shape=[28, 28]), \n",
    "    layers.BatchNormalization(), \n",
    "    layers.Dense(100, activation=\"elu\", kernel_initializer=\"he_normal\"), \n",
    "    layers.BatchNormalization(), \n",
    "    layers.Dense(100, activation=\"elu\", kernel_initializer=\"he_normal\"), \n",
    "    layers.BatchNormalization(), \n",
    "    layers.Dense(100, activation=\"elu\", kernel_initializer=\"he_normal\"), \n",
    "    layers.BatchNormalization(), \n",
    "    layers.Dense(100, activation=\"elu\", kernel_initializer=\"he_normal\"),\n",
    "    # layers.BatchNormalization(), \n",
    "    layers.Dense(5, activation=\"softmax\")\n",
    "])\n",
    "\n",
    "model_A_with_BN.compile(loss=\"sparse_categorical_crossentropy\", \n",
    "                        optimizer=\"adam\", \n",
    "                        metrics=[\"accuracy\"])\n",
    "\n",
    "history_A_BN = model_A_with_BN.fit(X_train_A, y_train_A, epochs=100, \n",
    "                                   validation_data=(X_val_A, y_val_A), \n",
    "                                   callbacks=[callbacks.EarlyStopping(patience=10, \n",
    "                                                                      restore_best_weights=True, \n",
    "                                                                      monitor=\"val_loss\")])"
   ]
  },
  {
   "cell_type": "code",
   "execution_count": 33,
   "metadata": {},
   "outputs": [
    {
     "name": "stdout",
     "output_type": "stream",
     "text": [
      "238/238 [==============================] - 0s 2ms/step - loss: 0.1240 - accuracy: 0.9783\n"
     ]
    },
    {
     "data": {
      "text/plain": [
       "[0.12395511567592621, 0.9782780408859253]"
      ]
     },
     "execution_count": 33,
     "metadata": {},
     "output_type": "execute_result"
    }
   ],
   "source": [
    "model_A_with_BN.evaluate(X_val_A, y_val_A)"
   ]
  },
  {
   "cell_type": "code",
   "execution_count": 37,
   "metadata": {},
   "outputs": [
    {
     "data": {
      "text/plain": [
       "<AxesSubplot:>"
      ]
     },
     "execution_count": 37,
     "metadata": {},
     "output_type": "execute_result"
    },
    {
     "data": {
      "image/png": "[encoded data removed]",
      "text/plain": [
       "<Figure size 720x504 with 1 Axes>"
      ]
     },
     "metadata": {
      "needs_background": "light"
     },
     "output_type": "display_data"
    }
   ],
   "source": [
    "pandas.DataFrame(history_A_BN.history).plot(figsize=(10, 7), grid=True)"
   ]
  },
  {
   "cell_type": "code",
   "execution_count": 4,
   "metadata": {},
   "outputs": [
    {
     "name": "stdout",
     "output_type": "stream",
     "text": [
      "Epoch 1/100\n",
      "719/719 [==============================] - 8s 7ms/step - loss: 0.2764 - accuracy: 0.9130 - val_loss: 0.1127 - val_accuracy: 0.9722\n",
      "Epoch 2/100\n",
      "719/719 [==============================] - 3s 5ms/step - loss: 0.1370 - accuracy: 0.9578 - val_loss: 0.1193 - val_accuracy: 0.9774\n",
      "Epoch 3/100\n",
      "719/719 [==============================] - 3s 4ms/step - loss: 0.1090 - accuracy: 0.9667 - val_loss: 0.1050 - val_accuracy: 0.9812\n",
      "Epoch 4/100\n",
      "719/719 [==============================] - 3s 4ms/step - loss: 0.0902 - accuracy: 0.9735 - val_loss: 0.1046 - val_accuracy: 0.9817\n",
      "Epoch 5/100\n",
      "719/719 [==============================] - 2s 3ms/step - loss: 0.0817 - accuracy: 0.9759 - val_loss: 0.1324 - val_accuracy: 0.9831\n",
      "Epoch 6/100\n",
      "719/719 [==============================] - 2s 3ms/step - loss: 0.0727 - accuracy: 0.9766 - val_loss: 0.2502 - val_accuracy: 0.9841\n",
      "Epoch 7/100\n",
      "719/719 [==============================] - 5s 6ms/step - loss: 0.0673 - accuracy: 0.9795 - val_loss: 0.1440 - val_accuracy: 0.9829\n",
      "Epoch 8/100\n",
      "719/719 [==============================] - 4s 5ms/step - loss: 0.0611 - accuracy: 0.9821 - val_loss: 0.1605 - val_accuracy: 0.9851\n",
      "Epoch 9/100\n",
      "719/719 [==============================] - 4s 5ms/step - loss: 0.0549 - accuracy: 0.9833 - val_loss: 0.0954 - val_accuracy: 0.9871\n",
      "Epoch 10/100\n",
      "719/719 [==============================] - 2s 3ms/step - loss: 0.0590 - accuracy: 0.9820 - val_loss: 0.1306 - val_accuracy: 0.9843\n",
      "Epoch 11/100\n",
      "719/719 [==============================] - 3s 4ms/step - loss: 0.0548 - accuracy: 0.9832 - val_loss: 0.1715 - val_accuracy: 0.9851\n",
      "Epoch 12/100\n",
      "719/719 [==============================] - 4s 5ms/step - loss: 0.0483 - accuracy: 0.9855 - val_loss: 0.1313 - val_accuracy: 0.9857\n",
      "Epoch 13/100\n",
      "719/719 [==============================] - 3s 4ms/step - loss: 0.0453 - accuracy: 0.9863 - val_loss: 0.1373 - val_accuracy: 0.9867\n",
      "Epoch 14/100\n",
      "719/719 [==============================] - 3s 4ms/step - loss: 0.0426 - accuracy: 0.9873 - val_loss: 0.1500 - val_accuracy: 0.9842\n",
      "Epoch 15/100\n",
      "719/719 [==============================] - 2s 3ms/step - loss: 0.0400 - accuracy: 0.9873 - val_loss: 0.1582 - val_accuracy: 0.9868\n",
      "Epoch 16/100\n",
      "719/719 [==============================] - 3s 4ms/step - loss: 0.0415 - accuracy: 0.9875 - val_loss: 0.0989 - val_accuracy: 0.9875\n",
      "Epoch 17/100\n",
      "719/719 [==============================] - 3s 4ms/step - loss: 0.0347 - accuracy: 0.9893 - val_loss: 0.1419 - val_accuracy: 0.9855\n",
      "Epoch 18/100\n",
      "719/719 [==============================] - 3s 4ms/step - loss: 0.0355 - accuracy: 0.9894 - val_loss: 0.1350 - val_accuracy: 0.9872\n",
      "Epoch 19/100\n",
      "719/719 [==============================] - 3s 4ms/step - loss: 0.0371 - accuracy: 0.9875 - val_loss: 0.1095 - val_accuracy: 0.9879\n"
     ]
    }
   ],
   "source": [
    "from tensorflow.keras import layers, Sequential, callbacks\n",
    "model_A_with_BN_DP = Sequential([\n",
    "    layers.Flatten(input_shape=[28, 28]), \n",
    "    layers.BatchNormalization(), \n",
    "    layers.Dense(100, activation=\"elu\", kernel_initializer=\"he_normal\"), \n",
    "    layers.Dropout(0.2), \n",
    "    layers.BatchNormalization(), \n",
    "    layers.Dense(100, activation=\"elu\", kernel_initializer=\"he_normal\"), \n",
    "    layers.Dropout(0.2), \n",
    "    layers.BatchNormalization(), \n",
    "    layers.Dense(100, activation=\"elu\", kernel_initializer=\"he_normal\"), \n",
    "    layers.Dropout(0.2), \n",
    "    layers.BatchNormalization(), \n",
    "    layers.Dense(100, activation=\"elu\", kernel_initializer=\"he_normal\"), \n",
    "    layers.Dropout(0.2), \n",
    "    layers.BatchNormalization(), \n",
    "    layers.Dense(100, activation=\"elu\", kernel_initializer=\"he_normal\"), \n",
    "    layers.Dropout(0.2),\n",
    "    layers.Dense(5, activation=\"softmax\")\n",
    "])\n",
    "\n",
    "model_A_with_BN_DP.compile(loss=\"sparse_categorical_crossentropy\", \n",
    "                           optimizer=\"adam\", \n",
    "                           metrics=[\"accuracy\"])\n",
    "\n",
    "history_A_BN_DP = model_A_with_BN_DP.fit(X_train_A, y_train_A, epochs=100, \n",
    "                       validation_data=(X_val_A, y_val_A), \n",
    "                       callbacks=[callbacks.EarlyStopping(patience=10, \n",
    "                                                          restore_best_weights=True, \n",
    "                                                          monitor=\"val_loss\")])\n"
   ]
  },
  {
   "cell_type": "code",
   "execution_count": 5,
   "metadata": {},
   "outputs": [
    {
     "ename": "NameError",
     "evalue": "name 'pandas' is not defined",
     "output_type": "error",
     "traceback": [
      "\u001b[1;31m---------------------------------------------------------------------------\u001b[0m",
      "\u001b[1;31mNameError\u001b[0m                                 Traceback (most recent call last)",
      "\u001b[1;32m~\\AppData\\Local\\Temp/ipykernel_13092/2889016840.py\u001b[0m in \u001b[0;36m<module>\u001b[1;34m\u001b[0m\n\u001b[1;32m----> 1\u001b[1;33m \u001b[0mpandas\u001b[0m\u001b[1;33m.\u001b[0m\u001b[0mDataFrame\u001b[0m\u001b[1;33m(\u001b[0m\u001b[0mhistory_A_BN_DP\u001b[0m\u001b[1;33m.\u001b[0m\u001b[0mhistory\u001b[0m\u001b[1;33m)\u001b[0m\u001b[1;33m.\u001b[0m\u001b[0mplot\u001b[0m\u001b[1;33m(\u001b[0m\u001b[0mfigsize\u001b[0m\u001b[1;33m=\u001b[0m\u001b[1;33m(\u001b[0m\u001b[1;36m10\u001b[0m\u001b[1;33m,\u001b[0m \u001b[1;36m7\u001b[0m\u001b[1;33m)\u001b[0m\u001b[1;33m,\u001b[0m \u001b[0mgrid\u001b[0m\u001b[1;33m=\u001b[0m\u001b[1;32mTrue\u001b[0m\u001b[1;33m)\u001b[0m\u001b[1;33m\u001b[0m\u001b[1;33m\u001b[0m\u001b[0m\n\u001b[0m",
      "\u001b[1;31mNameError\u001b[0m: name 'pandas' is not defined"
     ]
    }
   ],
   "source": [
    "pandas.DataFrame(history_A_BN_DP.history).plot(figsize=(10, 7), grid=True)"
   ]
  },
  {
   "cell_type": "code",
   "execution_count": null,
   "metadata": {},
   "outputs": [],
   "source": [
    "model_A_with_BN_DP.save(\"model_A_BN_DP.h5\")"
   ]
  },
  {
   "cell_type": "markdown",
   "metadata": {},
   "source": [
    "### Q 9"
   ]
  },
  {
   "cell_type": "code",
   "execution_count": 8,
   "metadata": {},
   "outputs": [
    {
     "name": "stdout",
     "output_type": "stream",
     "text": [
      "Epoch 1/4\n",
      "13/13 [==============================] - 2s 138ms/step - loss: 2.9798 - accuracy: 0.1625 - val_loss: 1.9937 - val_accuracy: 0.2071\n",
      "Epoch 2/4\n",
      "13/13 [==============================] - 1s 124ms/step - loss: 1.9609 - accuracy: 0.3425 - val_loss: 1.1660 - val_accuracy: 0.5790\n",
      "Epoch 3/4\n",
      "13/13 [==============================] - 2s 143ms/step - loss: 1.2376 - accuracy: 0.5475 - val_loss: 0.6619 - val_accuracy: 0.7909\n",
      "Epoch 4/4\n",
      "13/13 [==============================] - 2s 145ms/step - loss: 0.8343 - accuracy: 0.6975 - val_loss: 0.3911 - val_accuracy: 0.9165\n"
     ]
    }
   ],
   "source": [
    "from tensorflow import keras\n",
    "from tensorflow.keras import Sequential, layers\n",
    "import numpy as np\n",
    "\n",
    "def dataset_split(data, labels, yes=True):\n",
    "    n_data, n_labels = [], []\n",
    "    for i, label in enumerate(labels):\n",
    "        if yes:\n",
    "            if label < 5:\n",
    "                n_data.append(data[i])\n",
    "                n_labels.append(labels[i])\n",
    "        else:\n",
    "            if label > 5:\n",
    "                n_data.append(data[i])\n",
    "                n_labels.append(labels[i]-5)\n",
    "    return np.array(n_data), np.array(n_labels)\n",
    "\n",
    "\n",
    "def reduce_dataset(data, labels):\n",
    "    n_data, n_labels=[], []\n",
    "    count = [0, 0, 0, 0, 0]\n",
    "    for i, label in enumerate(labels):\n",
    "        if (label == 5) & (count[0]< 99):\n",
    "            n_data.append(data[i])\n",
    "            n_labels.append(labels[i]-5)\n",
    "            count[0] += 1\n",
    "        elif (label == 6) & (count[1]< 99):\n",
    "            n_data.append(data[i])\n",
    "            n_labels.append(labels[i]-5)\n",
    "            count[1] += 1\n",
    "        elif (label == 7) & (count[2]< 99):\n",
    "            n_data.append(data[i])\n",
    "            n_labels.append(labels[i]-5)\n",
    "            count[2] += 1\n",
    "        elif (label == 8) & (count[3]< 99):\n",
    "            n_data.append(data[i])\n",
    "            n_labels.append(labels[i]-5)\n",
    "            count[3] += 1\n",
    "        elif (label == 9) & (count[4]< 99):\n",
    "            n_data.append(data[i])\n",
    "            n_labels.append(labels[i]-5)\n",
    "            count[4] += 1        \n",
    "    return np.array(n_data), np.array(n_labels)\n",
    "\n",
    "(X_train, y_train), (X_test, y_test) = keras.datasets.mnist.load_data()\n",
    "X_train_B, y_train_B = reduce_dataset(X_train, y_train)\n",
    "X_train_B, X_val_B = X_train_A[:400], X_train_A[400:]\n",
    "y_train_B, y_val_B = y_train_A[:400], y_train_A[400:]\n",
    "X_test_B, y_test_B = dataset_split(X_test, y_test, yes=False)\n",
    "\n",
    "pre_model = keras.models.load_model(\"model_A_BN_DP.h5\")\n",
    "model_tf = Sequential(pre_model.layers[:-1])\n",
    "model_tf.add(layers.Dense(5, activation=\"softmax\"))\n",
    "\n",
    "for layer in model_tf.layers[:-1]:\n",
    "    layer.trainable = False\n",
    "\n",
    "model_tf.compile(loss=\"sparse_categorical_crossentropy\", \n",
    "                 optimizer=\"adam\", \n",
    "                 metrics=[\"accuracy\"])\n",
    "\n",
    "history_tf = model_tf.fit(X_train_B, y_train_B, epochs=4, \n",
    "                          validation_data=(X_val_B, y_val_B))\n"
   ]
  },
  {
   "cell_type": "code",
   "execution_count": 9,
   "metadata": {},
   "outputs": [
    {
     "name": "stdout",
     "output_type": "stream",
     "text": [
      "Epoch 5/100\n",
      "13/13 [==============================] - 4s 215ms/step - loss: 0.6008 - accuracy: 0.7700 - val_loss: 0.2651 - val_accuracy: 0.9608\n",
      "Epoch 6/100\n",
      "13/13 [==============================] - 2s 168ms/step - loss: 0.4847 - accuracy: 0.8275 - val_loss: 0.1955 - val_accuracy: 0.9742\n",
      "Epoch 7/100\n",
      "13/13 [==============================] - 1s 109ms/step - loss: 0.3850 - accuracy: 0.8700 - val_loss: 0.1587 - val_accuracy: 0.9778\n",
      "Epoch 8/100\n",
      "13/13 [==============================] - 2s 154ms/step - loss: 0.3036 - accuracy: 0.9025 - val_loss: 0.1398 - val_accuracy: 0.9792\n",
      "Epoch 9/100\n",
      "13/13 [==============================] - 2s 169ms/step - loss: 0.2836 - accuracy: 0.9200 - val_loss: 0.1291 - val_accuracy: 0.9797\n",
      "Epoch 10/100\n",
      "13/13 [==============================] - 2s 198ms/step - loss: 0.2212 - accuracy: 0.9375 - val_loss: 0.1231 - val_accuracy: 0.9804\n",
      "Epoch 11/100\n",
      "13/13 [==============================] - 1s 98ms/step - loss: 0.1713 - accuracy: 0.9575 - val_loss: 0.1212 - val_accuracy: 0.9803\n",
      "Epoch 12/100\n",
      "13/13 [==============================] - 1s 84ms/step - loss: 0.1758 - accuracy: 0.9625 - val_loss: 0.1205 - val_accuracy: 0.9804\n",
      "Epoch 13/100\n",
      "13/13 [==============================] - 1s 80ms/step - loss: 0.1779 - accuracy: 0.9500 - val_loss: 0.1216 - val_accuracy: 0.9806\n",
      "Epoch 14/100\n",
      "13/13 [==============================] - 2s 131ms/step - loss: 0.1499 - accuracy: 0.9700 - val_loss: 0.1255 - val_accuracy: 0.9802\n",
      "Epoch 15/100\n",
      "13/13 [==============================] - 1s 90ms/step - loss: 0.1239 - accuracy: 0.9675 - val_loss: 0.1296 - val_accuracy: 0.9800\n"
     ]
    }
   ],
   "source": [
    "for layer in model_tf.layers[:-1]:\n",
    "    layer.trainable=True\n",
    "\n",
    "model_tf.compile(loss=\"sparse_categorical_crossentropy\", \n",
    "                 optimizer=keras.optimizers.Adam(learning_rate=1e-4), \n",
    "                 metrics=[\"accuracy\"])\n",
    "\n",
    "history_tf = model_tf.fit(X_train_B, y_train_B, epochs=100, initial_epoch=4, \n",
    "                          validation_data=(X_val_B, y_val_B), \n",
    "                          callbacks=[keras.callbacks.EarlyStopping(patience=3, \n",
    "                                                                   restore_best_weights=True, \n",
    "                                                                   monitor=\"val_loss\")])"
   ]
  },
  {
   "cell_type": "code",
   "execution_count": 12,
   "metadata": {},
   "outputs": [
    {
     "name": "stdout",
     "output_type": "stream",
     "text": [
      "Epoch 1/100\n",
      "13/13 [==============================] - 2s 97ms/step - loss: 1.6253 - accuracy: 0.4900 - val_loss: 0.3282 - val_accuracy: 0.9129\n",
      "Epoch 2/100\n",
      "13/13 [==============================] - 1s 60ms/step - loss: 0.3004 - accuracy: 0.9075 - val_loss: 0.1083 - val_accuracy: 0.9832\n",
      "Epoch 3/100\n",
      "13/13 [==============================] - 1s 52ms/step - loss: 0.1364 - accuracy: 0.9675 - val_loss: 0.0956 - val_accuracy: 0.9833\n",
      "Epoch 4/100\n",
      "13/13 [==============================] - 1s 54ms/step - loss: 0.0803 - accuracy: 0.9775 - val_loss: 0.0951 - val_accuracy: 0.9832\n",
      "Epoch 5/100\n",
      "13/13 [==============================] - 1s 64ms/step - loss: 0.1023 - accuracy: 0.9725 - val_loss: 0.0953 - val_accuracy: 0.9834\n",
      "Epoch 6/100\n",
      "13/13 [==============================] - 1s 52ms/step - loss: 0.0658 - accuracy: 0.9825 - val_loss: 0.0958 - val_accuracy: 0.9838\n",
      "Epoch 7/100\n",
      "13/13 [==============================] - 1s 49ms/step - loss: 0.0452 - accuracy: 0.9875 - val_loss: 0.0962 - val_accuracy: 0.9840\n",
      "Epoch 8/100\n",
      "13/13 [==============================] - 1s 49ms/step - loss: 0.0642 - accuracy: 0.9800 - val_loss: 0.0965 - val_accuracy: 0.9842\n",
      "Epoch 9/100\n",
      "13/13 [==============================] - 1s 51ms/step - loss: 0.0869 - accuracy: 0.9650 - val_loss: 0.0974 - val_accuracy: 0.9842\n",
      "Epoch 10/100\n",
      "13/13 [==============================] - 1s 50ms/step - loss: 0.0699 - accuracy: 0.9775 - val_loss: 0.0974 - val_accuracy: 0.9845\n",
      "Epoch 11/100\n",
      "13/13 [==============================] - 1s 46ms/step - loss: 0.0486 - accuracy: 0.9875 - val_loss: 0.0977 - val_accuracy: 0.9845\n",
      "Epoch 12/100\n",
      "13/13 [==============================] - 1s 47ms/step - loss: 0.0672 - accuracy: 0.9750 - val_loss: 0.0971 - val_accuracy: 0.9850\n",
      "Epoch 13/100\n",
      "13/13 [==============================] - 1s 46ms/step - loss: 0.0634 - accuracy: 0.9850 - val_loss: 0.0979 - val_accuracy: 0.9850\n",
      "Epoch 14/100\n",
      "13/13 [==============================] - 1s 46ms/step - loss: 0.0517 - accuracy: 0.9850 - val_loss: 0.0989 - val_accuracy: 0.9846\n"
     ]
    }
   ],
   "source": [
    "model_tf_2 = Sequential(pre_model.layers[:-1])\n",
    "model_tf_2.add(layers.Dense(5, activation=\"softmax\"))\n",
    "\n",
    "for layer in model_tf_2.layers[:-4]:\n",
    "    layer.trainable = False\n",
    "\n",
    "model_tf_2.compile(loss=\"sparse_categorical_crossentropy\", \n",
    "                   optimizer=\"adam\", \n",
    "                   metrics=[\"accuracy\"])\n",
    "\n",
    "history_tf_2 = model_tf_2.fit(X_train_B, y_train_B, epochs=100, \n",
    "                              validation_data=(X_val_B, y_val_B), \n",
    "                              callbacks=[keras.callbacks.EarlyStopping(patience=10, \n",
    "                                                                       restore_best_weights=True, \n",
    "                                                                       monitor=\"val_loss\")])"
   ]
  },
  {
   "cell_type": "code",
   "execution_count": 14,
   "metadata": {},
   "outputs": [
    {
     "name": "stdout",
     "output_type": "stream",
     "text": [
      "Epoch 15/100\n",
      "13/13 [==============================] - 2s 76ms/step - loss: 0.0493 - accuracy: 0.9850 - val_loss: 0.1012 - val_accuracy: 0.9835\n",
      "Epoch 16/100\n",
      "13/13 [==============================] - 1s 61ms/step - loss: 0.0590 - accuracy: 0.9875 - val_loss: 0.1035 - val_accuracy: 0.9844\n",
      "Epoch 17/100\n",
      "13/13 [==============================] - 1s 68ms/step - loss: 0.0459 - accuracy: 0.9875 - val_loss: 0.1063 - val_accuracy: 0.9847\n",
      "Epoch 18/100\n",
      "13/13 [==============================] - 1s 63ms/step - loss: 0.0567 - accuracy: 0.9825 - val_loss: 0.1076 - val_accuracy: 0.9847\n",
      "Epoch 19/100\n",
      "13/13 [==============================] - 1s 62ms/step - loss: 0.0417 - accuracy: 0.9875 - val_loss: 0.1119 - val_accuracy: 0.9843\n",
      "Epoch 20/100\n",
      "13/13 [==============================] - 1s 64ms/step - loss: 0.0712 - accuracy: 0.9725 - val_loss: 0.1134 - val_accuracy: 0.9838\n",
      "Epoch 21/100\n",
      "13/13 [==============================] - 1s 59ms/step - loss: 0.0213 - accuracy: 0.9950 - val_loss: 0.1147 - val_accuracy: 0.9841\n",
      "Epoch 22/100\n",
      "13/13 [==============================] - 1s 62ms/step - loss: 0.0649 - accuracy: 0.9775 - val_loss: 0.1141 - val_accuracy: 0.9845\n",
      "Epoch 23/100\n",
      "13/13 [==============================] - 1s 64ms/step - loss: 0.0212 - accuracy: 0.9975 - val_loss: 0.1121 - val_accuracy: 0.9849\n",
      "Epoch 24/100\n",
      "13/13 [==============================] - 1s 53ms/step - loss: 0.0187 - accuracy: 0.9950 - val_loss: 0.1130 - val_accuracy: 0.9851\n",
      "Epoch 25/100\n",
      "13/13 [==============================] - 1s 49ms/step - loss: 0.0510 - accuracy: 0.9825 - val_loss: 0.1122 - val_accuracy: 0.9849\n"
     ]
    },
    {
     "data": {
      "text/plain": [
       "<keras.callbacks.History at 0x1dd3f0510a0>"
      ]
     },
     "execution_count": 14,
     "metadata": {},
     "output_type": "execute_result"
    }
   ],
   "source": [
    "for layer in model_A_with_BN_DP.layers[1:7]:\n",
    "    layer.trainble=True\n",
    "\n",
    "model_tf_2.compile(loss=\"sparse_categorical_crossentropy\", \n",
    "                   optimizer=\"adam\", \n",
    "                   metrics=[\"accuracy\"])\n",
    "model_tf_2.fit(X_train_B, y_train_B, epochs=100, initial_epoch=14,  \n",
    "               validation_data=(X_val_B, y_val_B), \n",
    "               callbacks=[keras.callbacks.EarlyStopping(patience=10, \n",
    "                                                        restore_best_weights=True, \n",
    "                                                        monitor=\"val_loss\")])"
   ]
  },
  {
   "cell_type": "markdown",
   "metadata": {},
   "source": [
    "### Q 10"
   ]
  },
  {
   "cell_type": "code",
   "execution_count": 1,
   "metadata": {},
   "outputs": [],
   "source": [
    "from tensorflow.keras import layers, callbacks, models\n",
    "from tensorflow import keras\n",
    "\n",
    "input_A = layers.Input(shape=[28, 28], name=\"input_A\")\n",
    "input_B = layers.Input(shape=[28, 28], name=\"input_B\")\n",
    "hidden_A_1 = layers.Dense(100, activation=\"elu\", kernel_initializer=\"he_normal\", name=\"hidden_A_1\")(input_A)\n",
    "hidden_B_1 = layers.Dense(100, activation=\"elu\", kernel_initializer=\"he_normal\", name=\"hidden_B_1\")(input_B)\n",
    "hidden_A_2 = layers.Dense(100, activation=\"elu\", kernel_initializer=\"he_normal\", name=\"hidden_A_2\")(hidden_A_1)\n",
    "hidden_B_2 = layers.Dense(100, activation=\"elu\", kernel_initializer=\"he_normal\", name=\"hidden_B_2\")(hidden_B_1)\n",
    "hidden_A_3 = layers.Dense(100, activation=\"elu\", kernel_initializer=\"he_normal\", name=\"hidden_A_3\")(hidden_A_2)\n",
    "hidden_B_3 = layers.Dense(100, activation=\"elu\", kernel_initializer=\"he_normal\", name=\"hidden_B_3\")(hidden_B_2)\n",
    "hidden_A_4 = layers.Dense(100, activation=\"elu\", kernel_initializer=\"he_normal\", name=\"hidden_A_4\")(hidden_A_3)\n",
    "hidden_B_4 = layers.Dense(100, activation=\"elu\", kernel_initializer=\"he_normal\", name=\"hidden_B_4\")(hidden_B_3)\n",
    "hidden_A_5 = layers.Dense(100, activation=\"elu\", kernel_initializer=\"he_normal\", name=\"hidden_A_5\")(hidden_A_4)\n",
    "hidden_B_5 = layers.Dense(100, activation=\"elu\", kernel_initializer=\"he_normal\", name=\"hidden_B_5\")(hidden_B_4)\n",
    "intersection = layers.Concatenate(name=\"Join_layer\")([hidden_A_5, hidden_B_5])\n",
    "hidden_dnn = layers.Dense(10, activation=\"elu\", kernel_initializer=\"he_normal\", name=\"hidden_layer\")(intersection)\n",
    "output = layers.Dense(1, activation=\"sigmoid\")(hidden_dnn)\n",
    "ax_model = models.Model(inputs=[input_A, input_B], outputs=output)\n",
    "\n",
    "ax_model.compile(loss=\"binary_crossentropy\", \n",
    "                 optimizer=\"adam\", \n",
    "                 metrics=[\"accuracy\"])"
   ]
  },
  {
   "cell_type": "code",
   "execution_count": 3,
   "metadata": {},
   "outputs": [
    {
     "name": "stdout",
     "output_type": "stream",
     "text": [
      "('You must install pydot (`pip install pydot`) and install graphviz (see instructions at https://graphviz.gitlab.io/download/) ', 'for plot_model/model_to_dot to work.')\n"
     ]
    }
   ],
   "source": [
    "keras.utils.plot_model(ax_model, to_file=\"dot_img_file.png\", show_shapes=True)"
   ]
  },
  {
   "cell_type": "code",
   "execution_count": null,
   "metadata": {},
   "outputs": [],
   "source": []
  }
 ],
 "metadata": {
  "interpreter": {
   "hash": "af68422bec32ee5a6de64dec1179cbe01bf4f7813cec231e0768ec582c2e4b4a"
  },
  "kernelspec": {
   "display_name": "Python 3.8.10 64-bit",
   "language": "python",
   "name": "python3"
  },
  "language_info": {
   "codemirror_mode": {
    "name": "ipython",
    "version": 3
   },
   "file_extension": ".py",
   "mimetype": "text/x-python",
   "name": "python",
   "nbconvert_exporter": "python",
   "pygments_lexer": "ipython3",
   "version": "3.8.0"
  },
  "orig_nbformat": 4
 },
 "nbformat": 4,
 "nbformat_minor": 2
}
