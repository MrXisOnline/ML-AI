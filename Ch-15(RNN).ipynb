{
 "cells": [
  {
   "cell_type": "markdown",
   "metadata": {},
   "source": [
    "### Forecasting Time series"
   ]
  },
  {
   "cell_type": "code",
   "execution_count": 2,
   "metadata": {},
   "outputs": [],
   "source": [
    "import tensorflow as tf\n",
    "from tensorflow import keras\n",
    "from tensorflow.keras import Sequential, layers\n",
    "import numpy as np"
   ]
  },
  {
   "cell_type": "code",
   "execution_count": 3,
   "metadata": {},
   "outputs": [],
   "source": [
    "def generate_time_series(batch_size, n_steps):\n",
    "    freq1, freq2, offsets1, offsets2 = np.random.rand(4, batch_size, 1)\n",
    "    time = np.linspace(0, 1, n_steps)\n",
    "    series = 0.5 * np.sin((time - offsets1) * (freq1 * 10 + 10))\n",
    "    series += 0.2 * np.sin((time - offsets2) * (freq2 * 10 + 10))\n",
    "    series += 0.1 * (np.random.rand(batch_size, n_steps) - 0.5)\n",
    "    return series[..., np.newaxis].astype(np.float32)"
   ]
  },
  {
   "cell_type": "code",
   "execution_count": 4,
   "metadata": {},
   "outputs": [],
   "source": [
    "n_steps = 50\n",
    "series = generate_time_series(10000, n_steps + 1)\n",
    "X_train, y_train = series[:7000, :n_steps], series[:7000, -1]\n",
    "X_val, y_val = series[7000:9000, :n_steps], series[7000:9000, -1]\n",
    "X_test, y_test = series[9000:, :n_steps], series[9000:, -1]"
   ]
  },
  {
   "cell_type": "code",
   "execution_count": 12,
   "metadata": {},
   "outputs": [
    {
     "data": {
      "text/plain": [
       "0.015467215"
      ]
     },
     "execution_count": 12,
     "metadata": {},
     "output_type": "execute_result"
    }
   ],
   "source": [
    "### naive model/forecasting(baseline Metrics)\n",
    "y_pred = X_val[:, -1]\n",
    "np.mean(keras.losses.mean_squared_error(y_val, y_pred))"
   ]
  },
  {
   "cell_type": "code",
   "execution_count": 17,
   "metadata": {},
   "outputs": [
    {
     "name": "stdout",
     "output_type": "stream",
     "text": [
      "Epoch 1/2\n",
      "219/219 [==============================] - 1s 2ms/step - loss: 0.0979 - mse: 0.0979\n",
      "Epoch 2/2\n",
      "219/219 [==============================] - 1s 2ms/step - loss: 0.0068 - mse: 0.0068\n"
     ]
    },
    {
     "data": {
      "text/plain": [
       "<keras.callbacks.History at 0x2b5a1c40fa0>"
      ]
     },
     "execution_count": 17,
     "metadata": {},
     "output_type": "execute_result"
    }
   ],
   "source": [
    "## another kind of baseline model\n",
    "\n",
    "model = Sequential([\n",
    "    layers.Flatten(input_shape=[50, 1]), \n",
    "    layers.Dense(1)\n",
    "])\n",
    "model.compile(loss=\"mse\", \n",
    "              optimizer=\"sgd\", \n",
    "              metrics=[\"mse\"])\n",
    "model.fit(X_train, y_train, epochs=2)"
   ]
  },
  {
   "cell_type": "markdown",
   "metadata": {},
   "source": [
    "#### Implementing Simple RNN"
   ]
  },
  {
   "cell_type": "code",
   "execution_count": 19,
   "metadata": {},
   "outputs": [
    {
     "name": "stdout",
     "output_type": "stream",
     "text": [
      "Epoch 1/20\n",
      "219/219 [==============================] - 2s 8ms/step - loss: 0.1657\n",
      "Epoch 2/20\n",
      "219/219 [==============================] - 2s 8ms/step - loss: 0.1366\n",
      "Epoch 3/20\n",
      "219/219 [==============================] - 2s 9ms/step - loss: 0.1105\n",
      "Epoch 4/20\n",
      "219/219 [==============================] - 1s 7ms/step - loss: 0.0870A: 0s - loss: 0.0\n",
      "Epoch 5/20\n",
      "219/219 [==============================] - 2s 9ms/step - loss: 0.0665\n",
      "Epoch 6/20\n",
      "219/219 [==============================] - 1s 7ms/step - loss: 0.0486\n",
      "Epoch 7/20\n",
      "219/219 [==============================] - 1s 6ms/step - loss: 0.0338A: 0s - loss: 0.\n",
      "Epoch 8/20\n",
      "219/219 [==============================] - 1s 6ms/step - loss: 0.0227A: 0s\n",
      "Epoch 9/20\n",
      "219/219 [==============================] - 1s 7ms/step - loss: 0.0158\n",
      "Epoch 10/20\n",
      "219/219 [==============================] - 1s 6ms/step - loss: 0.0123\n",
      "Epoch 11/20\n",
      "219/219 [==============================] - 1s 6ms/step - loss: 0.0109\n",
      "Epoch 12/20\n",
      "219/219 [==============================] - 1s 6ms/step - loss: 0.0105A: 0s - lo\n",
      "Epoch 13/20\n",
      "219/219 [==============================] - 2s 11ms/step - loss: 0.0103\n",
      "Epoch 14/20\n",
      "219/219 [==============================] - 2s 10ms/step - loss: 0.0101\n",
      "Epoch 15/20\n",
      "219/219 [==============================] - 1s 6ms/step - loss: 0.0100A: 0s - l\n",
      "Epoch 16/20\n",
      "219/219 [==============================] - 2s 10ms/step - loss: 0.0099\n",
      "Epoch 17/20\n",
      "219/219 [==============================] - 2s 8ms/step - loss: 0.0098\n",
      "Epoch 18/20\n",
      "219/219 [==============================] - 2s 8ms/step - loss: 0.0097\n",
      "Epoch 19/20\n",
      "219/219 [==============================] - 2s 8ms/step - loss: 0.0096\n",
      "Epoch 20/20\n",
      "219/219 [==============================] - 1s 6ms/step - loss: 0.0095A: 0s - l\n"
     ]
    },
    {
     "data": {
      "text/plain": [
       "<keras.callbacks.History at 0x2b5a0a11460>"
      ]
     },
     "execution_count": 19,
     "metadata": {},
     "output_type": "execute_result"
    }
   ],
   "source": [
    "model = Sequential([\n",
    "    layers.SimpleRNN(1, input_shape=[None, 1])\n",
    "])\n",
    "model.compile(loss=\"mse\", optimizer=\"adam\")\n",
    "model.fit(X_train, y_train, epochs=20)"
   ]
  },
  {
   "cell_type": "markdown",
   "metadata": {},
   "source": [
    "#### Deep RNNs"
   ]
  },
  {
   "cell_type": "code",
   "execution_count": null,
   "metadata": {},
   "outputs": [],
   "source": []
  }
 ],
 "metadata": {
  "interpreter": {
   "hash": "81727fb6587a0e5418c3cf386f53a5fb924b641d49e181fa8e28403b9a38d60e"
  },
  "kernelspec": {
   "display_name": "Python 3.8.0 64-bit",
   "language": "python",
   "name": "python3"
  },
  "language_info": {
   "codemirror_mode": {
    "name": "ipython",
    "version": 3
   },
   "file_extension": ".py",
   "mimetype": "text/x-python",
   "name": "python",
   "nbconvert_exporter": "python",
   "pygments_lexer": "ipython3",
   "version": "3.8.0"
  },
  "orig_nbformat": 4
 },
 "nbformat": 4,
 "nbformat_minor": 2
}
