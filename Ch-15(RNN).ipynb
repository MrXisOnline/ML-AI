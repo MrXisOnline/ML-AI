{
  "cells": [
    {
      "cell_type": "markdown",
      "metadata": {
        "id": "RQJMlUheZDpw"
      },
      "source": [
        "## Forecasting Time series"
      ]
    },
    {
      "cell_type": "code",
      "execution_count": null,
      "metadata": {
        "id": "AZuPRLtKZDpy"
      },
      "outputs": [],
      "source": [
        "import tensorflow as tf\n",
        "from tensorflow import keras\n",
        "from tensorflow.keras import Sequential, layers\n",
        "import numpy as np"
      ]
    },
    {
      "cell_type": "code",
      "execution_count": null,
      "metadata": {
        "id": "HigJmH5eZDpz"
      },
      "outputs": [],
      "source": [
        "def generate_time_series(batch_size, n_steps):\n",
        "    freq1, freq2, offsets1, offsets2 = np.random.rand(4, batch_size, 1)\n",
        "    time = np.linspace(0, 1, n_steps)\n",
        "    series = 0.5 * np.sin((time - offsets1) * (freq1 * 10 + 10))\n",
        "    series += 0.2 * np.sin((time - offsets2) * (freq2 * 10 + 10))\n",
        "    series += 0.1 * (np.random.rand(batch_size, n_steps) - 0.5)\n",
        "    return series[..., np.newaxis].astype(np.float32)"
      ]
    },
    {
      "cell_type": "code",
      "execution_count": null,
      "metadata": {
        "id": "d5e2kErRZDpz"
      },
      "outputs": [],
      "source": [
        "n_steps = 50\n",
        "series = generate_time_series(10000, n_steps + 1)\n",
        "X_train, y_train = series[:7000, :n_steps], series[:7000, -1]\n",
        "X_val, y_val = series[7000:9000, :n_steps], series[7000:9000, -1]\n",
        "X_test, y_test = series[9000:, :n_steps], series[9000:, -1]"
      ]
    },
    {
      "cell_type": "code",
      "execution_count": null,
      "metadata": {
        "id": "FycxS517ZDpz",
        "outputId": "7a2d667a-016d-4e33-f8ea-85e65f72afdd"
      },
      "outputs": [
        {
          "data": {
            "text/plain": [
              "0.015467215"
            ]
          },
          "execution_count": 12,
          "metadata": {},
          "output_type": "execute_result"
        }
      ],
      "source": [
        "### naive model/forecasting(baseline Metrics)\n",
        "y_pred = X_val[:, -1]\n",
        "np.mean(keras.losses.mean_squared_error(y_val, y_pred))"
      ]
    },
    {
      "cell_type": "code",
      "execution_count": null,
      "metadata": {
        "id": "ExRQK3a7ZDp0",
        "outputId": "1eaffd73-3abb-4b14-86a1-c99d19cedb64"
      },
      "outputs": [
        {
          "name": "stdout",
          "output_type": "stream",
          "text": [
            "Epoch 1/2\n",
            "219/219 [==============================] - 1s 2ms/step - loss: 0.0979 - mse: 0.0979\n",
            "Epoch 2/2\n",
            "219/219 [==============================] - 1s 2ms/step - loss: 0.0068 - mse: 0.0068\n"
          ]
        },
        {
          "data": {
            "text/plain": [
              "<keras.callbacks.History at 0x2b5a1c40fa0>"
            ]
          },
          "execution_count": 17,
          "metadata": {},
          "output_type": "execute_result"
        }
      ],
      "source": [
        "## another kind of baseline model\n",
        "\n",
        "model = Sequential([\n",
        "    layers.Flatten(input_shape=[50, 1]), \n",
        "    layers.Dense(1)\n",
        "])\n",
        "model.compile(loss=\"mse\", \n",
        "              optimizer=\"sgd\", \n",
        "              metrics=[\"mse\"])\n",
        "model.fit(X_train, y_train, epochs=2)"
      ]
    },
    {
      "cell_type": "markdown",
      "metadata": {
        "id": "I8kxje-_ZDp0"
      },
      "source": [
        "#### Implementing Simple RNN"
      ]
    },
    {
      "cell_type": "code",
      "execution_count": null,
      "metadata": {
        "id": "Gt_lnFB8ZDp1",
        "outputId": "de2356e7-348d-4633-bd63-0f1ee513d472"
      },
      "outputs": [
        {
          "name": "stdout",
          "output_type": "stream",
          "text": [
            "Epoch 1/20\n",
            "219/219 [==============================] - 2s 8ms/step - loss: 0.1657\n",
            "Epoch 2/20\n",
            "219/219 [==============================] - 2s 8ms/step - loss: 0.1366\n",
            "Epoch 3/20\n",
            "219/219 [==============================] - 2s 9ms/step - loss: 0.1105\n",
            "Epoch 4/20\n",
            "219/219 [==============================] - 1s 7ms/step - loss: 0.0870A: 0s - loss: 0.0\n",
            "Epoch 5/20\n",
            "219/219 [==============================] - 2s 9ms/step - loss: 0.0665\n",
            "Epoch 6/20\n",
            "219/219 [==============================] - 1s 7ms/step - loss: 0.0486\n",
            "Epoch 7/20\n",
            "219/219 [==============================] - 1s 6ms/step - loss: 0.0338A: 0s - loss: 0.\n",
            "Epoch 8/20\n",
            "219/219 [==============================] - 1s 6ms/step - loss: 0.0227A: 0s\n",
            "Epoch 9/20\n",
            "219/219 [==============================] - 1s 7ms/step - loss: 0.0158\n",
            "Epoch 10/20\n",
            "219/219 [==============================] - 1s 6ms/step - loss: 0.0123\n",
            "Epoch 11/20\n",
            "219/219 [==============================] - 1s 6ms/step - loss: 0.0109\n",
            "Epoch 12/20\n",
            "219/219 [==============================] - 1s 6ms/step - loss: 0.0105A: 0s - lo\n",
            "Epoch 13/20\n",
            "219/219 [==============================] - 2s 11ms/step - loss: 0.0103\n",
            "Epoch 14/20\n",
            "219/219 [==============================] - 2s 10ms/step - loss: 0.0101\n",
            "Epoch 15/20\n",
            "219/219 [==============================] - 1s 6ms/step - loss: 0.0100A: 0s - l\n",
            "Epoch 16/20\n",
            "219/219 [==============================] - 2s 10ms/step - loss: 0.0099\n",
            "Epoch 17/20\n",
            "219/219 [==============================] - 2s 8ms/step - loss: 0.0098\n",
            "Epoch 18/20\n",
            "219/219 [==============================] - 2s 8ms/step - loss: 0.0097\n",
            "Epoch 19/20\n",
            "219/219 [==============================] - 2s 8ms/step - loss: 0.0096\n",
            "Epoch 20/20\n",
            "219/219 [==============================] - 1s 6ms/step - loss: 0.0095A: 0s - l\n"
          ]
        },
        {
          "data": {
            "text/plain": [
              "<keras.callbacks.History at 0x2b5a0a11460>"
            ]
          },
          "execution_count": 19,
          "metadata": {},
          "output_type": "execute_result"
        }
      ],
      "source": [
        "model = Sequential([\n",
        "    layers.SimpleRNN(1, input_shape=[None, 1])\n",
        "])\n",
        "model.compile(loss=\"mse\", optimizer=\"adam\")\n",
        "model.fit(X_train, y_train, epochs=20)"
      ]
    },
    {
      "cell_type": "markdown",
      "metadata": {
        "id": "sqTvQEk9ZDp1"
      },
      "source": [
        "#### Deep RNNs"
      ]
    },
    {
      "cell_type": "code",
      "execution_count": null,
      "metadata": {
        "colab": {
          "base_uri": "https://localhost:8080/"
        },
        "id": "D2KzkoiNZDp1",
        "outputId": "af8ffde2-e079-4020-d0d0-445a947d622f"
      },
      "outputs": [
        {
          "output_type": "stream",
          "name": "stdout",
          "text": [
            "Epoch 1/20\n",
            "219/219 [==============================] - 7s 22ms/step - loss: 0.0137\n",
            "Epoch 2/20\n",
            "219/219 [==============================] - 5s 21ms/step - loss: 0.0057\n",
            "Epoch 3/20\n",
            "219/219 [==============================] - 5s 21ms/step - loss: 0.0046\n",
            "Epoch 4/20\n",
            "219/219 [==============================] - 5s 21ms/step - loss: 0.0040\n",
            "Epoch 5/20\n",
            "219/219 [==============================] - 5s 22ms/step - loss: 0.0037\n",
            "Epoch 6/20\n",
            "219/219 [==============================] - 5s 22ms/step - loss: 0.0035\n",
            "Epoch 7/20\n",
            "219/219 [==============================] - 5s 21ms/step - loss: 0.0033\n",
            "Epoch 8/20\n",
            "219/219 [==============================] - 5s 21ms/step - loss: 0.0032\n",
            "Epoch 9/20\n",
            "219/219 [==============================] - 5s 21ms/step - loss: 0.0031\n",
            "Epoch 10/20\n",
            "219/219 [==============================] - 5s 22ms/step - loss: 0.0030\n",
            "Epoch 11/20\n",
            "219/219 [==============================] - 5s 23ms/step - loss: 0.0029\n",
            "Epoch 12/20\n",
            "219/219 [==============================] - 5s 22ms/step - loss: 0.0028\n",
            "Epoch 13/20\n",
            "219/219 [==============================] - 5s 22ms/step - loss: 0.0028\n",
            "Epoch 14/20\n",
            "219/219 [==============================] - 5s 22ms/step - loss: 0.0027\n",
            "Epoch 15/20\n",
            "219/219 [==============================] - 5s 21ms/step - loss: 0.0026\n",
            "Epoch 16/20\n",
            "219/219 [==============================] - 5s 21ms/step - loss: 0.0026\n",
            "Epoch 17/20\n",
            "219/219 [==============================] - 5s 22ms/step - loss: 0.0026\n",
            "Epoch 18/20\n",
            "219/219 [==============================] - 5s 21ms/step - loss: 0.0025\n",
            "Epoch 19/20\n",
            "219/219 [==============================] - 5s 21ms/step - loss: 0.0025\n",
            "Epoch 20/20\n",
            "219/219 [==============================] - 5s 21ms/step - loss: 0.0025\n"
          ]
        },
        {
          "output_type": "execute_result",
          "data": {
            "text/plain": [
              "<keras.callbacks.History at 0x7f6bb556f4d0>"
            ]
          },
          "metadata": {},
          "execution_count": 4
        }
      ],
      "source": [
        "model = Sequential([\n",
        "                    layers.SimpleRNN(20, return_sequences=True, input_shape=[None, 1]), \n",
        "                    layers.SimpleRNN(20, return_sequences=True), \n",
        "                    layers.SimpleRNN(1)\n",
        "])\n",
        "model.compile(loss=\"mse\", \n",
        "              optimizer=\"sgd\")\n",
        "model.fit(X_train, y_train, epochs=20)"
      ]
    },
    {
      "cell_type": "code",
      "source": [
        "# another approach\n",
        "model2 = Sequential([\n",
        "        layers.SimpleRNN(20, return_sequences=True, input_shape=[None, 1]), \n",
        "        layers.SimpleRNN(20), \n",
        "        layers.Dense(1)\n",
        "])\n",
        "model.compile(loss=\"mse\", \n",
        "              optimizer=\"sgd\")\n",
        "model.fit(X_train, y_train, epochs=5)"
      ],
      "metadata": {
        "colab": {
          "base_uri": "https://localhost:8080/"
        },
        "id": "Ce8QV2kIZv6O",
        "outputId": "1899ba3c-675a-41d6-d6e4-ff482395bb03"
      },
      "execution_count": null,
      "outputs": [
        {
          "output_type": "stream",
          "name": "stdout",
          "text": [
            "Epoch 1/5\n",
            "219/219 [==============================] - 6s 22ms/step - loss: 0.0023\n",
            "Epoch 2/5\n",
            "219/219 [==============================] - 5s 22ms/step - loss: 0.0023\n",
            "Epoch 3/5\n",
            "219/219 [==============================] - 5s 23ms/step - loss: 0.0023\n",
            "Epoch 4/5\n",
            "219/219 [==============================] - 5s 22ms/step - loss: 0.0023\n",
            "Epoch 5/5\n",
            "219/219 [==============================] - 5s 23ms/step - loss: 0.0023\n"
          ]
        },
        {
          "output_type": "execute_result",
          "data": {
            "text/plain": [
              "<keras.callbacks.History at 0x7f6bb505bb90>"
            ]
          },
          "metadata": {},
          "execution_count": 6
        }
      ]
    },
    {
      "cell_type": "markdown",
      "source": [
        "#### Forecasting Several time Steps Ahead"
      ],
      "metadata": {
        "id": "HKLcDskqgG3v"
      }
    },
    {
      "cell_type": "code",
      "source": [
        "n_steps = 50\n",
        "series = generate_time_series(1, n_steps+10)\n",
        "X_new, y_new = series[:, :n_steps], series[:, n_steps:]\n",
        "X = X_new\n",
        "for step_ahead in range(10):\n",
        "    y_pred_one = model.predict(X[:, step_ahead:])[:, np.newaxis, :]\n",
        "    X = np.concatenate([X, y_pred_one], axis=1)\n",
        "\n",
        "y_pred = X[:, n_steps:]"
      ],
      "metadata": {
        "id": "w9p0giVthiz9"
      },
      "execution_count": null,
      "outputs": []
    },
    {
      "cell_type": "code",
      "source": [
        "from matplotlib import pyplot as plt\n",
        "plt.figure(figsize=[10, 7])\n",
        "plt.plot(np.concatenate([X_new, y_pred], axis=1).reshape(60), c=\"r\")\n",
        "plt.plot(series.reshape(60), c=\"b\")"
      ],
      "metadata": {
        "colab": {
          "base_uri": "https://localhost:8080/",
          "height": 446
        },
        "id": "LN8Ohu8xkBUx",
        "outputId": "c43a41b4-8d3a-42cc-8953-5f0bedf46967"
      },
      "execution_count": null,
      "outputs": [
        {
          "output_type": "execute_result",
          "data": {
            "text/plain": [
              "[<matplotlib.lines.Line2D at 0x7f6bac75c850>]"
            ]
          },
          "metadata": {},
          "execution_count": 24
        },
        {
          "output_type": "display_data",
          "data": {
            "image/png": "[encoded data removed]",
            "text/plain": [
              "<Figure size 720x504 with 1 Axes>"
            ]
          },
          "metadata": {
            "needs_background": "light"
          }
        }
      ]
    },
    {
      "cell_type": "code",
      "source": [
        "# another way\n",
        "n_steps=50\n",
        "series = generate_time_series(10000, n_steps+10)\n",
        "X_train, y_train = series[:7000, :n_steps], series[:7000, -10:, 0]\n",
        "X_val, y_val = series[7000:9000, :n_steps], series[7000:9000, -10:, 0]\n",
        "X_test, y_test = series[9000:, :n_steps], series[9000:, -10:, 0]"
      ],
      "metadata": {
        "id": "JB7G4Zw5kCnO"
      },
      "execution_count": null,
      "outputs": []
    },
    {
      "cell_type": "code",
      "source": [
        "model3 = Sequential([\n",
        "        layers.SimpleRNN(20, return_sequences=True, input_shape=[None, 1]), \n",
        "        layers.SimpleRNN(20), \n",
        "        layers.Dense(10)\n",
        "])"
      ],
      "metadata": {
        "colab": {
          "base_uri": "https://localhost:8080/"
        },
        "id": "yqHXw47QoCLX",
        "outputId": "d6486c88-6a0a-42ae-dbd4-6993631cdf10"
      },
      "execution_count": null,
      "outputs": [
        {
          "output_type": "stream",
          "name": "stdout",
          "text": [
            "Epoch 1/20\n",
            "219/219 [==============================] - 5s 16ms/step - loss: 0.0896\n",
            "Epoch 2/20\n",
            "219/219 [==============================] - 4s 19ms/step - loss: 0.0320\n",
            "Epoch 3/20\n",
            "219/219 [==============================] - 3s 16ms/step - loss: 0.0211\n",
            "Epoch 4/20\n",
            "219/219 [==============================] - 3s 16ms/step - loss: 0.0175\n",
            "Epoch 5/20\n",
            "219/219 [==============================] - 3s 16ms/step - loss: 0.0156\n",
            "Epoch 6/20\n",
            "219/219 [==============================] - 3s 15ms/step - loss: 0.0141\n",
            "Epoch 7/20\n",
            "219/219 [==============================] - 3s 16ms/step - loss: 0.0134\n",
            "Epoch 8/20\n",
            "219/219 [==============================] - 3s 16ms/step - loss: 0.0125\n",
            "Epoch 9/20\n",
            "219/219 [==============================] - 3s 16ms/step - loss: 0.0118\n",
            "Epoch 10/20\n",
            "219/219 [==============================] - 4s 16ms/step - loss: 0.0114\n",
            "Epoch 11/20\n",
            "219/219 [==============================] - 3s 16ms/step - loss: 0.0110\n",
            "Epoch 12/20\n",
            "219/219 [==============================] - 4s 17ms/step - loss: 0.0104\n",
            "Epoch 13/20\n",
            "219/219 [==============================] - 3s 16ms/step - loss: 0.0103\n",
            "Epoch 14/20\n",
            "219/219 [==============================] - 3s 15ms/step - loss: 0.0101\n",
            "Epoch 15/20\n",
            "219/219 [==============================] - 3s 16ms/step - loss: 0.0097\n",
            "Epoch 16/20\n",
            "219/219 [==============================] - 3s 16ms/step - loss: 0.0094\n",
            "Epoch 17/20\n",
            "219/219 [==============================] - 3s 16ms/step - loss: 0.0095\n",
            "Epoch 18/20\n",
            "219/219 [==============================] - 3s 16ms/step - loss: 0.0091\n",
            "Epoch 19/20\n",
            "219/219 [==============================] - 3s 16ms/step - loss: 0.0090\n",
            "Epoch 20/20\n",
            "219/219 [==============================] - 3s 16ms/step - loss: 0.0088\n"
          ]
        },
        {
          "output_type": "execute_result",
          "data": {
            "text/plain": [
              "<keras.callbacks.History at 0x7f6bb02d0a90>"
            ]
          },
          "metadata": {},
          "execution_count": 27
        }
      ]
    },
    {
      "cell_type": "code",
      "source": [
        "model3.compile(loss=\"mse\", \n",
        "               optimizer=\"sgd\")\n",
        "model3.fit(X_train, y_train, epochs=20)"
      ],
      "metadata": {
        "id": "5bs8FzaTVpu2"
      },
      "execution_count": null,
      "outputs": []
    },
    {
      "cell_type": "code",
      "source": [
        "y_pred = model3.predict(X_new)\n",
        "y_pred"
      ],
      "metadata": {
        "colab": {
          "base_uri": "https://localhost:8080/"
        },
        "id": "v8WMeUrlodb8",
        "outputId": "ac9523f2-d98c-4bff-82dd-cbb4ec4f4ae1"
      },
      "execution_count": null,
      "outputs": [
        {
          "output_type": "execute_result",
          "data": {
            "text/plain": [
              "array([[-0.5185277 , -0.37400153, -0.40514252, -0.27571216, -0.21001248,\n",
              "        -0.00837921,  0.05449845,  0.16363265,  0.23465975,  0.2973817 ]],\n",
              "      dtype=float32)"
            ]
          },
          "metadata": {},
          "execution_count": 29
        }
      ]
    },
    {
      "cell_type": "code",
      "source": [
        "# another thing we can do is using sequence-to-vector approach\n",
        "Y = np.empty((10000, n_steps, 10))\n",
        "for step_ahead in range(1, 10 + 1):\n",
        "    Y[:, :, step_ahead - 1] = series[:, step_ahead:step_ahead + n_steps, 0]\n",
        "Y_train = Y[:7000]\n",
        "Y_val = Y[7000:9000]\n",
        "Y_test = Y[9000:]\n"
      ],
      "metadata": {
        "id": "hTWoKXjOpCAW"
      },
      "execution_count": null,
      "outputs": []
    },
    {
      "cell_type": "code",
      "source": [
        "model4 = Sequential([\n",
        "        layers.SimpleRNN(20, return_sequences=True, input_shape=[None, 1]), \n",
        "        layers.SimpleRNN(20, return_sequences=True),\n",
        "        layers.TimeDistributed(layers.Dense(10))\n",
        "])"
      ],
      "metadata": {
        "id": "YFaKaFJdsfyX"
      },
      "execution_count": null,
      "outputs": []
    },
    {
      "cell_type": "code",
      "source": [
        "def last_time_step_mse(y_true, y_pred):\n",
        "    return keras.metrics.mean_squared_error(y_true[:, -1], y_pred[:, -1])\n",
        "\n",
        "optimizer=keras.optimizers.Adam(learning_rate=1e-2)"
      ],
      "metadata": {
        "id": "xKurtRW8wLAb"
      },
      "execution_count": null,
      "outputs": []
    },
    {
      "cell_type": "code",
      "source": [
        "model4.compile(loss=\"mse\", \n",
        "              optimizer=optimizer, \n",
        "              metrics=[last_time_step_mse])"
      ],
      "metadata": {
        "id": "dJP4NkKlVtT4"
      },
      "execution_count": null,
      "outputs": []
    },
    {
      "cell_type": "code",
      "source": [
        "model4.fit(X_train, Y_train, epochs=20)"
      ],
      "metadata": {
        "id": "Yk0wE91mwyLD",
        "outputId": "ec5d38b9-74d7-49a7-d84b-bd68cfbcdfcd",
        "colab": {
          "base_uri": "https://localhost:8080/"
        }
      },
      "execution_count": null,
      "outputs": [
        {
          "output_type": "stream",
          "name": "stdout",
          "text": [
            "Epoch 1/20\n",
            "219/219 [==============================] - 6s 18ms/step - loss: 0.0290 - last_time_step_mse: 0.0181\n",
            "Epoch 2/20\n",
            "219/219 [==============================] - 4s 18ms/step - loss: 0.0205 - last_time_step_mse: 0.0094\n",
            "Epoch 3/20\n",
            "219/219 [==============================] - 4s 18ms/step - loss: 0.0177 - last_time_step_mse: 0.0080\n",
            "Epoch 4/20\n",
            "219/219 [==============================] - 4s 17ms/step - loss: 0.0155 - last_time_step_mse: 0.0075\n",
            "Epoch 5/20\n",
            "219/219 [==============================] - 4s 17ms/step - loss: 0.0138 - last_time_step_mse: 0.0070\n",
            "Epoch 6/20\n",
            "219/219 [==============================] - 4s 17ms/step - loss: 0.0133 - last_time_step_mse: 0.0070\n",
            "Epoch 7/20\n",
            "219/219 [==============================] - 4s 18ms/step - loss: 0.0130 - last_time_step_mse: 0.0070\n",
            "Epoch 8/20\n",
            "219/219 [==============================] - 4s 17ms/step - loss: 0.0129 - last_time_step_mse: 0.0068\n",
            "Epoch 9/20\n",
            "219/219 [==============================] - 4s 16ms/step - loss: 0.0127 - last_time_step_mse: 0.0067\n",
            "Epoch 10/20\n",
            "219/219 [==============================] - 4s 17ms/step - loss: 0.0126 - last_time_step_mse: 0.0067\n",
            "Epoch 11/20\n",
            "219/219 [==============================] - 4s 18ms/step - loss: 0.0123 - last_time_step_mse: 0.0065\n",
            "Epoch 12/20\n",
            "219/219 [==============================] - 4s 18ms/step - loss: 0.0122 - last_time_step_mse: 0.0064\n",
            "Epoch 13/20\n",
            "219/219 [==============================] - 4s 17ms/step - loss: 0.0120 - last_time_step_mse: 0.0061\n",
            "Epoch 14/20\n",
            "219/219 [==============================] - 4s 17ms/step - loss: 0.0119 - last_time_step_mse: 0.0059\n",
            "Epoch 15/20\n",
            "219/219 [==============================] - 4s 18ms/step - loss: 0.0119 - last_time_step_mse: 0.0060\n",
            "Epoch 16/20\n",
            "219/219 [==============================] - 4s 17ms/step - loss: 0.0119 - last_time_step_mse: 0.0059\n",
            "Epoch 17/20\n",
            "219/219 [==============================] - 4s 17ms/step - loss: 0.0119 - last_time_step_mse: 0.0060\n",
            "Epoch 18/20\n",
            "219/219 [==============================] - 4s 18ms/step - loss: 0.0117 - last_time_step_mse: 0.0058\n",
            "Epoch 19/20\n",
            "219/219 [==============================] - 4s 18ms/step - loss: 0.0116 - last_time_step_mse: 0.0057\n",
            "Epoch 20/20\n",
            "219/219 [==============================] - 4s 19ms/step - loss: 0.0115 - last_time_step_mse: 0.0055\n"
          ]
        },
        {
          "output_type": "execute_result",
          "data": {
            "text/plain": [
              "<keras.callbacks.History at 0x7f6bb2e345d0>"
            ]
          },
          "metadata": {},
          "execution_count": 37
        }
      ]
    },
    {
      "cell_type": "markdown",
      "source": [
        "## Handling Long Sequences"
      ],
      "metadata": {
        "id": "Xa4TDuOQxB0L"
      }
    },
    {
      "cell_type": "code",
      "source": [
        "class LNSimpleRNNCell(layers.Layer):\n",
        "    def __init__(self, units, activation=\"tanh\", **kwargs):\n",
        "        super().__init__(**kwargs)\n",
        "        self.state_size = units\n",
        "        self.output_size = units\n",
        "        self.simple_rnn_cell = layers.SimpleRNNCell(units, activation=None)\n",
        "        self.layer_norm = layers.LayerNormalization()\n",
        "        self.activation = keras.activations.get(activation)\n",
        "\n",
        "    def call(self, inputs, states):\n",
        "        outputs, new_state = self.simple_rnn_cell(inputs, states)\n",
        "        norm_output = self.activation(self.layer_norm(outputs))\n",
        "        return norm_output, [norm_output]"
      ],
      "metadata": {
        "id": "BqrVEyqHxymO"
      },
      "execution_count": null,
      "outputs": []
    },
    {
      "cell_type": "code",
      "source": [
        "model = Sequential([\n",
        "                    layers.RNN(LNSimpleRNNCell(20), return_sequences=True, \n",
        "                               input_shape=[None, 1]), \n",
        "                    layers.RNN(LNSimpleRNNCell(20), return_sequences=True), \n",
        "                    layers.TimeDistributed(layers.Dense(10))\n",
        "])\n"
      ],
      "metadata": {
        "id": "lrh3_R0MIDyK"
      },
      "execution_count": null,
      "outputs": []
    },
    {
      "cell_type": "markdown",
      "source": [
        "#### LSTM"
      ],
      "metadata": {
        "id": "q__bEgeCWQ-l"
      }
    },
    {
      "cell_type": "code",
      "source": [
        "model5 = Sequential([\n",
        "                     layers.LSTM(20, return_sequences=True, input_shape=[None, 1]), \n",
        "                     layers.LSTM(20, return_sequences=True), \n",
        "                     layers.TimeDistributed(layers.Dense(10))\n",
        "])"
      ],
      "metadata": {
        "id": "W3UTVcU2WVGB"
      },
      "execution_count": null,
      "outputs": []
    },
    {
      "cell_type": "code",
      "source": [
        "# another way using RNN layer\n",
        "model6 = Sequential([\n",
        "                     layers.RNN(layers.LSTMCell(20), return_sequences=True, \n",
        "                                input_shape=[None, 1]), \n",
        "                     layers.RNN(layers.LSTMCell(20), return_sequences=True), \n",
        "                     layers.TimeDistributed(layers.Dense(10))\n",
        "])"
      ],
      "metadata": {
        "id": "l_t5cvndWnhc"
      },
      "execution_count": null,
      "outputs": []
    },
    {
      "cell_type": "markdown",
      "source": [
        "#### GRU"
      ],
      "metadata": {
        "id": "ZblkqBqjW_Ar"
      }
    },
    {
      "cell_type": "code",
      "source": [
        "model7 = Sequential([\n",
        "                     layers.Conv1D(filters=20, kernel_size=4, strides=2, \n",
        "                                   padding=\"valid\", input_shape=[None, 1]), \n",
        "                     layers.GRU(20, return_sequences=True), \n",
        "                     layers.GRU(20, return_sequences=True), \n",
        "                     layers.TimeDistributed(layers.Dense(10))\n",
        "])\n",
        "model7.compile(\n",
        "    loss=\"mse\", optimizer=\"adam\", metrics=[last_time_step_mse]\n",
        ")"
      ],
      "metadata": {
        "id": "Fb_JBeumXKgQ"
      },
      "execution_count": null,
      "outputs": []
    },
    {
      "cell_type": "code",
      "source": [
        "model7.fit(X_train, Y_train[:, 3::2], epochs=20, \n",
        "           validation_data=(X_val, Y_val[:, 3::2]))"
      ],
      "metadata": {
        "id": "IQdsbHXCXsFy",
        "outputId": "28996e17-2bfe-4e10-cb1f-8dfb777d2e38",
        "colab": {
          "base_uri": "https://localhost:8080/"
        }
      },
      "execution_count": null,
      "outputs": [
        {
          "output_type": "stream",
          "name": "stdout",
          "text": [
            "Epoch 1/20\n",
            "219/219 [==============================] - 12s 32ms/step - loss: 0.0505 - last_time_step_mse: 0.0423 - val_loss: 0.0227 - val_last_time_step_mse: 0.0153\n",
            "Epoch 2/20\n",
            "219/219 [==============================] - 6s 26ms/step - loss: 0.0170 - last_time_step_mse: 0.0108 - val_loss: 0.0130 - val_last_time_step_mse: 0.0081\n",
            "Epoch 3/20\n",
            "219/219 [==============================] - 6s 27ms/step - loss: 0.0122 - last_time_step_mse: 0.0073 - val_loss: 0.0113 - val_last_time_step_mse: 0.0065\n",
            "Epoch 4/20\n",
            "219/219 [==============================] - 6s 25ms/step - loss: 0.0114 - last_time_step_mse: 0.0068 - val_loss: 0.0111 - val_last_time_step_mse: 0.0065\n",
            "Epoch 5/20\n",
            "219/219 [==============================] - 6s 26ms/step - loss: 0.0108 - last_time_step_mse: 0.0064 - val_loss: 0.0104 - val_last_time_step_mse: 0.0060\n",
            "Epoch 6/20\n",
            "219/219 [==============================] - 6s 26ms/step - loss: 0.0103 - last_time_step_mse: 0.0060 - val_loss: 0.0101 - val_last_time_step_mse: 0.0063\n",
            "Epoch 7/20\n",
            "219/219 [==============================] - 6s 26ms/step - loss: 0.0098 - last_time_step_mse: 0.0056 - val_loss: 0.0096 - val_last_time_step_mse: 0.0055\n",
            "Epoch 8/20\n",
            "219/219 [==============================] - 6s 26ms/step - loss: 0.0093 - last_time_step_mse: 0.0050 - val_loss: 0.0088 - val_last_time_step_mse: 0.0047\n",
            "Epoch 9/20\n",
            "219/219 [==============================] - 6s 26ms/step - loss: 0.0089 - last_time_step_mse: 0.0048 - val_loss: 0.0088 - val_last_time_step_mse: 0.0047\n",
            "Epoch 10/20\n",
            "219/219 [==============================] - 6s 27ms/step - loss: 0.0087 - last_time_step_mse: 0.0046 - val_loss: 0.0094 - val_last_time_step_mse: 0.0056\n",
            "Epoch 11/20\n",
            "219/219 [==============================] - 6s 26ms/step - loss: 0.0085 - last_time_step_mse: 0.0044 - val_loss: 0.0084 - val_last_time_step_mse: 0.0044\n",
            "Epoch 12/20\n",
            "219/219 [==============================] - 6s 25ms/step - loss: 0.0084 - last_time_step_mse: 0.0044 - val_loss: 0.0082 - val_last_time_step_mse: 0.0044\n",
            "Epoch 13/20\n",
            "219/219 [==============================] - 6s 26ms/step - loss: 0.0083 - last_time_step_mse: 0.0044 - val_loss: 0.0080 - val_last_time_step_mse: 0.0041\n",
            "Epoch 14/20\n",
            "219/219 [==============================] - 6s 27ms/step - loss: 0.0081 - last_time_step_mse: 0.0043 - val_loss: 0.0080 - val_last_time_step_mse: 0.0041\n",
            "Epoch 15/20\n",
            "219/219 [==============================] - 6s 27ms/step - loss: 0.0081 - last_time_step_mse: 0.0043 - val_loss: 0.0079 - val_last_time_step_mse: 0.0041\n",
            "Epoch 16/20\n",
            "219/219 [==============================] - 6s 26ms/step - loss: 0.0079 - last_time_step_mse: 0.0042 - val_loss: 0.0078 - val_last_time_step_mse: 0.0039\n",
            "Epoch 17/20\n",
            "219/219 [==============================] - 6s 27ms/step - loss: 0.0079 - last_time_step_mse: 0.0041 - val_loss: 0.0078 - val_last_time_step_mse: 0.0041\n",
            "Epoch 18/20\n",
            "219/219 [==============================] - 6s 26ms/step - loss: 0.0077 - last_time_step_mse: 0.0040 - val_loss: 0.0077 - val_last_time_step_mse: 0.0041\n",
            "Epoch 19/20\n",
            "219/219 [==============================] - 6s 26ms/step - loss: 0.0077 - last_time_step_mse: 0.0040 - val_loss: 0.0076 - val_last_time_step_mse: 0.0039\n",
            "Epoch 20/20\n",
            "219/219 [==============================] - 6s 28ms/step - loss: 0.0076 - last_time_step_mse: 0.0039 - val_loss: 0.0074 - val_last_time_step_mse: 0.0037\n"
          ]
        },
        {
          "output_type": "execute_result",
          "data": {
            "text/plain": [
              "<keras.callbacks.History at 0x7f4df49c5850>"
            ]
          },
          "metadata": {},
          "execution_count": 14
        }
      ]
    },
    {
      "cell_type": "markdown",
      "source": [
        "#### WaveNet"
      ],
      "metadata": {
        "id": "kktqgn95YO9p"
      }
    },
    {
      "cell_type": "code",
      "source": [
        "model8 = Sequential()\n",
        "model8.add(layers.InputLayer(input_shape=[None, 1]))\n",
        "for rate in (1, 2, 4, 8) * 2:\n",
        "    model8.add(layers.Conv1D(filters=20, kernel_size=2, padding=\"causal\", \n",
        "                            activation=\"relu\", dilation_rate=rate))\n",
        "model8.add(layers.Conv1D(filters=10, kernel_size=1))\n",
        "model8.compile(loss=\"mse\", \n",
        "              optimizer=\"adam\", metrics=[last_time_step_mse])\n",
        "model8.fit(X_train, Y_train, epochs=20)"
      ],
      "metadata": {
        "id": "1RpBWYv3YxBx",
        "outputId": "7d758bb2-3b0e-4fcc-be1b-38cc616c7b03",
        "colab": {
          "base_uri": "https://localhost:8080/"
        }
      },
      "execution_count": null,
      "outputs": [
        {
          "output_type": "stream",
          "name": "stdout",
          "text": [
            "Epoch 1/20\n",
            "219/219 [==============================] - 4s 14ms/step - loss: 0.0484 - last_time_step_mse: 0.0345\n",
            "Epoch 2/20\n",
            "219/219 [==============================] - 3s 14ms/step - loss: 0.0158 - last_time_step_mse: 0.0066\n",
            "Epoch 3/20\n",
            "219/219 [==============================] - 3s 14ms/step - loss: 0.0131 - last_time_step_mse: 0.0058\n",
            "Epoch 4/20\n",
            "219/219 [==============================] - 3s 14ms/step - loss: 0.0121 - last_time_step_mse: 0.0055\n",
            "Epoch 5/20\n",
            "219/219 [==============================] - 3s 14ms/step - loss: 0.0115 - last_time_step_mse: 0.0052\n",
            "Epoch 6/20\n",
            "219/219 [==============================] - 3s 14ms/step - loss: 0.0113 - last_time_step_mse: 0.0051\n",
            "Epoch 7/20\n",
            "219/219 [==============================] - 3s 15ms/step - loss: 0.0110 - last_time_step_mse: 0.0049\n",
            "Epoch 8/20\n",
            "219/219 [==============================] - 3s 15ms/step - loss: 0.0109 - last_time_step_mse: 0.0048\n",
            "Epoch 9/20\n",
            "219/219 [==============================] - 3s 15ms/step - loss: 0.0108 - last_time_step_mse: 0.0048\n",
            "Epoch 10/20\n",
            "219/219 [==============================] - 3s 15ms/step - loss: 0.0107 - last_time_step_mse: 0.0047\n",
            "Epoch 11/20\n",
            "219/219 [==============================] - 4s 17ms/step - loss: 0.0106 - last_time_step_mse: 0.0046\n",
            "Epoch 12/20\n",
            "219/219 [==============================] - 3s 15ms/step - loss: 0.0105 - last_time_step_mse: 0.0046\n",
            "Epoch 13/20\n",
            "219/219 [==============================] - 3s 15ms/step - loss: 0.0104 - last_time_step_mse: 0.0045\n",
            "Epoch 14/20\n",
            "219/219 [==============================] - 3s 14ms/step - loss: 0.0103 - last_time_step_mse: 0.0045\n",
            "Epoch 15/20\n",
            "219/219 [==============================] - 3s 16ms/step - loss: 0.0103 - last_time_step_mse: 0.0045\n",
            "Epoch 16/20\n",
            "219/219 [==============================] - 3s 15ms/step - loss: 0.0104 - last_time_step_mse: 0.0045\n",
            "Epoch 17/20\n",
            "219/219 [==============================] - 3s 15ms/step - loss: 0.0103 - last_time_step_mse: 0.0045\n",
            "Epoch 18/20\n",
            "219/219 [==============================] - 4s 18ms/step - loss: 0.0102 - last_time_step_mse: 0.0044\n",
            "Epoch 19/20\n",
            "219/219 [==============================] - 3s 16ms/step - loss: 0.0101 - last_time_step_mse: 0.0043\n",
            "Epoch 20/20\n",
            "219/219 [==============================] - 3s 16ms/step - loss: 0.0101 - last_time_step_mse: 0.0044\n"
          ]
        },
        {
          "output_type": "execute_result",
          "data": {
            "text/plain": [
              "<keras.callbacks.History at 0x7fb8e006d590>"
            ]
          },
          "metadata": {},
          "execution_count": 9
        }
      ]
    },
    {
      "cell_type": "markdown",
      "source": [
        "## Exercise"
      ],
      "metadata": {
        "id": "Yo52ubwImW4r"
      }
    },
    {
      "cell_type": "code",
      "source": [
        "import tensorflow as tf\n",
        "from tensorflow import keras\n",
        "from tensorflow.keras import Sequential, layers\n",
        "import numpy as np\n",
        "import requests\n",
        "import tarfile\n",
        "import os\n",
        "import pandas as pd"
      ],
      "metadata": {
        "id": "SpCPo8fq8glv"
      },
      "execution_count": 31,
      "outputs": []
    },
    {
      "cell_type": "code",
      "source": [
        "r = requests.get(\"https://homl.info/bach\")\n",
        "open('bach.tgz', 'wb').write(r.content)"
      ],
      "metadata": {
        "id": "AOPjKJl9ko3P",
        "outputId": "5d9b1a09-d725-450f-a767-5ed940d7b5f0",
        "colab": {
          "base_uri": "https://localhost:8080/"
        }
      },
      "execution_count": 32,
      "outputs": [
        {
          "output_type": "execute_result",
          "data": {
            "text/plain": [
              "117793"
            ]
          },
          "metadata": {},
          "execution_count": 32
        }
      ]
    },
    {
      "cell_type": "code",
      "source": [
        "tarfile.open(\"bach.tgz\").extractall()"
      ],
      "metadata": {
        "id": "hT7AHM-Sn0ed"
      },
      "execution_count": 33,
      "outputs": []
    },
    {
      "cell_type": "code",
      "source": [
        "train_path = \"/content/jsb_chorales/train\"\n",
        "train_filepaths = list(map(lambda f: os.path.join(train_path, f), os.listdir(\"/content/jsb_chorales/train\")))\n",
        "valid_path = \"/content/jsb_chorales/valid\"\n",
        "valid_filepaths = list(map(lambda f: os.path.join(valid_path, f), os.listdir(\"/content/jsb_chorales/valid\")))\n",
        "test_path = \"/content/jsb_chorales/test\"\n",
        "test_filepaths = list(map(lambda f: os.path.join(test_path, f), os.listdir(\"/content/jsb_chorales/test\")))"
      ],
      "metadata": {
        "id": "tNUJ_uPPn87B"
      },
      "execution_count": 34,
      "outputs": []
    },
    {
      "cell_type": "code",
      "source": [
        "def get_dataset(filepaths):\n",
        "    data = np.zeros(shape=(len(filepaths), 700, 4))\n",
        "    for i, f in enumerate(train_filepaths):\n",
        "        tf = pd.read_csv(f).to_numpy()\n",
        "        for j, t in enumerate(tf):\n",
        "            for k, r in enumerate(t):\n",
        "                data[i, j, k] = r\n",
        "    return data"
      ],
      "metadata": {
        "id": "qPNSIvzo519n"
      },
      "execution_count": 82,
      "outputs": []
    },
    {
      "cell_type": "code",
      "source": [
        "train_shape = []\n",
        "for f in valid_filepaths:\n",
        "    train_shape.append(pd.read_csv(f).to_numpy().shape)"
      ],
      "metadata": {
        "id": "JNMLEn55Fctk"
      },
      "execution_count": 96,
      "outputs": []
    },
    {
      "cell_type": "code",
      "source": [
        "np.array(train_shape)[:, 1].max()"
      ],
      "metadata": {
        "id": "n8srFZK2FchC",
        "outputId": "6499232e-b2db-4819-98fb-1789dceb534c",
        "colab": {
          "base_uri": "https://localhost:8080/"
        }
      },
      "execution_count": 97,
      "outputs": [
        {
          "output_type": "execute_result",
          "data": {
            "text/plain": [
              "4"
            ]
          },
          "metadata": {},
          "execution_count": 97
        }
      ]
    },
    {
      "cell_type": "code",
      "source": [
        "# train_data = get_dataset(train_filepaths)\n",
        "valid_data = get_dataset(valid_filepaths)\n",
        "# test_data = get_dataset(test_filepaths)"
      ],
      "metadata": {
        "id": "028868UJ533i",
        "outputId": "87cb5030-dd96-4beb-f1f6-bdddb2fe5fa2",
        "colab": {
          "base_uri": "https://localhost:8080/",
          "height": 304
        }
      },
      "execution_count": 99,
      "outputs": [
        {
          "output_type": "error",
          "ename": "IndexError",
          "evalue": "ignored",
          "traceback": [
            "\u001b[0;31m---------------------------------------------------------------------------\u001b[0m",
            "\u001b[0;31mIndexError\u001b[0m                                Traceback (most recent call last)",
            "\u001b[0;32m<ipython-input-99-83bcc11ba971>\u001b[0m in \u001b[0;36m<module>\u001b[0;34m()\u001b[0m\n\u001b[1;32m      1\u001b[0m \u001b[0;31m# train_data = get_dataset(train_filepaths)\u001b[0m\u001b[0;34m\u001b[0m\u001b[0;34m\u001b[0m\u001b[0;34m\u001b[0m\u001b[0m\n\u001b[0;32m----> 2\u001b[0;31m \u001b[0mvalid_data\u001b[0m \u001b[0;34m=\u001b[0m \u001b[0mget_dataset\u001b[0m\u001b[0;34m(\u001b[0m\u001b[0mvalid_filepaths\u001b[0m\u001b[0;34m)\u001b[0m\u001b[0;34m\u001b[0m\u001b[0;34m\u001b[0m\u001b[0m\n\u001b[0m\u001b[1;32m      3\u001b[0m \u001b[0;31m# test_data = get_dataset(test_filepaths)\u001b[0m\u001b[0;34m\u001b[0m\u001b[0;34m\u001b[0m\u001b[0;34m\u001b[0m\u001b[0m\n",
            "\u001b[0;32m<ipython-input-82-51bcd67808fe>\u001b[0m in \u001b[0;36mget_dataset\u001b[0;34m(filepaths)\u001b[0m\n\u001b[1;32m      5\u001b[0m         \u001b[0;32mfor\u001b[0m \u001b[0mj\u001b[0m\u001b[0;34m,\u001b[0m \u001b[0mt\u001b[0m \u001b[0;32min\u001b[0m \u001b[0menumerate\u001b[0m\u001b[0;34m(\u001b[0m\u001b[0mtf\u001b[0m\u001b[0;34m)\u001b[0m\u001b[0;34m:\u001b[0m\u001b[0;34m\u001b[0m\u001b[0;34m\u001b[0m\u001b[0m\n\u001b[1;32m      6\u001b[0m             \u001b[0;32mfor\u001b[0m \u001b[0mk\u001b[0m\u001b[0;34m,\u001b[0m \u001b[0mr\u001b[0m \u001b[0;32min\u001b[0m \u001b[0menumerate\u001b[0m\u001b[0;34m(\u001b[0m\u001b[0mt\u001b[0m\u001b[0;34m)\u001b[0m\u001b[0;34m:\u001b[0m\u001b[0;34m\u001b[0m\u001b[0;34m\u001b[0m\u001b[0m\n\u001b[0;32m----> 7\u001b[0;31m                 \u001b[0mdata\u001b[0m\u001b[0;34m[\u001b[0m\u001b[0mi\u001b[0m\u001b[0;34m,\u001b[0m \u001b[0mj\u001b[0m\u001b[0;34m,\u001b[0m \u001b[0mk\u001b[0m\u001b[0;34m]\u001b[0m \u001b[0;34m=\u001b[0m \u001b[0mr\u001b[0m\u001b[0;34m\u001b[0m\u001b[0;34m\u001b[0m\u001b[0m\n\u001b[0m\u001b[1;32m      8\u001b[0m     \u001b[0;32mreturn\u001b[0m \u001b[0mdata\u001b[0m\u001b[0;34m\u001b[0m\u001b[0;34m\u001b[0m\u001b[0m\n",
            "\u001b[0;31mIndexError\u001b[0m: index 76 is out of bounds for axis 0 with size 76"
          ]
        }
      ]
    },
    {
      "cell_type": "code",
      "source": [
        ""
      ],
      "metadata": {
        "id": "WCPvXTAeDbos"
      },
      "execution_count": null,
      "outputs": []
    }
  ],
  "metadata": {
    "interpreter": {
      "hash": "81727fb6587a0e5418c3cf386f53a5fb924b641d49e181fa8e28403b9a38d60e"
    },
    "kernelspec": {
      "display_name": "Python 3.8.0 64-bit",
      "language": "python",
      "name": "python3"
    },
    "language_info": {
      "codemirror_mode": {
        "name": "ipython",
        "version": 3
      },
      "file_extension": ".py",
      "mimetype": "text/x-python",
      "name": "python",
      "nbconvert_exporter": "python",
      "pygments_lexer": "ipython3",
      "version": "3.8.0"
    },
    "orig_nbformat": 4,
    "colab": {
      "name": "Ch-15(RNN).ipynb",
      "provenance": []
    }
  },
  "nbformat": 4,
  "nbformat_minor": 0
}